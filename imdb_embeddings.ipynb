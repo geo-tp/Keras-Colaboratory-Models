{
  "nbformat": 4,
  "nbformat_minor": 0,
  "metadata": {
    "colab": {
      "provenance": [],
      "mount_file_id": "1beEr6qI7CxIbEWddcJjiMjBwizLyauQ-",
      "authorship_tag": "ABX9TyOESLC8u06eciQvQG/rhZ6c",
      "include_colab_link": true
    },
    "kernelspec": {
      "name": "python3",
      "display_name": "Python 3"
    },
    "language_info": {
      "name": "python"
    }
  },
  "cells": [
    {
      "cell_type": "markdown",
      "metadata": {
        "id": "view-in-github",
        "colab_type": "text"
      },
      "source": [
        "<a href=\"https://colab.research.google.com/github/geo-tp/Keras-Colaboratory-Models/blob/main/imdb_embeddings.ipynb\" target=\"_parent\"><img src=\"https://colab.research.google.com/assets/colab-badge.svg\" alt=\"Open In Colab\"/></a>"
      ]
    },
    {
      "cell_type": "markdown",
      "source": [
        "# IMDB Sentiment Prediction with Embeddings layer\n",
        "\n"
      ],
      "metadata": {
        "id": "Nh2qvskmWXDE"
      }
    },
    {
      "cell_type": "markdown",
      "source": [
        "## Import"
      ],
      "metadata": {
        "id": "IQN7RrfFWna6"
      }
    },
    {
      "cell_type": "code",
      "source": [
        "import os\n",
        "import re\n",
        "import string\n",
        "import nltk\n",
        "import numpy as np\n",
        "import pandas as pd\n",
        "import seaborn as sn\n",
        "import tensorflow as tf\n",
        "from nltk.corpus import stopwords\n",
        "import matplotlib.pyplot as plt\n",
        "from sklearn.metrics import confusion_matrix\n",
        "from keras.preprocessing.text import Tokenizer\n",
        "from keras import regularizers\n",
        "from keras.utils import pad_sequences\n",
        "from keras.models import Sequential\n",
        "from keras.layers import Embedding, Flatten, Dense, LSTM,\\\n",
        "                        TextVectorization, MaxPooling1D, Dropout\n",
        "\n",
        "nltk.download('stopwords')"
      ],
      "metadata": {
        "id": "qohDhqBIcNTi",
        "colab": {
          "base_uri": "https://localhost:8080/"
        },
        "outputId": "fe9fd933-f96e-42ce-ea95-c63b403dbd3d"
      },
      "execution_count": 89,
      "outputs": [
        {
          "output_type": "stream",
          "name": "stderr",
          "text": [
            "[nltk_data] Downloading package stopwords to /root/nltk_data...\n",
            "[nltk_data]   Package stopwords is already up-to-date!\n"
          ]
        },
        {
          "output_type": "execute_result",
          "data": {
            "text/plain": [
              "True"
            ]
          },
          "metadata": {},
          "execution_count": 89
        }
      ]
    },
    {
      "cell_type": "markdown",
      "source": [
        "## Dataset"
      ],
      "metadata": {
        "id": "Y1IaP0hEWq6F"
      }
    },
    {
      "cell_type": "code",
      "source": [
        "# Dataset - 2880 movie reviews from IMDB (raw string)\n",
        "# 1440 positives, 1440 negatives\n",
        "\n",
        "imdb_dir = '/content/drive/MyDrive/imdb-dataset/'\n",
        "train_dir = os.path.join(imdb_dir, 'train')\n",
        "\n",
        "labels = []\n",
        "texts = []\n",
        "\n",
        "for label_type in ['neg', 'pos']:\n",
        "  dir_name = os.path.join(train_dir, label_type)\n",
        "  for fname in os.listdir(dir_name):\n",
        "    if fname[-4:] == '.txt':\n",
        "      f = open(os.path.join(dir_name, fname))\n",
        "      texts.append(f.read())\n",
        "      f.close()\n",
        "      if label_type == 'neg':\n",
        "        labels.append(0)\n",
        "      else:\n",
        "        labels.append(1)\n",
        "\n",
        "print(\"Example from dataset : \", texts[0])\n",
        "print(\"Sentiment : \", \"Negative\" if labels[0] == 0 else \"Positive\")"
      ],
      "metadata": {
        "id": "POiqjunJbAL5",
        "colab": {
          "base_uri": "https://localhost:8080/"
        },
        "outputId": "db28b0d6-b65d-448a-d27d-274f97dbc03f"
      },
      "execution_count": 90,
      "outputs": [
        {
          "output_type": "stream",
          "name": "stdout",
          "text": [
            "Example from dataset :  Perhaps I'm being too generous when I give this film two and a half stars out of five, but there was an occasional moment. However, as \"An American Werewolf\" movie this one is a missed chance! There are no real plot connections to the superior original to speak of, but the story is similar in some ways to \"London\".<br /><br />*Possible Spoiler Warning* American kids go to foreign country, one falls in love with a beautiful girl. Another one of the kids gets slaughtered by a werewolf in the same night that one gets bitten, and despite his undead friend's warnings, by the light of the full moon he sprouts fur, fangs, and claws!<br /><br />But there are some differences in the story, for one; the girl is one of the werewolves. Second; there are three American Kids. And third; there's some weird-@$$ werewolf cult intent on taking over the world! As crazy as it sounds, that last one, WASN'T a joke! *Spoiler Ends*<br /><br />The films suffers from many things, first the weak acting drags it down immensely! Tom Everret Scott's performance is amatuerish at best, and he and Julie Delpy, who plays his love interest, don't seem to have any chemistry together at all. Second; A weak script that seems to be all over the place. Many elements of suspense and dark comedy, that made the original one great, are missing in this one. And whoever said that eating out the heart of the werewolf that bit you will change you back human? Last I heard this wasn't part of werewolf lore at all! Third; terrible special effects; The werewolf effects are done with computer animation, which works for things such as dinosaurs, ghosts, and space ships. But seems choppy, fake and artificial, when used for furry creatures like werewolves.<br /><br />However there were a few things that saved this one from total \"turkeydom\", there's one hilarious scene in a Paris cafe when Andy (Scott) is having coffee with Serafine (Delpy), he drops a bunch of condoms on the table, and tries to pass them off as chewing gum, by chewing and blowing a bubble! Also; the soundtrack, a very cool mix of alternative rock bands like Bush and Smashmouth. Although none of the songs have the word \"moon\" in their title, like the original movie, the soundtrack is great nontheless. And another funny scene when a rotting corpse, played by Julie Bowen, attempts to whistle and her eyeball pops out, had me laughing out loud.<br /><br />But as a whole this film seems to lack the wit and suspense of the original. And the overly contrived ending doesn't help it out much either.<br /><br />**1/2 Two and a half Out of Five Stars (Average.)\n",
            "Sentiment :  Negative\n"
          ]
        }
      ]
    },
    {
      "cell_type": "code",
      "source": [
        "## Preprocessing - Normalize text\n",
        "\n",
        "ponctuations = list(string.punctuation)\n",
        "stop_words = stopwords.words('english')\n",
        "\n",
        "def regularize(text):\n",
        "\n",
        "    text = re.sub(\"@[A-Za-z0-9_]+\",\"\", text)\n",
        "    text = re.sub(\"#[A-Za-z0-9_]+\",\"\", text)\n",
        "    text = \"\".join([char for char in list(text) if not (char in ponctuations)])\n",
        "    text = \"\".join([word for word in list(text) if not (word in stop_words)])\n",
        "    text = re.sub(\"[0-9]\",\"\", text)\n",
        "\n",
        "    return text\n",
        "\n",
        "# texts = [regularize(text) for text in texts]"
      ],
      "metadata": {
        "colab": {
          "base_uri": "https://localhost:8080/"
        },
        "id": "OZqnahOA9Drl",
        "outputId": "ca43f4d2-fab4-4b14-efd2-51c595714a54"
      },
      "execution_count": 91,
      "outputs": [
        {
          "output_type": "stream",
          "name": "stdout",
          "text": [
            "<WordListCorpusReader in '/root/nltk_data/corpora/stopwords'>\n"
          ]
        }
      ]
    },
    {
      "cell_type": "code",
      "source": [
        "# Preprocessing - sentences to sequences\n",
        "\n",
        "maxlen = 200\n",
        "max_words = 10000\n",
        "embedding_dim = 100\n",
        "\n",
        "tokenizer = Tokenizer(num_words=max_words)\n",
        "tokenizer.fit_on_texts(texts)\n",
        "sequences = tokenizer.texts_to_sequences(texts)\n",
        "\n",
        "word_index = tokenizer.word_index\n",
        "print('Found %s unique tokens.' % len(word_index))\n",
        "\n",
        "data = pad_sequences(sequences, maxlen=maxlen)\n",
        "labels = np.asarray(labels)\n",
        "print('Shape of data tensor:', data.shape)\n",
        "print('Shape of label tensor:', labels.shape)"
      ],
      "metadata": {
        "colab": {
          "base_uri": "https://localhost:8080/"
        },
        "id": "ZEviv230cUfw",
        "outputId": "a9255e49-d303-4030-8ab1-f56e3f09704c"
      },
      "execution_count": 92,
      "outputs": [
        {
          "output_type": "stream",
          "name": "stdout",
          "text": [
            "Found 30050 unique tokens.\n",
            "Shape of data tensor: (2880, 200)\n",
            "Shape of label tensor: (2880,)\n"
          ]
        }
      ]
    },
    {
      "cell_type": "code",
      "source": [
        "# Splitting for test set\n",
        "\n",
        "indices = np.arange(data.shape[0])\n",
        "np.random.shuffle(indices)\n",
        "\n",
        "x_set = data[indices]\n",
        "y_set = labels[indices]\n",
        "\n",
        "test_sep = int(len(x_set) * 0.2)\n",
        "\n",
        "x_train = x_set[test_sep:]\n",
        "y_train = y_set[test_sep:]\n",
        "\n",
        "x_test = x_set[:test_sep]\n",
        "y_test = y_set[:test_sep]\n",
        "\n",
        "print(\"Found {} elements for train set\".format(len(x_train)))\n",
        "print(\"Found {} elements for test set\".format(len(x_test)))"
      ],
      "metadata": {
        "colab": {
          "base_uri": "https://localhost:8080/"
        },
        "id": "69Fjei8oYPbG",
        "outputId": "f7b818c3-fca4-4bfa-d69e-0a4aef61aa66"
      },
      "execution_count": 93,
      "outputs": [
        {
          "output_type": "stream",
          "name": "stdout",
          "text": [
            "Found 2304 elements for train set\n",
            "Found 576 elements for test set\n"
          ]
        }
      ]
    },
    {
      "cell_type": "markdown",
      "source": [
        "## Model"
      ],
      "metadata": {
        "id": "1YthM4vZWyB2"
      }
    },
    {
      "cell_type": "code",
      "source": [
        "# Model defintion - This model should predict the sentiment of a review\n",
        "\n",
        "model = Sequential()\n",
        "model.add(Embedding(max_words, embedding_dim, input_length=maxlen))\n",
        "model.add(MaxPooling1D(pool_size=5, strides=2))\n",
        "model.add(Dropout(0.7))\n",
        "model.add(LSTM(32, kernel_regularizer=regularizers.l2(0.001)))\n",
        "model.add(Flatten())\n",
        "model.add(Dense(1, activation='sigmoid'))\n",
        "model.summary()"
      ],
      "metadata": {
        "colab": {
          "base_uri": "https://localhost:8080/"
        },
        "id": "u2frejoHgG_K",
        "outputId": "4ab10146-4e3e-4751-9ba8-04533da65471"
      },
      "execution_count": 94,
      "outputs": [
        {
          "output_type": "stream",
          "name": "stdout",
          "text": [
            "Model: \"sequential_11\"\n",
            "_________________________________________________________________\n",
            " Layer (type)                Output Shape              Param #   \n",
            "=================================================================\n",
            " embedding_11 (Embedding)    (None, 200, 100)          1000000   \n",
            "                                                                 \n",
            " max_pooling1d_11 (MaxPoolin  (None, 98, 100)          0         \n",
            " g1D)                                                            \n",
            "                                                                 \n",
            " dropout_11 (Dropout)        (None, 98, 100)           0         \n",
            "                                                                 \n",
            " lstm_11 (LSTM)              (None, 32)                17024     \n",
            "                                                                 \n",
            " flatten_8 (Flatten)         (None, 32)                0         \n",
            "                                                                 \n",
            " dense_8 (Dense)             (None, 1)                 33        \n",
            "                                                                 \n",
            "=================================================================\n",
            "Total params: 1,017,057\n",
            "Trainable params: 1,017,057\n",
            "Non-trainable params: 0\n",
            "_________________________________________________________________\n"
          ]
        }
      ]
    },
    {
      "cell_type": "markdown",
      "source": [
        "## Training"
      ],
      "metadata": {
        "id": "g6iLaEUuW0uW"
      }
    },
    {
      "cell_type": "code",
      "source": [
        "# Training\n",
        "\n",
        "model.compile(optimizer='rmsprop',\n",
        "              loss='binary_crossentropy',\n",
        "              metrics=['acc'])\n",
        "\n",
        "history = model.fit(x_train, y_train,\n",
        "                    epochs=15,\n",
        "                    batch_size=32,\n",
        "                    validation_split=0.2)\n",
        "\n",
        "model.save_weights('pre_trained_glove_model.h5')"
      ],
      "metadata": {
        "colab": {
          "base_uri": "https://localhost:8080/"
        },
        "id": "cCVkIX2DODWd",
        "outputId": "2e80379f-907e-4ce0-d07d-1c99d13c5971"
      },
      "execution_count": 95,
      "outputs": [
        {
          "output_type": "stream",
          "name": "stdout",
          "text": [
            "Epoch 1/15\n",
            "58/58 [==============================] - 8s 93ms/step - loss: 0.7777 - acc: 0.5198 - val_loss: 0.7579 - val_acc: 0.4642\n",
            "Epoch 2/15\n",
            "58/58 [==============================] - 6s 99ms/step - loss: 0.7160 - acc: 0.6278 - val_loss: 0.7480 - val_acc: 0.5380\n",
            "Epoch 3/15\n",
            "58/58 [==============================] - 6s 101ms/step - loss: 0.5831 - acc: 0.7347 - val_loss: 0.6775 - val_acc: 0.5662\n",
            "Epoch 4/15\n",
            "58/58 [==============================] - 5s 86ms/step - loss: 0.4334 - acc: 0.8378 - val_loss: 0.4630 - val_acc: 0.8156\n",
            "Epoch 5/15\n",
            "58/58 [==============================] - 7s 118ms/step - loss: 0.2987 - acc: 0.9040 - val_loss: 0.6361 - val_acc: 0.7787\n",
            "Epoch 6/15\n",
            "58/58 [==============================] - 5s 83ms/step - loss: 0.2126 - acc: 0.9376 - val_loss: 0.4184 - val_acc: 0.8395\n",
            "Epoch 7/15\n",
            "58/58 [==============================] - 5s 87ms/step - loss: 0.1605 - acc: 0.9588 - val_loss: 0.3856 - val_acc: 0.8633\n",
            "Epoch 8/15\n",
            "58/58 [==============================] - 7s 114ms/step - loss: 0.1232 - acc: 0.9707 - val_loss: 0.4759 - val_acc: 0.8373\n",
            "Epoch 9/15\n",
            "58/58 [==============================] - 5s 84ms/step - loss: 0.1186 - acc: 0.9718 - val_loss: 0.4102 - val_acc: 0.8503\n",
            "Epoch 10/15\n",
            "58/58 [==============================] - 6s 109ms/step - loss: 0.0706 - acc: 0.9853 - val_loss: 0.3977 - val_acc: 0.8633\n",
            "Epoch 11/15\n",
            "58/58 [==============================] - 5s 89ms/step - loss: 0.0637 - acc: 0.9864 - val_loss: 0.3506 - val_acc: 0.8633\n",
            "Epoch 12/15\n",
            "58/58 [==============================] - 5s 85ms/step - loss: 0.0421 - acc: 0.9951 - val_loss: 0.9742 - val_acc: 0.8113\n",
            "Epoch 13/15\n",
            "58/58 [==============================] - 7s 116ms/step - loss: 0.0558 - acc: 0.9919 - val_loss: 0.4904 - val_acc: 0.8633\n",
            "Epoch 14/15\n",
            "58/58 [==============================] - 5s 85ms/step - loss: 0.0523 - acc: 0.9929 - val_loss: 0.5773 - val_acc: 0.8482\n",
            "Epoch 15/15\n",
            "58/58 [==============================] - 6s 102ms/step - loss: 0.0405 - acc: 0.9940 - val_loss: 0.4028 - val_acc: 0.8547\n"
          ]
        }
      ]
    },
    {
      "cell_type": "markdown",
      "source": [
        "## Results"
      ],
      "metadata": {
        "id": "yM5hNq0bW2xX"
      }
    },
    {
      "cell_type": "code",
      "source": [
        "acc = history.history['acc']\n",
        "val_acc = history.history['val_acc']\n",
        "loss = history.history['loss']\n",
        "val_loss = history.history['val_loss']\n",
        "epochs = range(1, len(acc) + 1)\n",
        "\n",
        "plt.plot(epochs, acc, label='Training acc')\n",
        "plt.plot(epochs, val_acc, label='Validation acc')\n",
        "plt.title('Training and validation accuracy')\n",
        "plt.legend()\n",
        "\n",
        "plt.figure()\n",
        "plt.plot(epochs, loss, label='Training loss')\n",
        "plt.plot(epochs, val_loss, label='Validation loss')\n",
        "plt.title('Training and validation loss')\n",
        "plt.legend()\n",
        "\n",
        "plt.show()"
      ],
      "metadata": {
        "colab": {
          "base_uri": "https://localhost:8080/",
          "height": 545
        },
        "id": "7sww98lZOY4c",
        "outputId": "983699ff-4b38-499d-c3b2-056ace4c4863"
      },
      "execution_count": 96,
      "outputs": [
        {
          "output_type": "display_data",
          "data": {
            "text/plain": [
              "<Figure size 432x288 with 1 Axes>"
            ],
            "image/png": "[encoded data removed]"
          },
          "metadata": {
            "needs_background": "light"
          }
        },
        {
          "output_type": "display_data",
          "data": {
            "text/plain": [
              "<Figure size 432x288 with 1 Axes>"
            ],
            "image/png": "[encoded data removed]"
          },
          "metadata": {
            "needs_background": "light"
          }
        }
      ]
    },
    {
      "cell_type": "code",
      "source": [
        "# Evaluate\n",
        "\n",
        "loss, acc  = model.evaluate(x_test, y_test)\n",
        "print(\"Accuracy : {}%\".format(acc*100))"
      ],
      "metadata": {
        "colab": {
          "base_uri": "https://localhost:8080/"
        },
        "id": "9sALRI0FYGx3",
        "outputId": "ae784823-05fc-45db-8fb8-b417ad8b8e60"
      },
      "execution_count": 98,
      "outputs": [
        {
          "output_type": "stream",
          "name": "stdout",
          "text": [
            "18/18 [==============================] - 0s 16ms/step - loss: 0.4434 - acc: 0.8663\n",
            "Accuracy : 86.63194179534912%\n"
          ]
        }
      ]
    }
  ]
}