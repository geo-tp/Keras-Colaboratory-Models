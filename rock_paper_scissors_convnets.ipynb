{
  "nbformat": 4,
  "nbformat_minor": 0,
  "metadata": {
    "colab": {
      "provenance": [],
      "mount_file_id": "1xa-6YOUmYq6JazXxmwTgJyxLXcsKrLBz",
      "authorship_tag": "ABX9TyPMqR1+HY+f1rGkA3AMkxY4",
      "include_colab_link": true
    },
    "kernelspec": {
      "name": "python3",
      "display_name": "Python 3"
    },
    "language_info": {
      "name": "python"
    },
    "accelerator": "GPU",
    "gpuClass": "standard"
  },
  "cells": [
    {
      "cell_type": "markdown",
      "metadata": {
        "id": "view-in-github",
        "colab_type": "text"
      },
      "source": [
        "<a href=\"https://colab.research.google.com/github/geo-tp/Keras-Colaboratory-Models/blob/main/rock_paper_scissors_convnets.ipynb\" target=\"_parent\"><img src=\"https://colab.research.google.com/assets/colab-badge.svg\" alt=\"Open In Colab\"/></a>"
      ]
    },
    {
      "cell_type": "markdown",
      "source": [
        "# Rock Paper Scissors Convnets\n"
      ],
      "metadata": {
        "id": "uo7cAOA20F1d"
      }
    },
    {
      "cell_type": "markdown",
      "source": [
        "## Import"
      ],
      "metadata": {
        "id": "2_qpdN0i0NM_"
      }
    },
    {
      "cell_type": "code",
      "source": [
        "from sys import path\n",
        "from keras import layers, models, optimizers, preprocessing\n",
        "import matplotlib.pyplot as plt\n",
        "import numpy as np\n",
        "import seaborn as sn\n",
        "import pandas as pd\n",
        "from sklearn.metrics import confusion_matrix\n",
        "from keras.callbacks import Callback, EarlyStopping, ModelCheckpoint, LearningRateScheduler"
      ],
      "metadata": {
        "id": "CGjB3cbu0M4q"
      },
      "execution_count": 1,
      "outputs": []
    },
    {
      "cell_type": "markdown",
      "source": [
        "## Dataset"
      ],
      "metadata": {
        "id": "bw8EyUoF0dP7"
      }
    },
    {
      "cell_type": "code",
      "execution_count": 2,
      "metadata": {
        "colab": {
          "base_uri": "https://localhost:8080/"
        },
        "id": "3dcCv1z1zlih",
        "outputId": "e6e60813-1e6e-495c-cbfd-d124fe6b9f27"
      },
      "outputs": [
        {
          "output_type": "stream",
          "name": "stdout",
          "text": [
            "Found 1415 images belonging to 3 classes.\n",
            "Found 353 images belonging to 3 classes.\n",
            "Found 420 images belonging to 3 classes.\n"
          ]
        }
      ],
      "source": [
        "# Dataset - hand images with rock, paper or scissors form\n",
        "# 1772 for training set, 424 for test set\n",
        "\n",
        "base_dir = path[0] + \"/drive/MyDrive/rock-paper-scissors-dataset/\"\n",
        "train_dir = base_dir + \"/train/\"\n",
        "test_dir = base_dir + \"/test/\"\n",
        "batch_size = 64\n",
        "\n",
        "train_gen = preprocessing.image.ImageDataGenerator(\n",
        "    rescale=1./255,\n",
        "    zoom_range=0.1,\n",
        "    rotation_range=20,\n",
        "    vertical_flip=True,\n",
        "    validation_split=0.2,\n",
        ")\n",
        "\n",
        "val_gen = preprocessing.image.ImageDataGenerator(\n",
        "    rescale=1./255,\n",
        "    validation_split=0.2,\n",
        ")\n",
        "\n",
        "test_gen = preprocessing.image.ImageDataGenerator(\n",
        "    rescale=1./255,\n",
        ")\n",
        "\n",
        "train_datagen = train_gen.flow_from_directory(\n",
        "    train_dir,\n",
        "    target_size=(32, 32),\n",
        "    color_mode='grayscale',\n",
        "    shuffle=True,\n",
        "    class_mode=\"categorical\",\n",
        "    seed=111,\n",
        "    subset=\"training\",\n",
        "    batch_size=batch_size\n",
        ")\n",
        "\n",
        "val_datagen = val_gen.flow_from_directory(\n",
        "    train_dir,\n",
        "    target_size=(32, 32),\n",
        "    color_mode='grayscale',\n",
        "    shuffle=False,\n",
        "    class_mode=\"categorical\",\n",
        "    seed=111,\n",
        "    subset=\"validation\",\n",
        "    batch_size=batch_size\n",
        ")\n",
        "\n",
        "test_datagen = test_gen.flow_from_directory(\n",
        "    test_dir,\n",
        "    target_size=(32, 32),\n",
        "    color_mode='grayscale',\n",
        "    shuffle=False,\n",
        "    class_mode=\"categorical\",\n",
        "    seed=111,\n",
        "    batch_size=batch_size\n",
        ")"
      ]
    },
    {
      "cell_type": "markdown",
      "source": [
        "## Model"
      ],
      "metadata": {
        "id": "Y0I_73y8_sHe"
      }
    },
    {
      "cell_type": "code",
      "source": [
        "# MODEL DEFINITION - the model need to predict if an image shows rock, paper, scissors\n",
        "\n",
        "model = models.Sequential()\n",
        "\n",
        "model.add(layers.Conv2D(32, (3, 3), activation=\"relu\", input_shape=(32, 32, 1)))\n",
        "model.add(layers.Conv2D(32, (3, 3), activation=\"relu\"))\n",
        "model.add(layers.MaxPooling2D((2, 2)))\n",
        "model.add(layers.Dropout(0.2))\n",
        "\n",
        "model.add(layers.Conv2D(64, (3, 3), activation=\"relu\"))\n",
        "model.add(layers.MaxPooling2D((2, 2)))\n",
        "model.add(layers.Dropout(0.2))\n",
        "\n",
        "model.add(layers.Conv2D(128, (3, 3), activation=\"relu\"))\n",
        "model.add(layers.MaxPooling2D((2, 2)))\n",
        "model.add(layers.Dropout(0.2))\n",
        "\n",
        "model.add(layers.Flatten())\n",
        "\n",
        "model.add(layers.Dense(256, activation=\"relu\"))\n",
        "model.add(layers.Dropout(0.2))\n",
        "model.add(layers.Dense(256, activation=\"relu\"))\n",
        "\n",
        "model.add(layers.Dense(3, activation=\"softmax\"))\n",
        "\n",
        "model.summary()\n",
        "\n",
        "model.compile(\n",
        "    loss='categorical_crossentropy',\n",
        "    optimizer=optimizers.Adam(learning_rate=1e-3),\n",
        "    metrics=[\"acc\"],\n",
        ")\n"
      ],
      "metadata": {
        "colab": {
          "base_uri": "https://localhost:8080/"
        },
        "id": "b_Jfe3GX_nij",
        "outputId": "47a7255c-6d9d-4de5-d81d-3d871c7e79f7"
      },
      "execution_count": 3,
      "outputs": [
        {
          "output_type": "stream",
          "name": "stdout",
          "text": [
            "Model: \"sequential\"\n",
            "_________________________________________________________________\n",
            " Layer (type)                Output Shape              Param #   \n",
            "=================================================================\n",
            " conv2d (Conv2D)             (None, 30, 30, 32)        320       \n",
            "                                                                 \n",
            " conv2d_1 (Conv2D)           (None, 28, 28, 32)        9248      \n",
            "                                                                 \n",
            " max_pooling2d (MaxPooling2D  (None, 14, 14, 32)       0         \n",
            " )                                                               \n",
            "                                                                 \n",
            " dropout (Dropout)           (None, 14, 14, 32)        0         \n",
            "                                                                 \n",
            " conv2d_2 (Conv2D)           (None, 12, 12, 64)        18496     \n",
            "                                                                 \n",
            " max_pooling2d_1 (MaxPooling  (None, 6, 6, 64)         0         \n",
            " 2D)                                                             \n",
            "                                                                 \n",
            " dropout_1 (Dropout)         (None, 6, 6, 64)          0         \n",
            "                                                                 \n",
            " conv2d_3 (Conv2D)           (None, 4, 4, 128)         73856     \n",
            "                                                                 \n",
            " max_pooling2d_2 (MaxPooling  (None, 2, 2, 128)        0         \n",
            " 2D)                                                             \n",
            "                                                                 \n",
            " dropout_2 (Dropout)         (None, 2, 2, 128)         0         \n",
            "                                                                 \n",
            " flatten (Flatten)           (None, 512)               0         \n",
            "                                                                 \n",
            " dense (Dense)               (None, 256)               131328    \n",
            "                                                                 \n",
            " dropout_3 (Dropout)         (None, 256)               0         \n",
            "                                                                 \n",
            " dense_1 (Dense)             (None, 256)               65792     \n",
            "                                                                 \n",
            " dense_2 (Dense)             (None, 3)                 771       \n",
            "                                                                 \n",
            "=================================================================\n",
            "Total params: 299,811\n",
            "Trainable params: 299,811\n",
            "Non-trainable params: 0\n",
            "_________________________________________________________________\n"
          ]
        }
      ]
    },
    {
      "cell_type": "markdown",
      "source": [
        "## Training"
      ],
      "metadata": {
        "id": "YuuOa-a7ikUw"
      }
    },
    {
      "cell_type": "code",
      "source": [
        "# CALLBACK - Control iterations and save the best model possible\n",
        "\n",
        "def update_learning_rate(epoch):\n",
        "  if (epoch < 25):\n",
        "    return 1e-3\n",
        "\n",
        "  else:\n",
        "    return 1e-4\n",
        "\n",
        "# Stop iterations regarding to accuracy value\n",
        "early_stop = EarlyStopping(monitor='val_acc', mode='max', verbose=1, patience=20)\n",
        "\n",
        "# Saving model at each epoch if values are better than the previous ones\n",
        "model_checkpoint = ModelCheckpoint('best_model.h5', monitor='val_acc', mode='max', save_best_only=True, verbose=1)\n",
        "\n",
        "# Adaptive learning rate\n",
        "lrate_scheduler = LearningRateScheduler(update_learning_rate)"
      ],
      "metadata": {
        "id": "uJSbKqsK97li"
      },
      "execution_count": 6,
      "outputs": []
    },
    {
      "cell_type": "code",
      "source": [
        "# TRAINING\n",
        "\n",
        "epochs = 35\n",
        "history = model.fit(train_datagen, validation_data=val_datagen, batch_size=batch_size, epochs=epochs, callbacks=[model_checkpoint, lrate_scheduler])"
      ],
      "metadata": {
        "colab": {
          "base_uri": "https://localhost:8080/"
        },
        "id": "ukVaY0laBBJ-",
        "outputId": "a80ea0a2-6c08-48f5-cbd0-22844924ce87"
      },
      "execution_count": 7,
      "outputs": [
        {
          "output_type": "stream",
          "name": "stdout",
          "text": [
            "Epoch 1/35\n",
            "23/23 [==============================] - ETA: 0s - loss: 1.0320 - acc: 0.4601\n",
            "Epoch 1: val_acc improved from -inf to 0.76487, saving model to best_model.h5\n",
            "23/23 [==============================] - 7s 317ms/step - loss: 1.0320 - acc: 0.4601 - val_loss: 0.7686 - val_acc: 0.7649 - lr: 0.0010\n",
            "Epoch 2/35\n",
            "23/23 [==============================] - ETA: 0s - loss: 0.6461 - acc: 0.7625\n",
            "Epoch 2: val_acc improved from 0.76487 to 0.84986, saving model to best_model.h5\n",
            "23/23 [==============================] - 6s 276ms/step - loss: 0.6461 - acc: 0.7625 - val_loss: 0.4969 - val_acc: 0.8499 - lr: 0.0010\n",
            "Epoch 3/35\n",
            "22/23 [===========================>..] - ETA: 0s - loss: 0.4166 - acc: 0.8445\n",
            "Epoch 3: val_acc improved from 0.84986 to 0.92635, saving model to best_model.h5\n",
            "23/23 [==============================] - 6s 273ms/step - loss: 0.4156 - acc: 0.8445 - val_loss: 0.2376 - val_acc: 0.9263 - lr: 0.0010\n",
            "Epoch 4/35\n",
            "23/23 [==============================] - ETA: 0s - loss: 0.3210 - acc: 0.8982\n",
            "Epoch 4: val_acc improved from 0.92635 to 0.93484, saving model to best_model.h5\n",
            "23/23 [==============================] - 6s 271ms/step - loss: 0.3210 - acc: 0.8982 - val_loss: 0.2035 - val_acc: 0.9348 - lr: 0.0010\n",
            "Epoch 5/35\n",
            "22/23 [===========================>..] - ETA: 0s - loss: 0.2326 - acc: 0.9226\n",
            "Epoch 5: val_acc improved from 0.93484 to 0.94051, saving model to best_model.h5\n",
            "23/23 [==============================] - 6s 276ms/step - loss: 0.2317 - acc: 0.9230 - val_loss: 0.2059 - val_acc: 0.9405 - lr: 0.0010\n",
            "Epoch 6/35\n",
            "23/23 [==============================] - ETA: 0s - loss: 0.2597 - acc: 0.9088\n",
            "Epoch 6: val_acc did not improve from 0.94051\n",
            "23/23 [==============================] - 6s 270ms/step - loss: 0.2597 - acc: 0.9088 - val_loss: 0.2821 - val_acc: 0.9093 - lr: 0.0010\n",
            "Epoch 7/35\n",
            "23/23 [==============================] - ETA: 0s - loss: 0.1897 - acc: 0.9307\n",
            "Epoch 7: val_acc improved from 0.94051 to 0.94901, saving model to best_model.h5\n",
            "23/23 [==============================] - 6s 273ms/step - loss: 0.1897 - acc: 0.9307 - val_loss: 0.1784 - val_acc: 0.9490 - lr: 0.0010\n",
            "Epoch 8/35\n",
            "22/23 [===========================>..] - ETA: 0s - loss: 0.1571 - acc: 0.9467\n",
            "Epoch 8: val_acc improved from 0.94901 to 0.96317, saving model to best_model.h5\n",
            "23/23 [==============================] - 6s 271ms/step - loss: 0.1568 - acc: 0.9470 - val_loss: 0.1232 - val_acc: 0.9632 - lr: 0.0010\n",
            "Epoch 9/35\n",
            "23/23 [==============================] - ETA: 0s - loss: 0.1645 - acc: 0.9449\n",
            "Epoch 9: val_acc did not improve from 0.96317\n",
            "23/23 [==============================] - 6s 272ms/step - loss: 0.1645 - acc: 0.9449 - val_loss: 0.1257 - val_acc: 0.9547 - lr: 0.0010\n",
            "Epoch 10/35\n",
            "23/23 [==============================] - ETA: 0s - loss: 0.1378 - acc: 0.9534\n",
            "Epoch 10: val_acc did not improve from 0.96317\n",
            "23/23 [==============================] - 6s 273ms/step - loss: 0.1378 - acc: 0.9534 - val_loss: 0.1464 - val_acc: 0.9603 - lr: 0.0010\n",
            "Epoch 11/35\n",
            "23/23 [==============================] - ETA: 0s - loss: 0.1196 - acc: 0.9654\n",
            "Epoch 11: val_acc improved from 0.96317 to 0.97167, saving model to best_model.h5\n",
            "23/23 [==============================] - 6s 272ms/step - loss: 0.1196 - acc: 0.9654 - val_loss: 0.1033 - val_acc: 0.9717 - lr: 0.0010\n",
            "Epoch 12/35\n",
            "23/23 [==============================] - ETA: 0s - loss: 0.1659 - acc: 0.9428\n",
            "Epoch 12: val_acc did not improve from 0.97167\n",
            "23/23 [==============================] - 6s 271ms/step - loss: 0.1659 - acc: 0.9428 - val_loss: 0.1834 - val_acc: 0.9263 - lr: 0.0010\n",
            "Epoch 13/35\n",
            "23/23 [==============================] - ETA: 0s - loss: 0.1224 - acc: 0.9590\n",
            "Epoch 13: val_acc did not improve from 0.97167\n",
            "23/23 [==============================] - 7s 289ms/step - loss: 0.1224 - acc: 0.9590 - val_loss: 0.0965 - val_acc: 0.9717 - lr: 0.0010\n",
            "Epoch 14/35\n",
            "23/23 [==============================] - ETA: 0s - loss: 0.1056 - acc: 0.9654\n",
            "Epoch 14: val_acc improved from 0.97167 to 0.97450, saving model to best_model.h5\n",
            "23/23 [==============================] - 7s 292ms/step - loss: 0.1056 - acc: 0.9654 - val_loss: 0.1231 - val_acc: 0.9745 - lr: 0.0010\n",
            "Epoch 15/35\n",
            "23/23 [==============================] - ETA: 0s - loss: 0.1109 - acc: 0.9703\n",
            "Epoch 15: val_acc did not improve from 0.97450\n",
            "23/23 [==============================] - 6s 270ms/step - loss: 0.1109 - acc: 0.9703 - val_loss: 0.1007 - val_acc: 0.9745 - lr: 0.0010\n",
            "Epoch 16/35\n",
            "23/23 [==============================] - ETA: 0s - loss: 0.0945 - acc: 0.9689\n",
            "Epoch 16: val_acc improved from 0.97450 to 0.98017, saving model to best_model.h5\n",
            "23/23 [==============================] - 6s 269ms/step - loss: 0.0945 - acc: 0.9689 - val_loss: 0.0810 - val_acc: 0.9802 - lr: 0.0010\n",
            "Epoch 17/35\n",
            "23/23 [==============================] - ETA: 0s - loss: 0.1014 - acc: 0.9675\n",
            "Epoch 17: val_acc did not improve from 0.98017\n",
            "23/23 [==============================] - 6s 271ms/step - loss: 0.1014 - acc: 0.9675 - val_loss: 0.0755 - val_acc: 0.9745 - lr: 0.0010\n",
            "Epoch 18/35\n",
            "23/23 [==============================] - ETA: 0s - loss: 0.0923 - acc: 0.9682\n",
            "Epoch 18: val_acc did not improve from 0.98017\n",
            "23/23 [==============================] - 6s 271ms/step - loss: 0.0923 - acc: 0.9682 - val_loss: 0.0709 - val_acc: 0.9802 - lr: 0.0010\n",
            "Epoch 19/35\n",
            "23/23 [==============================] - ETA: 0s - loss: 0.0723 - acc: 0.9753\n",
            "Epoch 19: val_acc did not improve from 0.98017\n",
            "23/23 [==============================] - 6s 271ms/step - loss: 0.0723 - acc: 0.9753 - val_loss: 0.0867 - val_acc: 0.9802 - lr: 0.0010\n",
            "Epoch 20/35\n",
            "23/23 [==============================] - ETA: 0s - loss: 0.0780 - acc: 0.9767\n",
            "Epoch 20: val_acc did not improve from 0.98017\n",
            "23/23 [==============================] - 6s 268ms/step - loss: 0.0780 - acc: 0.9767 - val_loss: 0.0677 - val_acc: 0.9773 - lr: 0.0010\n",
            "Epoch 21/35\n",
            "23/23 [==============================] - ETA: 0s - loss: 0.0570 - acc: 0.9816\n",
            "Epoch 21: val_acc improved from 0.98017 to 0.98300, saving model to best_model.h5\n",
            "23/23 [==============================] - 6s 274ms/step - loss: 0.0570 - acc: 0.9816 - val_loss: 0.0632 - val_acc: 0.9830 - lr: 0.0010\n",
            "Epoch 22/35\n",
            "23/23 [==============================] - ETA: 0s - loss: 0.0693 - acc: 0.9809\n",
            "Epoch 22: val_acc did not improve from 0.98300\n",
            "23/23 [==============================] - 6s 273ms/step - loss: 0.0693 - acc: 0.9809 - val_loss: 0.0609 - val_acc: 0.9773 - lr: 0.0010\n",
            "Epoch 23/35\n",
            "23/23 [==============================] - ETA: 0s - loss: 0.0607 - acc: 0.9816\n",
            "Epoch 23: val_acc improved from 0.98300 to 0.98584, saving model to best_model.h5\n",
            "23/23 [==============================] - 6s 272ms/step - loss: 0.0607 - acc: 0.9816 - val_loss: 0.0447 - val_acc: 0.9858 - lr: 0.0010\n",
            "Epoch 24/35\n",
            "23/23 [==============================] - ETA: 0s - loss: 0.1217 - acc: 0.9534\n",
            "Epoch 24: val_acc did not improve from 0.98584\n",
            "23/23 [==============================] - 6s 269ms/step - loss: 0.1217 - acc: 0.9534 - val_loss: 0.0626 - val_acc: 0.9830 - lr: 0.0010\n",
            "Epoch 25/35\n",
            "23/23 [==============================] - ETA: 0s - loss: 0.1195 - acc: 0.9576\n",
            "Epoch 25: val_acc did not improve from 0.98584\n",
            "23/23 [==============================] - 6s 268ms/step - loss: 0.1195 - acc: 0.9576 - val_loss: 0.1710 - val_acc: 0.9348 - lr: 0.0010\n",
            "Epoch 26/35\n",
            "23/23 [==============================] - ETA: 0s - loss: 0.0776 - acc: 0.9774\n",
            "Epoch 26: val_acc did not improve from 0.98584\n",
            "23/23 [==============================] - 6s 266ms/step - loss: 0.0776 - acc: 0.9774 - val_loss: 0.0631 - val_acc: 0.9802 - lr: 1.0000e-04\n",
            "Epoch 27/35\n",
            "23/23 [==============================] - ETA: 0s - loss: 0.0564 - acc: 0.9845\n",
            "Epoch 27: val_acc did not improve from 0.98584\n",
            "23/23 [==============================] - 6s 269ms/step - loss: 0.0564 - acc: 0.9845 - val_loss: 0.0552 - val_acc: 0.9830 - lr: 1.0000e-04\n",
            "Epoch 28/35\n",
            "23/23 [==============================] - ETA: 0s - loss: 0.0505 - acc: 0.9852\n",
            "Epoch 28: val_acc did not improve from 0.98584\n",
            "23/23 [==============================] - 6s 272ms/step - loss: 0.0505 - acc: 0.9852 - val_loss: 0.0535 - val_acc: 0.9858 - lr: 1.0000e-04\n",
            "Epoch 29/35\n",
            "23/23 [==============================] - ETA: 0s - loss: 0.0518 - acc: 0.9837\n",
            "Epoch 29: val_acc did not improve from 0.98584\n",
            "23/23 [==============================] - 6s 268ms/step - loss: 0.0518 - acc: 0.9837 - val_loss: 0.0514 - val_acc: 0.9830 - lr: 1.0000e-04\n",
            "Epoch 30/35\n",
            "23/23 [==============================] - ETA: 0s - loss: 0.0492 - acc: 0.9873\n",
            "Epoch 30: val_acc did not improve from 0.98584\n",
            "23/23 [==============================] - 6s 269ms/step - loss: 0.0492 - acc: 0.9873 - val_loss: 0.0495 - val_acc: 0.9830 - lr: 1.0000e-04\n",
            "Epoch 31/35\n",
            "23/23 [==============================] - ETA: 0s - loss: 0.0460 - acc: 0.9894\n",
            "Epoch 31: val_acc did not improve from 0.98584\n",
            "23/23 [==============================] - 6s 271ms/step - loss: 0.0460 - acc: 0.9894 - val_loss: 0.0491 - val_acc: 0.9858 - lr: 1.0000e-04\n",
            "Epoch 32/35\n",
            "23/23 [==============================] - ETA: 0s - loss: 0.0358 - acc: 0.9873\n",
            "Epoch 32: val_acc did not improve from 0.98584\n",
            "23/23 [==============================] - 6s 275ms/step - loss: 0.0358 - acc: 0.9873 - val_loss: 0.0470 - val_acc: 0.9858 - lr: 1.0000e-04\n",
            "Epoch 33/35\n",
            "23/23 [==============================] - ETA: 0s - loss: 0.0408 - acc: 0.9887\n",
            "Epoch 33: val_acc did not improve from 0.98584\n",
            "23/23 [==============================] - 6s 278ms/step - loss: 0.0408 - acc: 0.9887 - val_loss: 0.0471 - val_acc: 0.9858 - lr: 1.0000e-04\n",
            "Epoch 34/35\n",
            "23/23 [==============================] - ETA: 0s - loss: 0.0420 - acc: 0.9887\n",
            "Epoch 34: val_acc did not improve from 0.98584\n",
            "23/23 [==============================] - 6s 271ms/step - loss: 0.0420 - acc: 0.9887 - val_loss: 0.0456 - val_acc: 0.9858 - lr: 1.0000e-04\n",
            "Epoch 35/35\n",
            "23/23 [==============================] - ETA: 0s - loss: 0.0387 - acc: 0.9887\n",
            "Epoch 35: val_acc improved from 0.98584 to 0.98867, saving model to best_model.h5\n",
            "23/23 [==============================] - 6s 271ms/step - loss: 0.0387 - acc: 0.9887 - val_loss: 0.0453 - val_acc: 0.9887 - lr: 1.0000e-04\n"
          ]
        }
      ]
    },
    {
      "cell_type": "markdown",
      "source": [
        "## Results"
      ],
      "metadata": {
        "id": "5Pdzd4uCioRs"
      }
    },
    {
      "cell_type": "code",
      "source": [
        "# LOG ACCURACY RESULTS\n",
        "\n",
        "history_dict = history.history\n",
        "acc_values = history_dict['acc']\n",
        "val_acc_values = history_dict['val_acc']\n",
        "epochs_range = range(1, epochs + 1)\n",
        "plt.plot(epochs_range, acc_values, 'bo', label='Training acc')\n",
        "plt.plot(epochs_range, val_acc_values, 'b', label='Validation acc')\n",
        "plt.title('Training and validation accuracy')\n",
        "plt.xlabel('Epochs')\n",
        "plt.ylabel('Loss')\n",
        "plt.legend()\n",
        "plt.show()"
      ],
      "metadata": {
        "colab": {
          "base_uri": "https://localhost:8080/",
          "height": 295
        },
        "id": "62uBKaWlFQlA",
        "outputId": "a423c61a-7bad-40ec-86d9-791cdb5570be"
      },
      "execution_count": 8,
      "outputs": [
        {
          "output_type": "display_data",
          "data": {
            "text/plain": [
              "<Figure size 432x288 with 1 Axes>"
            ],
            "image/png": "[encoded data removed]"
          },
          "metadata": {
            "needs_background": "light"
          }
        }
      ]
    },
    {
      "cell_type": "code",
      "source": [
        "# LOG LOSS RESULTS\n",
        "\n",
        "history_dict = history.history\n",
        "loss_values = history_dict['loss']\n",
        "val_loss_values = history_dict['val_loss']\n",
        "epochs_range = range(1, epochs + 1)\n",
        "plt.plot(epochs_range, loss_values, 'bo', label='Training loss')\n",
        "plt.plot(epochs_range, val_loss_values, 'b', label='Validation loss')\n",
        "plt.title('Training and validation loss')\n",
        "plt.xlabel('Epochs')\n",
        "plt.ylabel('Loss')\n",
        "plt.legend()\n",
        "plt.show()"
      ],
      "metadata": {
        "colab": {
          "base_uri": "https://localhost:8080/",
          "height": 295
        },
        "id": "B-GBiMhqFU8g",
        "outputId": "fff112b2-032a-4070-d99f-838a1ac8cff2"
      },
      "execution_count": 9,
      "outputs": [
        {
          "output_type": "display_data",
          "data": {
            "text/plain": [
              "<Figure size 432x288 with 1 Axes>"
            ],
            "image/png": "[encoded data removed]"
          },
          "metadata": {
            "needs_background": "light"
          }
        }
      ]
    },
    {
      "cell_type": "code",
      "source": [
        "# CONFUSION MATRIX\n",
        "\n",
        "\n",
        "#Predict\n",
        "y_prediction = model.predict(test_datagen)\n",
        "y_prediction = np.argmax (y_prediction, axis = 1)\n",
        "\n",
        "y_test = test_datagen.labels\n",
        "\n",
        "#Create confusion matrix and normalizes it over predicted (columns)\n",
        "result = confusion_matrix(y_test, y_prediction , normalize='pred')\n",
        "\n",
        "df_cm = pd.DataFrame(result, range(3), range(3))\n",
        "plt.figure(figsize=(10,7))\n",
        "sn.set(font_scale=1.4) # for label size\n",
        "sn.heatmap(df_cm, annot=True, annot_kws={\"size\": 10}) # font size\n",
        "\n",
        "plt.show()"
      ],
      "metadata": {
        "colab": {
          "base_uri": "https://localhost:8080/",
          "height": 459
        },
        "id": "hdgynsq4fm29",
        "outputId": "0af684b2-2117-4b35-bd91-bce74c92e7fb"
      },
      "execution_count": 10,
      "outputs": [
        {
          "output_type": "stream",
          "name": "stdout",
          "text": [
            "7/7 [==============================] - 2s 210ms/step\n"
          ]
        },
        {
          "output_type": "display_data",
          "data": {
            "text/plain": [
              "<Figure size 720x504 with 2 Axes>"
            ],
            "image/png": "[encoded data removed]"
          },
          "metadata": {
            "needs_background": "light"
          }
        }
      ]
    },
    {
      "cell_type": "code",
      "source": [
        "# EVALUATION\n",
        "\n",
        "loss, acc = model.evaluate(test_datagen)\n",
        "print(\"Accuracy : {}%\".format(acc * 100))"
      ],
      "metadata": {
        "colab": {
          "base_uri": "https://localhost:8080/"
        },
        "id": "r8wpIGgcFViW",
        "outputId": "106fb3c0-cbf0-4a61-b23f-5d0ff36c26b2"
      },
      "execution_count": 11,
      "outputs": [
        {
          "output_type": "stream",
          "name": "stdout",
          "text": [
            "7/7 [==============================] - 1s 196ms/step - loss: 0.0324 - acc: 0.9905\n",
            "Accuracy : 99.04761910438538%\n"
          ]
        }
      ]
    }
  ]
}