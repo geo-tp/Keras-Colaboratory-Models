{
  "nbformat": 4,
  "nbformat_minor": 0,
  "metadata": {
    "colab": {
      "provenance": [],
      "mount_file_id": "1xa-6YOUmYq6JazXxmwTgJyxLXcsKrLBz",
      "authorship_tag": "ABX9TyOXpEaA1QGsifwxTBxk9wJv",
      "include_colab_link": true
    },
    "kernelspec": {
      "name": "python3",
      "display_name": "Python 3"
    },
    "language_info": {
      "name": "python"
    },
    "accelerator": "GPU",
    "gpuClass": "standard"
  },
  "cells": [
    {
      "cell_type": "markdown",
      "metadata": {
        "id": "view-in-github",
        "colab_type": "text"
      },
      "source": [
        "<a href=\"https://colab.research.google.com/github/geo-tp/Keras-Colaboratory-Models/blob/main/rock_paper_scissors_convnets.ipynb\" target=\"_parent\"><img src=\"https://colab.research.google.com/assets/colab-badge.svg\" alt=\"Open In Colab\"/></a>"
      ]
    },
    {
      "cell_type": "markdown",
      "source": [
        "# Rock Paper Scissors Convnets\n"
      ],
      "metadata": {
        "id": "uo7cAOA20F1d"
      }
    },
    {
      "cell_type": "markdown",
      "source": [
        "## Import"
      ],
      "metadata": {
        "id": "2_qpdN0i0NM_"
      }
    },
    {
      "cell_type": "code",
      "source": [
        "from sys import path\n",
        "from keras import layers, models, optimizers, preprocessing\n",
        "import matplotlib.pyplot as plt"
      ],
      "metadata": {
        "id": "CGjB3cbu0M4q"
      },
      "execution_count": 1,
      "outputs": []
    },
    {
      "cell_type": "markdown",
      "source": [
        "## Dataset"
      ],
      "metadata": {
        "id": "bw8EyUoF0dP7"
      }
    },
    {
      "cell_type": "code",
      "execution_count": 2,
      "metadata": {
        "colab": {
          "base_uri": "https://localhost:8080/"
        },
        "id": "3dcCv1z1zlih",
        "outputId": "d4141ea1-4c67-4e5a-cf07-9029512b6e0a"
      },
      "outputs": [
        {
          "output_type": "stream",
          "name": "stdout",
          "text": [
            "Found 1415 images belonging to 3 classes.\n",
            "Found 353 images belonging to 3 classes.\n",
            "Found 420 images belonging to 3 classes.\n"
          ]
        }
      ],
      "source": [
        "# Dataset - hand images with rock, paper or scissors form\n",
        "# 1772 for training set, 424 for test set\n",
        "\n",
        "base_dir = path[0] + \"/drive/MyDrive/rock-paper-scissors-dataset/\"\n",
        "train_dir = base_dir + \"/train/\"\n",
        "test_dir = base_dir + \"/test/\"\n",
        "batch_size = 64\n",
        "\n",
        "train_gen = preprocessing.image.ImageDataGenerator(\n",
        "    rescale=1./255,\n",
        "    zoom_range=0.1,\n",
        "    rotation_range=20,\n",
        "    vertical_flip=True,\n",
        "    validation_split=0.2,\n",
        ")\n",
        "\n",
        "val_gen = preprocessing.image.ImageDataGenerator(\n",
        "    rescale=1./255,\n",
        "    validation_split=0.2,\n",
        ")\n",
        "\n",
        "test_gen = preprocessing.image.ImageDataGenerator(\n",
        "    rescale=1./255,\n",
        ")\n",
        "\n",
        "train_datagen = train_gen.flow_from_directory(\n",
        "    train_dir,\n",
        "    target_size=(32, 32),\n",
        "    color_mode='grayscale',\n",
        "    shuffle=True,\n",
        "    class_mode=\"categorical\",\n",
        "    seed=111,\n",
        "    subset=\"training\",\n",
        "    batch_size=batch_size\n",
        ")\n",
        "\n",
        "val_datagen = val_gen.flow_from_directory(\n",
        "    train_dir,\n",
        "    target_size=(32, 32),\n",
        "    color_mode='grayscale',\n",
        "    shuffle=False,\n",
        "    class_mode=\"categorical\",\n",
        "    seed=111,\n",
        "    subset=\"validation\",\n",
        "    batch_size=batch_size\n",
        ")\n",
        "\n",
        "test_datagen = test_gen.flow_from_directory(\n",
        "    test_dir,\n",
        "    target_size=(32, 32),\n",
        "    color_mode='grayscale',\n",
        "    shuffle=False,\n",
        "    class_mode=\"categorical\",\n",
        "    seed=111,\n",
        "    batch_size=batch_size\n",
        ")"
      ]
    },
    {
      "cell_type": "markdown",
      "source": [
        "## Model"
      ],
      "metadata": {
        "id": "Y0I_73y8_sHe"
      }
    },
    {
      "cell_type": "code",
      "source": [
        "# MODEL DEFINITION - the model need to predict if an image shows rock, paper, scissors\n",
        "\n",
        "model = models.Sequential()\n",
        "\n",
        "model.add(layers.Conv2D(32, (3, 3), activation=\"relu\", input_shape=(32, 32, 1)))\n",
        "model.add(layers.Conv2D(32, (3, 3), activation=\"relu\"))\n",
        "model.add(layers.MaxPooling2D((2, 2)))\n",
        "\n",
        "model.add(layers.Conv2D(64, (3, 3), activation=\"relu\"))\n",
        "model.add(layers.MaxPooling2D((2, 2)))\n",
        "\n",
        "model.add(layers.Conv2D(128, (3, 3), activation=\"relu\"))\n",
        "model.add(layers.MaxPooling2D((2, 2)))\n",
        "\n",
        "model.add(layers.Flatten())\n",
        "\n",
        "model.add(layers.Dense(256, activation=\"relu\"))\n",
        "model.add(layers.Dense(3, activation=\"softmax\"))\n",
        "\n",
        "model.summary()\n",
        "\n",
        "model.compile(\n",
        "    loss='categorical_crossentropy',\n",
        "    optimizer=optimizers.RMSprop(learning_rate=1e-4),\n",
        "    metrics=[\"acc\"],\n",
        ")\n"
      ],
      "metadata": {
        "colab": {
          "base_uri": "https://localhost:8080/"
        },
        "id": "b_Jfe3GX_nij",
        "outputId": "61222277-61d5-4a9d-9663-5ddb48d924f0"
      },
      "execution_count": 3,
      "outputs": [
        {
          "output_type": "stream",
          "name": "stdout",
          "text": [
            "Model: \"sequential\"\n",
            "_________________________________________________________________\n",
            " Layer (type)                Output Shape              Param #   \n",
            "=================================================================\n",
            " conv2d (Conv2D)             (None, 30, 30, 32)        320       \n",
            "                                                                 \n",
            " conv2d_1 (Conv2D)           (None, 28, 28, 32)        9248      \n",
            "                                                                 \n",
            " max_pooling2d (MaxPooling2D  (None, 14, 14, 32)       0         \n",
            " )                                                               \n",
            "                                                                 \n",
            " conv2d_2 (Conv2D)           (None, 12, 12, 64)        18496     \n",
            "                                                                 \n",
            " max_pooling2d_1 (MaxPooling  (None, 6, 6, 64)         0         \n",
            " 2D)                                                             \n",
            "                                                                 \n",
            " conv2d_3 (Conv2D)           (None, 4, 4, 128)         73856     \n",
            "                                                                 \n",
            " max_pooling2d_2 (MaxPooling  (None, 2, 2, 128)        0         \n",
            " 2D)                                                             \n",
            "                                                                 \n",
            " flatten (Flatten)           (None, 512)               0         \n",
            "                                                                 \n",
            " dense (Dense)               (None, 256)               131328    \n",
            "                                                                 \n",
            " dense_1 (Dense)             (None, 3)                 771       \n",
            "                                                                 \n",
            "=================================================================\n",
            "Total params: 234,019\n",
            "Trainable params: 234,019\n",
            "Non-trainable params: 0\n",
            "_________________________________________________________________\n"
          ]
        }
      ]
    },
    {
      "cell_type": "code",
      "source": [
        "epochs = 120\n",
        "history = model.fit(train_datagen, validation_data=val_datagen, batch_size=batch_size, epochs=epochs)"
      ],
      "metadata": {
        "colab": {
          "base_uri": "https://localhost:8080/"
        },
        "id": "ukVaY0laBBJ-",
        "outputId": "6b3b8035-a57c-4016-a22f-f3f1c581cbdf"
      },
      "execution_count": 4,
      "outputs": [
        {
          "output_type": "stream",
          "name": "stdout",
          "text": [
            "Epoch 1/120\n",
            "23/23 [==============================] - 10s 327ms/step - loss: 1.0924 - acc: 0.4106 - val_loss: 1.0835 - val_acc: 0.3456\n",
            "Epoch 2/120\n",
            "23/23 [==============================] - 6s 277ms/step - loss: 1.0776 - acc: 0.4926 - val_loss: 1.0628 - val_acc: 0.6431\n",
            "Epoch 3/120\n",
            "23/23 [==============================] - 8s 359ms/step - loss: 1.0547 - acc: 0.6233 - val_loss: 1.0275 - val_acc: 0.7592\n",
            "Epoch 4/120\n",
            "23/23 [==============================] - 6s 278ms/step - loss: 1.0140 - acc: 0.7145 - val_loss: 0.9666 - val_acc: 0.8470\n",
            "Epoch 5/120\n",
            "23/23 [==============================] - 7s 306ms/step - loss: 0.9567 - acc: 0.7442 - val_loss: 0.8963 - val_acc: 0.8754\n",
            "Epoch 6/120\n",
            "23/23 [==============================] - 6s 273ms/step - loss: 0.8810 - acc: 0.7894 - val_loss: 0.8049 - val_acc: 0.8357\n",
            "Epoch 7/120\n",
            "23/23 [==============================] - 7s 304ms/step - loss: 0.7804 - acc: 0.8021 - val_loss: 0.6974 - val_acc: 0.8669\n",
            "Epoch 8/120\n",
            "23/23 [==============================] - 6s 269ms/step - loss: 0.6869 - acc: 0.8353 - val_loss: 0.5973 - val_acc: 0.8555\n",
            "Epoch 9/120\n",
            "23/23 [==============================] - 7s 311ms/step - loss: 0.6062 - acc: 0.8495 - val_loss: 0.5609 - val_acc: 0.8669\n",
            "Epoch 10/120\n",
            "23/23 [==============================] - 6s 273ms/step - loss: 0.5348 - acc: 0.8537 - val_loss: 0.4805 - val_acc: 0.8555\n",
            "Epoch 11/120\n",
            "23/23 [==============================] - 7s 306ms/step - loss: 0.5063 - acc: 0.8473 - val_loss: 0.9219 - val_acc: 0.5297\n",
            "Epoch 12/120\n",
            "23/23 [==============================] - 7s 301ms/step - loss: 0.4717 - acc: 0.8481 - val_loss: 0.4264 - val_acc: 0.8952\n",
            "Epoch 13/120\n",
            "23/23 [==============================] - 7s 292ms/step - loss: 0.4131 - acc: 0.8643 - val_loss: 0.3643 - val_acc: 0.8839\n",
            "Epoch 14/120\n",
            "23/23 [==============================] - 6s 282ms/step - loss: 0.3960 - acc: 0.8671 - val_loss: 0.3784 - val_acc: 0.8924\n",
            "Epoch 15/120\n",
            "23/23 [==============================] - 6s 272ms/step - loss: 0.3786 - acc: 0.8721 - val_loss: 0.3262 - val_acc: 0.9037\n",
            "Epoch 16/120\n",
            "23/23 [==============================] - 7s 304ms/step - loss: 0.3531 - acc: 0.8827 - val_loss: 0.3615 - val_acc: 0.8980\n",
            "Epoch 17/120\n",
            "23/23 [==============================] - 6s 276ms/step - loss: 0.3503 - acc: 0.8827 - val_loss: 0.3806 - val_acc: 0.8895\n",
            "Epoch 18/120\n",
            "23/23 [==============================] - 7s 305ms/step - loss: 0.3365 - acc: 0.8919 - val_loss: 0.3317 - val_acc: 0.9037\n",
            "Epoch 19/120\n",
            "23/23 [==============================] - 6s 274ms/step - loss: 0.3215 - acc: 0.8905 - val_loss: 0.2849 - val_acc: 0.9008\n",
            "Epoch 20/120\n",
            "23/23 [==============================] - 7s 311ms/step - loss: 0.3114 - acc: 0.8869 - val_loss: 0.2792 - val_acc: 0.9178\n",
            "Epoch 21/120\n",
            "23/23 [==============================] - 6s 281ms/step - loss: 0.2841 - acc: 0.9039 - val_loss: 0.3341 - val_acc: 0.9093\n",
            "Epoch 22/120\n",
            "23/23 [==============================] - 7s 310ms/step - loss: 0.2678 - acc: 0.9102 - val_loss: 0.2774 - val_acc: 0.9207\n",
            "Epoch 23/120\n",
            "23/23 [==============================] - 6s 270ms/step - loss: 0.2678 - acc: 0.9088 - val_loss: 0.2598 - val_acc: 0.9292\n",
            "Epoch 24/120\n",
            "23/23 [==============================] - 7s 304ms/step - loss: 0.2684 - acc: 0.8954 - val_loss: 0.2551 - val_acc: 0.9178\n",
            "Epoch 25/120\n",
            "23/23 [==============================] - 6s 270ms/step - loss: 0.2431 - acc: 0.9173 - val_loss: 0.3172 - val_acc: 0.9178\n",
            "Epoch 26/120\n",
            "23/23 [==============================] - 8s 350ms/step - loss: 0.2396 - acc: 0.9300 - val_loss: 0.2104 - val_acc: 0.9348\n",
            "Epoch 27/120\n",
            "23/23 [==============================] - 6s 269ms/step - loss: 0.2354 - acc: 0.9117 - val_loss: 0.2368 - val_acc: 0.9377\n",
            "Epoch 28/120\n",
            "23/23 [==============================] - 7s 307ms/step - loss: 0.2205 - acc: 0.9208 - val_loss: 0.2065 - val_acc: 0.9377\n",
            "Epoch 29/120\n",
            "23/23 [==============================] - 6s 272ms/step - loss: 0.1999 - acc: 0.9336 - val_loss: 0.1903 - val_acc: 0.9320\n",
            "Epoch 30/120\n",
            "23/23 [==============================] - 7s 307ms/step - loss: 0.2187 - acc: 0.9258 - val_loss: 0.3286 - val_acc: 0.9037\n",
            "Epoch 31/120\n",
            "23/23 [==============================] - 6s 269ms/step - loss: 0.2146 - acc: 0.9201 - val_loss: 0.3027 - val_acc: 0.9037\n",
            "Epoch 32/120\n",
            "23/23 [==============================] - 7s 313ms/step - loss: 0.1926 - acc: 0.9300 - val_loss: 0.3014 - val_acc: 0.9178\n",
            "Epoch 33/120\n",
            "23/23 [==============================] - 6s 268ms/step - loss: 0.2125 - acc: 0.9230 - val_loss: 0.1740 - val_acc: 0.9462\n",
            "Epoch 34/120\n",
            "23/23 [==============================] - 7s 302ms/step - loss: 0.1852 - acc: 0.9378 - val_loss: 0.1725 - val_acc: 0.9547\n",
            "Epoch 35/120\n",
            "23/23 [==============================] - 6s 273ms/step - loss: 0.1705 - acc: 0.9428 - val_loss: 0.1703 - val_acc: 0.9518\n",
            "Epoch 36/120\n",
            "23/23 [==============================] - 7s 302ms/step - loss: 0.1831 - acc: 0.9322 - val_loss: 0.2123 - val_acc: 0.9490\n",
            "Epoch 37/120\n",
            "23/23 [==============================] - 6s 273ms/step - loss: 0.1833 - acc: 0.9406 - val_loss: 0.2217 - val_acc: 0.9462\n",
            "Epoch 38/120\n",
            "23/23 [==============================] - 8s 363ms/step - loss: 0.1639 - acc: 0.9428 - val_loss: 0.1611 - val_acc: 0.9490\n",
            "Epoch 39/120\n",
            "23/23 [==============================] - 6s 275ms/step - loss: 0.1583 - acc: 0.9442 - val_loss: 0.3597 - val_acc: 0.8924\n",
            "Epoch 40/120\n",
            "23/23 [==============================] - 7s 310ms/step - loss: 0.1555 - acc: 0.9470 - val_loss: 0.1466 - val_acc: 0.9518\n",
            "Epoch 41/120\n",
            "23/23 [==============================] - 6s 271ms/step - loss: 0.1573 - acc: 0.9512 - val_loss: 0.1540 - val_acc: 0.9603\n",
            "Epoch 42/120\n",
            "23/23 [==============================] - 7s 305ms/step - loss: 0.1615 - acc: 0.9519 - val_loss: 0.1749 - val_acc: 0.9462\n",
            "Epoch 43/120\n",
            "23/23 [==============================] - 6s 271ms/step - loss: 0.1552 - acc: 0.9449 - val_loss: 0.1482 - val_acc: 0.9575\n",
            "Epoch 44/120\n",
            "23/23 [==============================] - 7s 307ms/step - loss: 0.1383 - acc: 0.9463 - val_loss: 0.1475 - val_acc: 0.9575\n",
            "Epoch 45/120\n",
            "23/23 [==============================] - 6s 274ms/step - loss: 0.1561 - acc: 0.9413 - val_loss: 0.2098 - val_acc: 0.9207\n",
            "Epoch 46/120\n",
            "23/23 [==============================] - 7s 306ms/step - loss: 0.1355 - acc: 0.9576 - val_loss: 0.1433 - val_acc: 0.9603\n",
            "Epoch 47/120\n",
            "23/23 [==============================] - 6s 271ms/step - loss: 0.1502 - acc: 0.9569 - val_loss: 0.1386 - val_acc: 0.9575\n",
            "Epoch 48/120\n",
            "23/23 [==============================] - 7s 309ms/step - loss: 0.1399 - acc: 0.9541 - val_loss: 0.1528 - val_acc: 0.9575\n",
            "Epoch 49/120\n",
            "23/23 [==============================] - 6s 271ms/step - loss: 0.1448 - acc: 0.9527 - val_loss: 0.1319 - val_acc: 0.9603\n",
            "Epoch 50/120\n",
            "23/23 [==============================] - 7s 304ms/step - loss: 0.1433 - acc: 0.9576 - val_loss: 0.1643 - val_acc: 0.9547\n",
            "Epoch 51/120\n",
            "23/23 [==============================] - 6s 270ms/step - loss: 0.1218 - acc: 0.9590 - val_loss: 0.1326 - val_acc: 0.9632\n",
            "Epoch 52/120\n",
            "23/23 [==============================] - 7s 313ms/step - loss: 0.1078 - acc: 0.9654 - val_loss: 0.1274 - val_acc: 0.9688\n",
            "Epoch 53/120\n",
            "23/23 [==============================] - 6s 268ms/step - loss: 0.1222 - acc: 0.9583 - val_loss: 0.1467 - val_acc: 0.9632\n",
            "Epoch 54/120\n",
            "23/23 [==============================] - 7s 308ms/step - loss: 0.1171 - acc: 0.9675 - val_loss: 0.1632 - val_acc: 0.9603\n",
            "Epoch 55/120\n",
            "23/23 [==============================] - 6s 271ms/step - loss: 0.1254 - acc: 0.9611 - val_loss: 0.1341 - val_acc: 0.9632\n",
            "Epoch 56/120\n",
            "23/23 [==============================] - 7s 302ms/step - loss: 0.1179 - acc: 0.9647 - val_loss: 0.1373 - val_acc: 0.9603\n",
            "Epoch 57/120\n",
            "23/23 [==============================] - 6s 271ms/step - loss: 0.1177 - acc: 0.9675 - val_loss: 0.1605 - val_acc: 0.9603\n",
            "Epoch 58/120\n",
            "23/23 [==============================] - 6s 270ms/step - loss: 0.1258 - acc: 0.9625 - val_loss: 0.1199 - val_acc: 0.9632\n",
            "Epoch 59/120\n",
            "23/23 [==============================] - 7s 305ms/step - loss: 0.1135 - acc: 0.9640 - val_loss: 0.1224 - val_acc: 0.9660\n",
            "Epoch 60/120\n",
            "23/23 [==============================] - 6s 276ms/step - loss: 0.1259 - acc: 0.9640 - val_loss: 0.1235 - val_acc: 0.9660\n",
            "Epoch 61/120\n",
            "23/23 [==============================] - 7s 308ms/step - loss: 0.1174 - acc: 0.9611 - val_loss: 0.1283 - val_acc: 0.9632\n",
            "Epoch 62/120\n",
            "23/23 [==============================] - 7s 289ms/step - loss: 0.0983 - acc: 0.9710 - val_loss: 0.1400 - val_acc: 0.9603\n",
            "Epoch 63/120\n",
            "23/23 [==============================] - 8s 349ms/step - loss: 0.1180 - acc: 0.9682 - val_loss: 0.1225 - val_acc: 0.9660\n",
            "Epoch 64/120\n",
            "23/23 [==============================] - 6s 280ms/step - loss: 0.0939 - acc: 0.9703 - val_loss: 0.1231 - val_acc: 0.9660\n",
            "Epoch 65/120\n",
            "23/23 [==============================] - 7s 310ms/step - loss: 0.1082 - acc: 0.9604 - val_loss: 0.1193 - val_acc: 0.9660\n",
            "Epoch 66/120\n",
            "23/23 [==============================] - 6s 270ms/step - loss: 0.1003 - acc: 0.9668 - val_loss: 0.1407 - val_acc: 0.9490\n",
            "Epoch 67/120\n",
            "23/23 [==============================] - 7s 304ms/step - loss: 0.0975 - acc: 0.9696 - val_loss: 0.1409 - val_acc: 0.9603\n",
            "Epoch 68/120\n",
            "23/23 [==============================] - 6s 272ms/step - loss: 0.1148 - acc: 0.9604 - val_loss: 0.1006 - val_acc: 0.9688\n",
            "Epoch 69/120\n",
            "23/23 [==============================] - 7s 311ms/step - loss: 0.1191 - acc: 0.9661 - val_loss: 0.1268 - val_acc: 0.9688\n",
            "Epoch 70/120\n",
            "23/23 [==============================] - 6s 277ms/step - loss: 0.0877 - acc: 0.9724 - val_loss: 0.1032 - val_acc: 0.9688\n",
            "Epoch 71/120\n",
            "23/23 [==============================] - 7s 291ms/step - loss: 0.1036 - acc: 0.9675 - val_loss: 0.1280 - val_acc: 0.9632\n",
            "Epoch 72/120\n",
            "23/23 [==============================] - 7s 285ms/step - loss: 0.1101 - acc: 0.9647 - val_loss: 0.1046 - val_acc: 0.9688\n",
            "Epoch 73/120\n",
            "23/23 [==============================] - 7s 287ms/step - loss: 0.0819 - acc: 0.9760 - val_loss: 0.1200 - val_acc: 0.9688\n",
            "Epoch 74/120\n",
            "23/23 [==============================] - 6s 283ms/step - loss: 0.1027 - acc: 0.9675 - val_loss: 0.1335 - val_acc: 0.9632\n",
            "Epoch 75/120\n",
            "23/23 [==============================] - 6s 270ms/step - loss: 0.0774 - acc: 0.9767 - val_loss: 0.0982 - val_acc: 0.9660\n",
            "Epoch 76/120\n",
            "23/23 [==============================] - 7s 300ms/step - loss: 0.0851 - acc: 0.9774 - val_loss: 0.1154 - val_acc: 0.9603\n",
            "Epoch 77/120\n",
            "23/23 [==============================] - 6s 284ms/step - loss: 0.0842 - acc: 0.9774 - val_loss: 0.1036 - val_acc: 0.9802\n",
            "Epoch 78/120\n",
            "23/23 [==============================] - 7s 308ms/step - loss: 0.0794 - acc: 0.9760 - val_loss: 0.0984 - val_acc: 0.9717\n",
            "Epoch 79/120\n",
            "23/23 [==============================] - 6s 274ms/step - loss: 0.0832 - acc: 0.9753 - val_loss: 0.1144 - val_acc: 0.9717\n",
            "Epoch 80/120\n",
            "23/23 [==============================] - 7s 305ms/step - loss: 0.0806 - acc: 0.9746 - val_loss: 0.1073 - val_acc: 0.9688\n",
            "Epoch 81/120\n",
            "23/23 [==============================] - 6s 276ms/step - loss: 0.0900 - acc: 0.9689 - val_loss: 0.1260 - val_acc: 0.9518\n",
            "Epoch 82/120\n",
            "23/23 [==============================] - 7s 318ms/step - loss: 0.0841 - acc: 0.9689 - val_loss: 0.1546 - val_acc: 0.9405\n",
            "Epoch 83/120\n",
            "23/23 [==============================] - 6s 269ms/step - loss: 0.0816 - acc: 0.9753 - val_loss: 0.1754 - val_acc: 0.9292\n",
            "Epoch 84/120\n",
            "23/23 [==============================] - 7s 298ms/step - loss: 0.0922 - acc: 0.9675 - val_loss: 0.0906 - val_acc: 0.9745\n",
            "Epoch 85/120\n",
            "23/23 [==============================] - 6s 270ms/step - loss: 0.0808 - acc: 0.9774 - val_loss: 0.1018 - val_acc: 0.9773\n",
            "Epoch 86/120\n",
            "23/23 [==============================] - 7s 289ms/step - loss: 0.0849 - acc: 0.9710 - val_loss: 0.0882 - val_acc: 0.9745\n",
            "Epoch 87/120\n",
            "23/23 [==============================] - 6s 270ms/step - loss: 0.0732 - acc: 0.9774 - val_loss: 0.1143 - val_acc: 0.9547\n",
            "Epoch 88/120\n",
            "23/23 [==============================] - 8s 355ms/step - loss: 0.0818 - acc: 0.9767 - val_loss: 0.0926 - val_acc: 0.9745\n",
            "Epoch 89/120\n",
            "23/23 [==============================] - 6s 270ms/step - loss: 0.0805 - acc: 0.9739 - val_loss: 0.0859 - val_acc: 0.9745\n",
            "Epoch 90/120\n",
            "23/23 [==============================] - 7s 299ms/step - loss: 0.0797 - acc: 0.9753 - val_loss: 0.0931 - val_acc: 0.9632\n",
            "Epoch 91/120\n",
            "23/23 [==============================] - 6s 274ms/step - loss: 0.0783 - acc: 0.9816 - val_loss: 0.1020 - val_acc: 0.9688\n",
            "Epoch 92/120\n",
            "23/23 [==============================] - 7s 299ms/step - loss: 0.0888 - acc: 0.9724 - val_loss: 0.0896 - val_acc: 0.9745\n",
            "Epoch 93/120\n",
            "23/23 [==============================] - 6s 265ms/step - loss: 0.0743 - acc: 0.9753 - val_loss: 0.0891 - val_acc: 0.9773\n",
            "Epoch 94/120\n",
            "23/23 [==============================] - 7s 299ms/step - loss: 0.0724 - acc: 0.9767 - val_loss: 0.1219 - val_acc: 0.9547\n",
            "Epoch 95/120\n",
            "23/23 [==============================] - 6s 274ms/step - loss: 0.0738 - acc: 0.9781 - val_loss: 0.0859 - val_acc: 0.9717\n",
            "Epoch 96/120\n",
            "23/23 [==============================] - 7s 306ms/step - loss: 0.0705 - acc: 0.9795 - val_loss: 0.0846 - val_acc: 0.9802\n",
            "Epoch 97/120\n",
            "23/23 [==============================] - 6s 269ms/step - loss: 0.0798 - acc: 0.9767 - val_loss: 0.1048 - val_acc: 0.9603\n",
            "Epoch 98/120\n",
            "23/23 [==============================] - 7s 305ms/step - loss: 0.0663 - acc: 0.9837 - val_loss: 0.0840 - val_acc: 0.9717\n",
            "Epoch 99/120\n",
            "23/23 [==============================] - 6s 267ms/step - loss: 0.0711 - acc: 0.9788 - val_loss: 0.0906 - val_acc: 0.9688\n",
            "Epoch 100/120\n",
            "23/23 [==============================] - 7s 307ms/step - loss: 0.0541 - acc: 0.9823 - val_loss: 0.1020 - val_acc: 0.9632\n",
            "Epoch 101/120\n",
            "23/23 [==============================] - 6s 266ms/step - loss: 0.0629 - acc: 0.9802 - val_loss: 0.0873 - val_acc: 0.9688\n",
            "Epoch 102/120\n",
            "23/23 [==============================] - 7s 297ms/step - loss: 0.0760 - acc: 0.9724 - val_loss: 0.0876 - val_acc: 0.9660\n",
            "Epoch 103/120\n",
            "23/23 [==============================] - 6s 265ms/step - loss: 0.0590 - acc: 0.9816 - val_loss: 0.1258 - val_acc: 0.9518\n",
            "Epoch 104/120\n",
            "23/23 [==============================] - 7s 302ms/step - loss: 0.0704 - acc: 0.9739 - val_loss: 0.0784 - val_acc: 0.9745\n",
            "Epoch 105/120\n",
            "23/23 [==============================] - 6s 269ms/step - loss: 0.0634 - acc: 0.9845 - val_loss: 0.0835 - val_acc: 0.9773\n",
            "Epoch 106/120\n",
            "23/23 [==============================] - 7s 301ms/step - loss: 0.0699 - acc: 0.9802 - val_loss: 0.0837 - val_acc: 0.9773\n",
            "Epoch 107/120\n",
            "23/23 [==============================] - 6s 274ms/step - loss: 0.0631 - acc: 0.9802 - val_loss: 0.0959 - val_acc: 0.9632\n",
            "Epoch 108/120\n",
            "23/23 [==============================] - 7s 307ms/step - loss: 0.0654 - acc: 0.9788 - val_loss: 0.1198 - val_acc: 0.9745\n",
            "Epoch 109/120\n",
            "23/23 [==============================] - 6s 279ms/step - loss: 0.0521 - acc: 0.9859 - val_loss: 0.0844 - val_acc: 0.9802\n",
            "Epoch 110/120\n",
            "23/23 [==============================] - 7s 303ms/step - loss: 0.0702 - acc: 0.9802 - val_loss: 0.0830 - val_acc: 0.9773\n",
            "Epoch 111/120\n",
            "23/23 [==============================] - 6s 266ms/step - loss: 0.0640 - acc: 0.9866 - val_loss: 0.0909 - val_acc: 0.9773\n",
            "Epoch 112/120\n",
            "23/23 [==============================] - 7s 295ms/step - loss: 0.0670 - acc: 0.9802 - val_loss: 0.0888 - val_acc: 0.9773\n",
            "Epoch 113/120\n",
            "23/23 [==============================] - 6s 271ms/step - loss: 0.0573 - acc: 0.9859 - val_loss: 0.0751 - val_acc: 0.9745\n",
            "Epoch 114/120\n",
            "23/23 [==============================] - 7s 320ms/step - loss: 0.0642 - acc: 0.9816 - val_loss: 0.0820 - val_acc: 0.9802\n",
            "Epoch 115/120\n",
            "23/23 [==============================] - 7s 291ms/step - loss: 0.0557 - acc: 0.9859 - val_loss: 0.0903 - val_acc: 0.9632\n",
            "Epoch 116/120\n",
            "23/23 [==============================] - 7s 299ms/step - loss: 0.0617 - acc: 0.9809 - val_loss: 0.0899 - val_acc: 0.9773\n",
            "Epoch 117/120\n",
            "23/23 [==============================] - 6s 268ms/step - loss: 0.0499 - acc: 0.9837 - val_loss: 0.0746 - val_acc: 0.9802\n",
            "Epoch 118/120\n",
            "23/23 [==============================] - 7s 306ms/step - loss: 0.0631 - acc: 0.9845 - val_loss: 0.0810 - val_acc: 0.9717\n",
            "Epoch 119/120\n",
            "23/23 [==============================] - 6s 268ms/step - loss: 0.0573 - acc: 0.9802 - val_loss: 0.1379 - val_acc: 0.9660\n",
            "Epoch 120/120\n",
            "23/23 [==============================] - 7s 291ms/step - loss: 0.0558 - acc: 0.9823 - val_loss: 0.0840 - val_acc: 0.9688\n"
          ]
        }
      ]
    },
    {
      "cell_type": "code",
      "source": [
        "# LOG ACCURACY RESULTS\n",
        "\n",
        "history_dict = history.history\n",
        "acc_values = history_dict['acc']\n",
        "val_acc_values = history_dict['val_acc']\n",
        "epochs_range = range(1, epochs + 1)\n",
        "plt.plot(epochs_range, acc_values, 'bo', label='Training acc')\n",
        "plt.plot(epochs_range, val_acc_values, 'b', label='Validation acc')\n",
        "plt.title('Training and validation accuracy')\n",
        "plt.xlabel('Epochs')\n",
        "plt.ylabel('Loss')\n",
        "plt.legend()\n",
        "plt.show()"
      ],
      "metadata": {
        "colab": {
          "base_uri": "https://localhost:8080/",
          "height": 295
        },
        "id": "62uBKaWlFQlA",
        "outputId": "fcb1a105-536f-481e-b60a-60550caf9d65"
      },
      "execution_count": 5,
      "outputs": [
        {
          "output_type": "display_data",
          "data": {
            "text/plain": [
              "<Figure size 432x288 with 1 Axes>"
            ],
            "image/png": "[encoded data removed]"
          },
          "metadata": {
            "needs_background": "light"
          }
        }
      ]
    },
    {
      "cell_type": "code",
      "source": [
        "# LOG LOSS RESULTS\n",
        "\n",
        "history_dict = history.history\n",
        "loss_values = history_dict['loss']\n",
        "val_loss_values = history_dict['val_loss']\n",
        "epochs_range = range(1, epochs + 1)\n",
        "plt.plot(epochs_range, loss_values, 'bo', label='Training loss')\n",
        "plt.plot(epochs_range, val_loss_values, 'b', label='Validation loss')\n",
        "plt.title('Training and validation loss')\n",
        "plt.xlabel('Epochs')\n",
        "plt.ylabel('Loss')\n",
        "plt.legend()\n",
        "plt.show()"
      ],
      "metadata": {
        "colab": {
          "base_uri": "https://localhost:8080/",
          "height": 295
        },
        "id": "B-GBiMhqFU8g",
        "outputId": "7747bb8b-82bc-4cd6-c5ac-704d94aeda01"
      },
      "execution_count": 6,
      "outputs": [
        {
          "output_type": "display_data",
          "data": {
            "text/plain": [
              "<Figure size 432x288 with 1 Axes>"
            ],
            "image/png": "[encoded data removed]"
          },
          "metadata": {
            "needs_background": "light"
          }
        }
      ]
    },
    {
      "cell_type": "code",
      "source": [
        "# EVALUATION\n",
        "\n",
        "loss, acc = model.evaluate(test_datagen)\n",
        "print(\"Accuracy : {}%\".format(acc * 100))"
      ],
      "metadata": {
        "colab": {
          "base_uri": "https://localhost:8080/"
        },
        "id": "r8wpIGgcFViW",
        "outputId": "7a0901ef-55a5-4252-a26b-8a1469756bf2"
      },
      "execution_count": 7,
      "outputs": [
        {
          "output_type": "stream",
          "name": "stdout",
          "text": [
            "7/7 [==============================] - 2s 233ms/step - loss: 0.0622 - acc: 0.9762\n",
            "Accuracy : 97.6190447807312%\n"
          ]
        }
      ]
    }
  ]
}