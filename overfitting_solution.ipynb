{
  "nbformat": 4,
  "nbformat_minor": 0,
  "metadata": {
    "colab": {
      "provenance": [],
      "authorship_tag": "ABX9TyPQwnydHeWfqIRLRh+9Iglu",
      "include_colab_link": true
    },
    "kernelspec": {
      "name": "python3",
      "display_name": "Python 3"
    },
    "language_info": {
      "name": "python"
    },
    "accelerator": "TPU",
    "gpuClass": "standard"
  },
  "cells": [
    {
      "cell_type": "markdown",
      "metadata": {
        "id": "view-in-github",
        "colab_type": "text"
      },
      "source": [
        "<a href=\"https://colab.research.google.com/github/geo-tp/Keras-Colaboratory-Models/blob/main/overfitting_solution.ipynb\" target=\"_parent\"><img src=\"https://colab.research.google.com/assets/colab-badge.svg\" alt=\"Open In Colab\"/></a>"
      ]
    },
    {
      "cell_type": "markdown",
      "source": [
        "\n",
        "### SOLUTION TO REDUCE OVERFITTING OF A MODEL ###\n",
        "\n",
        " 1. Reducing network layers or units\n",
        " 2. Weight Regularization\n",
        " 3. Dropout\n",
        " 4. Batch normalization\n"
      ],
      "metadata": {
        "id": "zxAEi-DTl5uf"
      }
    },
    {
      "cell_type": "code",
      "execution_count": 2,
      "metadata": {
        "id": "X9odyi475xZx"
      },
      "outputs": [],
      "source": [
        "import tensorflow\n",
        "from keras import models\n",
        "from keras import layers\n",
        "from keras.datasets import imdb\n",
        "import numpy as np\n",
        "import matplotlib.pyplot as plt\n",
        "from keras import regularizers"
      ]
    },
    {
      "cell_type": "code",
      "source": [
        "# DATASET - Collections of movie reviews classified with bad/good sentiment labels\n",
        "\n",
        "def vectorize_sequences(sequences, dimension=10000):\n",
        "  \"\"\"\n",
        "  One hot conversion : int to binary matrix\n",
        "  \"\"\"\n",
        "  results = np.zeros((len(sequences), dimension))\n",
        "  for i, sequence in enumerate(sequences):\n",
        "    results[i, sequence] = 1.\n",
        "  return results\n",
        "\n",
        "(train_data, train_labels), (test_data, test_labels) = imdb.load_data(\n",
        "num_words=10000)\n",
        "\n",
        "\n",
        "x_train = vectorize_sequences(train_data)\n",
        "x_test = vectorize_sequences(test_data)\n",
        "partial_x_train = x_train[10000:]\n",
        "x_val = x_train[:10000]\n",
        "\n",
        "y_train = np.asarray(train_labels).astype('float32')\n",
        "y_test = np.asarray(test_labels).astype('float32')\n",
        "partial_y_train = y_train[10000:]\n",
        "y_val = y_train[:10000]"
      ],
      "metadata": {
        "id": "1tvbGkEi9Hkv"
      },
      "execution_count": 3,
      "outputs": []
    },
    {
      "cell_type": "markdown",
      "source": [
        "### REDUCE UNITS"
      ],
      "metadata": {
        "id": "C4KTKWx5hGp6"
      }
    },
    {
      "cell_type": "code",
      "source": [
        "# MODEL DEFINITION - SOLUTION 1 : Reduce numbers of neurons/layers to prevent overfitting\n",
        "\n",
        "model = models.Sequential()\n",
        "model.add(layers.Dense(4, activation='relu', input_shape=(10000,)))\n",
        "model.add(layers.Dense(4, activation='relu'))\n",
        "model.add(layers.Dense(1, activation='sigmoid'))\n",
        "\n",
        "model.compile(optimizer='rmsprop', loss='binary_crossentropy', metrics=['accuracy'])\n",
        "\n",
        "history = model.fit(partial_x_train, partial_y_train, epochs=10, batch_size=512, validation_data=(x_val, y_val))"
      ],
      "metadata": {
        "id": "-cV2CkxtJTyc",
        "colab": {
          "base_uri": "https://localhost:8080/"
        },
        "outputId": "f647c2da-5836-472c-f8e0-9ce826372000"
      },
      "execution_count": 11,
      "outputs": [
        {
          "output_type": "stream",
          "name": "stdout",
          "text": [
            "Epoch 1/10\n",
            "30/30 [==============================] - 2s 44ms/step - loss: 0.6394 - accuracy: 0.6277 - val_loss: 0.5890 - val_accuracy: 0.7057\n",
            "Epoch 2/10\n",
            "30/30 [==============================] - 1s 32ms/step - loss: 0.5548 - accuracy: 0.7697 - val_loss: 0.5407 - val_accuracy: 0.7569\n",
            "Epoch 3/10\n",
            "30/30 [==============================] - 1s 33ms/step - loss: 0.5008 - accuracy: 0.8343 - val_loss: 0.5015 - val_accuracy: 0.7968\n",
            "Epoch 4/10\n",
            "30/30 [==============================] - 1s 32ms/step - loss: 0.4388 - accuracy: 0.8847 - val_loss: 0.4378 - val_accuracy: 0.8493\n",
            "Epoch 5/10\n",
            "30/30 [==============================] - 1s 33ms/step - loss: 0.3573 - accuracy: 0.9159 - val_loss: 0.3752 - val_accuracy: 0.8743\n",
            "Epoch 6/10\n",
            "30/30 [==============================] - 1s 35ms/step - loss: 0.2873 - accuracy: 0.9317 - val_loss: 0.3385 - val_accuracy: 0.8750\n",
            "Epoch 7/10\n",
            "30/30 [==============================] - 1s 36ms/step - loss: 0.2375 - accuracy: 0.9413 - val_loss: 0.3029 - val_accuracy: 0.8854\n",
            "Epoch 8/10\n",
            "30/30 [==============================] - 1s 33ms/step - loss: 0.2021 - accuracy: 0.9471 - val_loss: 0.2883 - val_accuracy: 0.8864\n",
            "Epoch 9/10\n",
            "30/30 [==============================] - 1s 32ms/step - loss: 0.1739 - accuracy: 0.9537 - val_loss: 0.2896 - val_accuracy: 0.8846\n",
            "Epoch 10/10\n",
            "30/30 [==============================] - 1s 32ms/step - loss: 0.1540 - accuracy: 0.9577 - val_loss: 0.2790 - val_accuracy: 0.8880\n"
          ]
        }
      ]
    },
    {
      "cell_type": "markdown",
      "source": [
        "### REGULARIZATION"
      ],
      "metadata": {
        "id": "xg1QcQLKhN3n"
      }
    },
    {
      "cell_type": "code",
      "source": [
        "# MODEL DEFINITION - SOLUTION 2 : Add weight regularization to prevent overfitting.\n",
        "\n",
        "units = 16\n",
        "\n",
        "model = models.Sequential()\n",
        "model.add(layers.Dense(units, activation='relu', kernel_regularizer=regularizers.l1(0.001), input_shape=(10000,)))\n",
        "model.add(layers.Dense(units, activation='relu', kernel_regularizer=regularizers.l1(0.001)))\n",
        "model.add(layers.Dense(1, activation='sigmoid'))\n",
        "\n",
        "model.compile(optimizer='rmsprop', loss='binary_crossentropy', metrics=['accuracy'])\n",
        "\n",
        "history = model.fit(partial_x_train, partial_y_train, epochs=10, batch_size=512, validation_data=(x_val, y_val))\n",
        "\n",
        "# Different weight regularizers available\n",
        "# regularizers.l2(0.001)\n",
        "# regularizers.l1_l2(l1=0.001, l2=0.001)"
      ],
      "metadata": {
        "id": "TtI4rSWGWnTC",
        "colab": {
          "base_uri": "https://localhost:8080/"
        },
        "outputId": "0bff171c-1637-47a0-e162-83421749f0a1"
      },
      "execution_count": 13,
      "outputs": [
        {
          "output_type": "stream",
          "name": "stdout",
          "text": [
            "Epoch 1/10\n",
            "30/30 [==============================] - 2s 44ms/step - loss: 1.0908 - accuracy: 0.7253 - val_loss: 0.7571 - val_accuracy: 0.8153\n",
            "Epoch 2/10\n",
            "30/30 [==============================] - 1s 34ms/step - loss: 0.7074 - accuracy: 0.8269 - val_loss: 0.6807 - val_accuracy: 0.8379\n",
            "Epoch 3/10\n",
            "30/30 [==============================] - 1s 34ms/step - loss: 0.6445 - accuracy: 0.8460 - val_loss: 0.6295 - val_accuracy: 0.8518\n",
            "Epoch 4/10\n",
            "30/30 [==============================] - 1s 34ms/step - loss: 0.6010 - accuracy: 0.8567 - val_loss: 0.6173 - val_accuracy: 0.8435\n",
            "Epoch 5/10\n",
            "30/30 [==============================] - 1s 34ms/step - loss: 0.5786 - accuracy: 0.8602 - val_loss: 0.5950 - val_accuracy: 0.8456\n",
            "Epoch 6/10\n",
            "30/30 [==============================] - 1s 35ms/step - loss: 0.5597 - accuracy: 0.8662 - val_loss: 0.5727 - val_accuracy: 0.8570\n",
            "Epoch 7/10\n",
            "30/30 [==============================] - 1s 34ms/step - loss: 0.5477 - accuracy: 0.8672 - val_loss: 0.5693 - val_accuracy: 0.8567\n",
            "Epoch 8/10\n",
            "30/30 [==============================] - 1s 35ms/step - loss: 0.5363 - accuracy: 0.8716 - val_loss: 0.5455 - val_accuracy: 0.8666\n",
            "Epoch 9/10\n",
            "30/30 [==============================] - 1s 36ms/step - loss: 0.5339 - accuracy: 0.8683 - val_loss: 0.5483 - val_accuracy: 0.8631\n",
            "Epoch 10/10\n",
            "30/30 [==============================] - 1s 36ms/step - loss: 0.5223 - accuracy: 0.8747 - val_loss: 0.5523 - val_accuracy: 0.8603\n"
          ]
        }
      ]
    },
    {
      "cell_type": "markdown",
      "source": [
        "### DROPOUT"
      ],
      "metadata": {
        "id": "Yjx3l9HZhWJO"
      }
    },
    {
      "cell_type": "code",
      "source": [
        "# MODEL DEFINITION - SOLUTION 3 : Add dropout to prevent overfitting.\n",
        "\n",
        "units = 16\n",
        "\n",
        "model = models.Sequential()\n",
        "model.add(layers.Dense(units, activation='relu', input_shape=(10000,)))\n",
        "model.add(layers.Dropout(0.5))\n",
        "model.add(layers.Dense(units, activation='relu'))\n",
        "model.add(layers.Dropout(0.5))\n",
        "model.add(layers.Dense(1, activation='sigmoid'))\n",
        "\n",
        "model.compile(optimizer='rmsprop', loss='binary_crossentropy', metrics=['accuracy'])\n",
        "\n",
        "history = model.fit(partial_x_train, partial_y_train, epochs=10, batch_size=512, validation_data=(x_val, y_val))"
      ],
      "metadata": {
        "colab": {
          "base_uri": "https://localhost:8080/"
        },
        "id": "b3zMfxAaHsGT",
        "outputId": "0785c53d-85e6-4ff6-b594-058ef8d2085d"
      },
      "execution_count": 14,
      "outputs": [
        {
          "output_type": "stream",
          "name": "stdout",
          "text": [
            "Epoch 1/10\n",
            "30/30 [==============================] - 2s 42ms/step - loss: 0.6394 - accuracy: 0.6177 - val_loss: 0.5416 - val_accuracy: 0.8414\n",
            "Epoch 2/10\n",
            "30/30 [==============================] - 1s 34ms/step - loss: 0.5288 - accuracy: 0.7515 - val_loss: 0.4320 - val_accuracy: 0.8712\n",
            "Epoch 3/10\n",
            "30/30 [==============================] - 1s 34ms/step - loss: 0.4472 - accuracy: 0.8083 - val_loss: 0.3515 - val_accuracy: 0.8800\n",
            "Epoch 4/10\n",
            "30/30 [==============================] - 1s 35ms/step - loss: 0.3864 - accuracy: 0.8436 - val_loss: 0.3076 - val_accuracy: 0.8852\n",
            "Epoch 5/10\n",
            "30/30 [==============================] - 1s 35ms/step - loss: 0.3416 - accuracy: 0.8691 - val_loss: 0.2870 - val_accuracy: 0.8883\n",
            "Epoch 6/10\n",
            "30/30 [==============================] - 1s 34ms/step - loss: 0.2979 - accuracy: 0.8955 - val_loss: 0.2738 - val_accuracy: 0.8900\n",
            "Epoch 7/10\n",
            "30/30 [==============================] - 1s 34ms/step - loss: 0.2587 - accuracy: 0.9097 - val_loss: 0.2715 - val_accuracy: 0.8898\n",
            "Epoch 8/10\n",
            "30/30 [==============================] - 1s 35ms/step - loss: 0.2325 - accuracy: 0.9207 - val_loss: 0.2750 - val_accuracy: 0.8911\n",
            "Epoch 9/10\n",
            "30/30 [==============================] - 1s 34ms/step - loss: 0.2103 - accuracy: 0.9287 - val_loss: 0.2885 - val_accuracy: 0.8911\n",
            "Epoch 10/10\n",
            "30/30 [==============================] - 1s 33ms/step - loss: 0.1871 - accuracy: 0.9401 - val_loss: 0.2972 - val_accuracy: 0.8892\n"
          ]
        }
      ]
    },
    {
      "cell_type": "markdown",
      "source": [
        "### BATCH NORMALIZATION"
      ],
      "metadata": {
        "id": "P7ICWhMThYpo"
      }
    },
    {
      "cell_type": "code",
      "source": [
        "# MODEL DEFINITION - SOLUTION 4 : Add batch normalization to prevent overfitting.\n",
        "\n",
        "units = 16\n",
        "\n",
        "model = models.Sequential()\n",
        "model.add(layers.Dense(units, activation='relu', input_shape=(10000,)))\n",
        "model.add(layers.BatchNormalization())\n",
        "model.add(layers.Dense(units, activation='relu'))\n",
        "model.add(layers.BatchNormalization())\n",
        "model.add(layers.Dense(1, activation='sigmoid'))\n",
        "\n",
        "model.compile(optimizer='rmsprop', loss='binary_crossentropy', metrics=['accuracy'])\n",
        "\n",
        "history = model.fit(partial_x_train, partial_y_train, epochs=10, batch_size=64, validation_data=(x_val, y_val))"
      ],
      "metadata": {
        "colab": {
          "base_uri": "https://localhost:8080/"
        },
        "id": "xMQyMcZadzsC",
        "outputId": "101a56d2-fdca-49fc-91e3-89baf6eab4f2"
      },
      "execution_count": 4,
      "outputs": [
        {
          "output_type": "stream",
          "name": "stdout",
          "text": [
            "Epoch 1/10\n",
            "235/235 [==============================] - 7s 18ms/step - loss: 0.3672 - accuracy: 0.8363 - val_loss: 0.3192 - val_accuracy: 0.8739\n",
            "Epoch 2/10\n",
            "235/235 [==============================] - 4s 17ms/step - loss: 0.1862 - accuracy: 0.9290 - val_loss: 0.3030 - val_accuracy: 0.8804\n",
            "Epoch 3/10\n",
            "235/235 [==============================] - 2s 10ms/step - loss: 0.1108 - accuracy: 0.9613 - val_loss: 0.3586 - val_accuracy: 0.8682\n",
            "Epoch 4/10\n",
            "235/235 [==============================] - 2s 10ms/step - loss: 0.0694 - accuracy: 0.9771 - val_loss: 0.4165 - val_accuracy: 0.8605\n",
            "Epoch 5/10\n",
            "235/235 [==============================] - 2s 9ms/step - loss: 0.0391 - accuracy: 0.9886 - val_loss: 0.4699 - val_accuracy: 0.8599\n",
            "Epoch 6/10\n",
            "235/235 [==============================] - 2s 9ms/step - loss: 0.0258 - accuracy: 0.9925 - val_loss: 0.5459 - val_accuracy: 0.8513\n",
            "Epoch 7/10\n",
            "235/235 [==============================] - 2s 10ms/step - loss: 0.0176 - accuracy: 0.9946 - val_loss: 0.6395 - val_accuracy: 0.8461\n",
            "Epoch 8/10\n",
            "235/235 [==============================] - 2s 9ms/step - loss: 0.0138 - accuracy: 0.9956 - val_loss: 0.6105 - val_accuracy: 0.8553\n",
            "Epoch 9/10\n",
            "235/235 [==============================] - 2s 10ms/step - loss: 0.0154 - accuracy: 0.9946 - val_loss: 0.6868 - val_accuracy: 0.8521\n",
            "Epoch 10/10\n",
            "235/235 [==============================] - 2s 10ms/step - loss: 0.0139 - accuracy: 0.9956 - val_loss: 0.7156 - val_accuracy: 0.8466\n"
          ]
        }
      ]
    },
    {
      "cell_type": "markdown",
      "source": [
        "### RESULTS"
      ],
      "metadata": {
        "id": "XRzfrN7phdNP"
      }
    },
    {
      "cell_type": "code",
      "source": [
        "# LOG TRAINING RESULTS\n",
        "\n",
        "history_dict = history.history\n",
        "loss = history_dict['loss']\n",
        "acc = history_dict['accuracy']\n",
        "val_loss = history_dict[\"val_loss\"]\n",
        "val_acc = history_dict[\"val_accuracy\"]\n",
        "epochs = range(1, 11)\n",
        "\n",
        "plt.plot(epochs, acc, label=\"Train Accuracy\")\n",
        "plt.plot(epochs, loss, label=\"Train Loss\")\n",
        "plt.plot(epochs, val_acc, label=\"Val Accuracy\")\n",
        "plt.plot(epochs, val_loss, label=\"Val Loss\")\n",
        "plt.legend()\n",
        "plt.show()"
      ],
      "metadata": {
        "colab": {
          "base_uri": "https://localhost:8080/",
          "height": 265
        },
        "id": "4keOztsEJRlK",
        "outputId": "ffb50311-8d77-4782-b3da-3ad3bcd5f227"
      },
      "execution_count": 13,
      "outputs": [
        {
          "output_type": "display_data",
          "data": {
            "text/plain": [
              "<Figure size 432x288 with 1 Axes>"
            ],
            "image/png": "[encoded data removed]"
          },
          "metadata": {
            "needs_background": "light"
          }
        }
      ]
    },
    {
      "cell_type": "code",
      "source": [
        "# EVALUATION\n",
        "\n",
        "score = model.evaluate(x_test, y_test)\n",
        "print(model.metrics_names)\n",
        "print(score)"
      ],
      "metadata": {
        "id": "RncHZxNKmM7r",
        "colab": {
          "base_uri": "https://localhost:8080/"
        },
        "outputId": "c28dd306-44bf-4854-e7f3-40c515f44fbe"
      },
      "execution_count": 12,
      "outputs": [
        {
          "output_type": "stream",
          "name": "stdout",
          "text": [
            "782/782 [==============================] - 2s 2ms/step - loss: 0.2987 - accuracy: 0.8810\n",
            "['loss', 'accuracy']\n",
            "[0.2986513674259186, 0.8810399770736694]\n"
          ]
        }
      ]
    }
  ]
}