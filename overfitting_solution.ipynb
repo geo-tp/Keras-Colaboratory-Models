{
  "nbformat": 4,
  "nbformat_minor": 0,
  "metadata": {
    "colab": {
      "provenance": [],
      "authorship_tag": "ABX9TyMnokNfi9RgW+xD1FHFV2e1",
      "include_colab_link": true
    },
    "kernelspec": {
      "name": "python3",
      "display_name": "Python 3"
    },
    "language_info": {
      "name": "python"
    },
    "accelerator": "TPU",
    "gpuClass": "standard"
  },
  "cells": [
    {
      "cell_type": "markdown",
      "metadata": {
        "id": "view-in-github",
        "colab_type": "text"
      },
      "source": [
        "<a href=\"https://colab.research.google.com/github/geo-tp/Keras-Colaboratory-Models/blob/main/overfitting_solution.ipynb\" target=\"_parent\"><img src=\"https://colab.research.google.com/assets/colab-badge.svg\" alt=\"Open In Colab\"/></a>"
      ]
    },
    {
      "cell_type": "markdown",
      "source": [
        "\n",
        "### SOLUTION TO REDUCE OVERFITTING OF A MODEL ###\n",
        "\n",
        " 1. Reducing network layers or units\n",
        " 2. Weight Regularization\n",
        " 3. Dropout\n",
        " 4. Batch normalization\n"
      ],
      "metadata": {
        "id": "zxAEi-DTl5uf"
      }
    },
    {
      "cell_type": "code",
      "execution_count": 1,
      "metadata": {
        "id": "X9odyi475xZx"
      },
      "outputs": [],
      "source": [
        "import tensorflow\n",
        "from keras import models, layers, initializers\n",
        "from keras.datasets import imdb\n",
        "import numpy as np\n",
        "import matplotlib.pyplot as plt\n",
        "from keras import regularizers"
      ]
    },
    {
      "cell_type": "code",
      "source": [
        "# DATASET - Collections of movie reviews classified with bad/good sentiment labels\n",
        "\n",
        "def vectorize_sequences(sequences, dimension=10000):\n",
        "  \"\"\"\n",
        "  One hot conversion : int to binary matrix\n",
        "  \"\"\"\n",
        "  results = np.zeros((len(sequences), dimension))\n",
        "  for i, sequence in enumerate(sequences):\n",
        "    results[i, sequence] = 1.\n",
        "  return results\n",
        "\n",
        "(train_data, train_labels), (test_data, test_labels) = imdb.load_data(\n",
        "num_words=10000)\n",
        "\n",
        "\n",
        "x_train = vectorize_sequences(train_data)\n",
        "x_test = vectorize_sequences(test_data)\n",
        "partial_x_train = x_train[10000:]\n",
        "x_val = x_train[:10000]\n",
        "\n",
        "y_train = np.asarray(train_labels).astype('float32')\n",
        "y_test = np.asarray(test_labels).astype('float32')\n",
        "partial_y_train = y_train[10000:]\n",
        "y_val = y_train[:10000]"
      ],
      "metadata": {
        "id": "1tvbGkEi9Hkv"
      },
      "execution_count": 2,
      "outputs": []
    },
    {
      "cell_type": "markdown",
      "source": [
        "### REDUCE UNITS"
      ],
      "metadata": {
        "id": "C4KTKWx5hGp6"
      }
    },
    {
      "cell_type": "code",
      "source": [
        "# MODEL DEFINITION - SOLUTION 1 : Reduce numbers of neurons/layers to prevent overfitting\n",
        "\n",
        "model = models.Sequential()\n",
        "model.add(layers.Dense(4, activation='relu', input_shape=(10000,)))\n",
        "model.add(layers.Dense(4, activation='relu'))\n",
        "model.add(layers.Dense(1, activation='sigmoid'))\n",
        "\n",
        "model.compile(optimizer='rmsprop', loss='binary_crossentropy', metrics=['accuracy'])\n",
        "\n",
        "history = model.fit(partial_x_train, partial_y_train, epochs=10, batch_size=512, validation_data=(x_val, y_val))"
      ],
      "metadata": {
        "id": "-cV2CkxtJTyc",
        "colab": {
          "base_uri": "https://localhost:8080/"
        },
        "outputId": "abc59133-c9cf-429e-a422-2f7f217ca5be"
      },
      "execution_count": 5,
      "outputs": [
        {
          "output_type": "stream",
          "name": "stdout",
          "text": [
            "Epoch 1/10\n",
            "30/30 [==============================] - 2s 39ms/step - loss: 0.5525 - accuracy: 0.7739 - val_loss: 0.4522 - val_accuracy: 0.8511\n",
            "Epoch 2/10\n",
            "30/30 [==============================] - 1s 31ms/step - loss: 0.3760 - accuracy: 0.8933 - val_loss: 0.3589 - val_accuracy: 0.8780\n",
            "Epoch 3/10\n",
            "30/30 [==============================] - 1s 34ms/step - loss: 0.2893 - accuracy: 0.9169 - val_loss: 0.3156 - val_accuracy: 0.8859\n",
            "Epoch 4/10\n",
            "30/30 [==============================] - 1s 30ms/step - loss: 0.2368 - accuracy: 0.9310 - val_loss: 0.3150 - val_accuracy: 0.8728\n",
            "Epoch 5/10\n",
            "30/30 [==============================] - 1s 30ms/step - loss: 0.2012 - accuracy: 0.9401 - val_loss: 0.2828 - val_accuracy: 0.8885\n",
            "Epoch 6/10\n",
            "30/30 [==============================] - 1s 33ms/step - loss: 0.1738 - accuracy: 0.9487 - val_loss: 0.2863 - val_accuracy: 0.8844\n",
            "Epoch 7/10\n",
            "30/30 [==============================] - 1s 30ms/step - loss: 0.1514 - accuracy: 0.9561 - val_loss: 0.2798 - val_accuracy: 0.8864\n",
            "Epoch 8/10\n",
            "30/30 [==============================] - 1s 30ms/step - loss: 0.1344 - accuracy: 0.9611 - val_loss: 0.2780 - val_accuracy: 0.8886\n",
            "Epoch 9/10\n",
            "30/30 [==============================] - 1s 30ms/step - loss: 0.1192 - accuracy: 0.9663 - val_loss: 0.2849 - val_accuracy: 0.8870\n",
            "Epoch 10/10\n",
            "30/30 [==============================] - 1s 31ms/step - loss: 0.1052 - accuracy: 0.9731 - val_loss: 0.2985 - val_accuracy: 0.8846\n"
          ]
        }
      ]
    },
    {
      "cell_type": "markdown",
      "source": [
        "### REGULARIZATION"
      ],
      "metadata": {
        "id": "xg1QcQLKhN3n"
      }
    },
    {
      "cell_type": "code",
      "source": [
        "# MODEL DEFINITION - SOLUTION 2 : Add weight regularization to prevent overfitting.\n",
        "\n",
        "units = 16\n",
        "\n",
        "model = models.Sequential()\n",
        "model.add(layers.Dense(units, activation='relu', kernel_regularizer=regularizers.l1(0.001), input_shape=(10000,)))\n",
        "model.add(layers.Dense(units, activation='relu', kernel_regularizer=regularizers.l1(0.001)))\n",
        "model.add(layers.Dense(1, activation='sigmoid'))\n",
        "\n",
        "model.compile(optimizer='rmsprop', loss='binary_crossentropy', metrics=['accuracy'])\n",
        "\n",
        "history = model.fit(partial_x_train, partial_y_train, epochs=10, batch_size=512, validation_data=(x_val, y_val))\n",
        "\n",
        "# Different weight regularizers available\n",
        "# regularizers.l2(0.001)\n",
        "# regularizers.l1_l2(l1=0.001, l2=0.001)"
      ],
      "metadata": {
        "id": "TtI4rSWGWnTC",
        "colab": {
          "base_uri": "https://localhost:8080/"
        },
        "outputId": "0bff171c-1637-47a0-e162-83421749f0a1"
      },
      "execution_count": null,
      "outputs": [
        {
          "output_type": "stream",
          "name": "stdout",
          "text": [
            "Epoch 1/10\n",
            "30/30 [==============================] - 2s 44ms/step - loss: 1.0908 - accuracy: 0.7253 - val_loss: 0.7571 - val_accuracy: 0.8153\n",
            "Epoch 2/10\n",
            "30/30 [==============================] - 1s 34ms/step - loss: 0.7074 - accuracy: 0.8269 - val_loss: 0.6807 - val_accuracy: 0.8379\n",
            "Epoch 3/10\n",
            "30/30 [==============================] - 1s 34ms/step - loss: 0.6445 - accuracy: 0.8460 - val_loss: 0.6295 - val_accuracy: 0.8518\n",
            "Epoch 4/10\n",
            "30/30 [==============================] - 1s 34ms/step - loss: 0.6010 - accuracy: 0.8567 - val_loss: 0.6173 - val_accuracy: 0.8435\n",
            "Epoch 5/10\n",
            "30/30 [==============================] - 1s 34ms/step - loss: 0.5786 - accuracy: 0.8602 - val_loss: 0.5950 - val_accuracy: 0.8456\n",
            "Epoch 6/10\n",
            "30/30 [==============================] - 1s 35ms/step - loss: 0.5597 - accuracy: 0.8662 - val_loss: 0.5727 - val_accuracy: 0.8570\n",
            "Epoch 7/10\n",
            "30/30 [==============================] - 1s 34ms/step - loss: 0.5477 - accuracy: 0.8672 - val_loss: 0.5693 - val_accuracy: 0.8567\n",
            "Epoch 8/10\n",
            "30/30 [==============================] - 1s 35ms/step - loss: 0.5363 - accuracy: 0.8716 - val_loss: 0.5455 - val_accuracy: 0.8666\n",
            "Epoch 9/10\n",
            "30/30 [==============================] - 1s 36ms/step - loss: 0.5339 - accuracy: 0.8683 - val_loss: 0.5483 - val_accuracy: 0.8631\n",
            "Epoch 10/10\n",
            "30/30 [==============================] - 1s 36ms/step - loss: 0.5223 - accuracy: 0.8747 - val_loss: 0.5523 - val_accuracy: 0.8603\n"
          ]
        }
      ]
    },
    {
      "cell_type": "markdown",
      "source": [
        "### DROPOUT"
      ],
      "metadata": {
        "id": "Yjx3l9HZhWJO"
      }
    },
    {
      "cell_type": "code",
      "source": [
        "# MODEL DEFINITION - SOLUTION 3 : Add dropout to prevent overfitting.\n",
        "\n",
        "units = 16\n",
        "\n",
        "model = models.Sequential()\n",
        "model.add(layers.Dense(units, activation='relu', input_shape=(10000,)))\n",
        "model.add(layers.Dropout(0.5))\n",
        "model.add(layers.Dense(units, activation='relu'))\n",
        "model.add(layers.Dropout(0.5))\n",
        "model.add(layers.Dense(1, activation='sigmoid'))\n",
        "\n",
        "model.compile(optimizer='rmsprop', loss='binary_crossentropy', metrics=['accuracy'])\n",
        "\n",
        "history = model.fit(partial_x_train, partial_y_train, epochs=10, batch_size=512, validation_data=(x_val, y_val))"
      ],
      "metadata": {
        "colab": {
          "base_uri": "https://localhost:8080/"
        },
        "id": "b3zMfxAaHsGT",
        "outputId": "0785c53d-85e6-4ff6-b594-058ef8d2085d"
      },
      "execution_count": null,
      "outputs": [
        {
          "output_type": "stream",
          "name": "stdout",
          "text": [
            "Epoch 1/10\n",
            "30/30 [==============================] - 2s 42ms/step - loss: 0.6394 - accuracy: 0.6177 - val_loss: 0.5416 - val_accuracy: 0.8414\n",
            "Epoch 2/10\n",
            "30/30 [==============================] - 1s 34ms/step - loss: 0.5288 - accuracy: 0.7515 - val_loss: 0.4320 - val_accuracy: 0.8712\n",
            "Epoch 3/10\n",
            "30/30 [==============================] - 1s 34ms/step - loss: 0.4472 - accuracy: 0.8083 - val_loss: 0.3515 - val_accuracy: 0.8800\n",
            "Epoch 4/10\n",
            "30/30 [==============================] - 1s 35ms/step - loss: 0.3864 - accuracy: 0.8436 - val_loss: 0.3076 - val_accuracy: 0.8852\n",
            "Epoch 5/10\n",
            "30/30 [==============================] - 1s 35ms/step - loss: 0.3416 - accuracy: 0.8691 - val_loss: 0.2870 - val_accuracy: 0.8883\n",
            "Epoch 6/10\n",
            "30/30 [==============================] - 1s 34ms/step - loss: 0.2979 - accuracy: 0.8955 - val_loss: 0.2738 - val_accuracy: 0.8900\n",
            "Epoch 7/10\n",
            "30/30 [==============================] - 1s 34ms/step - loss: 0.2587 - accuracy: 0.9097 - val_loss: 0.2715 - val_accuracy: 0.8898\n",
            "Epoch 8/10\n",
            "30/30 [==============================] - 1s 35ms/step - loss: 0.2325 - accuracy: 0.9207 - val_loss: 0.2750 - val_accuracy: 0.8911\n",
            "Epoch 9/10\n",
            "30/30 [==============================] - 1s 34ms/step - loss: 0.2103 - accuracy: 0.9287 - val_loss: 0.2885 - val_accuracy: 0.8911\n",
            "Epoch 10/10\n",
            "30/30 [==============================] - 1s 33ms/step - loss: 0.1871 - accuracy: 0.9401 - val_loss: 0.2972 - val_accuracy: 0.8892\n"
          ]
        }
      ]
    },
    {
      "cell_type": "markdown",
      "source": [
        "### BATCH NORMALIZATION"
      ],
      "metadata": {
        "id": "P7ICWhMThYpo"
      }
    },
    {
      "cell_type": "code",
      "source": [
        "# MODEL DEFINITION - SOLUTION 4 : Add batch normalization to prevent overfitting.\n",
        "# Not so usefull for this specific task\n",
        "\n",
        "units = 16\n",
        "\n",
        "model = models.Sequential()\n",
        "\n",
        "model.add(layers.Dense(units, activation='relu', input_shape=(10000,)))\n",
        "model.add(layers.Dense(units, activation='relu'))\n",
        "# model.add(layers.BatchNormalization())\n",
        "model.add(layers.Dense(1, activation='sigmoid'))\n",
        "\n",
        "model.compile(optimizer='rmsprop', loss='binary_crossentropy', metrics=['accuracy'])\n",
        "\n",
        "history = model.fit(partial_x_train, partial_y_train, epochs=10, batch_size=64, validation_data=(x_val, y_val))\n",
        "\n",
        "# Some params\n",
        "# model.add(layers.BatchNormalization(\n",
        "#            momentum=0.95, \n",
        "#            epsilon=0.005,\n",
        "#            beta_initializer=initializers.RandomNormal(mean=0.0, stddev=0.05), \n",
        "#            gamma_initializer=initializers.Constant(value=0.9)))"
      ],
      "metadata": {
        "colab": {
          "base_uri": "https://localhost:8080/"
        },
        "id": "xMQyMcZadzsC",
        "outputId": "31417a07-1a81-4859-9926-c038cb7fb5d0"
      },
      "execution_count": 4,
      "outputs": [
        {
          "output_type": "stream",
          "name": "stdout",
          "text": [
            "Epoch 1/10\n",
            "235/235 [==============================] - 3s 10ms/step - loss: 0.3797 - accuracy: 0.8499 - val_loss: 0.2800 - val_accuracy: 0.8899\n",
            "Epoch 2/10\n",
            "235/235 [==============================] - 2s 8ms/step - loss: 0.2071 - accuracy: 0.9198 - val_loss: 0.2792 - val_accuracy: 0.8903\n",
            "Epoch 3/10\n",
            "235/235 [==============================] - 2s 8ms/step - loss: 0.1546 - accuracy: 0.9434 - val_loss: 0.3058 - val_accuracy: 0.8854\n",
            "Epoch 4/10\n",
            "235/235 [==============================] - 2s 8ms/step - loss: 0.1178 - accuracy: 0.9591 - val_loss: 0.3458 - val_accuracy: 0.8842\n",
            "Epoch 5/10\n",
            "235/235 [==============================] - 2s 9ms/step - loss: 0.0873 - accuracy: 0.9687 - val_loss: 0.4483 - val_accuracy: 0.8705\n",
            "Epoch 6/10\n",
            "235/235 [==============================] - 2s 9ms/step - loss: 0.0623 - accuracy: 0.9787 - val_loss: 0.4750 - val_accuracy: 0.8735\n",
            "Epoch 7/10\n",
            "235/235 [==============================] - 2s 9ms/step - loss: 0.0425 - accuracy: 0.9857 - val_loss: 0.5607 - val_accuracy: 0.8698\n",
            "Epoch 8/10\n",
            "235/235 [==============================] - 2s 9ms/step - loss: 0.0274 - accuracy: 0.9911 - val_loss: 0.6546 - val_accuracy: 0.8722\n",
            "Epoch 9/10\n",
            "235/235 [==============================] - 2s 8ms/step - loss: 0.0168 - accuracy: 0.9950 - val_loss: 0.7946 - val_accuracy: 0.8677\n",
            "Epoch 10/10\n",
            "235/235 [==============================] - 2s 9ms/step - loss: 0.0102 - accuracy: 0.9969 - val_loss: 0.8825 - val_accuracy: 0.8684\n"
          ]
        }
      ]
    },
    {
      "cell_type": "markdown",
      "source": [
        "### RESULTS"
      ],
      "metadata": {
        "id": "XRzfrN7phdNP"
      }
    },
    {
      "cell_type": "code",
      "source": [
        "# LOG TRAINING RESULTS\n",
        "\n",
        "history_dict = history.history\n",
        "loss = history_dict['loss']\n",
        "acc = history_dict['accuracy']\n",
        "val_loss = history_dict[\"val_loss\"]\n",
        "val_acc = history_dict[\"val_accuracy\"]\n",
        "epochs = range(1, 11)\n",
        "\n",
        "plt.plot(epochs, acc, label=\"Train Accuracy\")\n",
        "plt.plot(epochs, loss, label=\"Train Loss\")\n",
        "plt.plot(epochs, val_acc, label=\"Val Accuracy\")\n",
        "plt.plot(epochs, val_loss, label=\"Val Loss\")\n",
        "plt.legend()\n",
        "plt.show()"
      ],
      "metadata": {
        "colab": {
          "base_uri": "https://localhost:8080/",
          "height": 266
        },
        "id": "4keOztsEJRlK",
        "outputId": "81041329-2baa-404a-d5fb-b8edceebd7bf"
      },
      "execution_count": 6,
      "outputs": [
        {
          "output_type": "display_data",
          "data": {
            "text/plain": [
              "<Figure size 432x288 with 1 Axes>"
            ],
            "image/png": "[encoded data removed]"
          },
          "metadata": {
            "needs_background": "light"
          }
        }
      ]
    },
    {
      "cell_type": "code",
      "source": [
        "# EVALUATION\n",
        "\n",
        "score = model.evaluate(x_test, y_test)\n",
        "print(model.metrics_names)\n",
        "print(score)"
      ],
      "metadata": {
        "id": "RncHZxNKmM7r",
        "colab": {
          "base_uri": "https://localhost:8080/"
        },
        "outputId": "90a34cf4-e27e-4118-d2c6-ebc9c643ac31"
      },
      "execution_count": 7,
      "outputs": [
        {
          "output_type": "stream",
          "name": "stdout",
          "text": [
            "782/782 [==============================] - 2s 2ms/step - loss: 0.3179 - accuracy: 0.8752\n",
            "['loss', 'accuracy']\n",
            "[0.3178602457046509, 0.8751599788665771]\n"
          ]
        }
      ]
    }
  ]
}