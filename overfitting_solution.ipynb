{
  "nbformat": 4,
  "nbformat_minor": 0,
  "metadata": {
    "colab": {
      "provenance": [],
      "authorship_tag": "ABX9TyN7gjs2kUUuAXnqCpVm0Q/+",
      "include_colab_link": true
    },
    "kernelspec": {
      "name": "python3",
      "display_name": "Python 3"
    },
    "language_info": {
      "name": "python"
    },
    "accelerator": "TPU",
    "gpuClass": "standard"
  },
  "cells": [
    {
      "cell_type": "markdown",
      "metadata": {
        "id": "view-in-github",
        "colab_type": "text"
      },
      "source": [
        "<a href=\"https://colab.research.google.com/github/geo-tp/Keras-Colaboratory-Models/blob/main/overfitting_solution.ipynb\" target=\"_parent\"><img src=\"https://colab.research.google.com/assets/colab-badge.svg\" alt=\"Open In Colab\"/></a>"
      ]
    },
    {
      "cell_type": "markdown",
      "source": [
        "\n",
        "### SOLUTION TO REDUCE OVERFITTING OF A MODEL ###\n",
        "\n",
        " 1. Reducing network layers or units\n",
        " 2. Weight Regularization\n",
        " 3. Dropout\n"
      ],
      "metadata": {
        "id": "zxAEi-DTl5uf"
      }
    },
    {
      "cell_type": "code",
      "execution_count": 1,
      "metadata": {
        "id": "X9odyi475xZx"
      },
      "outputs": [],
      "source": [
        "import tensorflow\n",
        "from keras import models\n",
        "from keras import layers\n",
        "from keras.datasets import imdb\n",
        "import numpy as np\n",
        "import matplotlib.pyplot as plt\n",
        "from keras import regularizers"
      ]
    },
    {
      "cell_type": "code",
      "source": [
        "# DATASET - Collections of movie reviews classified with bad/good sentiment labels\n",
        "\n",
        "def vectorize_sequences(sequences, dimension=10000):\n",
        "  \"\"\"\n",
        "  One hot conversion : int to vector\n",
        "  \"\"\"\n",
        "  results = np.zeros((len(sequences), dimension))\n",
        "  for i, sequence in enumerate(sequences):\n",
        "    results[i, sequence] = 1.\n",
        "  return results\n",
        "\n",
        "(train_data, train_labels), (test_data, test_labels) = imdb.load_data(\n",
        "num_words=10000)\n",
        "\n",
        "\n",
        "x_train = vectorize_sequences(train_data)\n",
        "x_test = vectorize_sequences(test_data)\n",
        "partial_x_train = x_train[10000:]\n",
        "x_val = x_train[:10000]\n",
        "\n",
        "y_train = np.asarray(train_labels).astype('float32')\n",
        "y_test = np.asarray(test_labels).astype('float32')\n",
        "partial_y_train = y_train[10000:]\n",
        "y_val = y_train[:10000]"
      ],
      "metadata": {
        "colab": {
          "base_uri": "https://localhost:8080/"
        },
        "id": "1tvbGkEi9Hkv",
        "outputId": "ddd00bf3-be76-4a6e-f90b-8f934ad2c00d"
      },
      "execution_count": 2,
      "outputs": [
        {
          "output_type": "stream",
          "name": "stdout",
          "text": [
            "Downloading data from https://storage.googleapis.com/tensorflow/tf-keras-datasets/imdb.npz\n",
            "17464789/17464789 [==============================] - 0s 0us/step\n"
          ]
        }
      ]
    },
    {
      "cell_type": "code",
      "source": [
        "# MODEL DEFINITION - SOLUTION 1 : Reduce numbers of neurons/layers to prevent overfitting\n",
        "\n",
        "model = models.Sequential()\n",
        "model.add(layers.Dense(4, activation='relu', input_shape=(10000,)))\n",
        "model.add(layers.Dense(4, activation='relu'))\n",
        "model.add(layers.Dense(1, activation='sigmoid'))\n",
        "\n",
        "model.compile(optimizer='rmsprop', loss='binary_crossentropy', metrics=['accuracy'])\n",
        "\n",
        "history = model.fit(partial_x_train, partial_y_train, epochs=30, batch_size=512, validation_data=(x_val, y_val))"
      ],
      "metadata": {
        "id": "-cV2CkxtJTyc",
        "colab": {
          "base_uri": "https://localhost:8080/"
        },
        "outputId": "2e9795fd-f59d-4944-fb9a-40720883d36f"
      },
      "execution_count": 3,
      "outputs": [
        {
          "output_type": "stream",
          "name": "stdout",
          "text": [
            "Epoch 1/30\n",
            "30/30 [==============================] - 4s 68ms/step - loss: 0.6589 - accuracy: 0.6082 - val_loss: 0.6268 - val_accuracy: 0.6621\n",
            "Epoch 2/30\n",
            "30/30 [==============================] - 1s 49ms/step - loss: 0.5999 - accuracy: 0.7281 - val_loss: 0.5826 - val_accuracy: 0.7297\n",
            "Epoch 3/30\n",
            "30/30 [==============================] - 1s 30ms/step - loss: 0.5547 - accuracy: 0.7857 - val_loss: 0.5474 - val_accuracy: 0.7975\n",
            "Epoch 4/30\n",
            "30/30 [==============================] - 1s 34ms/step - loss: 0.5170 - accuracy: 0.8305 - val_loss: 0.5208 - val_accuracy: 0.7852\n",
            "Epoch 5/30\n",
            "30/30 [==============================] - 1s 29ms/step - loss: 0.4841 - accuracy: 0.8546 - val_loss: 0.4944 - val_accuracy: 0.8294\n",
            "Epoch 6/30\n",
            "30/30 [==============================] - 1s 29ms/step - loss: 0.4543 - accuracy: 0.8775 - val_loss: 0.4731 - val_accuracy: 0.8428\n",
            "Epoch 7/30\n",
            "30/30 [==============================] - 1s 29ms/step - loss: 0.4251 - accuracy: 0.8956 - val_loss: 0.4514 - val_accuracy: 0.8607\n",
            "Epoch 8/30\n",
            "30/30 [==============================] - 1s 29ms/step - loss: 0.3957 - accuracy: 0.9119 - val_loss: 0.4343 - val_accuracy: 0.8614\n",
            "Epoch 9/30\n",
            "30/30 [==============================] - 1s 29ms/step - loss: 0.3664 - accuracy: 0.9241 - val_loss: 0.4171 - val_accuracy: 0.8654\n",
            "Epoch 10/30\n",
            "30/30 [==============================] - 1s 29ms/step - loss: 0.3300 - accuracy: 0.9377 - val_loss: 0.3772 - val_accuracy: 0.8805\n",
            "Epoch 11/30\n",
            "30/30 [==============================] - 1s 29ms/step - loss: 0.2713 - accuracy: 0.9487 - val_loss: 0.3263 - val_accuracy: 0.8867\n",
            "Epoch 12/30\n",
            "30/30 [==============================] - 1s 29ms/step - loss: 0.2147 - accuracy: 0.9519 - val_loss: 0.3006 - val_accuracy: 0.8865\n",
            "Epoch 13/30\n",
            "30/30 [==============================] - 1s 30ms/step - loss: 0.1761 - accuracy: 0.9557 - val_loss: 0.2908 - val_accuracy: 0.8869\n",
            "Epoch 14/30\n",
            "30/30 [==============================] - 1s 30ms/step - loss: 0.1490 - accuracy: 0.9607 - val_loss: 0.2804 - val_accuracy: 0.8866\n",
            "Epoch 15/30\n",
            "30/30 [==============================] - 1s 30ms/step - loss: 0.1291 - accuracy: 0.9655 - val_loss: 0.2847 - val_accuracy: 0.8863\n",
            "Epoch 16/30\n",
            "30/30 [==============================] - 1s 34ms/step - loss: 0.1144 - accuracy: 0.9687 - val_loss: 0.2864 - val_accuracy: 0.8868\n",
            "Epoch 17/30\n",
            "30/30 [==============================] - 1s 35ms/step - loss: 0.1018 - accuracy: 0.9728 - val_loss: 0.2939 - val_accuracy: 0.8857\n",
            "Epoch 18/30\n",
            "30/30 [==============================] - 1s 30ms/step - loss: 0.0919 - accuracy: 0.9759 - val_loss: 0.3018 - val_accuracy: 0.8845\n",
            "Epoch 19/30\n",
            "30/30 [==============================] - 1s 29ms/step - loss: 0.0822 - accuracy: 0.9789 - val_loss: 0.3169 - val_accuracy: 0.8869\n",
            "Epoch 20/30\n",
            "30/30 [==============================] - 1s 29ms/step - loss: 0.0731 - accuracy: 0.9823 - val_loss: 0.3202 - val_accuracy: 0.8837\n",
            "Epoch 21/30\n",
            "30/30 [==============================] - 1s 29ms/step - loss: 0.0653 - accuracy: 0.9849 - val_loss: 0.3314 - val_accuracy: 0.8819\n",
            "Epoch 22/30\n",
            "30/30 [==============================] - 1s 34ms/step - loss: 0.0576 - accuracy: 0.9871 - val_loss: 0.3523 - val_accuracy: 0.8827\n",
            "Epoch 23/30\n",
            "30/30 [==============================] - 1s 29ms/step - loss: 0.0510 - accuracy: 0.9897 - val_loss: 0.3593 - val_accuracy: 0.8813\n",
            "Epoch 24/30\n",
            "30/30 [==============================] - 1s 31ms/step - loss: 0.0449 - accuracy: 0.9913 - val_loss: 0.3727 - val_accuracy: 0.8785\n",
            "Epoch 25/30\n",
            "30/30 [==============================] - 1s 30ms/step - loss: 0.0393 - accuracy: 0.9923 - val_loss: 0.3869 - val_accuracy: 0.8779\n",
            "Epoch 26/30\n",
            "30/30 [==============================] - 1s 30ms/step - loss: 0.0341 - accuracy: 0.9938 - val_loss: 0.4068 - val_accuracy: 0.8795\n",
            "Epoch 27/30\n",
            "30/30 [==============================] - 1s 30ms/step - loss: 0.0297 - accuracy: 0.9949 - val_loss: 0.4401 - val_accuracy: 0.8771\n",
            "Epoch 28/30\n",
            "30/30 [==============================] - 1s 29ms/step - loss: 0.0259 - accuracy: 0.9953 - val_loss: 0.4421 - val_accuracy: 0.8730\n",
            "Epoch 29/30\n",
            "30/30 [==============================] - 1s 29ms/step - loss: 0.0224 - accuracy: 0.9966 - val_loss: 0.4589 - val_accuracy: 0.8733\n",
            "Epoch 30/30\n",
            "30/30 [==============================] - 1s 29ms/step - loss: 0.0191 - accuracy: 0.9977 - val_loss: 0.4831 - val_accuracy: 0.8751\n"
          ]
        }
      ]
    },
    {
      "cell_type": "markdown",
      "source": [],
      "metadata": {
        "id": "TY9fAlfNJTTJ"
      }
    },
    {
      "cell_type": "code",
      "source": [
        "# MODEL DEFINITION - SOLUTION 2 : Add weight regularization to prevent overfitting.\n",
        "\n",
        "units = 16\n",
        "\n",
        "model = models.Sequential()\n",
        "model.add(layers.Dense(units, activation='relu', kernel_regularizer=regularizers.l1(0.001), input_shape=(10000,)))\n",
        "model.add(layers.Dense(units, activation='relu', kernel_regularizer=regularizers.l1(0.001)))\n",
        "model.add(layers.Dense(1, activation='sigmoid'))\n",
        "\n",
        "model.compile(optimizer='rmsprop', loss='binary_crossentropy', metrics=['accuracy'])\n",
        "\n",
        "history = model.fit(partial_x_train, partial_y_train, epochs=30, batch_size=512, validation_data=(x_val, y_val))\n",
        "\n",
        "# Different weight regularizers available\n",
        "# regularizers.l2(0.001)\n",
        "# regularizers.l1_l2(l1=0.001, l2=0.001)"
      ],
      "metadata": {
        "id": "TtI4rSWGWnTC"
      },
      "execution_count": null,
      "outputs": []
    },
    {
      "cell_type": "code",
      "source": [
        "# MODEL DEFINITION - SOLUTION 3 : Add dropout to prevent overfitting.\n",
        "\n",
        "units = 16\n",
        "\n",
        "model = models.Sequential()\n",
        "model.add(layers.Dense(units, activation='relu', input_shape=(10000,)))\n",
        "model.add(layers.Dropout(0.5))\n",
        "model.add(layers.Dense(units, activation='relu'))\n",
        "model.add(layers.Dropout(0.5))\n",
        "model.add(layers.Dense(1, activation='sigmoid'))\n",
        "\n",
        "model.compile(optimizer='rmsprop', loss='binary_crossentropy', metrics=['accuracy'])\n",
        "\n",
        "history = model.fit(partial_x_train, partial_y_train, epochs=30, batch_size=512, validation_data=(x_val, y_val))"
      ],
      "metadata": {
        "colab": {
          "base_uri": "https://localhost:8080/"
        },
        "id": "b3zMfxAaHsGT",
        "outputId": "077164a2-dab3-449b-c6d3-e9c080891224"
      },
      "execution_count": null,
      "outputs": [
        {
          "output_type": "stream",
          "name": "stdout",
          "text": [
            "Epoch 1/30\n",
            "30/30 [==============================] - 2s 35ms/step - loss: 0.6263 - accuracy: 0.6402 - val_loss: 0.5149 - val_accuracy: 0.8539\n",
            "Epoch 2/30\n",
            "30/30 [==============================] - 1s 20ms/step - loss: 0.5053 - accuracy: 0.7729 - val_loss: 0.4024 - val_accuracy: 0.8768\n",
            "Epoch 3/30\n",
            "30/30 [==============================] - 1s 20ms/step - loss: 0.4372 - accuracy: 0.8118 - val_loss: 0.3404 - val_accuracy: 0.8855\n",
            "Epoch 4/30\n",
            "30/30 [==============================] - 1s 21ms/step - loss: 0.3769 - accuracy: 0.8535 - val_loss: 0.3020 - val_accuracy: 0.8883\n",
            "Epoch 5/30\n",
            "30/30 [==============================] - 1s 21ms/step - loss: 0.3303 - accuracy: 0.8754 - val_loss: 0.2873 - val_accuracy: 0.8896\n",
            "Epoch 6/30\n",
            "30/30 [==============================] - 1s 21ms/step - loss: 0.2949 - accuracy: 0.8899 - val_loss: 0.2866 - val_accuracy: 0.8828\n",
            "Epoch 7/30\n",
            "30/30 [==============================] - 1s 21ms/step - loss: 0.2688 - accuracy: 0.9042 - val_loss: 0.2736 - val_accuracy: 0.8897\n",
            "Epoch 8/30\n",
            "30/30 [==============================] - 1s 21ms/step - loss: 0.2350 - accuracy: 0.9158 - val_loss: 0.2845 - val_accuracy: 0.8907\n",
            "Epoch 9/30\n",
            "30/30 [==============================] - 1s 21ms/step - loss: 0.2158 - accuracy: 0.9247 - val_loss: 0.2864 - val_accuracy: 0.8890\n",
            "Epoch 10/30\n",
            "30/30 [==============================] - 1s 21ms/step - loss: 0.1947 - accuracy: 0.9342 - val_loss: 0.2987 - val_accuracy: 0.8906\n",
            "Epoch 11/30\n",
            "30/30 [==============================] - 1s 21ms/step - loss: 0.1759 - accuracy: 0.9393 - val_loss: 0.3176 - val_accuracy: 0.8854\n",
            "Epoch 12/30\n",
            "30/30 [==============================] - 1s 21ms/step - loss: 0.1608 - accuracy: 0.9465 - val_loss: 0.3255 - val_accuracy: 0.8875\n",
            "Epoch 13/30\n",
            "30/30 [==============================] - 1s 21ms/step - loss: 0.1475 - accuracy: 0.9499 - val_loss: 0.3587 - val_accuracy: 0.8895\n",
            "Epoch 14/30\n",
            "30/30 [==============================] - 1s 21ms/step - loss: 0.1349 - accuracy: 0.9567 - val_loss: 0.3528 - val_accuracy: 0.8853\n",
            "Epoch 15/30\n",
            "30/30 [==============================] - 1s 21ms/step - loss: 0.1272 - accuracy: 0.9575 - val_loss: 0.3921 - val_accuracy: 0.8871\n",
            "Epoch 16/30\n",
            "30/30 [==============================] - 1s 21ms/step - loss: 0.1179 - accuracy: 0.9595 - val_loss: 0.4293 - val_accuracy: 0.8873\n",
            "Epoch 17/30\n",
            "30/30 [==============================] - 1s 21ms/step - loss: 0.1108 - accuracy: 0.9643 - val_loss: 0.4338 - val_accuracy: 0.8853\n",
            "Epoch 18/30\n",
            "30/30 [==============================] - 1s 21ms/step - loss: 0.1052 - accuracy: 0.9645 - val_loss: 0.4785 - val_accuracy: 0.8862\n",
            "Epoch 19/30\n",
            "30/30 [==============================] - 1s 21ms/step - loss: 0.1036 - accuracy: 0.9655 - val_loss: 0.4859 - val_accuracy: 0.8867\n",
            "Epoch 20/30\n",
            "30/30 [==============================] - 1s 22ms/step - loss: 0.0971 - accuracy: 0.9659 - val_loss: 0.5416 - val_accuracy: 0.8827\n",
            "Epoch 21/30\n",
            "30/30 [==============================] - 1s 21ms/step - loss: 0.0932 - accuracy: 0.9677 - val_loss: 0.5198 - val_accuracy: 0.8838\n",
            "Epoch 22/30\n",
            "25/30 [========================>.....] - ETA: 0s - loss: 0.0860 - accuracy: 0.9699"
          ]
        }
      ]
    },
    {
      "cell_type": "code",
      "source": [
        "# LOG TRAINING RESULTS\n",
        "\n",
        "history_dict = history.history\n",
        "loss = history_dict['loss']\n",
        "acc = history_dict['accuracy']\n",
        "val_loss = history_dict[\"val_loss\"]\n",
        "val_acc = history_dict[\"val_accuracy\"]\n",
        "epochs = range(1, 31)\n",
        "\n",
        "plt.plot(epochs, acc, label=\"Train Accuracy\")\n",
        "plt.plot(epochs, loss, label=\"Train Loss\")\n",
        "plt.plot(epochs, val_acc, label=\"Val Accuracy\")\n",
        "plt.plot(epochs, val_loss, label=\"Val Loss\")\n",
        "plt.legend()\n",
        "plt.show()"
      ],
      "metadata": {
        "colab": {
          "base_uri": "https://localhost:8080/",
          "height": 265
        },
        "id": "4keOztsEJRlK",
        "outputId": "a3399a08-5186-4c12-fded-158b8a3615ff"
      },
      "execution_count": 4,
      "outputs": [
        {
          "output_type": "display_data",
          "data": {
            "text/plain": [
              "<Figure size 432x288 with 1 Axes>"
            ],
            "image/png": "[encoded data removed]"
          },
          "metadata": {
            "needs_background": "light"
          }
        }
      ]
    },
    {
      "cell_type": "code",
      "source": [
        "# EVALUATION\n",
        "\n",
        "score = model.evaluate(x_test, y_test)\n",
        "print(model.metrics_names)\n",
        "print(score)"
      ],
      "metadata": {
        "id": "RncHZxNKmM7r",
        "colab": {
          "base_uri": "https://localhost:8080/"
        },
        "outputId": "31b7c687-86ea-4e15-de75-4d11b11e353a"
      },
      "execution_count": 5,
      "outputs": [
        {
          "output_type": "stream",
          "name": "stdout",
          "text": [
            "782/782 [==============================] - 2s 2ms/step - loss: 0.5207 - accuracy: 0.8616\n",
            "['loss', 'accuracy']\n",
            "[0.5206989049911499, 0.8615999817848206]\n"
          ]
        }
      ]
    }
  ]
}