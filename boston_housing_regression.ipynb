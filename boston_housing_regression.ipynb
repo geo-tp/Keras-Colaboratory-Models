{
  "nbformat": 4,
  "nbformat_minor": 0,
  "metadata": {
    "colab": {
      "provenance": [],
      "authorship_tag": "ABX9TyMY7JQXWpKS2vU9mMYUdYEP",
      "include_colab_link": true
    },
    "kernelspec": {
      "name": "python3",
      "display_name": "Python 3"
    },
    "language_info": {
      "name": "python"
    }
  },
  "cells": [
    {
      "cell_type": "markdown",
      "metadata": {
        "id": "view-in-github",
        "colab_type": "text"
      },
      "source": [
        "<a href=\"https://colab.research.google.com/github/geo-tp/Keras-Colaboratory-Models/blob/main/boston_housing_regression.ipynb\" target=\"_parent\"><img src=\"https://colab.research.google.com/assets/colab-badge.svg\" alt=\"Open In Colab\"/></a>"
      ]
    },
    {
      "cell_type": "code",
      "source": [
        "# DATASET & PREPROCESSING - Prices of Boston Houses\n",
        "\n",
        "from keras.datasets import boston_housing\n",
        "\n",
        "\"\"\"\n",
        " Variables in order:\n",
        " CRIM     per capita crime rate by town\n",
        " ZN       proportion of residential land zoned for lots over 25,000 sq.ft.\n",
        " INDUS    proportion of non-retail business acres per town\n",
        " CHAS     Charles River dummy variable (= 1 if tract bounds river; 0 otherwise)\n",
        " NOX      nitric oxides concentration (parts per 10 million)\n",
        " RM       average number of rooms per dwelling\n",
        " AGE      proportion of owner-occupied units built prior to 1940\n",
        " DIS      weighted distances to five Boston employment centres\n",
        " RAD      index of accessibility to radial highways\n",
        " TAX      full-value property-tax rate per $10,000\n",
        " PTRATIO  pupil-teacher ratio by town\n",
        " B        1000(Bk - 0.63)^2 where Bk is the proportion of blacks by town\n",
        " LSTAT    % lower status of the population\n",
        " MEDV     Median value of owner-occupied homes in $1000's\n",
        " \"\"\"\n",
        "\n",
        "(train_data, train_targets), (test_data, test_targets) = boston_housing.load_data()\n",
        "\n",
        "# Harmonize values to be on the same axis\n",
        "mean = train_data.mean(axis=0)\n",
        "train_data_processed = train_data - mean\n",
        "std = train_data_processed.std(axis=0)\n",
        "train_data_processed /= std\n",
        "test_data -= mean\n",
        "test_data /= std\n",
        "\n",
        "# Devide trainset for validation\n",
        "n_train = round(train_data_processed.shape[0] * 0.8)\n",
        "n_val = round(train_data_processed.shape[0] * 0.2)\n",
        "x_train = train_data_processed[0:n_train]\n",
        "y_train = train_targets[0:n_train]\n",
        "x_val = train_data_processed[n_train:]\n",
        "y_val = train_targets[n_train:]\n",
        "\n",
        "# Show an unprocessed data as example\n",
        "print(\"Example of an house entry : \")\n",
        "print(train_data[0])\n",
        "print(\"Price of the house (x1000 to convert to $) : \", train_targets[0])"
      ],
      "metadata": {
        "colab": {
          "base_uri": "https://localhost:8080/"
        },
        "id": "HFkpuVDuqCQn",
        "outputId": "36b66af4-d6f4-4b5d-a63f-a18b5e9a15c2"
      },
      "execution_count": null,
      "outputs": [
        {
          "output_type": "stream",
          "name": "stdout",
          "text": [
            "Example of an house entry : \n",
            "[  1.23247   0.        8.14      0.        0.538     6.142    91.7\n",
            "   3.9769    4.      307.       21.      396.9      18.72   ]\n",
            "Price of the house (x1000 to convert to $) :  15.2\n"
          ]
        }
      ]
    },
    {
      "cell_type": "code",
      "source": [
        "# MODEL DEFINITION - this model should predict the price of an house regarding to features\n",
        "\n",
        "from keras import models\n",
        "from keras import layers\n",
        "\n",
        "def build_model():\n",
        "  model = models.Sequential()\n",
        "  model.add(layers.Dense(32, activation=\"relu\", input_shape=(train_data.shape[1], )))\n",
        "  model.add(layers.Dense(1))\n",
        "\n",
        "  model.compile(optimizer=\"rmsprop\", loss=\"mse\", metrics=['mae'])\n",
        "\n",
        "  return model\n",
        "\n",
        "\n",
        "model = build_model()"
      ],
      "metadata": {
        "id": "W-xpHgJjsI4j"
      },
      "execution_count": null,
      "outputs": []
    },
    {
      "cell_type": "code",
      "source": [
        "# TRAIN\n",
        "\n",
        "epochs = 100\n",
        "history = model.fit(x_train, y_train, validation_data=(x_val, y_val), epochs=epochs, batch_size=1)"
      ],
      "metadata": {
        "colab": {
          "base_uri": "https://localhost:8080/"
        },
        "id": "hio1uLYyxbvA",
        "outputId": "68117063-6e93-48fe-9190-29dea058bfe2"
      },
      "execution_count": null,
      "outputs": [
        {
          "output_type": "stream",
          "name": "stdout",
          "text": [
            "Epoch 1/100\n",
            "323/323 [==============================] - 1s 2ms/step - loss: 466.7007 - mae: 19.5464 - val_loss: 410.8699 - val_mae: 18.0028\n",
            "Epoch 2/100\n",
            "323/323 [==============================] - 1s 2ms/step - loss: 233.6439 - mae: 12.5594 - val_loss: 174.2243 - val_mae: 9.5226\n",
            "Epoch 3/100\n",
            "323/323 [==============================] - 1s 2ms/step - loss: 88.9412 - mae: 6.4282 - val_loss: 101.3967 - val_mae: 6.6229\n",
            "Epoch 4/100\n",
            "323/323 [==============================] - 1s 2ms/step - loss: 57.6293 - mae: 4.9948 - val_loss: 77.7187 - val_mae: 5.8654\n",
            "Epoch 5/100\n",
            "323/323 [==============================] - 1s 2ms/step - loss: 46.0638 - mae: 4.4039 - val_loss: 62.4167 - val_mae: 5.1816\n",
            "Epoch 6/100\n",
            "323/323 [==============================] - 1s 2ms/step - loss: 39.1179 - mae: 4.0131 - val_loss: 52.8076 - val_mae: 4.7461\n",
            "Epoch 7/100\n",
            "323/323 [==============================] - 1s 2ms/step - loss: 34.8208 - mae: 3.7382 - val_loss: 45.2652 - val_mae: 4.4004\n",
            "Epoch 8/100\n",
            "323/323 [==============================] - 1s 2ms/step - loss: 31.7122 - mae: 3.4993 - val_loss: 39.5838 - val_mae: 4.0655\n",
            "Epoch 9/100\n",
            "323/323 [==============================] - 1s 2ms/step - loss: 29.1558 - mae: 3.3624 - val_loss: 36.7976 - val_mae: 3.9489\n",
            "Epoch 10/100\n",
            "323/323 [==============================] - 1s 2ms/step - loss: 27.4719 - mae: 3.2104 - val_loss: 33.3926 - val_mae: 3.6843\n",
            "Epoch 11/100\n",
            "323/323 [==============================] - 1s 2ms/step - loss: 25.8658 - mae: 3.1245 - val_loss: 31.6403 - val_mae: 3.6197\n",
            "Epoch 12/100\n",
            "323/323 [==============================] - 1s 2ms/step - loss: 24.2530 - mae: 3.0361 - val_loss: 30.2583 - val_mae: 3.5376\n",
            "Epoch 13/100\n",
            "323/323 [==============================] - 1s 2ms/step - loss: 23.6192 - mae: 2.9635 - val_loss: 28.2182 - val_mae: 3.4668\n",
            "Epoch 14/100\n",
            "323/323 [==============================] - 1s 2ms/step - loss: 22.5206 - mae: 2.9211 - val_loss: 26.8188 - val_mae: 3.4192\n",
            "Epoch 15/100\n",
            "323/323 [==============================] - 1s 2ms/step - loss: 21.4470 - mae: 2.8417 - val_loss: 25.8617 - val_mae: 3.4050\n",
            "Epoch 16/100\n",
            "323/323 [==============================] - 1s 2ms/step - loss: 20.3049 - mae: 2.7833 - val_loss: 24.4121 - val_mae: 3.2501\n",
            "Epoch 17/100\n",
            "323/323 [==============================] - 1s 2ms/step - loss: 19.9517 - mae: 2.7310 - val_loss: 23.8768 - val_mae: 3.2368\n",
            "Epoch 18/100\n",
            "323/323 [==============================] - 1s 2ms/step - loss: 19.2648 - mae: 2.6985 - val_loss: 22.7978 - val_mae: 3.1406\n",
            "Epoch 19/100\n",
            "323/323 [==============================] - 1s 2ms/step - loss: 18.3600 - mae: 2.6070 - val_loss: 21.9514 - val_mae: 3.1410\n",
            "Epoch 20/100\n",
            "323/323 [==============================] - 1s 2ms/step - loss: 17.7368 - mae: 2.5670 - val_loss: 21.3038 - val_mae: 3.1451\n",
            "Epoch 21/100\n",
            "323/323 [==============================] - 1s 2ms/step - loss: 17.3552 - mae: 2.5340 - val_loss: 20.4791 - val_mae: 3.0658\n",
            "Epoch 22/100\n",
            "323/323 [==============================] - 1s 2ms/step - loss: 16.6606 - mae: 2.4780 - val_loss: 19.5878 - val_mae: 3.0357\n",
            "Epoch 23/100\n",
            "323/323 [==============================] - 1s 2ms/step - loss: 15.8248 - mae: 2.4068 - val_loss: 19.3253 - val_mae: 3.0215\n",
            "Epoch 24/100\n",
            "323/323 [==============================] - 1s 2ms/step - loss: 15.8423 - mae: 2.3815 - val_loss: 18.2416 - val_mae: 2.9731\n",
            "Epoch 25/100\n",
            "323/323 [==============================] - 1s 2ms/step - loss: 15.1813 - mae: 2.3410 - val_loss: 17.9697 - val_mae: 3.0107\n",
            "Epoch 26/100\n",
            "323/323 [==============================] - 1s 2ms/step - loss: 14.7836 - mae: 2.2715 - val_loss: 17.6986 - val_mae: 2.9544\n",
            "Epoch 27/100\n",
            "323/323 [==============================] - 1s 2ms/step - loss: 14.3515 - mae: 2.2712 - val_loss: 17.5444 - val_mae: 2.9203\n",
            "Epoch 28/100\n",
            "323/323 [==============================] - 1s 2ms/step - loss: 14.1341 - mae: 2.2408 - val_loss: 16.5483 - val_mae: 2.8727\n",
            "Epoch 29/100\n",
            "323/323 [==============================] - 1s 2ms/step - loss: 13.4078 - mae: 2.2221 - val_loss: 16.2445 - val_mae: 2.8783\n",
            "Epoch 30/100\n",
            "323/323 [==============================] - 1s 2ms/step - loss: 13.4038 - mae: 2.1724 - val_loss: 15.7143 - val_mae: 2.7485\n",
            "Epoch 31/100\n",
            "323/323 [==============================] - 1s 2ms/step - loss: 13.0542 - mae: 2.1502 - val_loss: 15.2634 - val_mae: 2.8106\n",
            "Epoch 32/100\n",
            "323/323 [==============================] - 1s 2ms/step - loss: 12.4991 - mae: 2.1285 - val_loss: 14.8191 - val_mae: 2.7248\n",
            "Epoch 33/100\n",
            "323/323 [==============================] - 1s 2ms/step - loss: 12.3711 - mae: 2.1094 - val_loss: 14.7929 - val_mae: 2.6396\n",
            "Epoch 34/100\n",
            "323/323 [==============================] - 1s 2ms/step - loss: 12.3198 - mae: 2.1218 - val_loss: 14.2594 - val_mae: 2.6952\n",
            "Epoch 35/100\n",
            "323/323 [==============================] - 1s 2ms/step - loss: 11.8252 - mae: 2.1077 - val_loss: 15.0104 - val_mae: 2.8434\n",
            "Epoch 36/100\n",
            "323/323 [==============================] - 1s 2ms/step - loss: 11.7943 - mae: 2.0802 - val_loss: 13.8140 - val_mae: 2.7026\n",
            "Epoch 37/100\n",
            "323/323 [==============================] - 1s 2ms/step - loss: 11.6727 - mae: 2.0531 - val_loss: 13.7283 - val_mae: 2.6699\n",
            "Epoch 38/100\n",
            "323/323 [==============================] - 1s 2ms/step - loss: 11.4367 - mae: 2.0176 - val_loss: 13.4695 - val_mae: 2.6928\n",
            "Epoch 39/100\n",
            "323/323 [==============================] - 1s 2ms/step - loss: 11.1878 - mae: 2.0349 - val_loss: 12.8917 - val_mae: 2.5457\n",
            "Epoch 40/100\n",
            "323/323 [==============================] - 1s 2ms/step - loss: 10.9344 - mae: 2.0409 - val_loss: 12.6459 - val_mae: 2.5338\n",
            "Epoch 41/100\n",
            "323/323 [==============================] - 1s 2ms/step - loss: 10.9217 - mae: 2.0436 - val_loss: 12.9418 - val_mae: 2.6192\n",
            "Epoch 42/100\n",
            "323/323 [==============================] - 1s 2ms/step - loss: 10.8616 - mae: 1.9911 - val_loss: 12.5657 - val_mae: 2.5789\n",
            "Epoch 43/100\n",
            "323/323 [==============================] - 1s 2ms/step - loss: 10.5380 - mae: 1.9921 - val_loss: 12.6838 - val_mae: 2.6350\n",
            "Epoch 44/100\n",
            "323/323 [==============================] - 1s 2ms/step - loss: 10.6972 - mae: 1.9606 - val_loss: 12.2464 - val_mae: 2.5509\n",
            "Epoch 45/100\n",
            "323/323 [==============================] - 1s 2ms/step - loss: 10.5613 - mae: 1.9883 - val_loss: 12.4295 - val_mae: 2.6079\n",
            "Epoch 46/100\n",
            "323/323 [==============================] - 1s 2ms/step - loss: 10.2936 - mae: 1.9550 - val_loss: 12.3238 - val_mae: 2.5421\n",
            "Epoch 47/100\n",
            "323/323 [==============================] - 1s 2ms/step - loss: 10.1239 - mae: 1.9605 - val_loss: 12.2333 - val_mae: 2.5258\n",
            "Epoch 48/100\n",
            "323/323 [==============================] - 1s 2ms/step - loss: 10.1847 - mae: 1.9236 - val_loss: 11.6270 - val_mae: 2.4569\n",
            "Epoch 49/100\n",
            "323/323 [==============================] - 1s 2ms/step - loss: 10.0270 - mae: 1.9442 - val_loss: 11.8193 - val_mae: 2.5065\n",
            "Epoch 50/100\n",
            "323/323 [==============================] - 1s 2ms/step - loss: 9.7270 - mae: 1.9134 - val_loss: 12.8349 - val_mae: 2.7196\n",
            "Epoch 51/100\n",
            "323/323 [==============================] - 1s 2ms/step - loss: 9.9419 - mae: 1.9144 - val_loss: 11.9690 - val_mae: 2.4448\n",
            "Epoch 52/100\n",
            "323/323 [==============================] - 1s 2ms/step - loss: 9.5475 - mae: 1.9035 - val_loss: 11.7423 - val_mae: 2.4208\n",
            "Epoch 53/100\n",
            "323/323 [==============================] - 1s 2ms/step - loss: 9.5373 - mae: 1.8990 - val_loss: 12.0686 - val_mae: 2.5939\n",
            "Epoch 54/100\n",
            "323/323 [==============================] - 1s 2ms/step - loss: 9.4927 - mae: 1.8826 - val_loss: 11.3277 - val_mae: 2.4468\n",
            "Epoch 55/100\n",
            "323/323 [==============================] - 1s 2ms/step - loss: 9.1158 - mae: 1.8916 - val_loss: 11.6456 - val_mae: 2.4931\n",
            "Epoch 56/100\n",
            "323/323 [==============================] - 1s 3ms/step - loss: 9.0027 - mae: 1.8950 - val_loss: 11.5335 - val_mae: 2.4312\n",
            "Epoch 57/100\n",
            "323/323 [==============================] - 1s 3ms/step - loss: 8.7620 - mae: 1.8633 - val_loss: 11.5628 - val_mae: 2.4980\n",
            "Epoch 58/100\n",
            "323/323 [==============================] - 1s 2ms/step - loss: 9.0319 - mae: 1.8574 - val_loss: 11.3410 - val_mae: 2.4149\n",
            "Epoch 59/100\n",
            "323/323 [==============================] - 1s 2ms/step - loss: 8.7786 - mae: 1.8508 - val_loss: 11.4444 - val_mae: 2.4773\n",
            "Epoch 60/100\n",
            "323/323 [==============================] - 1s 2ms/step - loss: 8.7842 - mae: 1.8430 - val_loss: 11.8169 - val_mae: 2.4585\n",
            "Epoch 61/100\n",
            "323/323 [==============================] - 1s 2ms/step - loss: 8.6093 - mae: 1.8278 - val_loss: 11.6040 - val_mae: 2.4570\n",
            "Epoch 62/100\n",
            "323/323 [==============================] - 1s 2ms/step - loss: 8.5026 - mae: 1.8537 - val_loss: 11.3201 - val_mae: 2.4773\n",
            "Epoch 63/100\n",
            "323/323 [==============================] - 1s 2ms/step - loss: 8.4996 - mae: 1.8137 - val_loss: 11.7177 - val_mae: 2.4729\n",
            "Epoch 64/100\n",
            "323/323 [==============================] - 1s 2ms/step - loss: 8.4356 - mae: 1.8282 - val_loss: 11.5083 - val_mae: 2.4046\n",
            "Epoch 65/100\n",
            "323/323 [==============================] - 1s 2ms/step - loss: 8.3446 - mae: 1.7972 - val_loss: 11.4610 - val_mae: 2.3883\n",
            "Epoch 66/100\n",
            "323/323 [==============================] - 1s 2ms/step - loss: 8.1329 - mae: 1.7946 - val_loss: 11.6841 - val_mae: 2.4276\n",
            "Epoch 67/100\n",
            "323/323 [==============================] - 1s 2ms/step - loss: 8.1791 - mae: 1.8086 - val_loss: 11.2870 - val_mae: 2.4018\n",
            "Epoch 68/100\n",
            "323/323 [==============================] - 1s 2ms/step - loss: 8.0832 - mae: 1.7813 - val_loss: 11.5183 - val_mae: 2.3871\n",
            "Epoch 69/100\n",
            "323/323 [==============================] - 1s 2ms/step - loss: 8.0267 - mae: 1.7966 - val_loss: 11.6376 - val_mae: 2.5624\n",
            "Epoch 70/100\n",
            "323/323 [==============================] - 1s 2ms/step - loss: 7.9297 - mae: 1.7800 - val_loss: 11.2559 - val_mae: 2.4301\n",
            "Epoch 71/100\n",
            "323/323 [==============================] - 1s 4ms/step - loss: 7.8888 - mae: 1.7722 - val_loss: 11.6462 - val_mae: 2.4444\n",
            "Epoch 72/100\n",
            "323/323 [==============================] - 1s 2ms/step - loss: 7.9167 - mae: 1.7494 - val_loss: 11.8029 - val_mae: 2.4875\n",
            "Epoch 73/100\n",
            "323/323 [==============================] - 1s 2ms/step - loss: 7.8188 - mae: 1.7439 - val_loss: 11.6241 - val_mae: 2.3881\n",
            "Epoch 74/100\n",
            "323/323 [==============================] - 1s 2ms/step - loss: 7.7455 - mae: 1.7465 - val_loss: 12.1629 - val_mae: 2.5462\n",
            "Epoch 75/100\n",
            "323/323 [==============================] - 1s 2ms/step - loss: 7.7857 - mae: 1.7596 - val_loss: 11.7390 - val_mae: 2.4763\n",
            "Epoch 76/100\n",
            "323/323 [==============================] - 1s 2ms/step - loss: 7.5819 - mae: 1.7327 - val_loss: 12.0091 - val_mae: 2.4036\n",
            "Epoch 77/100\n",
            "323/323 [==============================] - 1s 2ms/step - loss: 7.7368 - mae: 1.7354 - val_loss: 12.1070 - val_mae: 2.4412\n",
            "Epoch 78/100\n",
            "323/323 [==============================] - 1s 2ms/step - loss: 7.3850 - mae: 1.7422 - val_loss: 12.5780 - val_mae: 2.6114\n",
            "Epoch 79/100\n",
            "323/323 [==============================] - 1s 2ms/step - loss: 7.6121 - mae: 1.7200 - val_loss: 12.1171 - val_mae: 2.4183\n",
            "Epoch 80/100\n",
            "323/323 [==============================] - 1s 2ms/step - loss: 7.4724 - mae: 1.7253 - val_loss: 12.1943 - val_mae: 2.4650\n",
            "Epoch 81/100\n",
            "323/323 [==============================] - 1s 2ms/step - loss: 7.3992 - mae: 1.7106 - val_loss: 11.9807 - val_mae: 2.4447\n",
            "Epoch 82/100\n",
            "323/323 [==============================] - 1s 2ms/step - loss: 7.3691 - mae: 1.7107 - val_loss: 12.1506 - val_mae: 2.4680\n",
            "Epoch 83/100\n",
            "323/323 [==============================] - 1s 2ms/step - loss: 7.3236 - mae: 1.7199 - val_loss: 12.7676 - val_mae: 2.5859\n",
            "Epoch 84/100\n",
            "323/323 [==============================] - 1s 4ms/step - loss: 7.1379 - mae: 1.7085 - val_loss: 12.0939 - val_mae: 2.4640\n",
            "Epoch 85/100\n",
            "323/323 [==============================] - 1s 3ms/step - loss: 7.3707 - mae: 1.6746 - val_loss: 12.0847 - val_mae: 2.4520\n",
            "Epoch 86/100\n",
            "323/323 [==============================] - 1s 2ms/step - loss: 7.3218 - mae: 1.7029 - val_loss: 12.0582 - val_mae: 2.4671\n",
            "Epoch 87/100\n",
            "323/323 [==============================] - 1s 2ms/step - loss: 7.2268 - mae: 1.6818 - val_loss: 12.2385 - val_mae: 2.4859\n",
            "Epoch 88/100\n",
            "323/323 [==============================] - 1s 2ms/step - loss: 7.2437 - mae: 1.6867 - val_loss: 12.2232 - val_mae: 2.4573\n",
            "Epoch 89/100\n",
            "323/323 [==============================] - 1s 2ms/step - loss: 7.3027 - mae: 1.6843 - val_loss: 12.3118 - val_mae: 2.3829\n",
            "Epoch 90/100\n",
            "323/323 [==============================] - 1s 2ms/step - loss: 7.1594 - mae: 1.6613 - val_loss: 12.4893 - val_mae: 2.4012\n",
            "Epoch 91/100\n",
            "323/323 [==============================] - 1s 2ms/step - loss: 7.0797 - mae: 1.6826 - val_loss: 12.6683 - val_mae: 2.4616\n",
            "Epoch 92/100\n",
            "323/323 [==============================] - 1s 2ms/step - loss: 7.0838 - mae: 1.6395 - val_loss: 12.7211 - val_mae: 2.4114\n",
            "Epoch 93/100\n",
            "323/323 [==============================] - 1s 2ms/step - loss: 6.9843 - mae: 1.6640 - val_loss: 12.8350 - val_mae: 2.4689\n",
            "Epoch 94/100\n",
            "323/323 [==============================] - 1s 2ms/step - loss: 6.8679 - mae: 1.6538 - val_loss: 12.9213 - val_mae: 2.3821\n",
            "Epoch 95/100\n",
            "323/323 [==============================] - 1s 2ms/step - loss: 7.0078 - mae: 1.6517 - val_loss: 12.5049 - val_mae: 2.3981\n",
            "Epoch 96/100\n",
            "323/323 [==============================] - 1s 2ms/step - loss: 6.8469 - mae: 1.6541 - val_loss: 12.4708 - val_mae: 2.4119\n",
            "Epoch 97/100\n",
            "323/323 [==============================] - 1s 2ms/step - loss: 6.8937 - mae: 1.6216 - val_loss: 12.9202 - val_mae: 2.3908\n",
            "Epoch 98/100\n",
            "323/323 [==============================] - 1s 2ms/step - loss: 6.8049 - mae: 1.6434 - val_loss: 12.6353 - val_mae: 2.4165\n",
            "Epoch 99/100\n",
            "323/323 [==============================] - 1s 2ms/step - loss: 6.9621 - mae: 1.6302 - val_loss: 12.4122 - val_mae: 2.4016\n",
            "Epoch 100/100\n",
            "323/323 [==============================] - 1s 2ms/step - loss: 6.9444 - mae: 1.6289 - val_loss: 12.7058 - val_mae: 2.4518\n"
          ]
        }
      ]
    },
    {
      "cell_type": "code",
      "source": [
        "# LOG RESULTS - Max Average Error on train set and validation set\n",
        "# MAE of 2.0 means prediction is average 2000$ off from real price\n",
        "\n",
        "import matplotlib.pyplot as plt\n",
        "\n",
        "epochs_range = range(1,epochs+1)\n",
        "plt.plot(epochs_range, history.history[\"mae\"], label=\"MAE\")\n",
        "plt.plot(epochs_range, history.history[\"val_mae\"], label=\"VAL MAE\")\n",
        "plt.legend()\n",
        "\n",
        "plt.xlabel('Epochs')\n",
        "plt.ylabel('Validation MAE')\n",
        "plt.show()"
      ],
      "metadata": {
        "colab": {
          "base_uri": "https://localhost:8080/",
          "height": 279
        },
        "id": "81560lXp17Il",
        "outputId": "1adc0132-95d6-4b82-8b57-5514376f8ff8"
      },
      "execution_count": null,
      "outputs": [
        {
          "output_type": "display_data",
          "data": {
            "text/plain": [
              "<Figure size 432x288 with 1 Axes>"
            ],
            "image/png": "[encoded data removed]"
          },
          "metadata": {
            "needs_background": "light"
          }
        }
      ]
    },
    {
      "cell_type": "code",
      "source": [
        "# EVALUATION\n",
        "\n",
        "score = model.evaluate(test_data, test_targets)\n",
        "print(model.metrics_names)\n",
        "print(score)  # as example, mae of 2.50 means 2500$ off"
      ],
      "metadata": {
        "colab": {
          "base_uri": "https://localhost:8080/"
        },
        "id": "21IZLcwv3piU",
        "outputId": "3f5bb26b-8cc4-4147-f508-5be539e1aa49"
      },
      "execution_count": null,
      "outputs": [
        {
          "output_type": "stream",
          "name": "stdout",
          "text": [
            "4/4 [==============================] - 0s 3ms/step - loss: 20.4339 - mae: 2.7630\n",
            "['loss', 'mae']\n",
            "[20.433866500854492, 2.762960433959961]\n"
          ]
        }
      ]
    }
  ]
}