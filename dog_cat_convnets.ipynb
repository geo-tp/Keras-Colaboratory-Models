{
  "nbformat": 4,
  "nbformat_minor": 0,
  "metadata": {
    "colab": {
      "provenance": [],
      "mount_file_id": "1zpYcXmiX7ahPIjRfnVlsKjTZSKRkeI_g",
      "authorship_tag": "ABX9TyOnl6xFqKbeSOPeVB5OrMrn",
      "include_colab_link": true
    },
    "kernelspec": {
      "name": "python3",
      "display_name": "Python 3"
    },
    "language_info": {
      "name": "python"
    },
    "accelerator": "GPU",
    "gpuClass": "standard"
  },
  "cells": [
    {
      "cell_type": "markdown",
      "metadata": {
        "id": "view-in-github",
        "colab_type": "text"
      },
      "source": [
        "<a href=\"https://colab.research.google.com/github/geo-tp/Keras-Colaboratory-Models/blob/main/dog_cat_convnets.ipynb\" target=\"_parent\"><img src=\"https://colab.research.google.com/assets/colab-badge.svg\" alt=\"Open In Colab\"/></a>"
      ]
    },
    {
      "cell_type": "code",
      "execution_count": 1,
      "metadata": {
        "id": "Y2fDvjB3s-fY"
      },
      "outputs": [],
      "source": [
        "from sys import path\n",
        "import matplotlib.pyplot as plt\n",
        "from keras import layers, models, optimizers, preprocessing"
      ]
    },
    {
      "cell_type": "code",
      "source": [
        "# DATASET & PREPROCESSING - Cats and Dogs pictures\n",
        "\n",
        "# provide a dataset filepath with 3 subfolders :\n",
        "\n",
        "# dataset/\n",
        "#   train/\n",
        "#     cats/\n",
        "#     dogs/\n",
        "#   validation/\n",
        "#     cats/\n",
        "#     dogs/\n",
        "#   test/\n",
        "#     cats/\n",
        "#     dogs/\n",
        "\n",
        "# Change the dataset filepath\n",
        "base_dir = path[0] + \"/drive/MyDrive/dog-cat-dataset/\"\n",
        "train_dir = base_dir + \"/train/\"\n",
        "validation_dir = base_dir + \"/validation/\"\n",
        "test_dir = base_dir + \"/test/\"\n",
        "\n",
        "batch_size = 32\n",
        "\n",
        "# We use data augmentation on train set to prevent overfitting\n",
        "train_datagen = preprocessing.image.ImageDataGenerator(\n",
        "    rescale=1./255,\n",
        "    rotation_range=40,\n",
        "    width_shift_range=0.2,\n",
        "    height_shift_range=0.2,\n",
        "    shear_range=0.2,\n",
        "    zoom_range=0.2,\n",
        "    horizontal_flip=True,)\n",
        "validation_datagen = preprocessing.image.ImageDataGenerator(rescale=1.0 / 255)\n",
        "test_datagen = preprocessing.image.ImageDataGenerator(rescale=1.0 / 255)\n",
        "\n",
        "# Final train, validation and test data generators\n",
        "train_generator = train_datagen.flow_from_directory(\n",
        "    train_dir, target_size=(150, 150), batch_size=batch_size, class_mode=\"binary\"\n",
        ")\n",
        "validation_generator = validation_datagen.flow_from_directory(\n",
        "    validation_dir, target_size=(150, 150), batch_size=batch_size, class_mode=\"binary\"\n",
        ")\n",
        "test_generator = test_datagen.flow_from_directory(\n",
        "    test_dir, target_size=(150, 150), batch_size=batch_size, class_mode=\"binary\"\n",
        ")"
      ],
      "metadata": {
        "colab": {
          "base_uri": "https://localhost:8080/"
        },
        "id": "hX6_S5B4WWzy",
        "outputId": "0b388076-7f12-4d8c-936c-b9a96233d339"
      },
      "execution_count": 2,
      "outputs": [
        {
          "output_type": "stream",
          "name": "stdout",
          "text": [
            "Found 2000 images belonging to 2 classes.\n",
            "Found 1000 images belonging to 2 classes.\n",
            "Found 1000 images belonging to 2 classes.\n"
          ]
        }
      ]
    },
    {
      "cell_type": "code",
      "source": [
        "# MODEL DEFINITION - the model should predict if an image shows a dog or a cat\n",
        "\n",
        "# Convnets & Max Pooling\n",
        "# We start with an img of 150x150 to finish with an img of 7x7\n",
        "\n",
        "model = models.Sequential()\n",
        "model.add(layers.Conv2D(32, (3, 3), activation=\"relu\", input_shape=(150, 150, 3)))\n",
        "model.add(layers.MaxPooling2D((2, 2)))\n",
        "model.add(layers.Conv2D(64, (3, 3), activation=\"relu\"))\n",
        "model.add(layers.MaxPooling2D((2, 2)))\n",
        "model.add(layers.Conv2D(128, (3, 3), activation=\"relu\"))\n",
        "model.add(layers.MaxPooling2D((2, 2)))\n",
        "model.add(layers.Conv2D(128, (3, 3), activation=\"relu\"))\n",
        "model.add(layers.MaxPooling2D((2, 2)))\n",
        "model.add(layers.Flatten())\n",
        "# Add dropout to prevent overfitting\n",
        "model.add(layers.Dropout(0.5))\n",
        "model.add(layers.Dense(512, activation=\"relu\"))\n",
        "model.add(layers.Dense(1, activation=\"sigmoid\"))\n",
        "\n",
        "model.summary()\n",
        "\n",
        "model.compile(\n",
        "    loss=\"binary_crossentropy\",\n",
        "    optimizer=optimizers.RMSprop(learning_rate=1e-4),\n",
        "    metrics=[\"acc\"],\n",
        ")\n"
      ],
      "metadata": {
        "colab": {
          "base_uri": "https://localhost:8080/"
        },
        "id": "GGHk0Jh6D4O2",
        "outputId": "97af62f7-1cc6-4c87-aa7f-b89fb902683a"
      },
      "execution_count": 3,
      "outputs": [
        {
          "output_type": "stream",
          "name": "stdout",
          "text": [
            "Model: \"sequential\"\n",
            "_________________________________________________________________\n",
            " Layer (type)                Output Shape              Param #   \n",
            "=================================================================\n",
            " conv2d (Conv2D)             (None, 148, 148, 32)      896       \n",
            "                                                                 \n",
            " max_pooling2d (MaxPooling2D  (None, 74, 74, 32)       0         \n",
            " )                                                               \n",
            "                                                                 \n",
            " conv2d_1 (Conv2D)           (None, 72, 72, 64)        18496     \n",
            "                                                                 \n",
            " max_pooling2d_1 (MaxPooling  (None, 36, 36, 64)       0         \n",
            " 2D)                                                             \n",
            "                                                                 \n",
            " conv2d_2 (Conv2D)           (None, 34, 34, 128)       73856     \n",
            "                                                                 \n",
            " max_pooling2d_2 (MaxPooling  (None, 17, 17, 128)      0         \n",
            " 2D)                                                             \n",
            "                                                                 \n",
            " conv2d_3 (Conv2D)           (None, 15, 15, 128)       147584    \n",
            "                                                                 \n",
            " max_pooling2d_3 (MaxPooling  (None, 7, 7, 128)        0         \n",
            " 2D)                                                             \n",
            "                                                                 \n",
            " flatten (Flatten)           (None, 6272)              0         \n",
            "                                                                 \n",
            " dropout (Dropout)           (None, 6272)              0         \n",
            "                                                                 \n",
            " dense (Dense)               (None, 512)               3211776   \n",
            "                                                                 \n",
            " dense_1 (Dense)             (None, 1)                 513       \n",
            "                                                                 \n",
            "=================================================================\n",
            "Total params: 3,453,121\n",
            "Trainable params: 3,453,121\n",
            "Non-trainable params: 0\n",
            "_________________________________________________________________\n"
          ]
        }
      ]
    },
    {
      "cell_type": "code",
      "source": [
        "# TRAINING\n",
        "\n",
        "history = model.fit(\n",
        "    train_generator,\n",
        "    steps_per_epoch=2000 / batch_size,\n",
        "    epochs=30,\n",
        "    validation_data=validation_generator,\n",
        "    validation_steps=1000 / batch_size,\n",
        ")\n",
        "\n",
        "model.save(\"cats_and_dogs_small_1.h5\")"
      ],
      "metadata": {
        "colab": {
          "base_uri": "https://localhost:8080/"
        },
        "id": "2KqF1agQE42O",
        "outputId": "b9e971d4-63f9-489a-f35b-b93a1c61b510"
      },
      "execution_count": 5,
      "outputs": [
        {
          "output_type": "stream",
          "name": "stdout",
          "text": [
            "Epoch 1/30\n",
            "62/62 [==============================] - 1335s 21s/step - loss: 0.6958 - acc: 0.5240 - val_loss: 0.6860 - val_acc: 0.5890\n",
            "Epoch 2/30\n",
            "62/62 [==============================] - 22s 350ms/step - loss: 0.6864 - acc: 0.5580 - val_loss: 0.7390 - val_acc: 0.5000\n",
            "Epoch 3/30\n",
            "62/62 [==============================] - 22s 348ms/step - loss: 0.6835 - acc: 0.5540 - val_loss: 0.6654 - val_acc: 0.5810\n",
            "Epoch 4/30\n",
            "62/62 [==============================] - 22s 354ms/step - loss: 0.6751 - acc: 0.5630 - val_loss: 0.6544 - val_acc: 0.6020\n",
            "Epoch 5/30\n",
            "62/62 [==============================] - 22s 347ms/step - loss: 0.6682 - acc: 0.5885 - val_loss: 0.6861 - val_acc: 0.5420\n",
            "Epoch 6/30\n",
            "62/62 [==============================] - 22s 345ms/step - loss: 0.6612 - acc: 0.6005 - val_loss: 0.6387 - val_acc: 0.6270\n",
            "Epoch 7/30\n",
            "62/62 [==============================] - 22s 348ms/step - loss: 0.6512 - acc: 0.6180 - val_loss: 0.6262 - val_acc: 0.6390\n",
            "Epoch 8/30\n",
            "62/62 [==============================] - 22s 346ms/step - loss: 0.6418 - acc: 0.6225 - val_loss: 0.6250 - val_acc: 0.6470\n",
            "Epoch 9/30\n",
            "62/62 [==============================] - 22s 347ms/step - loss: 0.6386 - acc: 0.6325 - val_loss: 0.6703 - val_acc: 0.5840\n",
            "Epoch 10/30\n",
            "62/62 [==============================] - 22s 349ms/step - loss: 0.6294 - acc: 0.6475 - val_loss: 0.5873 - val_acc: 0.6800\n",
            "Epoch 11/30\n",
            "62/62 [==============================] - 22s 346ms/step - loss: 0.6186 - acc: 0.6640 - val_loss: 0.5764 - val_acc: 0.6930\n",
            "Epoch 12/30\n",
            "62/62 [==============================] - 22s 346ms/step - loss: 0.6095 - acc: 0.6665 - val_loss: 0.5830 - val_acc: 0.6780\n",
            "Epoch 13/30\n",
            "62/62 [==============================] - 22s 349ms/step - loss: 0.6016 - acc: 0.6795 - val_loss: 0.5612 - val_acc: 0.7090\n",
            "Epoch 14/30\n",
            "62/62 [==============================] - 22s 346ms/step - loss: 0.5920 - acc: 0.6810 - val_loss: 0.5823 - val_acc: 0.6780\n",
            "Epoch 15/30\n",
            "62/62 [==============================] - 22s 348ms/step - loss: 0.5935 - acc: 0.6890 - val_loss: 0.5500 - val_acc: 0.7040\n",
            "Epoch 16/30\n",
            "62/62 [==============================] - 22s 346ms/step - loss: 0.5840 - acc: 0.6945 - val_loss: 0.5715 - val_acc: 0.7020\n",
            "Epoch 17/30\n",
            "62/62 [==============================] - 22s 353ms/step - loss: 0.5717 - acc: 0.7005 - val_loss: 0.5588 - val_acc: 0.7030\n",
            "Epoch 18/30\n",
            "62/62 [==============================] - 21s 344ms/step - loss: 0.5855 - acc: 0.6905 - val_loss: 0.5793 - val_acc: 0.6970\n",
            "Epoch 19/30\n",
            "62/62 [==============================] - 21s 345ms/step - loss: 0.5687 - acc: 0.6995 - val_loss: 0.5409 - val_acc: 0.6990\n",
            "Epoch 20/30\n",
            "62/62 [==============================] - 21s 344ms/step - loss: 0.5696 - acc: 0.7000 - val_loss: 0.5269 - val_acc: 0.7310\n",
            "Epoch 21/30\n",
            "62/62 [==============================] - 21s 343ms/step - loss: 0.5644 - acc: 0.7085 - val_loss: 0.5786 - val_acc: 0.6970\n",
            "Epoch 22/30\n",
            "62/62 [==============================] - 22s 345ms/step - loss: 0.5748 - acc: 0.6985 - val_loss: 0.5246 - val_acc: 0.7190\n",
            "Epoch 23/30\n",
            "62/62 [==============================] - 21s 341ms/step - loss: 0.5631 - acc: 0.7065 - val_loss: 0.5457 - val_acc: 0.7140\n",
            "Epoch 24/30\n",
            "62/62 [==============================] - 21s 340ms/step - loss: 0.5512 - acc: 0.7185 - val_loss: 0.5110 - val_acc: 0.7360\n",
            "Epoch 25/30\n",
            "62/62 [==============================] - 21s 339ms/step - loss: 0.5562 - acc: 0.7075 - val_loss: 0.5439 - val_acc: 0.7130\n",
            "Epoch 26/30\n",
            "62/62 [==============================] - 21s 344ms/step - loss: 0.5539 - acc: 0.7135 - val_loss: 0.6424 - val_acc: 0.6720\n",
            "Epoch 27/30\n",
            "62/62 [==============================] - 22s 345ms/step - loss: 0.5540 - acc: 0.7105 - val_loss: 0.5180 - val_acc: 0.7400\n",
            "Epoch 28/30\n",
            "62/62 [==============================] - 21s 343ms/step - loss: 0.5342 - acc: 0.7340 - val_loss: 0.5071 - val_acc: 0.7450\n",
            "Epoch 29/30\n",
            "62/62 [==============================] - 22s 350ms/step - loss: 0.5294 - acc: 0.7410 - val_loss: 0.5176 - val_acc: 0.7370\n",
            "Epoch 30/30\n",
            "62/62 [==============================] - 22s 353ms/step - loss: 0.5352 - acc: 0.7270 - val_loss: 0.5100 - val_acc: 0.7410\n"
          ]
        }
      ]
    },
    {
      "cell_type": "code",
      "source": [
        "# LOG TRAINING RESULTS\n",
        "\n",
        "history_dict = history.history\n",
        "loss = history_dict['loss']\n",
        "acc = history_dict['acc']\n",
        "val_loss = history_dict[\"val_loss\"]\n",
        "val_acc = history_dict[\"val_acc\"]\n",
        "epochs = range(1, 31)\n",
        "\n",
        "plt.plot(epochs, acc, label=\"Train Accuracy\")\n",
        "plt.plot(epochs, loss, label=\"Train Loss\")\n",
        "plt.plot(epochs, val_acc, label=\"Val Accuracy\")\n",
        "plt.plot(epochs, val_loss, label=\"Val Loss\")\n",
        "plt.legend()\n",
        "plt.show()"
      ],
      "metadata": {
        "colab": {
          "base_uri": "https://localhost:8080/",
          "height": 265
        },
        "id": "PngHsO6rVm19",
        "outputId": "88b497d9-e91c-4799-87f1-f2458d5b5add"
      },
      "execution_count": 6,
      "outputs": [
        {
          "output_type": "display_data",
          "data": {
            "text/plain": [
              "<Figure size 432x288 with 1 Axes>"
            ],
            "image/png": "[encoded data removed]"
          },
          "metadata": {
            "needs_background": "light"
          }
        }
      ]
    },
    {
      "cell_type": "code",
      "source": [
        "# EVALUATION\n",
        "\n",
        "score = model.evaluate(test_generator)\n",
        "print(model.metrics_names)\n",
        "print(score)"
      ],
      "metadata": {
        "colab": {
          "base_uri": "https://localhost:8080/"
        },
        "id": "KfH2ZIT_XIGH",
        "outputId": "080d1c4d-9f55-49e7-b7d8-9d07153325a7"
      },
      "execution_count": 7,
      "outputs": [
        {
          "output_type": "stream",
          "name": "stdout",
          "text": [
            "32/32 [==============================] - 435s 14s/step - loss: 0.5451 - acc: 0.7270\n",
            "['loss', 'acc']\n",
            "[0.5451351404190063, 0.7269999980926514]\n"
          ]
        }
      ]
    }
  ]
}