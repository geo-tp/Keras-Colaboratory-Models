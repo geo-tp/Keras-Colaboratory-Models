{
  "nbformat": 4,
  "nbformat_minor": 0,
  "metadata": {
    "colab": {
      "provenance": [],
      "mount_file_id": "1-9uMA0jVbOib19mTL7cPQkf8izFZJjfo",
      "authorship_tag": "ABX9TyMeTg4SNba3EfN54IBHyLPZ",
      "include_colab_link": true
    },
    "kernelspec": {
      "name": "python3",
      "display_name": "Python 3"
    },
    "language_info": {
      "name": "python"
    }
  },
  "cells": [
    {
      "cell_type": "markdown",
      "metadata": {
        "id": "view-in-github",
        "colab_type": "text"
      },
      "source": [
        "<a href=\"https://colab.research.google.com/github/geo-tp/Keras-Colaboratory-Models/blob/main/pretrained_word_embeddings.ipynb\" target=\"_parent\"><img src=\"https://colab.research.google.com/assets/colab-badge.svg\" alt=\"Open In Colab\"/></a>"
      ]
    },
    {
      "cell_type": "markdown",
      "source": [
        "# Glove Word Embeddings"
      ],
      "metadata": {
        "id": "Nh2qvskmWXDE"
      }
    },
    {
      "cell_type": "markdown",
      "source": [
        "## Import"
      ],
      "metadata": {
        "id": "IQN7RrfFWna6"
      }
    },
    {
      "cell_type": "code",
      "source": [
        "import os\n",
        "import numpy as np\n",
        "import pandas as pd\n",
        "import seaborn as sn\n",
        "import tensorflow as tf\n",
        "import matplotlib.pyplot as plt\n",
        "from sklearn.metrics import confusion_matrix\n",
        "from keras.preprocessing.text import Tokenizer\n",
        "from keras.utils import pad_sequences\n",
        "from keras.models import Sequential\n",
        "from keras.layers import Embedding, Flatten, Dense, LSTM,\\\n",
        "                         TextVectorization, MaxPooling1D, Dropout"
      ],
      "metadata": {
        "id": "qohDhqBIcNTi"
      },
      "execution_count": 40,
      "outputs": []
    },
    {
      "cell_type": "markdown",
      "source": [
        "## Dataset"
      ],
      "metadata": {
        "id": "Y1IaP0hEWq6F"
      }
    },
    {
      "cell_type": "code",
      "source": [
        "# Dataset - 2880 movie reviews from IMDB (raw string)\n",
        "\n",
        "imdb_dir = '/content/drive/MyDrive/imdb-dataset/'\n",
        "train_dir = os.path.join(imdb_dir, 'train')\n",
        "\n",
        "labels = []\n",
        "texts = []\n",
        "\n",
        "for label_type in ['neg', 'pos']:\n",
        "  dir_name = os.path.join(train_dir, label_type)\n",
        "  for fname in os.listdir(dir_name):\n",
        "    if fname[-4:] == '.txt':\n",
        "      f = open(os.path.join(dir_name, fname))\n",
        "      texts.append(f.read())\n",
        "      f.close()\n",
        "      if label_type == 'neg':\n",
        "        labels.append(0)\n",
        "      else:\n",
        "        labels.append(1)\n",
        "\n",
        "print(\"Example from dataset : \", texts[0])\n",
        "print(\"Sentiment : \", \"Negative\" if labels[0] == 0 else \"Positive\")"
      ],
      "metadata": {
        "id": "POiqjunJbAL5",
        "colab": {
          "base_uri": "https://localhost:8080/"
        },
        "outputId": "0dc79d5e-be3d-4609-ea25-c2499f54b1f3"
      },
      "execution_count": 41,
      "outputs": [
        {
          "output_type": "stream",
          "name": "stdout",
          "text": [
            "Example from dataset :  Perhaps I'm being too generous when I give this film two and a half stars out of five, but there was an occasional moment. However, as \"An American Werewolf\" movie this one is a missed chance! There are no real plot connections to the superior original to speak of, but the story is similar in some ways to \"London\".<br /><br />*Possible Spoiler Warning* American kids go to foreign country, one falls in love with a beautiful girl. Another one of the kids gets slaughtered by a werewolf in the same night that one gets bitten, and despite his undead friend's warnings, by the light of the full moon he sprouts fur, fangs, and claws!<br /><br />But there are some differences in the story, for one; the girl is one of the werewolves. Second; there are three American Kids. And third; there's some weird-@$$ werewolf cult intent on taking over the world! As crazy as it sounds, that last one, WASN'T a joke! *Spoiler Ends*<br /><br />The films suffers from many things, first the weak acting drags it down immensely! Tom Everret Scott's performance is amatuerish at best, and he and Julie Delpy, who plays his love interest, don't seem to have any chemistry together at all. Second; A weak script that seems to be all over the place. Many elements of suspense and dark comedy, that made the original one great, are missing in this one. And whoever said that eating out the heart of the werewolf that bit you will change you back human? Last I heard this wasn't part of werewolf lore at all! Third; terrible special effects; The werewolf effects are done with computer animation, which works for things such as dinosaurs, ghosts, and space ships. But seems choppy, fake and artificial, when used for furry creatures like werewolves.<br /><br />However there were a few things that saved this one from total \"turkeydom\", there's one hilarious scene in a Paris cafe when Andy (Scott) is having coffee with Serafine (Delpy), he drops a bunch of condoms on the table, and tries to pass them off as chewing gum, by chewing and blowing a bubble! Also; the soundtrack, a very cool mix of alternative rock bands like Bush and Smashmouth. Although none of the songs have the word \"moon\" in their title, like the original movie, the soundtrack is great nontheless. And another funny scene when a rotting corpse, played by Julie Bowen, attempts to whistle and her eyeball pops out, had me laughing out loud.<br /><br />But as a whole this film seems to lack the wit and suspense of the original. And the overly contrived ending doesn't help it out much either.<br /><br />**1/2 Two and a half Out of Five Stars (Average.)\n",
            "Sentiment :  Negative\n"
          ]
        }
      ]
    },
    {
      "cell_type": "code",
      "source": [
        "# Preprocessing - sentences to sequences\n",
        "\n",
        "maxlen = 200\n",
        "max_words = 10000\n",
        "\n",
        "tokenizer = Tokenizer(num_words=max_words)\n",
        "tokenizer.fit_on_texts(texts)\n",
        "sequences = tokenizer.texts_to_sequences(texts)\n",
        "\n",
        "word_index = tokenizer.word_index\n",
        "print('Found %s unique tokens.' % len(word_index))\n",
        "\n",
        "data = pad_sequences(sequences, maxlen=maxlen)\n",
        "labels = np.asarray(labels)\n",
        "print('Shape of data tensor:', data.shape)\n",
        "print('Shape of label tensor:', labels.shape)"
      ],
      "metadata": {
        "colab": {
          "base_uri": "https://localhost:8080/"
        },
        "id": "ZEviv230cUfw",
        "outputId": "57e9cb19-6521-4fb0-f515-86e6039b2d2c"
      },
      "execution_count": 42,
      "outputs": [
        {
          "output_type": "stream",
          "name": "stdout",
          "text": [
            "Found 30050 unique tokens.\n",
            "Shape of data tensor: (2880, 200)\n",
            "Shape of label tensor: (2880,)\n"
          ]
        }
      ]
    },
    {
      "cell_type": "code",
      "source": [
        "# Splitting for test set\n",
        "\n",
        "indices = np.arange(data.shape[0])\n",
        "np.random.shuffle(indices)\n",
        "\n",
        "x_set = data[indices]\n",
        "y_set = labels[indices]\n",
        "\n",
        "test_sep = int(len(x_set) * 0.2)\n",
        "\n",
        "x_train = x_set[test_sep:]\n",
        "y_train = y_set[test_sep:]\n",
        "\n",
        "x_test = x_set[:test_sep]\n",
        "y_test = y_set[:test_sep]\n",
        "\n",
        "print(\"Found {} elements for train set\".format(len(x_train)))\n",
        "print(\"Found {} elements for test set\".format(len(x_test)))"
      ],
      "metadata": {
        "colab": {
          "base_uri": "https://localhost:8080/"
        },
        "id": "69Fjei8oYPbG",
        "outputId": "4b7caf7c-3534-4c7d-b411-50a3a805080a"
      },
      "execution_count": 43,
      "outputs": [
        {
          "output_type": "stream",
          "name": "stdout",
          "text": [
            "Found 2304 elements for train set\n",
            "Found 576 elements for test set\n"
          ]
        }
      ]
    },
    {
      "cell_type": "markdown",
      "source": [
        "## Glove"
      ],
      "metadata": {
        "id": "ytbXb_kJWu6x"
      }
    },
    {
      "cell_type": "code",
      "source": [
        "# Parsing Glove file - 400 000 word vectors\n",
        "\n",
        "glove_dir = '/content/drive/MyDrive/glove/'\n",
        "embeddings_index = {}\n",
        "\n",
        "f = open(os.path.join(glove_dir, 'glove.6B.100d.txt'))\n",
        "\n",
        "for line in f:\n",
        "  values = line.split()\n",
        "  word = values[0]\n",
        "  coefs = np.asarray(values[1:], dtype='float32')\n",
        "  embeddings_index[word] = coefs\n",
        "\n",
        "f.close()\n",
        "\n",
        "print('Found %s word vectors.' % len(embeddings_index))"
      ],
      "metadata": {
        "colab": {
          "base_uri": "https://localhost:8080/"
        },
        "id": "QWIgKfVZKZMf",
        "outputId": "7c854649-7cf0-4f9b-f653-9d210f3a4700"
      },
      "execution_count": 44,
      "outputs": [
        {
          "output_type": "stream",
          "name": "stdout",
          "text": [
            "Found 400000 word vectors.\n"
          ]
        }
      ]
    },
    {
      "cell_type": "code",
      "source": [
        "# Preparing Glove word embeddings matrix\n",
        "\n",
        "embedding_dim = 100\n",
        "embedding_matrix = np.zeros((max_words, embedding_dim))\n",
        "for  i, word in enumerate(word_index):\n",
        "  if i < max_words:\n",
        "    embedding_vector = embeddings_index.get(word)\n",
        "  if embedding_vector is not None:\n",
        "    embedding_matrix[i] = embedding_vector"
      ],
      "metadata": {
        "id": "TrvmT4okLL36"
      },
      "execution_count": 45,
      "outputs": []
    },
    {
      "cell_type": "markdown",
      "source": [
        "## Model"
      ],
      "metadata": {
        "id": "1YthM4vZWyB2"
      }
    },
    {
      "cell_type": "code",
      "source": [
        "# Model defintion - This model should predict the sentiment of a review\n",
        "\n",
        "model = Sequential()\n",
        "model.add(Embedding(max_words, embedding_dim, input_length=maxlen))\n",
        "model.add(Flatten())\n",
        "model.add(Dense(32, activation='relu'))\n",
        "model.add(Dense(1, activation='sigmoid'))\n",
        "model.summary()"
      ],
      "metadata": {
        "colab": {
          "base_uri": "https://localhost:8080/"
        },
        "id": "Sfnojq4fNntt",
        "outputId": "e23491bd-ecb5-4664-b69b-1ccc075d8616"
      },
      "execution_count": 46,
      "outputs": [
        {
          "output_type": "stream",
          "name": "stdout",
          "text": [
            "Model: \"sequential_8\"\n",
            "_________________________________________________________________\n",
            " Layer (type)                Output Shape              Param #   \n",
            "=================================================================\n",
            " embedding_8 (Embedding)     (None, 200, 100)          1000000   \n",
            "                                                                 \n",
            " flatten_7 (Flatten)         (None, 20000)             0         \n",
            "                                                                 \n",
            " dense_11 (Dense)            (None, 32)                640032    \n",
            "                                                                 \n",
            " dense_12 (Dense)            (None, 1)                 33        \n",
            "                                                                 \n",
            "=================================================================\n",
            "Total params: 1,640,065\n",
            "Trainable params: 1,640,065\n",
            "Non-trainable params: 0\n",
            "_________________________________________________________________\n"
          ]
        }
      ]
    },
    {
      "cell_type": "code",
      "source": [
        "# Freeze model and set embedding matrix\n",
        "\n",
        "model.layers[0].set_weights([embedding_matrix])\n",
        "model.layers[0].trainable = False"
      ],
      "metadata": {
        "id": "kCU9A6oTN3bl"
      },
      "execution_count": 47,
      "outputs": []
    },
    {
      "cell_type": "code",
      "source": [
        "# Model defintion - This model should predict the sentiment of a review\n",
        "\n",
        "model = Sequential()\n",
        "model.add(Embedding(max_words, embedding_dim, input_length=maxlen))\n",
        "model.add(MaxPooling1D(pool_size=5, strides=2))\n",
        "model.add(Dropout(0.7))\n",
        "model.add(LSTM(32))\n",
        "model.add(Flatten())\n",
        "model.add(Dense(1, activation='sigmoid'))\n",
        "model.summary()"
      ],
      "metadata": {
        "colab": {
          "base_uri": "https://localhost:8080/"
        },
        "id": "u2frejoHgG_K",
        "outputId": "25741139-331d-481f-e05a-f280eccec410"
      },
      "execution_count": 48,
      "outputs": [
        {
          "output_type": "stream",
          "name": "stdout",
          "text": [
            "Model: \"sequential_9\"\n",
            "_________________________________________________________________\n",
            " Layer (type)                Output Shape              Param #   \n",
            "=================================================================\n",
            " embedding_9 (Embedding)     (None, 200, 100)          1000000   \n",
            "                                                                 \n",
            " max_pooling1d_5 (MaxPooling  (None, 98, 100)          0         \n",
            " 1D)                                                             \n",
            "                                                                 \n",
            " dropout_5 (Dropout)         (None, 98, 100)           0         \n",
            "                                                                 \n",
            " lstm_1 (LSTM)               (None, 32)                17024     \n",
            "                                                                 \n",
            " flatten_8 (Flatten)         (None, 32)                0         \n",
            "                                                                 \n",
            " dense_13 (Dense)            (None, 1)                 33        \n",
            "                                                                 \n",
            "=================================================================\n",
            "Total params: 1,017,057\n",
            "Trainable params: 1,017,057\n",
            "Non-trainable params: 0\n",
            "_________________________________________________________________\n"
          ]
        }
      ]
    },
    {
      "cell_type": "markdown",
      "source": [
        "## Training"
      ],
      "metadata": {
        "id": "g6iLaEUuW0uW"
      }
    },
    {
      "cell_type": "code",
      "source": [
        "# Training\n",
        "\n",
        "model.compile(optimizer='rmsprop',\n",
        "              loss='binary_crossentropy',\n",
        "              metrics=['acc'])\n",
        "\n",
        "history = model.fit(x_train, y_train,\n",
        "                    epochs=30,\n",
        "                    batch_size=32,\n",
        "                    validation_split=0.25)\n",
        "\n",
        "model.save_weights('pre_trained_glove_model.h5')"
      ],
      "metadata": {
        "colab": {
          "base_uri": "https://localhost:8080/"
        },
        "id": "cCVkIX2DODWd",
        "outputId": "77d33920-d5be-4144-ffbc-ff2b824a5396"
      },
      "execution_count": 49,
      "outputs": [
        {
          "output_type": "stream",
          "name": "stdout",
          "text": [
            "Epoch 1/30\n",
            "54/54 [==============================] - 7s 76ms/step - loss: 0.6922 - acc: 0.5006 - val_loss: 0.6920 - val_acc: 0.4809\n",
            "Epoch 2/30\n",
            "54/54 [==============================] - 4s 66ms/step - loss: 0.6793 - acc: 0.5683 - val_loss: 0.6555 - val_acc: 0.6858\n",
            "Epoch 3/30\n",
            "54/54 [==============================] - 5s 88ms/step - loss: 0.5819 - acc: 0.7286 - val_loss: 0.5217 - val_acc: 0.7587\n",
            "Epoch 4/30\n",
            "54/54 [==============================] - 4s 81ms/step - loss: 0.4318 - acc: 0.8171 - val_loss: 0.4219 - val_acc: 0.8264\n",
            "Epoch 5/30\n",
            "54/54 [==============================] - 4s 67ms/step - loss: 0.2995 - acc: 0.8802 - val_loss: 0.4188 - val_acc: 0.8316\n",
            "Epoch 6/30\n",
            "54/54 [==============================] - 4s 66ms/step - loss: 0.2349 - acc: 0.9149 - val_loss: 0.4478 - val_acc: 0.8247\n",
            "Epoch 7/30\n",
            "54/54 [==============================] - 7s 126ms/step - loss: 0.1521 - acc: 0.9514 - val_loss: 0.4537 - val_acc: 0.8490\n",
            "Epoch 8/30\n",
            "54/54 [==============================] - 4s 68ms/step - loss: 0.1159 - acc: 0.9688 - val_loss: 0.3359 - val_acc: 0.8681\n",
            "Epoch 9/30\n",
            "54/54 [==============================] - 4s 67ms/step - loss: 0.0759 - acc: 0.9780 - val_loss: 0.3509 - val_acc: 0.8524\n",
            "Epoch 10/30\n",
            "54/54 [==============================] - 6s 106ms/step - loss: 0.0566 - acc: 0.9844 - val_loss: 0.3969 - val_acc: 0.8594\n",
            "Epoch 11/30\n",
            "54/54 [==============================] - 4s 67ms/step - loss: 0.0485 - acc: 0.9850 - val_loss: 0.4578 - val_acc: 0.8472\n",
            "Epoch 12/30\n",
            "54/54 [==============================] - 4s 69ms/step - loss: 0.0267 - acc: 0.9907 - val_loss: 0.3914 - val_acc: 0.8576\n",
            "Epoch 13/30\n",
            "54/54 [==============================] - 5s 88ms/step - loss: 0.0295 - acc: 0.9931 - val_loss: 0.7883 - val_acc: 0.8142\n",
            "Epoch 14/30\n",
            "54/54 [==============================] - 4s 80ms/step - loss: 0.0358 - acc: 0.9913 - val_loss: 0.4598 - val_acc: 0.8524\n",
            "Epoch 15/30\n",
            "54/54 [==============================] - 4s 69ms/step - loss: 0.0182 - acc: 0.9942 - val_loss: 0.4038 - val_acc: 0.8628\n",
            "Epoch 16/30\n",
            "54/54 [==============================] - 4s 68ms/step - loss: 0.0180 - acc: 0.9965 - val_loss: 0.5550 - val_acc: 0.8733\n",
            "Epoch 17/30\n",
            "54/54 [==============================] - 5s 100ms/step - loss: 0.0185 - acc: 0.9925 - val_loss: 0.5894 - val_acc: 0.8507\n",
            "Epoch 18/30\n",
            "54/54 [==============================] - 4s 67ms/step - loss: 0.0095 - acc: 0.9959 - val_loss: 0.4933 - val_acc: 0.8750\n",
            "Epoch 19/30\n",
            "54/54 [==============================] - 4s 68ms/step - loss: 0.0290 - acc: 0.9913 - val_loss: 1.5641 - val_acc: 0.7795\n",
            "Epoch 20/30\n",
            "54/54 [==============================] - 5s 96ms/step - loss: 0.0179 - acc: 0.9959 - val_loss: 0.7379 - val_acc: 0.7969\n",
            "Epoch 21/30\n",
            "54/54 [==============================] - 4s 72ms/step - loss: 0.0084 - acc: 0.9977 - val_loss: 0.4345 - val_acc: 0.8403\n",
            "Epoch 22/30\n",
            "54/54 [==============================] - 4s 67ms/step - loss: 0.0040 - acc: 0.9983 - val_loss: 0.7786 - val_acc: 0.8455\n",
            "Epoch 23/30\n",
            "54/54 [==============================] - 4s 78ms/step - loss: 0.0033 - acc: 0.9983 - val_loss: 0.9232 - val_acc: 0.7969\n",
            "Epoch 24/30\n",
            "54/54 [==============================] - 5s 92ms/step - loss: 0.0057 - acc: 0.9977 - val_loss: 0.7715 - val_acc: 0.8472\n",
            "Epoch 25/30\n",
            "54/54 [==============================] - 4s 70ms/step - loss: 0.0051 - acc: 0.9983 - val_loss: 0.4676 - val_acc: 0.8733\n",
            "Epoch 26/30\n",
            "54/54 [==============================] - 4s 67ms/step - loss: 0.0024 - acc: 0.9994 - val_loss: 0.6115 - val_acc: 0.8646\n",
            "Epoch 27/30\n",
            "54/54 [==============================] - 6s 103ms/step - loss: 2.3673e-04 - acc: 1.0000 - val_loss: 0.8224 - val_acc: 0.8559\n",
            "Epoch 28/30\n",
            "54/54 [==============================] - 4s 69ms/step - loss: 0.0096 - acc: 0.9971 - val_loss: 0.6413 - val_acc: 0.8646\n",
            "Epoch 29/30\n",
            "54/54 [==============================] - 4s 68ms/step - loss: 9.7178e-04 - acc: 1.0000 - val_loss: 0.8244 - val_acc: 0.8524\n",
            "Epoch 30/30\n",
            "54/54 [==============================] - 5s 89ms/step - loss: 0.0043 - acc: 0.9988 - val_loss: 0.8550 - val_acc: 0.8628\n"
          ]
        }
      ]
    },
    {
      "cell_type": "markdown",
      "source": [
        "## Results"
      ],
      "metadata": {
        "id": "yM5hNq0bW2xX"
      }
    },
    {
      "cell_type": "code",
      "source": [
        "acc = history.history['acc']\n",
        "val_acc = history.history['val_acc']\n",
        "loss = history.history['loss']\n",
        "val_loss = history.history['val_loss']\n",
        "epochs = range(1, len(acc) + 1)\n",
        "\n",
        "plt.plot(epochs, acc, label='Training acc')\n",
        "plt.plot(epochs, val_acc, label='Validation acc')\n",
        "plt.title('Training and validation accuracy')\n",
        "plt.legend()\n",
        "\n",
        "plt.figure()\n",
        "plt.plot(epochs, loss, label='Training loss')\n",
        "plt.plot(epochs, val_loss, label='Validation loss')\n",
        "plt.title('Training and validation loss')\n",
        "plt.legend()\n",
        "\n",
        "plt.show()"
      ],
      "metadata": {
        "colab": {
          "base_uri": "https://localhost:8080/",
          "height": 545
        },
        "id": "7sww98lZOY4c",
        "outputId": "0f22536f-e2f6-4850-8208-71910cb75f38"
      },
      "execution_count": 50,
      "outputs": [
        {
          "output_type": "display_data",
          "data": {
            "text/plain": [
              "<Figure size 432x288 with 1 Axes>"
            ],
            "image/png": "[encoded data removed]"
          },
          "metadata": {
            "needs_background": "light"
          }
        },
        {
          "output_type": "display_data",
          "data": {
            "text/plain": [
              "<Figure size 432x288 with 1 Axes>"
            ],
            "image/png": "[encoded data removed]"
          },
          "metadata": {
            "needs_background": "light"
          }
        }
      ]
    },
    {
      "cell_type": "code",
      "source": [
        "# Evaluate\n",
        "\n",
        "loss, acc  = model.evaluate(x_test, y_test)\n",
        "print(\"Accuracy : {}%\".format(acc*100))"
      ],
      "metadata": {
        "colab": {
          "base_uri": "https://localhost:8080/"
        },
        "id": "9sALRI0FYGx3",
        "outputId": "f2e4cdfe-e8c7-4e10-a0de-3c531630c41a"
      },
      "execution_count": 51,
      "outputs": [
        {
          "output_type": "stream",
          "name": "stdout",
          "text": [
            "18/18 [==============================] - 0s 15ms/step - loss: 0.9164 - acc: 0.8576\n",
            "Accuracy : 85.76388955116272%\n"
          ]
        }
      ]
    }
  ]
}