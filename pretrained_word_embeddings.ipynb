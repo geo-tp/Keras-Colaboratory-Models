{
  "nbformat": 4,
  "nbformat_minor": 0,
  "metadata": {
    "colab": {
      "provenance": [],
      "mount_file_id": "1-9uMA0jVbOib19mTL7cPQkf8izFZJjfo",
      "authorship_tag": "ABX9TyPPjTB0wZSIWhU6MZyUyDpt",
      "include_colab_link": true
    },
    "kernelspec": {
      "name": "python3",
      "display_name": "Python 3"
    },
    "language_info": {
      "name": "python"
    }
  },
  "cells": [
    {
      "cell_type": "markdown",
      "metadata": {
        "id": "view-in-github",
        "colab_type": "text"
      },
      "source": [
        "<a href=\"https://colab.research.google.com/github/geo-tp/Keras-Colaboratory-Models/blob/main/pretrained_word_embeddings.ipynb\" target=\"_parent\"><img src=\"https://colab.research.google.com/assets/colab-badge.svg\" alt=\"Open In Colab\"/></a>"
      ]
    },
    {
      "cell_type": "markdown",
      "source": [
        "# Glove Word Embeddings"
      ],
      "metadata": {
        "id": "Nh2qvskmWXDE"
      }
    },
    {
      "cell_type": "markdown",
      "source": [
        "## Import"
      ],
      "metadata": {
        "id": "IQN7RrfFWna6"
      }
    },
    {
      "cell_type": "code",
      "source": [
        "import os\n",
        "import numpy as np\n",
        "import pandas as pd\n",
        "import seaborn as sn\n",
        "import tensorflow as tf\n",
        "import matplotlib.pyplot as plt\n",
        "from sklearn.metrics import confusion_matrix\n",
        "from keras.preprocessing.text import Tokenizer\n",
        "from keras.utils import pad_sequences\n",
        "from keras.models import Sequential\n",
        "from keras.layers import Embedding, Flatten, Dense, LSTM,\\\n",
        "                         TextVectorization, MaxPooling1D, Dropout"
      ],
      "metadata": {
        "id": "qohDhqBIcNTi"
      },
      "execution_count": 79,
      "outputs": []
    },
    {
      "cell_type": "markdown",
      "source": [
        "## Dataset"
      ],
      "metadata": {
        "id": "Y1IaP0hEWq6F"
      }
    },
    {
      "cell_type": "code",
      "source": [
        "# Dataset - 2880 movie reviews from IMDB (raw string)\n",
        "# 1440 negatives and 1440 positives reviews\n",
        "\n",
        "imdb_dir = '/content/drive/MyDrive/imdb-dataset/'\n",
        "train_dir = os.path.join(imdb_dir, 'train')\n",
        "\n",
        "labels = []\n",
        "texts = []\n",
        "\n",
        "for label_type in ['neg', 'pos']:\n",
        "  dir_name = os.path.join(train_dir, label_type)\n",
        "  for fname in os.listdir(dir_name):\n",
        "    if fname[-4:] == '.txt':\n",
        "      f = open(os.path.join(dir_name, fname))\n",
        "      texts.append(f.read())\n",
        "      f.close()\n",
        "      if label_type == 'neg':\n",
        "        labels.append(0)\n",
        "      else:\n",
        "        labels.append(1)\n",
        "\n",
        "print(\"Example from dataset : \", texts[0])\n",
        "print(\"Sentiment : \", \"Negative\" if labels[0] == 0 else \"Positive\")"
      ],
      "metadata": {
        "id": "POiqjunJbAL5",
        "colab": {
          "base_uri": "https://localhost:8080/"
        },
        "outputId": "20da466c-611c-4893-a6a9-b8e6857cbad3"
      },
      "execution_count": 80,
      "outputs": [
        {
          "output_type": "stream",
          "name": "stdout",
          "text": [
            "Example from dataset :  Perhaps I'm being too generous when I give this film two and a half stars out of five, but there was an occasional moment. However, as \"An American Werewolf\" movie this one is a missed chance! There are no real plot connections to the superior original to speak of, but the story is similar in some ways to \"London\".<br /><br />*Possible Spoiler Warning* American kids go to foreign country, one falls in love with a beautiful girl. Another one of the kids gets slaughtered by a werewolf in the same night that one gets bitten, and despite his undead friend's warnings, by the light of the full moon he sprouts fur, fangs, and claws!<br /><br />But there are some differences in the story, for one; the girl is one of the werewolves. Second; there are three American Kids. And third; there's some weird-@$$ werewolf cult intent on taking over the world! As crazy as it sounds, that last one, WASN'T a joke! *Spoiler Ends*<br /><br />The films suffers from many things, first the weak acting drags it down immensely! Tom Everret Scott's performance is amatuerish at best, and he and Julie Delpy, who plays his love interest, don't seem to have any chemistry together at all. Second; A weak script that seems to be all over the place. Many elements of suspense and dark comedy, that made the original one great, are missing in this one. And whoever said that eating out the heart of the werewolf that bit you will change you back human? Last I heard this wasn't part of werewolf lore at all! Third; terrible special effects; The werewolf effects are done with computer animation, which works for things such as dinosaurs, ghosts, and space ships. But seems choppy, fake and artificial, when used for furry creatures like werewolves.<br /><br />However there were a few things that saved this one from total \"turkeydom\", there's one hilarious scene in a Paris cafe when Andy (Scott) is having coffee with Serafine (Delpy), he drops a bunch of condoms on the table, and tries to pass them off as chewing gum, by chewing and blowing a bubble! Also; the soundtrack, a very cool mix of alternative rock bands like Bush and Smashmouth. Although none of the songs have the word \"moon\" in their title, like the original movie, the soundtrack is great nontheless. And another funny scene when a rotting corpse, played by Julie Bowen, attempts to whistle and her eyeball pops out, had me laughing out loud.<br /><br />But as a whole this film seems to lack the wit and suspense of the original. And the overly contrived ending doesn't help it out much either.<br /><br />**1/2 Two and a half Out of Five Stars (Average.)\n",
            "Sentiment :  Negative\n"
          ]
        }
      ]
    },
    {
      "cell_type": "markdown",
      "source": [
        "## Preprocessing"
      ],
      "metadata": {
        "id": "DIfEtr4d7DG3"
      }
    },
    {
      "cell_type": "code",
      "source": [
        "import re\n",
        "\n",
        "def regularize(text):\n",
        "  text =  re.sub('[^a-zA-Z0-9 \\n\\.]', '', text) # remove special chars\n",
        "  \n",
        "  return text\n",
        "\n",
        "regularized_texts = [regularize(text) for text in texts]\n"
      ],
      "metadata": {
        "id": "YC0LVQNx7vul"
      },
      "execution_count": 81,
      "outputs": []
    },
    {
      "cell_type": "code",
      "source": [
        "# Preprocessing - sentences to sequences\n",
        "\n",
        "maxlen = 200\n",
        "max_words = 10000\n",
        "\n",
        "tokenizer = Tokenizer(num_words=max_words)\n",
        "tokenizer.fit_on_texts(regularized_texts)\n",
        "sequences = tokenizer.texts_to_sequences(regularized_texts)\n",
        "\n",
        "word_index = tokenizer.word_index\n",
        "print('Found %s unique tokens.' % len(word_index))\n",
        "\n",
        "data = pad_sequences(sequences, maxlen=maxlen, padding=\"post\")\n",
        "labels = np.asarray(labels)\n",
        "print('Shape of data tensor:', data.shape)\n",
        "print('Shape of label tensor:', labels.shape)"
      ],
      "metadata": {
        "colab": {
          "base_uri": "https://localhost:8080/"
        },
        "id": "ZEviv230cUfw",
        "outputId": "74f40425-c9d8-4b17-882c-a0f0700a1acb"
      },
      "execution_count": 82,
      "outputs": [
        {
          "output_type": "stream",
          "name": "stdout",
          "text": [
            "Found 32215 unique tokens.\n",
            "Shape of data tensor: (2880, 200)\n",
            "Shape of label tensor: (2880,)\n"
          ]
        }
      ]
    },
    {
      "cell_type": "code",
      "source": [
        "# Splitting for test set\n",
        "\n",
        "indices = np.arange(data.shape[0])\n",
        "np.random.shuffle(indices)\n",
        "\n",
        "x_set = data[indices]\n",
        "y_set = labels[indices]\n",
        "\n",
        "test_sep = int(len(x_set) * 0.2)\n",
        "\n",
        "x_train = x_set[test_sep:]\n",
        "y_train = y_set[test_sep:]\n",
        "\n",
        "x_test = x_set[:test_sep]\n",
        "y_test = y_set[:test_sep]\n",
        "\n",
        "print(\"Found {} elements for train set\".format(len(x_train)))\n",
        "print(\"Found {} elements for test set\".format(len(x_test)))\n"
      ],
      "metadata": {
        "colab": {
          "base_uri": "https://localhost:8080/"
        },
        "id": "69Fjei8oYPbG",
        "outputId": "82feda02-b836-444c-9cf0-0f30d41835ba"
      },
      "execution_count": 83,
      "outputs": [
        {
          "output_type": "stream",
          "name": "stdout",
          "text": [
            "Found 2304 elements for train set\n",
            "Found 576 elements for test set\n"
          ]
        }
      ]
    },
    {
      "cell_type": "markdown",
      "source": [
        "## Glove"
      ],
      "metadata": {
        "id": "ytbXb_kJWu6x"
      }
    },
    {
      "cell_type": "code",
      "source": [
        "# Parsing Glove file - 400 000 word vectors of 100 dims\n",
        "\n",
        "glove_dir = '/content/drive/MyDrive/glove/'\n",
        "embeddings_index = {}\n",
        "\n",
        "f = open(os.path.join(glove_dir, 'glove.6B.100d.txt'))\n",
        "\n",
        "for line in f:\n",
        "  values = line.split()\n",
        "  word = values[0]\n",
        "  coefs = np.asarray(values[1:], dtype='float32')\n",
        "  embeddings_index[word] = coefs\n",
        "\n",
        "f.close()\n",
        "\n",
        "print('Found %s word vectors.' % len(embeddings_index))"
      ],
      "metadata": {
        "colab": {
          "base_uri": "https://localhost:8080/"
        },
        "id": "QWIgKfVZKZMf",
        "outputId": "cd21e338-7b89-4255-9dbb-445201fcf5e4"
      },
      "execution_count": 84,
      "outputs": [
        {
          "output_type": "stream",
          "name": "stdout",
          "text": [
            "Found 400000 word vectors.\n"
          ]
        }
      ]
    },
    {
      "cell_type": "code",
      "source": [
        "# Preparing Glove word embeddings matrix\n",
        "\n",
        "embedding_dim = 100\n",
        "hit = 0\n",
        "misses = []\n",
        "embedding_matrix = np.zeros((max_words, embedding_dim))\n",
        "\n",
        "print(max_words)\n",
        "\n",
        "for word, i in word_index.items():\n",
        "  \n",
        "  if i == max_words:\n",
        "    break\n",
        "  \n",
        "  embedding_vector = embeddings_index.get(word)\n",
        "\n",
        "  if embedding_vector is not None:\n",
        "    embedding_matrix[i] = embedding_vector\n",
        "    hit += 1\n",
        "  else:\n",
        "    misses.append(word)\n",
        "\n",
        "\n",
        "print(\"Found Terms : {} | Not Found Terms : {}\".format(hit, len(misses)))\n",
        "print(\"Not found samples : \", misses[:20])"
      ],
      "metadata": {
        "id": "TrvmT4okLL36",
        "colab": {
          "base_uri": "https://localhost:8080/"
        },
        "outputId": "89248b59-048d-4107-92bc-ca0e456a3969"
      },
      "execution_count": 85,
      "outputs": [
        {
          "output_type": "stream",
          "name": "stdout",
          "text": [
            "10000\n",
            "Found Terms : 9747 | Not Found Terms : 252\n",
            "Not found samples :  ['youve', 'clichs', 'lowbudget', 'bmovie', 'werent', 'shouldnt', 'hitchcocks', 'clichd', 'chanwook', 'brunos', 'overthetop', 'raisuli', 'couldve', 'fishmen', 'thebr', 'hadnt', 'writerdirector', 'sakall', 'wouldve', 'theyve']\n"
          ]
        }
      ]
    },
    {
      "cell_type": "code",
      "source": [
        "from scipy.spatial.distance import cosine\n",
        "\n",
        "# Example of similarity for two words\n",
        "\n",
        "word1 = embeddings_index[\"hello\"]\n",
        "word2 = embeddings_index[\"hi\"]\n",
        "\n",
        "similarity = cosine(word1, word2)\n",
        "\n",
        "print(\"Similarity : {}%\".format(similarity * 100))"
      ],
      "metadata": {
        "colab": {
          "base_uri": "https://localhost:8080/"
        },
        "id": "Ywb9_srlzbLf",
        "outputId": "20f1777b-09c8-444b-a866-16d2e12558ed"
      },
      "execution_count": 86,
      "outputs": [
        {
          "output_type": "stream",
          "name": "stdout",
          "text": [
            "Similarity : 59.54926311969757%\n"
          ]
        }
      ]
    },
    {
      "cell_type": "markdown",
      "source": [
        "## Model"
      ],
      "metadata": {
        "id": "1YthM4vZWyB2"
      }
    },
    {
      "cell_type": "code",
      "source": [
        "# Model defintion - This model should predict the sentiment of a review\n",
        "\n",
        "model = Sequential()\n",
        "\n",
        "model.add(Embedding(max_words, embedding_dim, input_length=maxlen))\n",
        "model.add(Flatten())\n",
        "model.add(Dense(32, activation='relu'))\n",
        "model.add(Dense(1, activation='sigmoid'))\n",
        "\n",
        "model.summary()"
      ],
      "metadata": {
        "colab": {
          "base_uri": "https://localhost:8080/"
        },
        "id": "u2frejoHgG_K",
        "outputId": "e45bda51-2d62-4894-d935-461c6176936c"
      },
      "execution_count": 87,
      "outputs": [
        {
          "output_type": "stream",
          "name": "stdout",
          "text": [
            "Model: \"sequential_10\"\n",
            "_________________________________________________________________\n",
            " Layer (type)                Output Shape              Param #   \n",
            "=================================================================\n",
            " embedding_10 (Embedding)    (None, 200, 100)          1000000   \n",
            "                                                                 \n",
            " flatten_5 (Flatten)         (None, 20000)             0         \n",
            "                                                                 \n",
            " dense_15 (Dense)            (None, 32)                640032    \n",
            "                                                                 \n",
            " dense_16 (Dense)            (None, 1)                 33        \n",
            "                                                                 \n",
            "=================================================================\n",
            "Total params: 1,640,065\n",
            "Trainable params: 1,640,065\n",
            "Non-trainable params: 0\n",
            "_________________________________________________________________\n"
          ]
        }
      ]
    },
    {
      "cell_type": "code",
      "source": [
        "# Freeze model and set embedding matrix\n",
        "\n",
        "model.layers[0].set_weights([embedding_matrix])\n",
        "model.layers[0].trainable = False"
      ],
      "metadata": {
        "id": "kCU9A6oTN3bl"
      },
      "execution_count": 88,
      "outputs": []
    },
    {
      "cell_type": "markdown",
      "source": [
        "## Training"
      ],
      "metadata": {
        "id": "g6iLaEUuW0uW"
      }
    },
    {
      "cell_type": "code",
      "source": [
        "# Training\n",
        "\n",
        "model.compile(optimizer='rmsprop',\n",
        "              loss='binary_crossentropy',\n",
        "              metrics=['acc'])\n",
        "\n",
        "history = model.fit(x_train, y_train,\n",
        "                    epochs=10,\n",
        "                    batch_size=32,\n",
        "                    validation_split=0.2)\n",
        "\n",
        "model.save_weights('pre_trained_glove_model.h5')"
      ],
      "metadata": {
        "colab": {
          "base_uri": "https://localhost:8080/"
        },
        "id": "cCVkIX2DODWd",
        "outputId": "55d4960c-344f-48bf-9c62-08b5d513645c"
      },
      "execution_count": 89,
      "outputs": [
        {
          "output_type": "stream",
          "name": "stdout",
          "text": [
            "Epoch 1/10\n",
            "58/58 [==============================] - 2s 16ms/step - loss: 1.0307 - acc: 0.4981 - val_loss: 0.6891 - val_acc: 0.5401\n",
            "Epoch 2/10\n",
            "58/58 [==============================] - 1s 13ms/step - loss: 0.7797 - acc: 0.6001 - val_loss: 0.6286 - val_acc: 0.6399\n",
            "Epoch 3/10\n",
            "58/58 [==============================] - 1s 12ms/step - loss: 0.5709 - acc: 0.7271 - val_loss: 0.6500 - val_acc: 0.6356\n",
            "Epoch 4/10\n",
            "58/58 [==============================] - 1s 13ms/step - loss: 0.3960 - acc: 0.8275 - val_loss: 1.0811 - val_acc: 0.5293\n",
            "Epoch 5/10\n",
            "58/58 [==============================] - 1s 13ms/step - loss: 0.2887 - acc: 0.8828 - val_loss: 0.6611 - val_acc: 0.6573\n",
            "Epoch 6/10\n",
            "58/58 [==============================] - 1s 17ms/step - loss: 0.2022 - acc: 0.9230 - val_loss: 0.7380 - val_acc: 0.6399\n",
            "Epoch 7/10\n",
            "58/58 [==============================] - 1s 23ms/step - loss: 0.1174 - acc: 0.9691 - val_loss: 1.0905 - val_acc: 0.5987\n",
            "Epoch 8/10\n",
            "58/58 [==============================] - 1s 23ms/step - loss: 0.1008 - acc: 0.9620 - val_loss: 0.8637 - val_acc: 0.6291\n",
            "Epoch 9/10\n",
            "58/58 [==============================] - 1s 23ms/step - loss: 0.0625 - acc: 0.9778 - val_loss: 1.3783 - val_acc: 0.5640\n",
            "Epoch 10/10\n",
            "58/58 [==============================] - 1s 16ms/step - loss: 0.0407 - acc: 0.9875 - val_loss: 1.7780 - val_acc: 0.5445\n"
          ]
        }
      ]
    },
    {
      "cell_type": "markdown",
      "source": [
        "## Results"
      ],
      "metadata": {
        "id": "yM5hNq0bW2xX"
      }
    },
    {
      "cell_type": "code",
      "source": [
        "acc = history.history['acc']\n",
        "val_acc = history.history['val_acc']\n",
        "loss = history.history['loss']\n",
        "val_loss = history.history['val_loss']\n",
        "epochs = range(1, len(acc) + 1)\n",
        "\n",
        "plt.plot(epochs, acc, label='Training acc')\n",
        "plt.plot(epochs, val_acc, label='Validation acc')\n",
        "plt.title('Training and validation accuracy')\n",
        "plt.legend()\n",
        "\n",
        "plt.figure()\n",
        "plt.plot(epochs, loss, label='Training loss')\n",
        "plt.plot(epochs, val_loss, label='Validation loss')\n",
        "plt.title('Training and validation loss')\n",
        "plt.legend()\n",
        "\n",
        "plt.show()"
      ],
      "metadata": {
        "colab": {
          "base_uri": "https://localhost:8080/",
          "height": 545
        },
        "id": "7sww98lZOY4c",
        "outputId": "abdefbb1-0072-4ddc-c565-6dd765dadf5d"
      },
      "execution_count": 90,
      "outputs": [
        {
          "output_type": "display_data",
          "data": {
            "text/plain": [
              "<Figure size 432x288 with 1 Axes>"
            ],
            "image/png": "[encoded data removed]"
          },
          "metadata": {
            "needs_background": "light"
          }
        },
        {
          "output_type": "display_data",
          "data": {
            "text/plain": [
              "<Figure size 432x288 with 1 Axes>"
            ],
            "image/png": "[encoded data removed]"
          },
          "metadata": {
            "needs_background": "light"
          }
        }
      ]
    },
    {
      "cell_type": "code",
      "source": [
        "# Evaluate\n",
        "\n",
        "loss, acc  = model.evaluate(x_test, y_test)\n",
        "print(\"Accuracy : {}%\".format(acc*100))"
      ],
      "metadata": {
        "colab": {
          "base_uri": "https://localhost:8080/"
        },
        "id": "9sALRI0FYGx3",
        "outputId": "eac05672-5e96-4515-c296-1eda2ab80d48"
      },
      "execution_count": 91,
      "outputs": [
        {
          "output_type": "stream",
          "name": "stdout",
          "text": [
            "18/18 [==============================] - 0s 5ms/step - loss: 1.7977 - acc: 0.5365\n",
            "Accuracy : 53.64583134651184%\n"
          ]
        }
      ]
    }
  ]
}