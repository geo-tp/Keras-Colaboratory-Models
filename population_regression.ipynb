{
  "nbformat": 4,
  "nbformat_minor": 0,
  "metadata": {
    "colab": {
      "provenance": [],
      "mount_file_id": "1l9kTvucsrqkmOnKmJmhHZ-VeZpnnPXjA",
      "authorship_tag": "ABX9TyNtD07Qymd9NT5RI7WTE6e5",
      "include_colab_link": true
    },
    "kernelspec": {
      "name": "python3",
      "display_name": "Python 3"
    },
    "language_info": {
      "name": "python"
    }
  },
  "cells": [
    {
      "cell_type": "markdown",
      "metadata": {
        "id": "view-in-github",
        "colab_type": "text"
      },
      "source": [
        "<a href=\"https://colab.research.google.com/github/geo-tp/Keras-Colaboratory-Models/blob/main/population_regression.ipynb\" target=\"_parent\"><img src=\"https://colab.research.google.com/assets/colab-badge.svg\" alt=\"Open In Colab\"/></a>"
      ]
    },
    {
      "cell_type": "markdown",
      "source": [
        "# Predict the number of inhabitants of a French municipaly\n",
        "\n"
      ],
      "metadata": {
        "id": "VrwmO76DRMBc"
      }
    },
    {
      "cell_type": "markdown",
      "source": [
        "## Import"
      ],
      "metadata": {
        "id": "_knGOwKCRpYd"
      }
    },
    {
      "cell_type": "code",
      "execution_count": 13,
      "metadata": {
        "id": "rlRm32dJD7wP"
      },
      "outputs": [],
      "source": [
        "from sys import path\n",
        "import pandas as pd\n",
        "import numpy as np\n",
        "import random\n",
        "from time import mktime\n",
        "from datetime import datetime\n",
        "from keras import models\n",
        "from keras import layers\n",
        "from keras.callbacks import Callback, LearningRateScheduler"
      ]
    },
    {
      "cell_type": "markdown",
      "source": [
        "## Dataset"
      ],
      "metadata": {
        "id": "Y_j_jEhTRq30"
      }
    },
    {
      "cell_type": "code",
      "source": [
        "# CSV file MDB-INSEE-V2 - 36679 records about French municipalities\n",
        "# 92 columns, we will only use 17 of them\n",
        "\n",
        "base_dir = path[0] + \"/drive/MyDrive/communes-dataset/\"\n",
        "\n",
        "csv_file = pd.read_csv(\n",
        "    base_dir + \"MDB-INSEE-V2.csv\",\n",
        "    usecols=[\n",
        "        # features\n",
        "        \"Nb Pharmacies et parfumerie\",\n",
        "        \"Dynamique Entrepreneuriale\",\n",
        "        \"Dynamique Entrepreneuriale Service et Commerce\",\n",
        "        \"Nb Omnipraticiens BV\",\n",
        "        \"Nb Infirmiers Libéraux BV\",\n",
        "        \"Nb dentistes Libéraux BV\",\n",
        "        \"Nb pharmaciens Libéraux BV\",\n",
        "        \"Nb Logement\",\n",
        "        \"Nb Résidences Secondaires\",\n",
        "        \"Nb Log Vacants\",\n",
        "        \"Nb Entreprises Secteur Services\",\n",
        "        \"Nb Entreprises Secteur Commerce\",\n",
        "        \"Nb Entreprises Secteur Construction\",\n",
        "        \"Nb Entreprises Secteur Industrie\",\n",
        "        \"Nb Création Enteprises\",\n",
        "        \"Nb Hotel\",\n",
        "        \"Nb Camping\",\n",
        "        \n",
        "        # target\n",
        "        \"Population\"\n",
        "    ],\n",
        ")\n",
        "\n",
        "# Shuffle\n",
        "csv_file = csv_file.sample(frac=1)\n",
        "\n",
        "print(\"Example of an entry from dataset\")\n",
        "print(csv_file.loc[[0]])"
      ],
      "metadata": {
        "colab": {
          "base_uri": "https://localhost:8080/"
        },
        "id": "C1eHKCnRNidi",
        "outputId": "5982d1bc-74c1-4821-fc0f-fe84b177b91a"
      },
      "execution_count": 14,
      "outputs": [
        {
          "output_type": "stream",
          "name": "stdout",
          "text": [
            "Example of an entry from dataset\n",
            "   Nb Pharmacies et parfumerie  Dynamique Entrepreneuriale  \\\n",
            "0                          0.0                        57.0   \n",
            "\n",
            "   Dynamique Entrepreneuriale Service et Commerce  Nb Omnipraticiens BV  \\\n",
            "0                                            23.0                     9   \n",
            "\n",
            "   Nb Infirmiers Libéraux BV  Nb dentistes Libéraux BV  \\\n",
            "0                         14                         7   \n",
            "\n",
            "   Nb pharmaciens Libéraux BV  Population  Nb Logement  \\\n",
            "0                           7         725          289   \n",
            "\n",
            "   Nb Résidences Secondaires  Nb Log Vacants  Nb Entreprises Secteur Services  \\\n",
            "0                         32               9                              7.0   \n",
            "\n",
            "   Nb Entreprises Secteur Commerce  Nb Entreprises Secteur Construction  \\\n",
            "0                             11.0                                  2.0   \n",
            "\n",
            "   Nb Entreprises Secteur Industrie  Nb Création Enteprises  Nb Hotel  \\\n",
            "0                               2.0                     4.0       0.0   \n",
            "\n",
            "   Nb Camping  \n",
            "0         0.0  \n"
          ]
        }
      ]
    },
    {
      "cell_type": "code",
      "source": [
        "# Preprocessing\n",
        "\n",
        "# Get targets and remove it from csv\n",
        "y_set = csv_file[\"Population\"].to_numpy()\n",
        "csv_file = csv_file.drop('Population',axis=1)\n",
        "\n",
        "# Get features\n",
        "x_set = csv_file.values\n",
        "x_set = x_set.astype(int)\n",
        "\n",
        "# Harmonize values to be on the same range\n",
        "mean = x_set.mean(axis=0)\n",
        "x_set = x_set - mean\n",
        "std = x_set.std(axis=0)\n",
        "x_set /= std\n",
        "\n",
        "# Devide values to be smaller\n",
        "y_set = y_set.astype(float)\n",
        "y_set /= 1000.\n",
        "\n",
        "print(\"Example of a preprocessed data\")\n",
        "print(\"Features : \", x_set[0])\n",
        "print(\"Population : \", y_set[0])"
      ],
      "metadata": {
        "colab": {
          "base_uri": "https://localhost:8080/"
        },
        "id": "E1OcQcsZNo1L",
        "outputId": "aaaf696c-f9ec-45e9-b085-a417107621ff"
      },
      "execution_count": 15,
      "outputs": [
        {
          "output_type": "stream",
          "name": "stdout",
          "text": [
            "Example of a preprocessed data\n",
            "Features :  [ 0.00522167  0.00522167  0.00522167 -0.36098056 -0.31662508 -0.2955355\n",
            " -0.2955355   0.02650193 -0.12414174  0.00920797  0.00522167  0.00522167\n",
            "  0.00522167  0.00522167  0.00522167  0.05534472  0.05534472]\n",
            "Population :  2.568\n"
          ]
        }
      ]
    },
    {
      "cell_type": "code",
      "source": [
        "# Splitting set to train, validation, and test\n",
        "\n",
        "samples_number = y_set.shape[0]\n",
        "\n",
        "test_split = round(samples_number * 0.2)\n",
        "validation_split = round((samples_number - test_split) * 0.2) + test_split\n",
        "\n",
        "x_test = x_set[:test_split]\n",
        "y_test = y_set[:test_split]\n",
        "\n",
        "x_val = x_set[test_split:validation_split]\n",
        "y_val = y_set[test_split:validation_split]\n",
        "\n",
        "x_train = x_set[validation_split:]\n",
        "y_train = y_set[validation_split:]"
      ],
      "metadata": {
        "id": "q1W6xJQ6TwG-"
      },
      "execution_count": 16,
      "outputs": []
    },
    {
      "cell_type": "markdown",
      "source": [
        "## Model"
      ],
      "metadata": {
        "id": "3gZqDn5NXRXG"
      }
    },
    {
      "cell_type": "code",
      "source": [
        "# MODEL DEFINITION - this model should predict the number of inhabitants\n",
        "\n",
        "model = models.Sequential()\n",
        "model.add(layers.Dense(32, activation=\"relu\", input_shape=(x_train.shape[1],)))\n",
        "model.add(layers.Dense(1))\n",
        "\n",
        "model.compile(optimizer=\"rmsprop\", loss=\"mse\", metrics=['mae'])"
      ],
      "metadata": {
        "id": "gylnW15sTgg6"
      },
      "execution_count": 17,
      "outputs": []
    },
    {
      "cell_type": "markdown",
      "source": [
        "## Training"
      ],
      "metadata": {
        "id": "BzQULGVlXTPj"
      }
    },
    {
      "cell_type": "code",
      "source": [
        "# TRAINING\n",
        "\n",
        "epochs = 10\n",
        "history = model.fit(\n",
        "    x_train, y_train, \n",
        "    validation_data=(x_val, y_val), \n",
        "    epochs=epochs,\n",
        "    batch_size=1, \n",
        ")\n",
        "     "
      ],
      "metadata": {
        "colab": {
          "base_uri": "https://localhost:8080/"
        },
        "id": "kJjTg7eiTnGh",
        "outputId": "e28dc6fe-fff4-4392-d92d-29eb0420eb5c"
      },
      "execution_count": 18,
      "outputs": [
        {
          "output_type": "stream",
          "name": "stdout",
          "text": [
            "Epoch 1/10\n",
            "23474/23474 [==============================] - 50s 2ms/step - loss: 25.1569 - mae: 0.5096 - val_loss: 1.4719 - val_mae: 0.2120\n",
            "Epoch 2/10\n",
            "23474/23474 [==============================] - 47s 2ms/step - loss: 7.2467 - mae: 0.2284 - val_loss: 1.3128 - val_mae: 0.1673\n",
            "Epoch 3/10\n",
            "23474/23474 [==============================] - 53s 2ms/step - loss: 11.4180 - mae: 0.2139 - val_loss: 1.3821 - val_mae: 0.1653\n",
            "Epoch 4/10\n",
            "23474/23474 [==============================] - 49s 2ms/step - loss: 19.5297 - mae: 0.2212 - val_loss: 1.2865 - val_mae: 0.1743\n",
            "Epoch 5/10\n",
            "23474/23474 [==============================] - 47s 2ms/step - loss: 16.6171 - mae: 0.2166 - val_loss: 0.9695 - val_mae: 0.1422\n",
            "Epoch 6/10\n",
            "23474/23474 [==============================] - 46s 2ms/step - loss: 4.0553 - mae: 0.1938 - val_loss: 0.9847 - val_mae: 0.1624\n",
            "Epoch 7/10\n",
            "23474/23474 [==============================] - 45s 2ms/step - loss: 3.2790 - mae: 0.1868 - val_loss: 1.1465 - val_mae: 0.1601\n",
            "Epoch 8/10\n",
            "23474/23474 [==============================] - 52s 2ms/step - loss: 15.3964 - mae: 0.2028 - val_loss: 1.1773 - val_mae: 0.1733\n",
            "Epoch 9/10\n",
            "23474/23474 [==============================] - 51s 2ms/step - loss: 28.6459 - mae: 0.2163 - val_loss: 1.0663 - val_mae: 0.1806\n",
            "Epoch 10/10\n",
            "23474/23474 [==============================] - 46s 2ms/step - loss: 17.9754 - mae: 0.2056 - val_loss: 0.9055 - val_mae: 0.1762\n"
          ]
        }
      ]
    },
    {
      "cell_type": "markdown",
      "source": [
        "## Results"
      ],
      "metadata": {
        "id": "YeQS8AvvXXB9"
      }
    },
    {
      "cell_type": "code",
      "source": [
        "# LOG RESULTS - Max Average Error on train set and validation set\n",
        "# MAE of 0.4 means prediction is average 400 inhabitants off from true value\n",
        "\n",
        "import matplotlib.pyplot as plt\n",
        "\n",
        "epochs_range = range(1,epochs+1)\n",
        "plt.plot(epochs_range, history.history[\"mae\"], label=\"MAE\")\n",
        "plt.plot(epochs_range, history.history[\"val_mae\"], label=\"VAL MAE\")\n",
        "plt.legend()\n",
        "\n",
        "plt.xlabel('Epochs')\n",
        "plt.ylabel('Validation MAE')\n",
        "plt.show()"
      ],
      "metadata": {
        "colab": {
          "base_uri": "https://localhost:8080/",
          "height": 279
        },
        "id": "QYOxfqgNTpF0",
        "outputId": "2ba6a532-17d6-4424-f97c-c2bac37a1d3c"
      },
      "execution_count": 21,
      "outputs": [
        {
          "output_type": "display_data",
          "data": {
            "text/plain": [
              "<Figure size 432x288 with 1 Axes>"
            ],
            "image/png": "[encoded data removed]"
          },
          "metadata": {
            "needs_background": "light"
          }
        }
      ]
    },
    {
      "cell_type": "code",
      "source": [
        "# EVALUATION\n",
        "\n",
        "loss, mae = model.evaluate(x_test, y_test)\n",
        "print (\"Average population error : {} inhabitants\".format(round(mae * 1000)))"
      ],
      "metadata": {
        "colab": {
          "base_uri": "https://localhost:8080/"
        },
        "id": "mqW81xeCTrOc",
        "outputId": "78d1d92b-6992-464c-c901-ead760de242b"
      },
      "execution_count": 22,
      "outputs": [
        {
          "output_type": "stream",
          "name": "stdout",
          "text": [
            "230/230 [==============================] - 0s 1ms/step - loss: 0.7807 - mae: 0.1680\n",
            "Average population error : 168 inhabitants\n"
          ]
        }
      ]
    }
  ]
}