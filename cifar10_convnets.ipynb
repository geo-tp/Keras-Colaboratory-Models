{
  "cells": [
    {
      "cell_type": "markdown",
      "metadata": {
        "id": "view-in-github",
        "colab_type": "text"
      },
      "source": [
        "<a href=\"https://colab.research.google.com/github/geo-tp/Keras-Colaboratory-Models/blob/main/cifar10_convnets.ipynb\" target=\"_parent\"><img src=\"https://colab.research.google.com/assets/colab-badge.svg\" alt=\"Open In Colab\"/></a>"
      ]
    },
    {
      "cell_type": "markdown",
      "metadata": {
        "id": "XKZ4xiGWW4ID"
      },
      "source": [
        "#Cifar10 Convnets\n"
      ]
    },
    {
      "cell_type": "markdown",
      "metadata": {
        "id": "DUJgzOhXW8Fe"
      },
      "source": [
        "##Import"
      ]
    },
    {
      "cell_type": "code",
      "execution_count": 82,
      "metadata": {
        "id": "W6mrkcXYWwD3"
      },
      "outputs": [],
      "source": [
        "import tensorflow as tf\n",
        "import numpy as np\n",
        "import seaborn as sn\n",
        "import pandas as pd\n",
        "import matplotlib.pyplot as plt\n",
        "from tensorflow import keras\n",
        "from keras import regularizers, optimizers, models, layers\n",
        "from keras.preprocessing.image import ImageDataGenerator\n",
        "from keras.callbacks import Callback, EarlyStopping, ModelCheckpoint\n",
        "from sklearn.metrics import confusion_matrix"
      ]
    },
    {
      "cell_type": "markdown",
      "metadata": {
        "id": "NBPjKOrbW2rO"
      },
      "source": [
        "##Dataset"
      ]
    },
    {
      "cell_type": "code",
      "execution_count": 84,
      "metadata": {
        "colab": {
          "base_uri": "https://localhost:8080/",
          "height": 293
        },
        "id": "JQsteW9xW2Ck",
        "outputId": "14d0376d-1c98-49db-fa3a-476322c2d322"
      },
      "outputs": [
        {
          "output_type": "display_data",
          "data": {
            "text/plain": [
              "<Figure size 432x288 with 1 Axes>"
            ],
            "image/png": "[encoded data removed]"
          },
          "metadata": {}
        }
      ],
      "source": [
        "# DATASET - 50,000 32x32 color training images, 10,000 test images\n",
        "# Labeled over 10 categories\n",
        "\n",
        "(x_train, y_train), (x_test, y_test) = tf.keras.datasets.cifar10.load_data()\n",
        "\n",
        "# Show img example\n",
        "img = x_train[0]\n",
        "plt.imshow(img)\n",
        "plt.title(\"Example from cifar10 dataset\")\n",
        "\n",
        "# Processing data\n",
        "x_train = x_train.astype(\"float32\") / 255\n",
        "x_test = x_test.astype(\"float32\") / 255\n",
        "y_train = keras.utils.to_categorical(y_train)\n",
        "y_test = keras.utils.to_categorical(y_test)\n",
        "\n",
        "batch_size = 64\n",
        "\n",
        "# Data augmentation to generates img variation\n",
        "data_gen = ImageDataGenerator(\n",
        "            shear_range=0.2,\n",
        "            zoom_range=0.2,\n",
        "            validation_split=0.2,\n",
        "            horizontal_flip=True,\n",
        "            width_shift_range=0.1)\n",
        "\n",
        "val_data_gen = ImageDataGenerator(validation_split=0.2)\n",
        "\n",
        "# Train and validation data generators\n",
        "train_data_gen = data_gen.flow(x_train, y_train, \n",
        "                               batch_size=batch_size, \n",
        "                               subset=\"training\", seed=111)\n",
        "\n",
        "validation_data_gen = val_data_gen.flow(x_train, y_train, \n",
        "                               batch_size=batch_size,\n",
        "                               subset=\"validation\", seed=111,\n",
        "                               shuffle=False)\n"
      ]
    },
    {
      "cell_type": "markdown",
      "metadata": {
        "id": "_BVHR1jsYBWT"
      },
      "source": [
        "##Model"
      ]
    },
    {
      "cell_type": "code",
      "execution_count": 25,
      "metadata": {
        "colab": {
          "base_uri": "https://localhost:8080/"
        },
        "id": "HedZKLfOaGim",
        "outputId": "20652db5-b3c5-475b-8516-b7276acc7aae"
      },
      "outputs": [
        {
          "output_type": "stream",
          "name": "stdout",
          "text": [
            "Model: \"sequential_8\"\n",
            "_________________________________________________________________\n",
            " Layer (type)                Output Shape              Param #   \n",
            "=================================================================\n",
            " conv2d_31 (Conv2D)          (None, 32, 32, 32)        896       \n",
            "                                                                 \n",
            " conv2d_32 (Conv2D)          (None, 32, 32, 32)        9248      \n",
            "                                                                 \n",
            " max_pooling2d_21 (MaxPoolin  (None, 16, 16, 32)       0         \n",
            " g2D)                                                            \n",
            "                                                                 \n",
            " dropout_29 (Dropout)        (None, 16, 16, 32)        0         \n",
            "                                                                 \n",
            " conv2d_33 (Conv2D)          (None, 16, 16, 64)        18496     \n",
            "                                                                 \n",
            " conv2d_34 (Conv2D)          (None, 16, 16, 64)        36928     \n",
            "                                                                 \n",
            " max_pooling2d_22 (MaxPoolin  (None, 8, 8, 64)         0         \n",
            " g2D)                                                            \n",
            "                                                                 \n",
            " dropout_30 (Dropout)        (None, 8, 8, 64)          0         \n",
            "                                                                 \n",
            " conv2d_35 (Conv2D)          (None, 8, 8, 128)         73856     \n",
            "                                                                 \n",
            " max_pooling2d_23 (MaxPoolin  (None, 4, 4, 128)        0         \n",
            " g2D)                                                            \n",
            "                                                                 \n",
            " dropout_31 (Dropout)        (None, 4, 4, 128)         0         \n",
            "                                                                 \n",
            " flatten_8 (Flatten)         (None, 2048)              0         \n",
            "                                                                 \n",
            " dense_21 (Dense)            (None, 256)               524544    \n",
            "                                                                 \n",
            " dense_22 (Dense)            (None, 256)               65792     \n",
            "                                                                 \n",
            " dropout_32 (Dropout)        (None, 256)               0         \n",
            "                                                                 \n",
            " dense_23 (Dense)            (None, 10)                2570      \n",
            "                                                                 \n",
            "=================================================================\n",
            "Total params: 732,330\n",
            "Trainable params: 732,330\n",
            "Non-trainable params: 0\n",
            "_________________________________________________________________\n"
          ]
        }
      ],
      "source": [
        "# MODEL DEFINITION 2 for GPU - model should predict the class of a given img\n",
        "\n",
        "model = keras.Sequential()\n",
        "\n",
        "# Convnets1\n",
        "model.add(layers.Conv2D(filters=32, kernel_size=3, padding=\"same\", activation=\"relu\", input_shape=x_train.shape[1:]))\n",
        "model.add(layers.Conv2D(filters=32, kernel_size=3, padding=\"same\", activation=\"relu\"))\n",
        "model.add(layers.MaxPool2D(pool_size=2, strides=2))\n",
        "model.add(layers.Dropout(0.2))\n",
        "\n",
        "# Convnets2\n",
        "model.add(layers.Conv2D(filters=64, kernel_size=3, padding=\"same\", activation=\"relu\"))\n",
        "model.add(layers.Conv2D(filters=64, kernel_size=3, padding=\"same\", activation=\"relu\"))\n",
        "model.add(layers.MaxPool2D(pool_size=2, strides=2))\n",
        "model.add(layers.Dropout(0.4))\n",
        "\n",
        "model.add(layers.Conv2D(filters=128, kernel_size=3, padding=\"same\", activation=\"relu\"))\n",
        "model.add(layers.MaxPool2D(pool_size=2, strides=2))\n",
        "model.add(layers.Dropout(0.4))\n",
        "\n",
        "# Flatten\n",
        "model.add(layers.Flatten())\n",
        "\n",
        "# Dense1\n",
        "model.add(layers.Dense(units=256, activation=\"relu\", kernel_regularizer=regularizers.L1L2(l1=0.0001, l2=0.0001))\n",
        ")\n",
        "# Dense2\n",
        "model.add(layers.Dense(units=256, activation=\"relu\", kernel_regularizer=regularizers.L1L2(l1=0.0001, l2=0.0001)))\n",
        "model.add(layers.Dropout(0.4))\n",
        "\n",
        "# Output\n",
        "model.add(layers.Dense(units=10, activation=\"softmax\"))\n",
        "\n",
        "model.compile(\n",
        "    loss='categorical_crossentropy',\n",
        "    optimizer=optimizers.Adam(learning_rate=0.0001),\n",
        "    metrics=[\"acc\"],\n",
        ")\n",
        "\n",
        "model.summary()"
      ]
    },
    {
      "cell_type": "markdown",
      "metadata": {
        "id": "c_sDR2BC1zsH"
      },
      "source": [
        "##Training"
      ]
    },
    {
      "cell_type": "code",
      "source": [
        "# CALLBACK - Control iterations and save the best model possible\n",
        "\n",
        "# Stop iterations regarding to accuracy value\n",
        "early_stop = EarlyStopping(monitor='val_acc', mode='max', verbose=1, patience=30)\n",
        "\n",
        "# Saving model at each epoch if values are better than the previous ones\n",
        "model_checkpoint = ModelCheckpoint('best_model.h5', monitor='val_acc', mode='max', save_best_only=True, verbose=1)"
      ],
      "metadata": {
        "id": "9x74OmYbsw4_"
      },
      "execution_count": 37,
      "outputs": []
    },
    {
      "cell_type": "code",
      "execution_count": 42,
      "metadata": {
        "colab": {
          "base_uri": "https://localhost:8080/"
        },
        "id": "4ERta60tYfb4",
        "outputId": "973d0dce-d285-415d-dbd0-6b2bd9112f69"
      },
      "outputs": [
        {
          "output_type": "stream",
          "name": "stdout",
          "text": [
            "Epoch 1/100\n",
            "625/625 [==============================] - ETA: 0s - loss: 0.6264 - acc: 0.8335\n",
            "Epoch 1: val_acc did not improve from 0.85920\n",
            "625/625 [==============================] - 25s 40ms/step - loss: 0.6264 - acc: 0.8335 - val_loss: 0.5872 - val_acc: 0.8524\n",
            "Epoch 2/100\n",
            "625/625 [==============================] - ETA: 0s - loss: 0.6256 - acc: 0.8321\n",
            "Epoch 2: val_acc did not improve from 0.85920\n",
            "625/625 [==============================] - 24s 38ms/step - loss: 0.6256 - acc: 0.8321 - val_loss: 0.5881 - val_acc: 0.8490\n",
            "Epoch 3/100\n",
            "625/625 [==============================] - ETA: 0s - loss: 0.6239 - acc: 0.8339\n",
            "Epoch 3: val_acc did not improve from 0.85920\n",
            "625/625 [==============================] - 24s 39ms/step - loss: 0.6239 - acc: 0.8339 - val_loss: 0.5860 - val_acc: 0.8507\n",
            "Epoch 4/100\n",
            "624/625 [============================>.] - ETA: 0s - loss: 0.6263 - acc: 0.8318\n",
            "Epoch 4: val_acc did not improve from 0.85920\n",
            "625/625 [==============================] - 25s 39ms/step - loss: 0.6262 - acc: 0.8318 - val_loss: 0.5658 - val_acc: 0.8584\n",
            "Epoch 5/100\n",
            "625/625 [==============================] - ETA: 0s - loss: 0.6200 - acc: 0.8349\n",
            "Epoch 5: val_acc did not improve from 0.85920\n",
            "625/625 [==============================] - 24s 39ms/step - loss: 0.6200 - acc: 0.8349 - val_loss: 0.5862 - val_acc: 0.8515\n",
            "Epoch 6/100\n",
            "625/625 [==============================] - ETA: 0s - loss: 0.6192 - acc: 0.8355\n",
            "Epoch 6: val_acc did not improve from 0.85920\n",
            "625/625 [==============================] - 24s 39ms/step - loss: 0.6192 - acc: 0.8355 - val_loss: 0.6000 - val_acc: 0.8466\n",
            "Epoch 7/100\n",
            "624/625 [============================>.] - ETA: 0s - loss: 0.6243 - acc: 0.8326\n",
            "Epoch 7: val_acc did not improve from 0.85920\n",
            "625/625 [==============================] - 25s 39ms/step - loss: 0.6244 - acc: 0.8325 - val_loss: 0.6196 - val_acc: 0.8427\n",
            "Epoch 8/100\n",
            "625/625 [==============================] - ETA: 0s - loss: 0.6211 - acc: 0.8334\n",
            "Epoch 8: val_acc did not improve from 0.85920\n",
            "625/625 [==============================] - 26s 41ms/step - loss: 0.6211 - acc: 0.8334 - val_loss: 0.5817 - val_acc: 0.8523\n",
            "Epoch 9/100\n",
            "624/625 [============================>.] - ETA: 0s - loss: 0.6179 - acc: 0.8348\n",
            "Epoch 9: val_acc did not improve from 0.85920\n",
            "625/625 [==============================] - 24s 38ms/step - loss: 0.6177 - acc: 0.8348 - val_loss: 0.5703 - val_acc: 0.8563\n",
            "Epoch 10/100\n",
            "625/625 [==============================] - ETA: 0s - loss: 0.6167 - acc: 0.8353\n",
            "Epoch 10: val_acc did not improve from 0.85920\n",
            "625/625 [==============================] - 25s 39ms/step - loss: 0.6167 - acc: 0.8353 - val_loss: 0.5756 - val_acc: 0.8560\n",
            "Epoch 11/100\n",
            "625/625 [==============================] - ETA: 0s - loss: 0.6246 - acc: 0.8324\n",
            "Epoch 11: val_acc did not improve from 0.85920\n",
            "625/625 [==============================] - 25s 40ms/step - loss: 0.6246 - acc: 0.8324 - val_loss: 0.5923 - val_acc: 0.8498\n",
            "Epoch 12/100\n",
            "624/625 [============================>.] - ETA: 0s - loss: 0.6180 - acc: 0.8339\n",
            "Epoch 12: val_acc did not improve from 0.85920\n",
            "625/625 [==============================] - 25s 39ms/step - loss: 0.6181 - acc: 0.8340 - val_loss: 0.5646 - val_acc: 0.8589\n",
            "Epoch 13/100\n",
            "624/625 [============================>.] - ETA: 0s - loss: 0.6135 - acc: 0.8370\n",
            "Epoch 13: val_acc did not improve from 0.85920\n",
            "625/625 [==============================] - 25s 39ms/step - loss: 0.6136 - acc: 0.8369 - val_loss: 0.5768 - val_acc: 0.8540\n",
            "Epoch 14/100\n",
            "624/625 [============================>.] - ETA: 0s - loss: 0.6211 - acc: 0.8355\n",
            "Epoch 14: val_acc did not improve from 0.85920\n",
            "625/625 [==============================] - 26s 41ms/step - loss: 0.6209 - acc: 0.8355 - val_loss: 0.5637 - val_acc: 0.8589\n",
            "Epoch 15/100\n",
            "624/625 [============================>.] - ETA: 0s - loss: 0.6181 - acc: 0.8347\n",
            "Epoch 15: val_acc did not improve from 0.85920\n",
            "625/625 [==============================] - 25s 40ms/step - loss: 0.6182 - acc: 0.8346 - val_loss: 0.5753 - val_acc: 0.8543\n",
            "Epoch 16/100\n",
            "625/625 [==============================] - ETA: 0s - loss: 0.6198 - acc: 0.8335\n",
            "Epoch 16: val_acc did not improve from 0.85920\n",
            "625/625 [==============================] - 25s 39ms/step - loss: 0.6198 - acc: 0.8335 - val_loss: 0.5815 - val_acc: 0.8515\n",
            "Epoch 17/100\n",
            "625/625 [==============================] - ETA: 0s - loss: 0.6173 - acc: 0.8348\n",
            "Epoch 17: val_acc did not improve from 0.85920\n",
            "625/625 [==============================] - 25s 40ms/step - loss: 0.6173 - acc: 0.8348 - val_loss: 0.6021 - val_acc: 0.8455\n",
            "Epoch 18/100\n",
            "625/625 [==============================] - ETA: 0s - loss: 0.6195 - acc: 0.8358\n",
            "Epoch 18: val_acc did not improve from 0.85920\n",
            "625/625 [==============================] - 25s 39ms/step - loss: 0.6195 - acc: 0.8358 - val_loss: 0.5544 - val_acc: 0.8591\n",
            "Epoch 19/100\n",
            "625/625 [==============================] - ETA: 0s - loss: 0.6173 - acc: 0.8345\n",
            "Epoch 19: val_acc did not improve from 0.85920\n",
            "625/625 [==============================] - 25s 39ms/step - loss: 0.6173 - acc: 0.8345 - val_loss: 0.5733 - val_acc: 0.8568\n",
            "Epoch 20/100\n",
            "624/625 [============================>.] - ETA: 0s - loss: 0.6116 - acc: 0.8365\n",
            "Epoch 20: val_acc did not improve from 0.85920\n",
            "625/625 [==============================] - 24s 39ms/step - loss: 0.6117 - acc: 0.8364 - val_loss: 0.5762 - val_acc: 0.8548\n",
            "Epoch 21/100\n",
            "624/625 [============================>.] - ETA: 0s - loss: 0.6178 - acc: 0.8342\n",
            "Epoch 21: val_acc did not improve from 0.85920\n",
            "625/625 [==============================] - 25s 40ms/step - loss: 0.6179 - acc: 0.8342 - val_loss: 0.5826 - val_acc: 0.8512\n",
            "Epoch 22/100\n",
            "624/625 [============================>.] - ETA: 0s - loss: 0.6158 - acc: 0.8358\n",
            "Epoch 22: val_acc did not improve from 0.85920\n",
            "625/625 [==============================] - 25s 39ms/step - loss: 0.6156 - acc: 0.8359 - val_loss: 0.6155 - val_acc: 0.8400\n",
            "Epoch 23/100\n",
            "625/625 [==============================] - ETA: 0s - loss: 0.6109 - acc: 0.8375\n",
            "Epoch 23: val_acc did not improve from 0.85920\n",
            "625/625 [==============================] - 25s 39ms/step - loss: 0.6109 - acc: 0.8375 - val_loss: 0.5726 - val_acc: 0.8547\n",
            "Epoch 24/100\n",
            "625/625 [==============================] - ETA: 0s - loss: 0.6206 - acc: 0.8347\n",
            "Epoch 24: val_acc did not improve from 0.85920\n",
            "625/625 [==============================] - 25s 39ms/step - loss: 0.6206 - acc: 0.8347 - val_loss: 0.5849 - val_acc: 0.8506\n",
            "Epoch 25/100\n",
            "625/625 [==============================] - ETA: 0s - loss: 0.6132 - acc: 0.8373\n",
            "Epoch 25: val_acc did not improve from 0.85920\n",
            "625/625 [==============================] - 26s 42ms/step - loss: 0.6132 - acc: 0.8373 - val_loss: 0.5762 - val_acc: 0.8558\n",
            "Epoch 26/100\n",
            "624/625 [============================>.] - ETA: 0s - loss: 0.6113 - acc: 0.8380\n",
            "Epoch 26: val_acc did not improve from 0.85920\n",
            "625/625 [==============================] - 26s 42ms/step - loss: 0.6114 - acc: 0.8380 - val_loss: 0.6015 - val_acc: 0.8457\n",
            "Epoch 27/100\n",
            "624/625 [============================>.] - ETA: 0s - loss: 0.6113 - acc: 0.8381\n",
            "Epoch 27: val_acc did not improve from 0.85920\n",
            "625/625 [==============================] - 25s 40ms/step - loss: 0.6115 - acc: 0.8381 - val_loss: 0.5794 - val_acc: 0.8540\n",
            "Epoch 28/100\n",
            "624/625 [============================>.] - ETA: 0s - loss: 0.6142 - acc: 0.8372\n",
            "Epoch 28: val_acc did not improve from 0.85920\n",
            "625/625 [==============================] - 25s 41ms/step - loss: 0.6143 - acc: 0.8372 - val_loss: 0.5714 - val_acc: 0.8570\n",
            "Epoch 29/100\n",
            "625/625 [==============================] - ETA: 0s - loss: 0.6126 - acc: 0.8357\n",
            "Epoch 29: val_acc did not improve from 0.85920\n",
            "625/625 [==============================] - 26s 41ms/step - loss: 0.6126 - acc: 0.8357 - val_loss: 0.5777 - val_acc: 0.8526\n",
            "Epoch 30/100\n",
            "625/625 [==============================] - ETA: 0s - loss: 0.6103 - acc: 0.8390\n",
            "Epoch 30: val_acc did not improve from 0.85920\n",
            "625/625 [==============================] - 25s 40ms/step - loss: 0.6103 - acc: 0.8390 - val_loss: 0.5797 - val_acc: 0.8538\n",
            "Epoch 31/100\n",
            "625/625 [==============================] - ETA: 0s - loss: 0.6101 - acc: 0.8377\n",
            "Epoch 31: val_acc did not improve from 0.85920\n",
            "625/625 [==============================] - 25s 40ms/step - loss: 0.6101 - acc: 0.8377 - val_loss: 0.5683 - val_acc: 0.8566\n",
            "Epoch 32/100\n",
            "625/625 [==============================] - ETA: 0s - loss: 0.6102 - acc: 0.8399\n",
            "Epoch 32: val_acc did not improve from 0.85920\n",
            "625/625 [==============================] - 25s 40ms/step - loss: 0.6102 - acc: 0.8399 - val_loss: 0.5758 - val_acc: 0.8559\n",
            "Epoch 33/100\n",
            "625/625 [==============================] - ETA: 0s - loss: 0.6180 - acc: 0.8347\n",
            "Epoch 33: val_acc did not improve from 0.85920\n",
            "625/625 [==============================] - 26s 41ms/step - loss: 0.6180 - acc: 0.8347 - val_loss: 0.5933 - val_acc: 0.8496\n",
            "Epoch 34/100\n",
            "625/625 [==============================] - ETA: 0s - loss: 0.6153 - acc: 0.8378\n",
            "Epoch 34: val_acc did not improve from 0.85920\n",
            "625/625 [==============================] - 25s 40ms/step - loss: 0.6153 - acc: 0.8378 - val_loss: 0.5631 - val_acc: 0.8572\n",
            "Epoch 35/100\n",
            "624/625 [============================>.] - ETA: 0s - loss: 0.6126 - acc: 0.8373\n",
            "Epoch 35: val_acc did not improve from 0.85920\n",
            "625/625 [==============================] - 25s 40ms/step - loss: 0.6124 - acc: 0.8374 - val_loss: 0.5721 - val_acc: 0.8533\n",
            "Epoch 36/100\n",
            "625/625 [==============================] - ETA: 0s - loss: 0.6130 - acc: 0.8388\n",
            "Epoch 36: val_acc did not improve from 0.85920\n",
            "625/625 [==============================] - 26s 42ms/step - loss: 0.6130 - acc: 0.8388 - val_loss: 0.6001 - val_acc: 0.8444\n",
            "Epoch 37/100\n",
            "625/625 [==============================] - ETA: 0s - loss: 0.6083 - acc: 0.8378\n",
            "Epoch 37: val_acc did not improve from 0.85920\n",
            "625/625 [==============================] - 25s 40ms/step - loss: 0.6083 - acc: 0.8378 - val_loss: 0.5836 - val_acc: 0.8542\n",
            "Epoch 38/100\n",
            "625/625 [==============================] - ETA: 0s - loss: 0.6101 - acc: 0.8392\n",
            "Epoch 38: val_acc improved from 0.85920 to 0.86090, saving model to best_model.h5\n",
            "625/625 [==============================] - 25s 40ms/step - loss: 0.6101 - acc: 0.8392 - val_loss: 0.5587 - val_acc: 0.8609\n",
            "Epoch 39/100\n",
            "625/625 [==============================] - ETA: 0s - loss: 0.6079 - acc: 0.8381\n",
            "Epoch 39: val_acc did not improve from 0.86090\n",
            "625/625 [==============================] - 25s 40ms/step - loss: 0.6079 - acc: 0.8381 - val_loss: 0.5942 - val_acc: 0.8490\n",
            "Epoch 40/100\n",
            "625/625 [==============================] - ETA: 0s - loss: 0.6094 - acc: 0.8381\n",
            "Epoch 40: val_acc did not improve from 0.86090\n",
            "625/625 [==============================] - 25s 40ms/step - loss: 0.6094 - acc: 0.8381 - val_loss: 0.5824 - val_acc: 0.8534\n",
            "Epoch 41/100\n",
            "625/625 [==============================] - ETA: 0s - loss: 0.6088 - acc: 0.8375\n",
            "Epoch 41: val_acc did not improve from 0.86090\n",
            "625/625 [==============================] - 25s 40ms/step - loss: 0.6088 - acc: 0.8375 - val_loss: 0.5702 - val_acc: 0.8559\n",
            "Epoch 42/100\n",
            "625/625 [==============================] - ETA: 0s - loss: 0.6120 - acc: 0.8380\n",
            "Epoch 42: val_acc improved from 0.86090 to 0.86580, saving model to best_model.h5\n",
            "625/625 [==============================] - 25s 40ms/step - loss: 0.6120 - acc: 0.8380 - val_loss: 0.5452 - val_acc: 0.8658\n",
            "Epoch 43/100\n",
            "625/625 [==============================] - ETA: 0s - loss: 0.6071 - acc: 0.8368\n",
            "Epoch 43: val_acc did not improve from 0.86580\n",
            "625/625 [==============================] - 26s 42ms/step - loss: 0.6071 - acc: 0.8368 - val_loss: 0.5790 - val_acc: 0.8564\n",
            "Epoch 44/100\n",
            "624/625 [============================>.] - ETA: 0s - loss: 0.6080 - acc: 0.8384\n",
            "Epoch 44: val_acc did not improve from 0.86580\n",
            "625/625 [==============================] - 25s 40ms/step - loss: 0.6078 - acc: 0.8385 - val_loss: 0.5619 - val_acc: 0.8623\n",
            "Epoch 45/100\n",
            "625/625 [==============================] - ETA: 0s - loss: 0.6086 - acc: 0.8396\n",
            "Epoch 45: val_acc did not improve from 0.86580\n",
            "625/625 [==============================] - 25s 40ms/step - loss: 0.6086 - acc: 0.8396 - val_loss: 0.5562 - val_acc: 0.8588\n",
            "Epoch 46/100\n",
            "624/625 [============================>.] - ETA: 0s - loss: 0.6111 - acc: 0.8373\n",
            "Epoch 46: val_acc did not improve from 0.86580\n",
            "625/625 [==============================] - 25s 40ms/step - loss: 0.6110 - acc: 0.8374 - val_loss: 0.5798 - val_acc: 0.8517\n",
            "Epoch 47/100\n",
            "625/625 [==============================] - ETA: 0s - loss: 0.6091 - acc: 0.8378\n",
            "Epoch 47: val_acc did not improve from 0.86580\n",
            "625/625 [==============================] - 25s 40ms/step - loss: 0.6091 - acc: 0.8378 - val_loss: 0.5791 - val_acc: 0.8535\n",
            "Epoch 48/100\n",
            "625/625 [==============================] - ETA: 0s - loss: 0.6125 - acc: 0.8361\n",
            "Epoch 48: val_acc did not improve from 0.86580\n",
            "625/625 [==============================] - 25s 40ms/step - loss: 0.6125 - acc: 0.8361 - val_loss: 0.5716 - val_acc: 0.8563\n",
            "Epoch 49/100\n",
            "625/625 [==============================] - ETA: 0s - loss: 0.6093 - acc: 0.8385\n",
            "Epoch 49: val_acc did not improve from 0.86580\n",
            "625/625 [==============================] - 26s 42ms/step - loss: 0.6093 - acc: 0.8385 - val_loss: 0.5623 - val_acc: 0.8559\n",
            "Epoch 50/100\n",
            "624/625 [============================>.] - ETA: 0s - loss: 0.6064 - acc: 0.8369\n",
            "Epoch 50: val_acc did not improve from 0.86580\n",
            "625/625 [==============================] - 25s 40ms/step - loss: 0.6062 - acc: 0.8370 - val_loss: 0.5528 - val_acc: 0.8620\n",
            "Epoch 51/100\n",
            "624/625 [============================>.] - ETA: 0s - loss: 0.6051 - acc: 0.8398\n",
            "Epoch 51: val_acc did not improve from 0.86580\n",
            "625/625 [==============================] - 25s 40ms/step - loss: 0.6048 - acc: 0.8399 - val_loss: 0.5810 - val_acc: 0.8538\n",
            "Epoch 52/100\n",
            "624/625 [============================>.] - ETA: 0s - loss: 0.6094 - acc: 0.8389\n",
            "Epoch 52: val_acc did not improve from 0.86580\n",
            "625/625 [==============================] - 25s 40ms/step - loss: 0.6091 - acc: 0.8390 - val_loss: 0.5619 - val_acc: 0.8584\n",
            "Epoch 53/100\n",
            "624/625 [============================>.] - ETA: 0s - loss: 0.6035 - acc: 0.8412\n",
            "Epoch 53: val_acc did not improve from 0.86580\n",
            "625/625 [==============================] - 26s 41ms/step - loss: 0.6035 - acc: 0.8412 - val_loss: 0.5504 - val_acc: 0.8636\n",
            "Epoch 54/100\n",
            "624/625 [============================>.] - ETA: 0s - loss: 0.6045 - acc: 0.8418\n",
            "Epoch 54: val_acc did not improve from 0.86580\n",
            "625/625 [==============================] - 26s 41ms/step - loss: 0.6043 - acc: 0.8419 - val_loss: 0.5791 - val_acc: 0.8549\n",
            "Epoch 55/100\n",
            "625/625 [==============================] - ETA: 0s - loss: 0.6104 - acc: 0.8352\n",
            "Epoch 55: val_acc did not improve from 0.86580\n",
            "625/625 [==============================] - 25s 41ms/step - loss: 0.6104 - acc: 0.8352 - val_loss: 0.5719 - val_acc: 0.8554\n",
            "Epoch 56/100\n",
            "624/625 [============================>.] - ETA: 0s - loss: 0.6055 - acc: 0.8397\n",
            "Epoch 56: val_acc did not improve from 0.86580\n",
            "625/625 [==============================] - 27s 42ms/step - loss: 0.6053 - acc: 0.8398 - val_loss: 0.5569 - val_acc: 0.8595\n",
            "Epoch 57/100\n",
            "625/625 [==============================] - ETA: 0s - loss: 0.6024 - acc: 0.8393\n",
            "Epoch 57: val_acc did not improve from 0.86580\n",
            "625/625 [==============================] - 25s 40ms/step - loss: 0.6024 - acc: 0.8393 - val_loss: 0.5662 - val_acc: 0.8594\n",
            "Epoch 58/100\n",
            "625/625 [==============================] - ETA: 0s - loss: 0.6040 - acc: 0.8401\n",
            "Epoch 58: val_acc did not improve from 0.86580\n",
            "625/625 [==============================] - 26s 41ms/step - loss: 0.6040 - acc: 0.8401 - val_loss: 0.5718 - val_acc: 0.8559\n",
            "Epoch 59/100\n",
            "625/625 [==============================] - ETA: 0s - loss: 0.6071 - acc: 0.8392\n",
            "Epoch 59: val_acc did not improve from 0.86580\n",
            "625/625 [==============================] - 25s 40ms/step - loss: 0.6071 - acc: 0.8392 - val_loss: 0.5599 - val_acc: 0.8610\n",
            "Epoch 60/100\n",
            "624/625 [============================>.] - ETA: 0s - loss: 0.6023 - acc: 0.8409\n",
            "Epoch 60: val_acc did not improve from 0.86580\n",
            "625/625 [==============================] - 25s 41ms/step - loss: 0.6021 - acc: 0.8410 - val_loss: 0.5511 - val_acc: 0.8628\n",
            "Epoch 61/100\n",
            "625/625 [==============================] - ETA: 0s - loss: 0.6045 - acc: 0.8407\n",
            "Epoch 61: val_acc did not improve from 0.86580\n",
            "625/625 [==============================] - 25s 40ms/step - loss: 0.6045 - acc: 0.8407 - val_loss: 0.5905 - val_acc: 0.8491\n",
            "Epoch 62/100\n",
            "625/625 [==============================] - ETA: 0s - loss: 0.6028 - acc: 0.8401\n",
            "Epoch 62: val_acc did not improve from 0.86580\n",
            "625/625 [==============================] - 26s 42ms/step - loss: 0.6028 - acc: 0.8401 - val_loss: 0.5501 - val_acc: 0.8628\n",
            "Epoch 63/100\n",
            "625/625 [==============================] - ETA: 0s - loss: 0.6035 - acc: 0.8400\n",
            "Epoch 63: val_acc did not improve from 0.86580\n",
            "625/625 [==============================] - 25s 40ms/step - loss: 0.6035 - acc: 0.8400 - val_loss: 0.5815 - val_acc: 0.8526\n",
            "Epoch 64/100\n",
            "625/625 [==============================] - ETA: 0s - loss: 0.5986 - acc: 0.8418\n",
            "Epoch 64: val_acc did not improve from 0.86580\n",
            "625/625 [==============================] - 25s 40ms/step - loss: 0.5986 - acc: 0.8418 - val_loss: 0.5900 - val_acc: 0.8468\n",
            "Epoch 65/100\n",
            "624/625 [============================>.] - ETA: 0s - loss: 0.6024 - acc: 0.8415\n",
            "Epoch 65: val_acc did not improve from 0.86580\n",
            "625/625 [==============================] - 25s 40ms/step - loss: 0.6023 - acc: 0.8414 - val_loss: 0.5609 - val_acc: 0.8579\n",
            "Epoch 66/100\n",
            "625/625 [==============================] - ETA: 0s - loss: 0.6042 - acc: 0.8394\n",
            "Epoch 66: val_acc did not improve from 0.86580\n",
            "625/625 [==============================] - 25s 40ms/step - loss: 0.6042 - acc: 0.8394 - val_loss: 0.5784 - val_acc: 0.8536\n",
            "Epoch 67/100\n",
            "624/625 [============================>.] - ETA: 0s - loss: 0.6042 - acc: 0.8423\n",
            "Epoch 67: val_acc did not improve from 0.86580\n",
            "625/625 [==============================] - 25s 41ms/step - loss: 0.6042 - acc: 0.8423 - val_loss: 0.5587 - val_acc: 0.8611\n",
            "Epoch 68/100\n",
            "624/625 [============================>.] - ETA: 0s - loss: 0.5998 - acc: 0.8408\n",
            "Epoch 68: val_acc did not improve from 0.86580\n",
            "625/625 [==============================] - 26s 42ms/step - loss: 0.5997 - acc: 0.8407 - val_loss: 0.5804 - val_acc: 0.8547\n",
            "Epoch 69/100\n",
            "625/625 [==============================] - ETA: 0s - loss: 0.5978 - acc: 0.8414\n",
            "Epoch 69: val_acc did not improve from 0.86580\n",
            "625/625 [==============================] - 27s 42ms/step - loss: 0.5978 - acc: 0.8414 - val_loss: 0.5636 - val_acc: 0.8580\n",
            "Epoch 70/100\n",
            "625/625 [==============================] - ETA: 0s - loss: 0.5989 - acc: 0.8419\n",
            "Epoch 70: val_acc did not improve from 0.86580\n",
            "625/625 [==============================] - 26s 42ms/step - loss: 0.5989 - acc: 0.8419 - val_loss: 0.5798 - val_acc: 0.8554\n",
            "Epoch 71/100\n",
            "624/625 [============================>.] - ETA: 0s - loss: 0.5980 - acc: 0.8429\n",
            "Epoch 71: val_acc did not improve from 0.86580\n",
            "625/625 [==============================] - 25s 40ms/step - loss: 0.5981 - acc: 0.8429 - val_loss: 0.5976 - val_acc: 0.8499\n",
            "Epoch 72/100\n",
            "625/625 [==============================] - ETA: 0s - loss: 0.5930 - acc: 0.8431\n",
            "Epoch 72: val_acc did not improve from 0.86580\n",
            "625/625 [==============================] - 25s 40ms/step - loss: 0.5930 - acc: 0.8431 - val_loss: 0.5609 - val_acc: 0.8595\n",
            "Epoch 72: early stopping\n"
          ]
        }
      ],
      "source": [
        "\n",
        "epochs = 100\n",
        "history = model.fit(\n",
        "    train_data_gen, \n",
        "    validation_data=validation_data_gen, \n",
        "    epochs=epochs, \n",
        "    batch_size=batch_size,\n",
        "    callbacks=[early_stop, model_checkpoint])\n",
        "#history = model.fit(x_train, y_train, validation_split=0.2, epochs=epochs, batch_size=batch_size)"
      ]
    },
    {
      "cell_type": "markdown",
      "metadata": {
        "id": "gxbs3jwD1174"
      },
      "source": [
        "##Results"
      ]
    },
    {
      "cell_type": "code",
      "source": [
        "# CONFUSION MATRIX\n",
        "\n",
        "#Predict\n",
        "y_prediction = model.predict(x_test)\n",
        "y_prediction = np.argmax (y_prediction, axis = 1)\n",
        "\n",
        "y_test=np.argmax(y_test, axis=1)\n",
        "\n",
        "#Create confusion matrix and normalizes it over predicted (columns)\n",
        "result = confusion_matrix(y_test, y_prediction , normalize='pred')\n",
        "\n",
        "df_cm = pd.DataFrame(result, range(10), range(10))\n",
        "plt.figure(figsize=(10,7))\n",
        "sn.set(font_scale=1.4) # for label size\n",
        "sn.heatmap(df_cm, annot=True, annot_kws={\"size\": 10}) # font size\n",
        "\n",
        "plt.show()\n"
      ],
      "metadata": {
        "colab": {
          "base_uri": "https://localhost:8080/",
          "height": 453
        },
        "id": "_3xKhefzWvFe",
        "outputId": "ad87a955-6a5c-423c-b413-7e2683a43e31"
      },
      "execution_count": 85,
      "outputs": [
        {
          "output_type": "stream",
          "name": "stdout",
          "text": [
            "313/313 [==============================] - 1s 2ms/step\n"
          ]
        },
        {
          "output_type": "display_data",
          "data": {
            "text/plain": [
              "<Figure size 720x504 with 2 Axes>"
            ],
            "image/png": "[encoded data removed]"
          },
          "metadata": {}
        }
      ]
    },
    {
      "cell_type": "code",
      "execution_count": 48,
      "metadata": {
        "colab": {
          "base_uri": "https://localhost:8080/"
        },
        "id": "L9tj0Zl7criL",
        "outputId": "05c57fb7-6930-46b6-e24f-c9d0e53aac96"
      },
      "outputs": [
        {
          "output_type": "stream",
          "name": "stdout",
          "text": [
            "313/313 [==============================] - 1s 5ms/step - loss: 0.5953 - acc: 0.8467\n",
            "Accuracy : 84.67000126838684%\n"
          ]
        }
      ],
      "source": [
        "# EVALUATION\n",
        "\n",
        "loss, acc = model.evaluate(x_test, y_test)\n",
        "print(\"Accuracy : {}%\".format(acc * 100))"
      ]
    }
  ],
  "metadata": {
    "accelerator": "GPU",
    "colab": {
      "provenance": [],
      "authorship_tag": "ABX9TyNKy16UMpbTfK0HQX5IaLjg",
      "include_colab_link": true
    },
    "gpuClass": "standard",
    "kernelspec": {
      "display_name": "Python 3",
      "name": "python3"
    },
    "language_info": {
      "name": "python"
    }
  },
  "nbformat": 4,
  "nbformat_minor": 0
}