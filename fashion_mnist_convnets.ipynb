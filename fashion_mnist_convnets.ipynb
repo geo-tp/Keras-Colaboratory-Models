{
  "nbformat": 4,
  "nbformat_minor": 0,
  "metadata": {
    "colab": {
      "provenance": [],
      "authorship_tag": "ABX9TyNnrPiVtiWkuosiUwIkXT8e",
      "include_colab_link": true
    },
    "kernelspec": {
      "name": "python3",
      "display_name": "Python 3"
    },
    "language_info": {
      "name": "python"
    },
    "accelerator": "GPU",
    "gpuClass": "standard"
  },
  "cells": [
    {
      "cell_type": "markdown",
      "metadata": {
        "id": "view-in-github",
        "colab_type": "text"
      },
      "source": [
        "<a href=\"https://colab.research.google.com/github/geo-tp/Keras-Colaboratory-Models/blob/main/fashion_mnist_convnets.ipynb\" target=\"_parent\"><img src=\"https://colab.research.google.com/assets/colab-badge.svg\" alt=\"Open In Colab\"/></a>"
      ]
    },
    {
      "cell_type": "markdown",
      "source": [
        "# Fashion MNIST convnets"
      ],
      "metadata": {
        "id": "VnRnanO7pc_B"
      }
    },
    {
      "cell_type": "markdown",
      "source": [
        "## Import"
      ],
      "metadata": {
        "id": "ormeXMnVFds5"
      }
    },
    {
      "cell_type": "code",
      "source": [
        "import tensorflow as tf\n",
        "import matplotlib.pyplot as plt\n",
        "from tensorflow import keras\n",
        "from tensorflow.keras.applications import VGG16"
      ],
      "metadata": {
        "id": "NIfu_AzFfjwM"
      },
      "execution_count": null,
      "outputs": []
    },
    {
      "cell_type": "markdown",
      "source": [
        "##Dataset"
      ],
      "metadata": {
        "id": "FRpKR2_FFff4"
      }
    },
    {
      "cell_type": "code",
      "execution_count": null,
      "metadata": {
        "colab": {
          "base_uri": "https://localhost:8080/",
          "height": 265
        },
        "id": "3oUK-JQGex3M",
        "outputId": "1fc7b144-c548-4c21-b6e6-c29e2635e002"
      },
      "outputs": [
        {
          "output_type": "display_data",
          "data": {
            "text/plain": [
              "<Figure size 432x288 with 1 Axes>"
            ],
            "image/png": "[encoded data removed]"
          },
          "metadata": {
            "needs_background": "light"
          }
        }
      ],
      "source": [
        "# DATASET & PREPROCESSING - Fashion Mnist\n",
        "# 60,000 28x28 grayscale images of 10 fashion categories\n",
        "\n",
        "(x_train, y_train), (x_test, y_test) = tf.keras.datasets.fashion_mnist.load_data()\n",
        "\n",
        "# Show img example\n",
        "img = x_train[0]\n",
        "plt.imshow(img)\n",
        "\n",
        "# Processing data\n",
        "x_train = x_train.reshape(60000, 28, 28, 1)\n",
        "x_train = x_train.astype(\"float32\") / 255\n",
        "y_train = keras.utils.to_categorical(y_train)\n",
        "\n",
        "x_test = x_test.reshape(10000, 28, 28, 1)\n",
        "x_test = x_test.astype(\"float32\") / 255\n",
        "y_test = keras.utils.to_categorical(y_test)\n",
        "\n",
        "# Split for validation set\n",
        "x_val = x_train[:20000]\n",
        "y_val = y_train[:20000]\n",
        "x_train = x_train[20000:]\n",
        "y_train = y_train[20000:]"
      ]
    },
    {
      "cell_type": "markdown",
      "source": [
        "##Model\n"
      ],
      "metadata": {
        "id": "ETidGaPdFhXx"
      }
    },
    {
      "cell_type": "code",
      "source": [
        "# MODEL DEFINITION\n",
        "\n",
        "model = keras.models.Sequential()\n",
        "\n",
        "model.add(keras.layers.Conv2D(\n",
        "    16, (3, 3), \n",
        "    activation=\"relu\",\n",
        "    padding=\"same\",\n",
        "    input_shape=(28, 28, 1)))\n",
        "model.add(keras.layers.MaxPooling2D((2, 2)))\n",
        "\n",
        "model.add(keras.layers.BatchNormalization(renorm=True))\n",
        "model.add(keras.layers.Conv2D(\n",
        "    32, (2, 2), \n",
        "    activation=\"relu\",\n",
        "    padding=\"same\"))\n",
        "model.add(keras.layers.MaxPooling2D((2, 2)))\n",
        "\n",
        "model.add(keras.layers.Flatten())\n",
        "\n",
        "model.add(keras.layers.BatchNormalization(renorm=True))\n",
        "model.add(keras.layers.Dense(256, activation=\"relu\"))\n",
        "model.add(keras.layers.Dropout(0.2))\n",
        "model.add(keras.layers.Dense(10, activation=\"softmax\"))\n",
        "\n",
        "model.compile(optimizer='adam',\n",
        "              loss='categorical_crossentropy',\n",
        "              metrics=['accuracy'])\n",
        "\n",
        "model.summary()"
      ],
      "metadata": {
        "colab": {
          "base_uri": "https://localhost:8080/"
        },
        "id": "p65G3viFfHIm",
        "outputId": "4dd6b639-d222-46bf-ba7a-aeba89739052"
      },
      "execution_count": null,
      "outputs": [
        {
          "output_type": "stream",
          "name": "stdout",
          "text": [
            "Model: \"sequential_30\"\n",
            "_________________________________________________________________\n",
            " Layer (type)                Output Shape              Param #   \n",
            "=================================================================\n",
            " conv2d_47 (Conv2D)          (None, 28, 28, 16)        160       \n",
            "                                                                 \n",
            " max_pooling2d_47 (MaxPoolin  (None, 14, 14, 16)       0         \n",
            " g2D)                                                            \n",
            "                                                                 \n",
            " batch_normalization_14 (Bat  (None, 14, 14, 16)       112       \n",
            " chNormalization)                                                \n",
            "                                                                 \n",
            " conv2d_48 (Conv2D)          (None, 14, 14, 32)        2080      \n",
            "                                                                 \n",
            " max_pooling2d_48 (MaxPoolin  (None, 7, 7, 32)         0         \n",
            " g2D)                                                            \n",
            "                                                                 \n",
            " flatten_28 (Flatten)        (None, 1568)              0         \n",
            "                                                                 \n",
            " batch_normalization_15 (Bat  (None, 1568)             10976     \n",
            " chNormalization)                                                \n",
            "                                                                 \n",
            " dense_56 (Dense)            (None, 256)               401664    \n",
            "                                                                 \n",
            " dropout_27 (Dropout)        (None, 256)               0         \n",
            "                                                                 \n",
            " dense_57 (Dense)            (None, 10)                2570      \n",
            "                                                                 \n",
            "=================================================================\n",
            "Total params: 417,562\n",
            "Trainable params: 409,642\n",
            "Non-trainable params: 7,920\n",
            "_________________________________________________________________\n"
          ]
        }
      ]
    },
    {
      "cell_type": "markdown",
      "source": [
        "##Training"
      ],
      "metadata": {
        "id": "tuOzcRSDFqw9"
      }
    },
    {
      "cell_type": "code",
      "source": [
        "# TRAINING\n",
        "\n",
        "epochs = 15\n",
        "history = model.fit(\n",
        "    x_train, y_train, \n",
        "    validation_data=(x_val, y_val), \n",
        "    epochs=epochs, \n",
        "    batch_size=16)"
      ],
      "metadata": {
        "colab": {
          "base_uri": "https://localhost:8080/"
        },
        "id": "TRg2G4W7hR4M",
        "outputId": "33f8fdd2-b5fe-4646-f328-53c734ff836d"
      },
      "execution_count": null,
      "outputs": [
        {
          "output_type": "stream",
          "name": "stdout",
          "text": [
            "Epoch 1/15\n",
            "2500/2500 [==============================] - 118s 18ms/step - loss: 0.5088 - accuracy: 0.8403 - val_loss: 0.3133 - val_accuracy: 0.8882\n",
            "Epoch 2/15\n",
            "2500/2500 [==============================] - 45s 18ms/step - loss: 0.3068 - accuracy: 0.8889 - val_loss: 0.3090 - val_accuracy: 0.8898\n",
            "Epoch 3/15\n",
            "2500/2500 [==============================] - 45s 18ms/step - loss: 0.2637 - accuracy: 0.9039 - val_loss: 0.2939 - val_accuracy: 0.8976\n",
            "Epoch 4/15\n",
            "2500/2500 [==============================] - 45s 18ms/step - loss: 0.2335 - accuracy: 0.9136 - val_loss: 0.2760 - val_accuracy: 0.9036\n",
            "Epoch 5/15\n",
            "2500/2500 [==============================] - 46s 18ms/step - loss: 0.2079 - accuracy: 0.9242 - val_loss: 0.2842 - val_accuracy: 0.9085\n",
            "Epoch 6/15\n",
            "2500/2500 [==============================] - 46s 18ms/step - loss: 0.1878 - accuracy: 0.9323 - val_loss: 0.2923 - val_accuracy: 0.9102\n",
            "Epoch 7/15\n",
            "2500/2500 [==============================] - 45s 18ms/step - loss: 0.1687 - accuracy: 0.9378 - val_loss: 0.3019 - val_accuracy: 0.9060\n",
            "Epoch 8/15\n",
            "2500/2500 [==============================] - 45s 18ms/step - loss: 0.1539 - accuracy: 0.9437 - val_loss: 0.3382 - val_accuracy: 0.9028\n",
            "Epoch 9/15\n",
            "2500/2500 [==============================] - 45s 18ms/step - loss: 0.1429 - accuracy: 0.9482 - val_loss: 0.3446 - val_accuracy: 0.9109\n",
            "Epoch 10/15\n",
            "2500/2500 [==============================] - 45s 18ms/step - loss: 0.1279 - accuracy: 0.9544 - val_loss: 0.3651 - val_accuracy: 0.9092\n",
            "Epoch 11/15\n",
            "2500/2500 [==============================] - 45s 18ms/step - loss: 0.1190 - accuracy: 0.9568 - val_loss: 0.3572 - val_accuracy: 0.9099\n",
            "Epoch 12/15\n",
            "2500/2500 [==============================] - 45s 18ms/step - loss: 0.1097 - accuracy: 0.9607 - val_loss: 0.3923 - val_accuracy: 0.9088\n",
            "Epoch 13/15\n",
            "2500/2500 [==============================] - 45s 18ms/step - loss: 0.1025 - accuracy: 0.9621 - val_loss: 0.3652 - val_accuracy: 0.9115\n",
            "Epoch 14/15\n",
            "2500/2500 [==============================] - 50s 20ms/step - loss: 0.0978 - accuracy: 0.9661 - val_loss: 0.4584 - val_accuracy: 0.9105\n",
            "Epoch 15/15\n",
            "2500/2500 [==============================] - 45s 18ms/step - loss: 0.0944 - accuracy: 0.9658 - val_loss: 0.4494 - val_accuracy: 0.9128\n"
          ]
        }
      ]
    },
    {
      "cell_type": "markdown",
      "source": [
        "##Results"
      ],
      "metadata": {
        "id": "7cdik8WaFsLh"
      }
    },
    {
      "cell_type": "code",
      "source": [
        "# LOG RESULTS\n",
        "\n",
        "epochs_range = range(1, epochs + 1)\n",
        "history_dict = history.history\n",
        "\n",
        "loss = history_dict['loss']\n",
        "acc = history_dict['accuracy']\n",
        "\n",
        "val_loss = history_dict['val_loss']\n",
        "val_acc = history_dict['val_accuracy']\n",
        "\n",
        "plt.plot(epochs_range, acc, label=\"Train acc\")\n",
        "plt.plot(epochs_range, loss, label=\"Train loss\")\n",
        "plt.plot(epochs_range, val_acc, label=\"Val acc\")\n",
        "plt.plot(epochs_range, val_loss, label=\"Val loss\")\n",
        "\n",
        "plt.legend()\n",
        "plt.show()"
      ],
      "metadata": {
        "colab": {
          "base_uri": "https://localhost:8080/",
          "height": 265
        },
        "id": "wvQaHbUXl4Ez",
        "outputId": "e0605121-a016-4386-e8a7-8244e3f2dd20"
      },
      "execution_count": null,
      "outputs": [
        {
          "output_type": "display_data",
          "data": {
            "text/plain": [
              "<Figure size 432x288 with 1 Axes>"
            ],
            "image/png": "[encoded data removed]"
          },
          "metadata": {
            "needs_background": "light"
          }
        }
      ]
    },
    {
      "cell_type": "code",
      "source": [
        "# EVALUATION\n",
        "\n",
        "score = model.evaluate(x_test, y_test)\n",
        "print(model.metrics_names)\n",
        "print(score)"
      ],
      "metadata": {
        "colab": {
          "base_uri": "https://localhost:8080/"
        },
        "id": "CH7-SqHNlIkU",
        "outputId": "005ad80d-84ec-4907-b203-32f84188dfcf"
      },
      "execution_count": null,
      "outputs": [
        {
          "output_type": "stream",
          "name": "stdout",
          "text": [
            "313/313 [==============================] - 3s 9ms/step - loss: 0.4535 - accuracy: 0.9155\n",
            "['loss', 'accuracy']\n",
            "[0.45353877544403076, 0.9154999852180481]\n"
          ]
        }
      ]
    }
  ]
}