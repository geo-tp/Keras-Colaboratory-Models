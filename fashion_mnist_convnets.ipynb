{
  "nbformat": 4,
  "nbformat_minor": 0,
  "metadata": {
    "colab": {
      "provenance": [],
      "authorship_tag": "ABX9TyMKp1S2oAuuvxa8YVyFIkdM",
      "include_colab_link": true
    },
    "kernelspec": {
      "name": "python3",
      "display_name": "Python 3"
    },
    "language_info": {
      "name": "python"
    },
    "accelerator": "GPU",
    "gpuClass": "standard"
  },
  "cells": [
    {
      "cell_type": "markdown",
      "metadata": {
        "id": "view-in-github",
        "colab_type": "text"
      },
      "source": [
        "<a href=\"https://colab.research.google.com/github/geo-tp/Keras-Colaboratory-Models/blob/main/fashion_mnist_convnets.ipynb\" target=\"_parent\"><img src=\"https://colab.research.google.com/assets/colab-badge.svg\" alt=\"Open In Colab\"/></a>"
      ]
    },
    {
      "cell_type": "markdown",
      "source": [
        "# Fashion MNIST convnets"
      ],
      "metadata": {
        "id": "VnRnanO7pc_B"
      }
    },
    {
      "cell_type": "code",
      "source": [
        "import tensorflow as tf\n",
        "import matplotlib.pyplot as plt\n",
        "from tensorflow import keras\n",
        "from tensorflow.keras.applications import VGG16"
      ],
      "metadata": {
        "id": "NIfu_AzFfjwM"
      },
      "execution_count": 1,
      "outputs": []
    },
    {
      "cell_type": "code",
      "execution_count": 2,
      "metadata": {
        "colab": {
          "base_uri": "https://localhost:8080/",
          "height": 404
        },
        "id": "3oUK-JQGex3M",
        "outputId": "aabc2e78-5b15-4709-a09e-966694a1663c"
      },
      "outputs": [
        {
          "output_type": "stream",
          "name": "stdout",
          "text": [
            "Downloading data from https://storage.googleapis.com/tensorflow/tf-keras-datasets/train-labels-idx1-ubyte.gz\n",
            "29515/29515 [==============================] - 0s 0us/step\n",
            "Downloading data from https://storage.googleapis.com/tensorflow/tf-keras-datasets/train-images-idx3-ubyte.gz\n",
            "26421880/26421880 [==============================] - 0s 0us/step\n",
            "Downloading data from https://storage.googleapis.com/tensorflow/tf-keras-datasets/t10k-labels-idx1-ubyte.gz\n",
            "5148/5148 [==============================] - 0s 0us/step\n",
            "Downloading data from https://storage.googleapis.com/tensorflow/tf-keras-datasets/t10k-images-idx3-ubyte.gz\n",
            "4422102/4422102 [==============================] - 0s 0us/step\n"
          ]
        },
        {
          "output_type": "display_data",
          "data": {
            "text/plain": [
              "<Figure size 432x288 with 1 Axes>"
            ],
            "image/png": "[encoded data removed]"
          },
          "metadata": {
            "needs_background": "light"
          }
        }
      ],
      "source": [
        "# DATASET & PREPROCESSING - Fashion Mnist\n",
        "# 60,000 28x28 grayscale images of 10 fashion categories\n",
        "\n",
        "(x_train, y_train), (x_test, y_test) = tf.keras.datasets.fashion_mnist.load_data()\n",
        "\n",
        "# Show img example\n",
        "img = x_train[0]\n",
        "plt.imshow(img)\n",
        "\n",
        "# Processing data\n",
        "x_train = x_train.reshape(60000, 28, 28, 1)\n",
        "x_train = x_train.astype(\"float32\") / 255\n",
        "y_train = keras.utils.to_categorical(y_train)\n",
        "\n",
        "x_test = x_test.reshape(10000, 28, 28, 1)\n",
        "x_test = x_test.astype(\"float32\") / 255\n",
        "y_test = keras.utils.to_categorical(y_test)\n",
        "\n",
        "# Split for validation set\n",
        "x_val = x_train[:20000]\n",
        "y_val = y_train[:20000]\n",
        "x_train = x_train[20000:]\n",
        "y_train = y_train[20000:]"
      ]
    },
    {
      "cell_type": "code",
      "source": [
        "# MODEL DEFINITION\n",
        "\n",
        "model = keras.models.Sequential()\n",
        "\n",
        "model.add(keras.layers.Conv2D(\n",
        "    32, (3, 3), \n",
        "    activation=\"relu\", \n",
        "    input_shape=(28, 28, 1)))\n",
        "model.add(keras.layers.MaxPooling2D((2, 2)))\n",
        "\n",
        "model.add(keras.layers.Flatten())\n",
        "\n",
        "model.add(keras.layers.Dense(256, activation=\"relu\"))\n",
        "model.add(keras.layers.Dropout(0.1))\n",
        "model.add(keras.layers.Dense(10, activation=\"softmax\"))\n",
        "\n",
        "model.compile(optimizer='rmsprop',\n",
        "              loss='categorical_crossentropy',\n",
        "              metrics=['accuracy'])\n",
        "\n",
        "model.summary()"
      ],
      "metadata": {
        "colab": {
          "base_uri": "https://localhost:8080/"
        },
        "id": "p65G3viFfHIm",
        "outputId": "aaec83b8-3cd6-4879-bd4b-5a4ccd70db49"
      },
      "execution_count": 4,
      "outputs": [
        {
          "output_type": "stream",
          "name": "stdout",
          "text": [
            "Model: \"sequential\"\n",
            "_________________________________________________________________\n",
            " Layer (type)                Output Shape              Param #   \n",
            "=================================================================\n",
            " conv2d (Conv2D)             (None, 26, 26, 32)        320       \n",
            "                                                                 \n",
            " max_pooling2d (MaxPooling2D  (None, 13, 13, 32)       0         \n",
            " )                                                               \n",
            "                                                                 \n",
            " flatten (Flatten)           (None, 5408)              0         \n",
            "                                                                 \n",
            " dense (Dense)               (None, 256)               1384704   \n",
            "                                                                 \n",
            " dropout (Dropout)           (None, 256)               0         \n",
            "                                                                 \n",
            " dense_1 (Dense)             (None, 10)                2570      \n",
            "                                                                 \n",
            "=================================================================\n",
            "Total params: 1,387,594\n",
            "Trainable params: 1,387,594\n",
            "Non-trainable params: 0\n",
            "_________________________________________________________________\n"
          ]
        }
      ]
    },
    {
      "cell_type": "code",
      "source": [
        "# TRAINING\n",
        "\n",
        "epochs = 10\n",
        "history = model.fit(\n",
        "    x_train, y_train, \n",
        "    validation_data=(x_val, y_val), \n",
        "    epochs=epochs, \n",
        "    batch_size=64)"
      ],
      "metadata": {
        "colab": {
          "base_uri": "https://localhost:8080/"
        },
        "id": "TRg2G4W7hR4M",
        "outputId": "31587f56-ae01-45dd-a900-0b61b2db5062"
      },
      "execution_count": 5,
      "outputs": [
        {
          "output_type": "stream",
          "name": "stdout",
          "text": [
            "Epoch 1/10\n",
            "625/625 [==============================] - 36s 54ms/step - loss: 0.4505 - accuracy: 0.8404 - val_loss: 0.3126 - val_accuracy: 0.8881\n",
            "Epoch 2/10\n",
            "625/625 [==============================] - 33s 52ms/step - loss: 0.2899 - accuracy: 0.8963 - val_loss: 0.2748 - val_accuracy: 0.9017\n",
            "Epoch 3/10\n",
            "625/625 [==============================] - 33s 53ms/step - loss: 0.2416 - accuracy: 0.9129 - val_loss: 0.2690 - val_accuracy: 0.9026\n",
            "Epoch 4/10\n",
            "625/625 [==============================] - 33s 53ms/step - loss: 0.2094 - accuracy: 0.9248 - val_loss: 0.2548 - val_accuracy: 0.9102\n",
            "Epoch 5/10\n",
            "625/625 [==============================] - 32s 51ms/step - loss: 0.1822 - accuracy: 0.9343 - val_loss: 0.2576 - val_accuracy: 0.9111\n",
            "Epoch 6/10\n",
            "625/625 [==============================] - 32s 51ms/step - loss: 0.1600 - accuracy: 0.9423 - val_loss: 0.2943 - val_accuracy: 0.8996\n",
            "Epoch 7/10\n",
            "625/625 [==============================] - 35s 56ms/step - loss: 0.1436 - accuracy: 0.9487 - val_loss: 0.2658 - val_accuracy: 0.9136\n",
            "Epoch 8/10\n",
            "625/625 [==============================] - 32s 51ms/step - loss: 0.1266 - accuracy: 0.9546 - val_loss: 0.2767 - val_accuracy: 0.9117\n",
            "Epoch 9/10\n",
            "625/625 [==============================] - 32s 51ms/step - loss: 0.1134 - accuracy: 0.9606 - val_loss: 0.3072 - val_accuracy: 0.9112\n",
            "Epoch 10/10\n",
            "625/625 [==============================] - 32s 51ms/step - loss: 0.1030 - accuracy: 0.9635 - val_loss: 0.2777 - val_accuracy: 0.9175\n"
          ]
        }
      ]
    },
    {
      "cell_type": "code",
      "source": [
        "# LOG RESULTS\n",
        "\n",
        "epochs_range = range(1, epochs + 1)\n",
        "history_dict = history.history\n",
        "\n",
        "loss = history_dict['loss']\n",
        "acc = history_dict['accuracy']\n",
        "\n",
        "val_loss = history_dict['val_loss']\n",
        "val_acc = history_dict['val_accuracy']\n",
        "\n",
        "plt.plot(epochs_range, acc, label=\"Train acc\")\n",
        "plt.plot(epochs_range, loss, label=\"Train loss\")\n",
        "plt.plot(epochs_range, val_acc, label=\"Val acc\")\n",
        "plt.plot(epochs_range, val_loss, label=\"Val loss\")\n",
        "\n",
        "plt.legend()\n",
        "plt.show()"
      ],
      "metadata": {
        "colab": {
          "base_uri": "https://localhost:8080/",
          "height": 268
        },
        "id": "wvQaHbUXl4Ez",
        "outputId": "2945ffbb-6b5d-435d-d036-29481c573df6"
      },
      "execution_count": 6,
      "outputs": [
        {
          "output_type": "display_data",
          "data": {
            "text/plain": [
              "<Figure size 432x288 with 1 Axes>"
            ],
            "image/png": "[encoded data removed]"
          },
          "metadata": {
            "needs_background": "light"
          }
        }
      ]
    },
    {
      "cell_type": "code",
      "source": [
        "# EVALUATION\n",
        "\n",
        "score = model.evaluate(x_test, y_test)\n",
        "print(model.metrics_names)\n",
        "print(score)"
      ],
      "metadata": {
        "colab": {
          "base_uri": "https://localhost:8080/"
        },
        "id": "CH7-SqHNlIkU",
        "outputId": "a05b5e33-d801-437e-d4be-e08fa93c487c"
      },
      "execution_count": 7,
      "outputs": [
        {
          "output_type": "stream",
          "name": "stdout",
          "text": [
            "313/313 [==============================] - 3s 9ms/step - loss: 0.2936 - accuracy: 0.9172\n",
            "['loss', 'accuracy']\n",
            "[0.29364344477653503, 0.9172000288963318]\n"
          ]
        }
      ]
    }
  ]
}