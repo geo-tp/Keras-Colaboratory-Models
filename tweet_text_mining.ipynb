{
  "cells": [
    {
      "cell_type": "markdown",
      "metadata": {
        "id": "view-in-github",
        "colab_type": "text"
      },
      "source": [
        "<a href=\"https://colab.research.google.com/github/geo-tp/Keras-Colaboratory-Models/blob/main/tweet_text_mining.ipynb\" target=\"_parent\"><img src=\"https://colab.research.google.com/assets/colab-badge.svg\" alt=\"Open In Colab\"/></a>"
      ]
    },
    {
      "cell_type": "markdown",
      "id": "71625348",
      "metadata": {
        "id": "71625348"
      },
      "source": [
        "# Importation des données"
      ]
    },
    {
      "cell_type": "code",
      "execution_count": null,
      "id": "23e07479",
      "metadata": {
        "id": "23e07479",
        "outputId": "cddc7d5d-285e-40db-d7cb-6e0db1c839e0"
      },
      "outputs": [
        {
          "name": "stdout",
          "output_type": "stream",
          "text": [
            "<class 'pandas.core.frame.DataFrame'>\n",
            "RangeIndex: 1600000 entries, 0 to 1599999\n",
            "Data columns (total 6 columns):\n",
            " #   Column    Non-Null Count    Dtype \n",
            "---  ------    --------------    ----- \n",
            " 0   polarity  1600000 non-null  int64 \n",
            " 1   id        1600000 non-null  int64 \n",
            " 2   date      1600000 non-null  object\n",
            " 3   query     1600000 non-null  object\n",
            " 4   user      1600000 non-null  object\n",
            " 5   tweet     1600000 non-null  object\n",
            "dtypes: int64(2), object(4)\n",
            "memory usage: 73.2+ MB\n"
          ]
        }
      ],
      "source": [
        "#changement de dossier\n",
        "import os\n",
        "os.chdir(\"C:/Users/ricco/Desktop/demo\")\n",
        "\n",
        "#chargement des données\n",
        "import pandas\n",
        "D = pandas.read_csv(\"training.1600000.processed.noemoticon.csv\",sep=\",\",names=['polarity','id','date','query','user','tweet'],encoding=\"UTF\",encoding_errors=\"ignore\")\n",
        "D.info()"
      ]
    },
    {
      "cell_type": "code",
      "execution_count": null,
      "id": "031a6efb",
      "metadata": {
        "id": "031a6efb",
        "outputId": "919a4877-753d-4a6a-a93c-ad9cdee79dbe"
      },
      "outputs": [
        {
          "name": "stdout",
          "output_type": "stream",
          "text": [
            "0    800000\n",
            "4    800000\n",
            "Name: polarity, dtype: int64\n"
          ]
        }
      ],
      "source": [
        "#distribution des classes\n",
        "print(D.polarity.value_counts())"
      ]
    },
    {
      "cell_type": "code",
      "execution_count": null,
      "id": "c84618ad",
      "metadata": {
        "id": "c84618ad",
        "outputId": "e8ffed5f-fc8e-445a-a98e-4279e37d6a29"
      },
      "outputs": [
        {
          "data": {
            "text/html": [
              "<div>\n",
              "<style scoped>\n",
              "    .dataframe tbody tr th:only-of-type {\n",
              "        vertical-align: middle;\n",
              "    }\n",
              "\n",
              "    .dataframe tbody tr th {\n",
              "        vertical-align: top;\n",
              "    }\n",
              "\n",
              "    .dataframe thead th {\n",
              "        text-align: right;\n",
              "    }\n",
              "</style>\n",
              "<table border=\"1\" class=\"dataframe\">\n",
              "  <thead>\n",
              "    <tr style=\"text-align: right;\">\n",
              "      <th></th>\n",
              "      <th>polarity</th>\n",
              "      <th>tweet</th>\n",
              "    </tr>\n",
              "  </thead>\n",
              "  <tbody>\n",
              "    <tr>\n",
              "      <th>557138</th>\n",
              "      <td>0</td>\n",
              "      <td>wants to compete! i want hard competition! i w...</td>\n",
              "    </tr>\n",
              "    <tr>\n",
              "      <th>349381</th>\n",
              "      <td>0</td>\n",
              "      <td>It seems we are stuck on the ground in Amarill...</td>\n",
              "    </tr>\n",
              "    <tr>\n",
              "      <th>182051</th>\n",
              "      <td>0</td>\n",
              "      <td>where the f are my pinking shears? rarararrrar...</td>\n",
              "    </tr>\n",
              "    <tr>\n",
              "      <th>571236</th>\n",
              "      <td>0</td>\n",
              "      <td>0ff t0 tHE MEEtiN..  i HAtE WhEN PPl V0lUNtEER...</td>\n",
              "    </tr>\n",
              "    <tr>\n",
              "      <th>1339637</th>\n",
              "      <td>4</td>\n",
              "      <td>@ reply me pls</td>\n",
              "    </tr>\n",
              "  </tbody>\n",
              "</table>\n",
              "</div>"
            ],
            "text/plain": [
              "         polarity                                              tweet\n",
              "557138          0  wants to compete! i want hard competition! i w...\n",
              "349381          0  It seems we are stuck on the ground in Amarill...\n",
              "182051          0  where the f are my pinking shears? rarararrrar...\n",
              "571236          0  0ff t0 tHE MEEtiN..  i HAtE WhEN PPl V0lUNtEER...\n",
              "1339637         4                                    @ reply me pls "
            ]
          },
          "execution_count": 3,
          "metadata": {},
          "output_type": "execute_result"
        }
      ],
      "source": [
        "#récupérer les deux colonnes qui nous intéressent\n",
        "#et n'utiliser qu'une partie des données\n",
        "DS = D.sample(n=30000,random_state=0)[['polarity','tweet']]\n",
        "\n",
        "#premières lignes\n",
        "DS.head()"
      ]
    },
    {
      "cell_type": "markdown",
      "id": "fd218175",
      "metadata": {
        "id": "fd218175"
      },
      "source": [
        "# Nettoyage des tweets"
      ]
    },
    {
      "cell_type": "code",
      "execution_count": null,
      "id": "9d1ee56b",
      "metadata": {
        "id": "9d1ee56b",
        "outputId": "4f5a9814-f668-47c5-ee71-cbc0660aa312"
      },
      "outputs": [
        {
          "name": "stdout",
          "output_type": "stream",
          "text": [
            "['!', '\"', '#', '$', '%', '&', \"'\", '(', ')', '*', '+', ',', '-', '.', '/', ':', ';', '<', '=', '>', '?', '@', '[', '\\\\', ']', '^', '_', '`', '{', '|', '}', '~']\n",
            "\n",
            "\n",
            "['i', 'me', 'my', 'myself', 'we', 'our', 'ours', 'ourselves', 'you', \"you're\", \"you've\", \"you'll\", \"you'd\", 'your', 'yours', 'yourself', 'yourselves', 'he', 'him', 'his', 'himself', 'she', \"she's\", 'her', 'hers', 'herself', 'it', \"it's\", 'its', 'itself', 'they', 'them', 'their', 'theirs', 'themselves', 'what', 'which', 'who', 'whom', 'this', 'that', \"that'll\", 'these', 'those', 'am', 'is', 'are', 'was', 'were', 'be', 'been', 'being', 'have', 'has', 'had', 'having', 'do', 'does', 'did', 'doing', 'a', 'an', 'the', 'and', 'but', 'if', 'or', 'because', 'as', 'until', 'while', 'of', 'at', 'by', 'for', 'with', 'about', 'against', 'between', 'into', 'through', 'during', 'before', 'after', 'above', 'below', 'to', 'from', 'up', 'down', 'in', 'out', 'on', 'off', 'over', 'under', 'again', 'further', 'then', 'once', 'here', 'there', 'when', 'where', 'why', 'how', 'all', 'any', 'both', 'each', 'few', 'more', 'most', 'other', 'some', 'such', 'no', 'nor', 'not', 'only', 'own', 'same', 'so', 'than', 'too', 'very', 's', 't', 'can', 'will', 'just', 'don', \"don't\", 'should', \"should've\", 'now', 'd', 'll', 'm', 'o', 're', 've', 'y', 'ain', 'aren', \"aren't\", 'couldn', \"couldn't\", 'didn', \"didn't\", 'doesn', \"doesn't\", 'hadn', \"hadn't\", 'hasn', \"hasn't\", 'haven', \"haven't\", 'isn', \"isn't\", 'ma', 'mightn', \"mightn't\", 'mustn', \"mustn't\", 'needn', \"needn't\", 'shan', \"shan't\", 'shouldn', \"shouldn't\", 'wasn', \"wasn't\", 'weren', \"weren't\", 'won', \"won't\", 'wouldn', \"wouldn't\"]\n"
          ]
        }
      ],
      "source": [
        "#****************************************\n",
        "#préparation des librairies et des outils\n",
        "#pour le nettoyage des tweets\n",
        "#****************************************\n",
        "\n",
        "#expressions régulières\n",
        "import re\n",
        "\n",
        "#ponctuations\n",
        "import string\n",
        "ponctuations = list(string.punctuation)\n",
        "print(ponctuations)\n",
        "\n",
        "#tokénisation\n",
        "#import nltk\n",
        "#nltk.download('punkt')\n",
        "from nltk.tokenize import word_tokenize\n",
        "\n",
        "#lemmatisation\n",
        "#nltk.download('wordnet')\n",
        "from nltk.stem import WordNetLemmatizer\n",
        "lem = WordNetLemmatizer()\n",
        "\n",
        "#charger les stopwords\n",
        "#nltk.download('stopwords')\n",
        "from nltk.corpus import stopwords\n",
        "mots_vides = stopwords.words('english')\n",
        "print('\\n')\n",
        "print(mots_vides)"
      ]
    },
    {
      "cell_type": "code",
      "execution_count": null,
      "id": "a550e9ec",
      "metadata": {
        "id": "a550e9ec"
      },
      "outputs": [],
      "source": [
        "#fonction pour nettoyage de chaque document\n",
        "#tweet = corps du tweet = document\n",
        "#ponctuations : liste des ponctuations\n",
        "#stopwords : liste des stopwords à retirer\n",
        "#lem : fonction pour la lemmatisation des termes\n",
        "def clean_tweet(tweet,ponctuations,stopwords,lem):\n",
        "    #harmonisation de la casse\n",
        "    temp = tweet.lower()\n",
        "    #retirer les contractions en anglais\n",
        "    temp = re.sub(\"'\", \"\", temp)\n",
        "    #retrait des @ (mentions)\n",
        "    temp = re.sub(\"@[A-Za-z0-9_]+\",\"\", temp)\n",
        "    #retrait des # (hashtags)\n",
        "    temp = re.sub(\"#[A-Za-z0-9_]+\",\"\", temp)\n",
        "    #retrait des liens web (http et https)\n",
        "    temp = re.sub(r'http\\S+', '', temp)\n",
        "    #retrait des ponctuations\n",
        "    temp = \"\".join([char for char in list(temp) if not (char in ponctuations)])\n",
        "    #retrait des nombres   \n",
        "    temp = re.sub(\"[0-9]\",\"\", temp)\n",
        "    #tokenisation\n",
        "    temp = word_tokenize(temp)\n",
        "    #lemmatisation des termes\n",
        "    temp = [lem.lemmatize(mot) for mot in temp]\n",
        "    #retrait des stopwords\n",
        "    temp = [mot for mot in temp if not mot in stopwords]\n",
        "    #retirer les tokens de moins de 3 caractères\n",
        "    temp = [mot for mot in temp if len(mot) >= 3]    \n",
        "    #reformer la chaîne\n",
        "    temp = \" \".join(mot for mot in temp)\n",
        "    return temp"
      ]
    },
    {
      "cell_type": "code",
      "execution_count": null,
      "id": "6cc43954",
      "metadata": {
        "id": "6cc43954"
      },
      "outputs": [],
      "source": [
        "#appliquer le nettoyage au corpus\n",
        "corpus = list(DS.tweet)\n",
        "corpus = [clean_tweet(doc,ponctuations,mots_vides,lem) for doc in corpus]"
      ]
    },
    {
      "cell_type": "code",
      "execution_count": null,
      "id": "b410abcd",
      "metadata": {
        "id": "b410abcd",
        "outputId": "18e20e3a-8d3b-4d98-8f47-915fcc4223d3"
      },
      "outputs": [
        {
          "data": {
            "text/html": [
              "<div>\n",
              "<style scoped>\n",
              "    .dataframe tbody tr th:only-of-type {\n",
              "        vertical-align: middle;\n",
              "    }\n",
              "\n",
              "    .dataframe tbody tr th {\n",
              "        vertical-align: top;\n",
              "    }\n",
              "\n",
              "    .dataframe thead th {\n",
              "        text-align: right;\n",
              "    }\n",
              "</style>\n",
              "<table border=\"1\" class=\"dataframe\">\n",
              "  <thead>\n",
              "    <tr style=\"text-align: right;\">\n",
              "      <th></th>\n",
              "      <th>polarity</th>\n",
              "      <th>tweet</th>\n",
              "    </tr>\n",
              "  </thead>\n",
              "  <tbody>\n",
              "    <tr>\n",
              "      <th>557138</th>\n",
              "      <td>0</td>\n",
              "      <td>wants to compete! i want hard competition! i w...</td>\n",
              "    </tr>\n",
              "    <tr>\n",
              "      <th>349381</th>\n",
              "      <td>0</td>\n",
              "      <td>It seems we are stuck on the ground in Amarill...</td>\n",
              "    </tr>\n",
              "    <tr>\n",
              "      <th>182051</th>\n",
              "      <td>0</td>\n",
              "      <td>where the f are my pinking shears? rarararrrar...</td>\n",
              "    </tr>\n",
              "    <tr>\n",
              "      <th>571236</th>\n",
              "      <td>0</td>\n",
              "      <td>0ff t0 tHE MEEtiN..  i HAtE WhEN PPl V0lUNtEER...</td>\n",
              "    </tr>\n",
              "    <tr>\n",
              "      <th>1339637</th>\n",
              "      <td>4</td>\n",
              "      <td>@ reply me pls</td>\n",
              "    </tr>\n",
              "    <tr>\n",
              "      <th>758738</th>\n",
              "      <td>0</td>\n",
              "      <td>@bharathy_99: Jazz in India is just Honda stra...</td>\n",
              "    </tr>\n",
              "    <tr>\n",
              "      <th>1065984</th>\n",
              "      <td>4</td>\n",
              "      <td>aaaaaaaaaaah, met a boy. he seems nice. im hap...</td>\n",
              "    </tr>\n",
              "    <tr>\n",
              "      <th>1373568</th>\n",
              "      <td>4</td>\n",
              "      <td>@jonasbrothers http://twitpic.com/6q1om - Spor...</td>\n",
              "    </tr>\n",
              "    <tr>\n",
              "      <th>1092137</th>\n",
              "      <td>4</td>\n",
              "      <td>@saragarth Not bad, bit grumpy cause of exams ...</td>\n",
              "    </tr>\n",
              "    <tr>\n",
              "      <th>74877</th>\n",
              "      <td>0</td>\n",
              "      <td>@luke_redroot can't watch it  what is it?</td>\n",
              "    </tr>\n",
              "  </tbody>\n",
              "</table>\n",
              "</div>"
            ],
            "text/plain": [
              "         polarity                                              tweet\n",
              "557138          0  wants to compete! i want hard competition! i w...\n",
              "349381          0  It seems we are stuck on the ground in Amarill...\n",
              "182051          0  where the f are my pinking shears? rarararrrar...\n",
              "571236          0  0ff t0 tHE MEEtiN..  i HAtE WhEN PPl V0lUNtEER...\n",
              "1339637         4                                    @ reply me pls \n",
              "758738          0  @bharathy_99: Jazz in India is just Honda stra...\n",
              "1065984         4  aaaaaaaaaaah, met a boy. he seems nice. im hap...\n",
              "1373568         4  @jonasbrothers http://twitpic.com/6q1om - Spor...\n",
              "1092137         4  @saragarth Not bad, bit grumpy cause of exams ...\n",
              "74877           0          @luke_redroot can't watch it  what is it?"
            ]
          },
          "execution_count": 7,
          "metadata": {},
          "output_type": "execute_result"
        }
      ],
      "source": [
        "#nouveau data frame\n",
        "DC = pandas.DataFrame({'polarity':(DS.polarity==4).astype('int32'),'tweet':corpus})\n",
        "\n",
        "#comparaison avant...\n",
        "DS.head(10)"
      ]
    },
    {
      "cell_type": "code",
      "execution_count": null,
      "id": "dd270757",
      "metadata": {
        "id": "dd270757",
        "outputId": "808fb97e-ac4e-494a-8ded-ae6e584025c2"
      },
      "outputs": [
        {
          "data": {
            "text/html": [
              "<div>\n",
              "<style scoped>\n",
              "    .dataframe tbody tr th:only-of-type {\n",
              "        vertical-align: middle;\n",
              "    }\n",
              "\n",
              "    .dataframe tbody tr th {\n",
              "        vertical-align: top;\n",
              "    }\n",
              "\n",
              "    .dataframe thead th {\n",
              "        text-align: right;\n",
              "    }\n",
              "</style>\n",
              "<table border=\"1\" class=\"dataframe\">\n",
              "  <thead>\n",
              "    <tr style=\"text-align: right;\">\n",
              "      <th></th>\n",
              "      <th>polarity</th>\n",
              "      <th>tweet</th>\n",
              "    </tr>\n",
              "  </thead>\n",
              "  <tbody>\n",
              "    <tr>\n",
              "      <th>557138</th>\n",
              "      <td>0</td>\n",
              "      <td>want compete want hard competition want rally ...</td>\n",
              "    </tr>\n",
              "    <tr>\n",
              "      <th>349381</th>\n",
              "      <td>0</td>\n",
              "      <td>seems stuck ground amarillo put ground stop fl...</td>\n",
              "    </tr>\n",
              "    <tr>\n",
              "      <th>182051</th>\n",
              "      <td>0</td>\n",
              "      <td>pinking shear rarararrrarararrbabyproofing cut...</td>\n",
              "    </tr>\n",
              "    <tr>\n",
              "      <th>571236</th>\n",
              "      <td>0</td>\n",
              "      <td>meetin hate ppl vlunteer free timegrrr</td>\n",
              "    </tr>\n",
              "    <tr>\n",
              "      <th>1339637</th>\n",
              "      <td>1</td>\n",
              "      <td>reply pls</td>\n",
              "    </tr>\n",
              "    <tr>\n",
              "      <th>758738</th>\n",
              "      <td>0</td>\n",
              "      <td>jazz india honda strategy prove make affordabl...</td>\n",
              "    </tr>\n",
              "    <tr>\n",
              "      <th>1065984</th>\n",
              "      <td>1</td>\n",
              "      <td>aaaaaaaaaaah met boy seems nice happppppy</td>\n",
              "    </tr>\n",
              "    <tr>\n",
              "      <th>1373568</th>\n",
              "      <td>1</td>\n",
              "      <td>sport center guy legit quit wooww</td>\n",
              "    </tr>\n",
              "    <tr>\n",
              "      <th>1092137</th>\n",
              "      <td>1</td>\n",
              "      <td>bad bit grumpy cause exam generally</td>\n",
              "    </tr>\n",
              "    <tr>\n",
              "      <th>74877</th>\n",
              "      <td>0</td>\n",
              "      <td>cant watch</td>\n",
              "    </tr>\n",
              "  </tbody>\n",
              "</table>\n",
              "</div>"
            ],
            "text/plain": [
              "         polarity                                              tweet\n",
              "557138          0  want compete want hard competition want rally ...\n",
              "349381          0  seems stuck ground amarillo put ground stop fl...\n",
              "182051          0  pinking shear rarararrrarararrbabyproofing cut...\n",
              "571236          0             meetin hate ppl vlunteer free timegrrr\n",
              "1339637         1                                          reply pls\n",
              "758738          0  jazz india honda strategy prove make affordabl...\n",
              "1065984         1          aaaaaaaaaaah met boy seems nice happppppy\n",
              "1373568         1                  sport center guy legit quit wooww\n",
              "1092137         1                bad bit grumpy cause exam generally\n",
              "74877           0                                         cant watch"
            ]
          },
          "execution_count": 8,
          "metadata": {},
          "output_type": "execute_result"
        }
      ],
      "source": [
        "#... et après nettoyage\n",
        "DC.head(10)"
      ]
    },
    {
      "cell_type": "code",
      "execution_count": null,
      "id": "cd1ceb6c",
      "metadata": {
        "id": "cd1ceb6c",
        "outputId": "2ae5ea99-52d0-4b9a-8330-7514ddb38d68"
      },
      "outputs": [
        {
          "name": "stdout",
          "output_type": "stream",
          "text": [
            "163\n"
          ]
        }
      ],
      "source": [
        "#des tweets vides après nettoyage ?\n",
        "print(DC.loc[DC.tweet==\"\"].shape[0])"
      ]
    },
    {
      "cell_type": "code",
      "execution_count": null,
      "id": "e953b397",
      "metadata": {
        "id": "e953b397",
        "outputId": "20b1ce5e-40e9-4f20-9b1f-3ae428887055"
      },
      "outputs": [
        {
          "name": "stdout",
          "output_type": "stream",
          "text": [
            "(29837, 2)\n"
          ]
        }
      ],
      "source": [
        "#retrait des tweets correspondants\n",
        "DC_ok = DC.loc[DC.tweet != \"\"]\n",
        "print(DC_ok.shape)"
      ]
    },
    {
      "cell_type": "markdown",
      "id": "81e1c76f",
      "metadata": {
        "id": "81e1c76f"
      },
      "source": [
        "# Analyse des sentiments - Modélisation prédictive"
      ]
    },
    {
      "cell_type": "markdown",
      "id": "68a04225",
      "metadata": {
        "id": "68a04225"
      },
      "source": [
        "### Subivision apprentissage-test des données"
      ]
    },
    {
      "cell_type": "code",
      "execution_count": null,
      "id": "047826cd",
      "metadata": {
        "id": "047826cd",
        "outputId": "d78b834d-0bf4-49f2-b725-5507621127a1"
      },
      "outputs": [
        {
          "name": "stdout",
          "output_type": "stream",
          "text": [
            "(20885, 2)\n",
            "(8952, 2)\n"
          ]
        }
      ],
      "source": [
        "#partition app-test\n",
        "from sklearn.model_selection import train_test_split\n",
        "dfTrain, dfTest = train_test_split(DC_ok,train_size=0.7,stratify=DC_ok.polarity,random_state=0)\n",
        "\n",
        "#vérification\n",
        "print(dfTrain.shape)\n",
        "print(dfTest.shape)"
      ]
    },
    {
      "cell_type": "code",
      "execution_count": null,
      "id": "19bbec75",
      "metadata": {
        "id": "19bbec75",
        "outputId": "b137085c-2558-498d-a79c-9ffca8ae549a"
      },
      "outputs": [
        {
          "name": "stdout",
          "output_type": "stream",
          "text": [
            "2.7.0\n"
          ]
        }
      ],
      "source": [
        "#version de keras\n",
        "import keras\n",
        "print(keras.__version__)"
      ]
    },
    {
      "cell_type": "markdown",
      "id": "e14b5eb4",
      "metadata": {
        "id": "e14b5eb4"
      },
      "source": [
        "### Tokénisation avec Keras - Constitution du dictionnaire"
      ]
    },
    {
      "cell_type": "code",
      "execution_count": null,
      "id": "b7041e6c",
      "metadata": {
        "id": "b7041e6c",
        "outputId": "7e28f562-a166-42ff-db2a-432484d033e9"
      },
      "outputs": [
        {
          "name": "stdout",
          "output_type": "stream",
          "text": [
            "20885\n"
          ]
        }
      ],
      "source": [
        "#tokénisation avec Keras\n",
        "#num_words = None => sans limitation du nombre de termes à extraire\n",
        "from keras.preprocessing.text import Tokenizer\n",
        "tk = Tokenizer(num_words=None)\n",
        "\n",
        "#création du dictionnaire à partir des documents\n",
        "#de l'échantillon d'apprentissage\n",
        "tk.fit_on_texts(dfTrain.tweet)\n",
        "\n",
        "#nombre de documents traités\n",
        "print(tk.document_count)"
      ]
    },
    {
      "cell_type": "code",
      "execution_count": null,
      "id": "1e194a17",
      "metadata": {
        "id": "1e194a17",
        "outputId": "416d14d8-7ca3-4ec5-a030-c31badb5961c"
      },
      "outputs": [
        {
          "name": "stdout",
          "output_type": "stream",
          "text": [
            "[('najs', 1), ('watching', 296), ('daft', 3), ('punk', 5), ('intersella', 1), ('right', 341), ('still', 601), ('couple', 53), ('drink', 74), ('couldnt', 86)]\n"
          ]
        }
      ],
      "source": [
        "#liste des mots et leurs fréquences\n",
        "print(list(tk.word_counts.items())[:10])"
      ]
    },
    {
      "cell_type": "code",
      "execution_count": null,
      "id": "62c9351b",
      "metadata": {
        "id": "62c9351b",
        "outputId": "e2703bd4-9358-40a8-8ed6-d52b06b98097"
      },
      "outputs": [
        {
          "name": "stdout",
          "output_type": "stream",
          "text": [
            "[('day', 1383), ('good', 1192), ('get', 1085), ('like', 1023), ('got', 989), ('going', 889), ('love', 880), ('today', 878), ('work', 870), ('dont', 857)]\n"
          ]
        }
      ],
      "source": [
        "#liste triée dans l'ordre\n",
        "#de la fréquence décroissante\n",
        "print(sorted(list(tk.word_counts.items()),key=lambda x: -x[1])[:10])"
      ]
    },
    {
      "cell_type": "code",
      "execution_count": null,
      "id": "19d4e922",
      "metadata": {
        "id": "19d4e922",
        "outputId": "441f8647-f2bd-4467-99de-8993b7557a79"
      },
      "outputs": [
        {
          "name": "stdout",
          "output_type": "stream",
          "text": [
            "[('day', 1), ('good', 2), ('get', 3), ('like', 4), ('got', 5), ('going', 6), ('love', 7), ('today', 8), ('work', 9), ('dont', 10)]\n"
          ]
        }
      ],
      "source": [
        "#liste des termes avec leur indice\n",
        "print(list(tk.word_index.items())[:10])"
      ]
    },
    {
      "cell_type": "markdown",
      "id": "4aa51afe",
      "metadata": {
        "id": "4aa51afe"
      },
      "source": [
        "### Constitution de la matrice documents-termes"
      ]
    },
    {
      "cell_type": "code",
      "execution_count": null,
      "id": "835b4a8e",
      "metadata": {
        "id": "835b4a8e",
        "outputId": "2ef9c937-d11c-4c36-d718-e91d9dad979a"
      },
      "outputs": [
        {
          "name": "stdout",
          "output_type": "stream",
          "text": [
            "(20885, 21058)\n"
          ]
        }
      ],
      "source": [
        "#matrice doc.termes -- TRAIN\n",
        "#attention, pondération binaire par défaut\n",
        "#cf. la doc\n",
        "mTrain = tk.texts_to_matrix(dfTrain.tweet)\n",
        "print(mTrain.shape)"
      ]
    },
    {
      "cell_type": "markdown",
      "id": "ca09e6a3",
      "metadata": {
        "id": "ca09e6a3"
      },
      "source": [
        "### Perceptron multicouche - Modélisation prédictive"
      ]
    },
    {
      "cell_type": "code",
      "execution_count": null,
      "id": "eea6c4de",
      "metadata": {
        "id": "eea6c4de",
        "outputId": "c1247205-a29f-463e-c696-e0cce4a87ae3"
      },
      "outputs": [
        {
          "name": "stdout",
          "output_type": "stream",
          "text": [
            "Model: \"sequential\"\n",
            "_________________________________________________________________\n",
            " Layer (type)                Output Shape              Param #   \n",
            "=================================================================\n",
            " dense (Dense)               (None, 2)                 42118     \n",
            "                                                                 \n",
            " dense_1 (Dense)             (None, 1)                 3         \n",
            "                                                                 \n",
            "=================================================================\n",
            "Total params: 42,121\n",
            "Trainable params: 42,121\n",
            "Non-trainable params: 0\n",
            "_________________________________________________________________\n",
            "None\n"
          ]
        }
      ],
      "source": [
        "#créer un modèle\n",
        "from keras.models import Sequential\n",
        "from keras.layers import Dense\n",
        "\n",
        "#perceptron multicouche à 1 couche cachée\n",
        "pmc = Sequential()\n",
        "pmc.add(Dense(units=2,input_dim=mTrain.shape[1],activation=\"elu\"))\n",
        "pmc.add(Dense(units=1,activation=\"sigmoid\"))\n",
        "\n",
        "#structure du réseau\n",
        "print(pmc.summary())"
      ]
    },
    {
      "cell_type": "code",
      "execution_count": null,
      "id": "7f8cd6de",
      "metadata": {
        "id": "7f8cd6de",
        "outputId": "0b6bf2d9-f3dd-46cf-efb7-7d4749da365a"
      },
      "outputs": [
        {
          "name": "stdout",
          "output_type": "stream",
          "text": [
            "Epoch 1/10\n",
            "523/523 [==============================] - 2s 4ms/step - loss: 0.6426 - accuracy: 0.6937 - val_loss: 0.5897 - val_accuracy: 0.7357\n",
            "Epoch 2/10\n",
            "523/523 [==============================] - 2s 3ms/step - loss: 0.5209 - accuracy: 0.7887 - val_loss: 0.5400 - val_accuracy: 0.7371\n",
            "Epoch 3/10\n",
            "523/523 [==============================] - 2s 3ms/step - loss: 0.4401 - accuracy: 0.8291 - val_loss: 0.5268 - val_accuracy: 0.7386\n",
            "Epoch 4/10\n",
            "523/523 [==============================] - 2s 3ms/step - loss: 0.3819 - accuracy: 0.8556 - val_loss: 0.5291 - val_accuracy: 0.7465\n",
            "Epoch 5/10\n",
            "523/523 [==============================] - 1s 3ms/step - loss: 0.3361 - accuracy: 0.8775 - val_loss: 0.5385 - val_accuracy: 0.7395\n",
            "Epoch 6/10\n",
            "523/523 [==============================] - 2s 3ms/step - loss: 0.2988 - accuracy: 0.8927 - val_loss: 0.5543 - val_accuracy: 0.7417\n",
            "Epoch 7/10\n",
            "523/523 [==============================] - 2s 3ms/step - loss: 0.2680 - accuracy: 0.9035 - val_loss: 0.5749 - val_accuracy: 0.7386\n",
            "Epoch 8/10\n",
            "523/523 [==============================] - 2s 3ms/step - loss: 0.2423 - accuracy: 0.9133 - val_loss: 0.5981 - val_accuracy: 0.7319\n",
            "Epoch 9/10\n",
            "523/523 [==============================] - 2s 3ms/step - loss: 0.2205 - accuracy: 0.9227 - val_loss: 0.6216 - val_accuracy: 0.7292\n",
            "Epoch 10/10\n",
            "523/523 [==============================] - 2s 3ms/step - loss: 0.2025 - accuracy: 0.9293 - val_loss: 0.6504 - val_accuracy: 0.7259\n"
          ]
        }
      ],
      "source": [
        "#paramétrage de l'algorithme d'apprentissage\n",
        "pmc.compile(loss=\"binary_crossentropy\",optimizer=\"adam\",metrics=['accuracy'])\n",
        "\n",
        "#lancement - une partie du train est réservée pour la validation\n",
        "#c.-à-d. pour un suivi plus réaliste des performances \n",
        "history = pmc.fit(mTrain,dfTrain.polarity,epochs=10,validation_split=0.2)"
      ]
    },
    {
      "cell_type": "code",
      "execution_count": null,
      "id": "a4dbc5a1",
      "metadata": {
        "id": "a4dbc5a1",
        "outputId": "2181f1c4-9738-4d3e-e0bf-342dd3f0ffd5"
      },
      "outputs": [
        {
          "data": {
            "image/png": "[encoded data removed]",
            "text/plain": [
              "<Figure size 432x288 with 1 Axes>"
            ]
          },
          "metadata": {
            "needs_background": "light"
          },
          "output_type": "display_data"
        }
      ],
      "source": [
        "#graphique accuracy\n",
        "import matplotlib.pyplot as plt\n",
        "\n",
        "#évolution de l'accuracy'\n",
        "plt.plot(history.history['accuracy'])\n",
        "plt.plot(history.history['val_accuracy'])\n",
        "plt.title('model accuracy')\n",
        "plt.ylabel('accuracy')\n",
        "plt.xlabel('epoch')\n",
        "plt.legend(['train', 'validation'], loc='upper left')\n",
        "plt.show()"
      ]
    },
    {
      "cell_type": "markdown",
      "id": "7dfb0eee",
      "metadata": {
        "id": "7dfb0eee"
      },
      "source": [
        "### Evaluation sur l'échantillon test"
      ]
    },
    {
      "cell_type": "code",
      "execution_count": null,
      "id": "b7a467c4",
      "metadata": {
        "id": "b7a467c4",
        "outputId": "141a03d9-3245-4239-b3d6-509e1bf13e3e"
      },
      "outputs": [
        {
          "name": "stdout",
          "output_type": "stream",
          "text": [
            "(8952, 21058)\n"
          ]
        }
      ],
      "source": [
        "#matrice documents-termes en TEST\n",
        "mTest = tk.texts_to_matrix(dfTest.tweet)\n",
        "print(mTest.shape)"
      ]
    },
    {
      "cell_type": "code",
      "execution_count": null,
      "id": "98e70f74",
      "metadata": {
        "id": "98e70f74",
        "outputId": "ac2b9856-988e-4a01-e7a6-1712cd30dc07"
      },
      "outputs": [
        {
          "name": "stdout",
          "output_type": "stream",
          "text": [
            "280/280 [==============================] - 0s 2ms/step - loss: 0.6740 - accuracy: 0.7178\n",
            "[0.6739954352378845, 0.7178283929824829]\n"
          ]
        }
      ],
      "source": [
        "#évaluation en test avec evaluate()\n",
        "print(pmc.evaluate(mTest,dfTest.polarity))"
      ]
    },
    {
      "cell_type": "code",
      "execution_count": null,
      "id": "9a0a5b6c",
      "metadata": {
        "id": "9a0a5b6c",
        "outputId": "ec95a5a8-206a-43ea-af98-5dbb10c9dc99"
      },
      "outputs": [
        {
          "name": "stdout",
          "output_type": "stream",
          "text": [
            "[[0.6696462 ]\n",
            " [0.74031   ]\n",
            " [0.6953765 ]\n",
            " [0.94122034]\n",
            " [0.08778971]\n",
            " [0.93201953]\n",
            " [0.00245383]\n",
            " [0.56891775]\n",
            " [0.88808525]\n",
            " [0.31656337]]\n"
          ]
        }
      ],
      "source": [
        "#ou en 2 étapes\n",
        "#prédiction - proba d'appartenance aux classes\n",
        "pred = pmc.predict(mTest)\n",
        "print(pred[:10])"
      ]
    },
    {
      "cell_type": "code",
      "execution_count": null,
      "id": "587d2285",
      "metadata": {
        "id": "587d2285",
        "outputId": "88b305c1-9ea5-401d-bd8c-672740c37f98"
      },
      "outputs": [
        {
          "data": {
            "text/plain": [
              "array([[3151, 1314],\n",
              "       [1212, 3275]], dtype=int64)"
            ]
          },
          "execution_count": 24,
          "metadata": {},
          "output_type": "execute_result"
        }
      ],
      "source": [
        "#matrice de confusion\n",
        "from sklearn import metrics\n",
        "metrics.confusion_matrix(dfTest.polarity,pred>0.5)"
      ]
    },
    {
      "cell_type": "code",
      "execution_count": null,
      "id": "ede58f78",
      "metadata": {
        "id": "ede58f78",
        "outputId": "366509fc-e8a7-476a-9e80-4f337e4ee58a"
      },
      "outputs": [
        {
          "data": {
            "text/plain": [
              "0.717828418230563"
            ]
          },
          "execution_count": 25,
          "metadata": {},
          "output_type": "execute_result"
        }
      ],
      "source": [
        "#accuracy -- même valeur que evaluate() bien sûr\n",
        "metrics.accuracy_score(dfTest.polarity,pred>0.5)"
      ]
    },
    {
      "cell_type": "markdown",
      "id": "4adfe58e",
      "metadata": {
        "id": "4adfe58e"
      },
      "source": [
        "### Représentation intermédiaire des données"
      ]
    },
    {
      "cell_type": "code",
      "execution_count": null,
      "id": "d5986a72",
      "metadata": {
        "id": "d5986a72",
        "outputId": "2aad0daa-2a92-429a-a6f5-f5bddf9262e6"
      },
      "outputs": [
        {
          "name": "stdout",
          "output_type": "stream",
          "text": [
            "(8952, 2)\n"
          ]
        }
      ],
      "source": [
        "#récupération de la sortie de la couche cachée\n",
        "#calculée sur l'échantillon test\n",
        "hidden = keras.backend.function([pmc.layers[0].input],[pmc.layers[0].output])\n",
        "out_hidden = hidden([mTest])\n",
        "\n",
        "#vérification des dimensions\n",
        "print(out_hidden[0].shape)"
      ]
    },
    {
      "cell_type": "code",
      "execution_count": null,
      "id": "32763737",
      "metadata": {
        "id": "32763737"
      },
      "outputs": [],
      "source": [
        "#associer ces coordonnées à la polarité\n",
        "import numpy\n",
        "dfTestHidden = pandas.DataFrame(out_hidden[0],columns=['V1','V2'])\n",
        "dfTestHidden['polarity'] = numpy.where(dfTest.polarity==1,\"pos\",\"neg\")"
      ]
    },
    {
      "cell_type": "code",
      "execution_count": null,
      "id": "360946b0",
      "metadata": {
        "id": "360946b0",
        "outputId": "9e7878bb-ca34-4406-e655-ef81e492f764"
      },
      "outputs": [
        {
          "data": {
            "text/plain": [
              "<AxesSubplot:xlabel='V1', ylabel='V2'>"
            ]
          },
          "execution_count": 28,
          "metadata": {},
          "output_type": "execute_result"
        },
        {
          "data": {
            "image/png": "[encoded data removed]",
            "text/plain": [
              "<Figure size 432x288 with 1 Axes>"
            ]
          },
          "metadata": {
            "needs_background": "light"
          },
          "output_type": "display_data"
        }
      ],
      "source": [
        "#seaborn\n",
        "#séparateur linéaire dans le plan\n",
        "import seaborn as sns\n",
        "sns.scatterplot(x='V1',y='V2',hue='polarity',data=dfTestHidden)"
      ]
    },
    {
      "cell_type": "markdown",
      "id": "f9e4d82b",
      "metadata": {
        "id": "f9e4d82b"
      },
      "source": [
        "## Déploiement sur un document supplémentaire"
      ]
    },
    {
      "cell_type": "code",
      "execution_count": null,
      "id": "39bff713",
      "metadata": {
        "id": "39bff713"
      },
      "outputs": [],
      "source": [
        "#un nouveau tweet\n",
        "my_tweet = \"#lmfao i am sexy and i know it\""
      ]
    },
    {
      "cell_type": "code",
      "execution_count": null,
      "id": "6d3f0930",
      "metadata": {
        "id": "6d3f0930",
        "outputId": "189eb6c5-c78f-4f66-ad1c-daf4be0cac00"
      },
      "outputs": [
        {
          "name": "stdout",
          "output_type": "stream",
          "text": [
            "sexy know\n"
          ]
        }
      ],
      "source": [
        "#nettoyage\n",
        "my_clean = clean_tweet(my_tweet,ponctuations,mots_vides,lem)\n",
        "print(my_clean)"
      ]
    },
    {
      "cell_type": "code",
      "execution_count": null,
      "id": "cb5da858",
      "metadata": {
        "id": "cb5da858",
        "outputId": "347f193e-31ee-442d-c8ff-3ceb204e2a67"
      },
      "outputs": [
        {
          "name": "stdout",
          "output_type": "stream",
          "text": [
            "(1, 21058)\n"
          ]
        }
      ],
      "source": [
        "#transformation en matrice\n",
        "#avec le dictionnaire élaboré sur l'apprentissage\n",
        "my_matrix = tk.texts_to_matrix([my_clean])\n",
        "print(my_matrix.shape)"
      ]
    },
    {
      "cell_type": "code",
      "execution_count": null,
      "id": "210794ed",
      "metadata": {
        "id": "210794ed",
        "outputId": "f3fe099b-8714-414d-abc9-04ad0cd91a9e"
      },
      "outputs": [
        {
          "name": "stdout",
          "output_type": "stream",
          "text": [
            "[[0.96535957]]\n"
          ]
        }
      ],
      "source": [
        "#prédiction\n",
        "print(pmc.predict(my_matrix))"
      ]
    }
  ],
  "metadata": {
    "kernelspec": {
      "display_name": "Python 3 (ipykernel)",
      "language": "python",
      "name": "python3"
    },
    "language_info": {
      "codemirror_mode": {
        "name": "ipython",
        "version": 3
      },
      "file_extension": ".py",
      "mimetype": "text/x-python",
      "name": "python",
      "nbconvert_exporter": "python",
      "pygments_lexer": "ipython3",
      "version": "3.9.7"
    },
    "colab": {
      "provenance": [],
      "include_colab_link": true
    }
  },
  "nbformat": 4,
  "nbformat_minor": 5
}