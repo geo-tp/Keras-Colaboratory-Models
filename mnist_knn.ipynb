{
  "nbformat": 4,
  "nbformat_minor": 0,
  "metadata": {
    "colab": {
      "provenance": [],
      "authorship_tag": "ABX9TyNXMRZON4INqCbWb7is7q1r",
      "include_colab_link": true
    },
    "kernelspec": {
      "name": "python3",
      "display_name": "Python 3"
    },
    "language_info": {
      "name": "python"
    }
  },
  "cells": [
    {
      "cell_type": "markdown",
      "metadata": {
        "id": "view-in-github",
        "colab_type": "text"
      },
      "source": [
        "<a href=\"https://colab.research.google.com/github/geo-tp/Keras-Colaboratory-Models/blob/main/mnist_knn.ipynb\" target=\"_parent\"><img src=\"https://colab.research.google.com/assets/colab-badge.svg\" alt=\"Open In Colab\"/></a>"
      ]
    },
    {
      "cell_type": "markdown",
      "source": [
        "# K Nearest Neighbors Mnist"
      ],
      "metadata": {
        "id": "tNqb4wzb4a85"
      }
    },
    {
      "cell_type": "markdown",
      "source": [
        "## Import\n"
      ],
      "metadata": {
        "id": "7f2WzfRtziiA"
      }
    },
    {
      "cell_type": "code",
      "execution_count": 80,
      "metadata": {
        "id": "2OcOFMW8s9zl"
      },
      "outputs": [],
      "source": [
        "from tensorflow.keras.datasets import mnist\n",
        "from sklearn import neighbors\n",
        "import matplotlib.pyplot as plt\n",
        "import numpy as np"
      ]
    },
    {
      "cell_type": "markdown",
      "source": [
        "## Dataset"
      ],
      "metadata": {
        "id": "FJx4i8X4zlDE"
      }
    },
    {
      "cell_type": "code",
      "source": [
        "## MNIST, 60K train img of hand writted numbers, 10K test img\n",
        "\n",
        "(train_images, train_labels), (test_images, test_labels) = mnist.load_data()\n",
        "\n",
        "# We reduce dataset to avoid too much calculation time\n",
        "x_train = train_images[:6000].reshape(6000, 784)\n",
        "y_train = train_labels[:6000]\n",
        "\n",
        "x_test = test_images.reshape(10000, 784)\n",
        "y_test = test_labels"
      ],
      "metadata": {
        "id": "x2xQTXl-tSCa"
      },
      "execution_count": 81,
      "outputs": []
    },
    {
      "cell_type": "markdown",
      "source": [
        "## Determine best neighbors number"
      ],
      "metadata": {
        "id": "NH5toiTGzpMx"
      }
    },
    {
      "cell_type": "code",
      "source": [
        "# Fit model with neighbors range from 2 to 14 and show error results\n",
        "\n",
        "errors = []\n",
        "for n_neighbors in range(2,15):\n",
        "    knn = neighbors.KNeighborsClassifier(n_neighbors)\n",
        "    score = 1 - knn.fit(x_train, y_train).score(x_test, y_test)\n",
        "    errors.append(score * 100)\n",
        "\n",
        "plt.plot(range(2,15), errors, 'o-')\n",
        "plt.show()"
      ],
      "metadata": {
        "colab": {
          "base_uri": "https://localhost:8080/",
          "height": 268
        },
        "id": "t3QdV5TUyPiW",
        "outputId": "d06ffce9-5ffb-42e3-da2a-fd763d96e801"
      },
      "execution_count": 82,
      "outputs": [
        {
          "output_type": "display_data",
          "data": {
            "text/plain": [
              "<Figure size 432x288 with 1 Axes>"
            ],
            "image/png": "[encoded data removed]"
          },
          "metadata": {
            "needs_background": "light"
          }
        }
      ]
    },
    {
      "cell_type": "markdown",
      "source": [
        "## Model"
      ],
      "metadata": {
        "id": "F7KjMn_xzvTk"
      }
    },
    {
      "cell_type": "code",
      "source": [
        "# This model should predict the class of a given img\n",
        "\n",
        "model = neighbors.KNeighborsClassifier(n_neighbors=3) # 3 is the most effective"
      ],
      "metadata": {
        "id": "BEM5M6rAuoAe"
      },
      "execution_count": 83,
      "outputs": []
    },
    {
      "cell_type": "markdown",
      "source": [
        "## Training"
      ],
      "metadata": {
        "id": "jUltAxcbzxSx"
      }
    },
    {
      "cell_type": "code",
      "source": [
        "model.fit(x_train, y_train)"
      ],
      "metadata": {
        "colab": {
          "base_uri": "https://localhost:8080/"
        },
        "id": "QAFonYjdwO9e",
        "outputId": "3a6b9918-2aa1-416c-e3de-3623871f7ecc"
      },
      "execution_count": 84,
      "outputs": [
        {
          "output_type": "execute_result",
          "data": {
            "text/plain": [
              "KNeighborsClassifier(n_neighbors=3)"
            ]
          },
          "metadata": {},
          "execution_count": 84
        }
      ]
    },
    {
      "cell_type": "markdown",
      "source": [
        "## Results"
      ],
      "metadata": {
        "id": "3uyN7hVozyna"
      }
    },
    {
      "cell_type": "code",
      "source": [
        "classification_errror = 1 - model.score(x_test, y_test)\n",
        "print(\"Average classification error : \", classification_errror*100, \"%\")"
      ],
      "metadata": {
        "colab": {
          "base_uri": "https://localhost:8080/"
        },
        "id": "dArw2oBWwlmU",
        "outputId": "324fe07c-8963-4261-cd15-ac7f50046eb2"
      },
      "execution_count": 85,
      "outputs": [
        {
          "output_type": "stream",
          "name": "stdout",
          "text": [
            "Average classification error :  6.369999999999997 %\n"
          ]
        }
      ]
    },
    {
      "cell_type": "code",
      "source": [
        "# On récupère les prédictions sur les données test\n",
        "predicted = model.predict(x_test)\n",
        "\n",
        "# On redimensionne les données sous forme d'images\n",
        "images = x_test.reshape((-1, 28, 28))\n",
        "\n",
        "# On selectionne un echantillon de 12 images au hasard\n",
        "select = np.random.randint(images.shape[0], size=12)\n",
        "\n",
        "# On affiche les images avec la prédiction associée\n",
        "fig,ax = plt.subplots(3,4)\n",
        "\n",
        "for index, value in enumerate(select):\n",
        "    plt.subplot(3,4,index+1)\n",
        "    plt.axis('off')\n",
        "    plt.imshow(images[value],cmap=plt.cm.gray_r,interpolation=\"nearest\")\n",
        "    plt.title('Predicted: {}'.format( predicted[value]) )\n",
        "\n",
        "plt.show()"
      ],
      "metadata": {
        "colab": {
          "base_uri": "https://localhost:8080/",
          "height": 264
        },
        "id": "Y1ZYjEMJ3kQK",
        "outputId": "d5c946e6-8028-4a52-b563-bcd9a4d23906"
      },
      "execution_count": 90,
      "outputs": [
        {
          "output_type": "display_data",
          "data": {
            "text/plain": [
              "<Figure size 432x288 with 12 Axes>"
            ],
            "image/png": "[encoded data removed]"
          },
          "metadata": {
            "needs_background": "light"
          }
        }
      ]
    },
    {
      "cell_type": "code",
      "source": [
        "# on récupère les données mal prédites \n",
        "misclass = (y_test != predicted)\n",
        "misclass_images = images[misclass,:,:]\n",
        "misclass_predicted = predicted[misclass]\n",
        "\n",
        "# on sélectionne un échantillon de ces images\n",
        "select = np.random.randint(misclass_images.shape[0], size=12)\n",
        "\n",
        "# on affiche les images et les prédictions (erronées) associées à ces images\n",
        "for index, value in enumerate(select):\n",
        "    plt.subplot(3,4,index+1)\n",
        "    plt.axis('off')\n",
        "    plt.imshow(misclass_images[value],cmap=plt.cm.gray_r,interpolation=\"nearest\")\n",
        "    plt.title('Predicted: {}'.format(misclass_predicted[value]) )\n",
        "\n",
        "plt.show()"
      ],
      "metadata": {
        "colab": {
          "base_uri": "https://localhost:8080/",
          "height": 264
        },
        "id": "MNldMsIB3OIC",
        "outputId": "a80294e7-9eaf-405d-9026-199d60e05695"
      },
      "execution_count": 87,
      "outputs": [
        {
          "output_type": "display_data",
          "data": {
            "text/plain": [
              "<Figure size 432x288 with 12 Axes>"
            ],
            "image/png": "[encoded data removed]"
          },
          "metadata": {
            "needs_background": "light"
          }
        }
      ]
    }
  ]
}