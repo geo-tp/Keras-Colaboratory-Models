{
  "nbformat": 4,
  "nbformat_minor": 0,
  "metadata": {
    "colab": {
      "provenance": [],
      "authorship_tag": "ABX9TyMbrm9RXXNhL4yYnF/bxKFA",
      "include_colab_link": true
    },
    "kernelspec": {
      "name": "python3",
      "display_name": "Python 3"
    },
    "language_info": {
      "name": "python"
    }
  },
  "cells": [
    {
      "cell_type": "markdown",
      "metadata": {
        "id": "view-in-github",
        "colab_type": "text"
      },
      "source": [
        "<a href=\"https://colab.research.google.com/github/geo-tp/Keras-Colaboratory-Models/blob/main/house_linear_regression.ipynb\" target=\"_parent\"><img src=\"https://colab.research.google.com/assets/colab-badge.svg\" alt=\"Open In Colab\"/></a>"
      ]
    },
    {
      "cell_type": "markdown",
      "source": [
        "# House Linear Regression - Predict house rental price"
      ],
      "metadata": {
        "id": "KO92JVOmRwsF"
      }
    },
    {
      "cell_type": "markdown",
      "source": [
        "## Import"
      ],
      "metadata": {
        "id": "gIvcxiEgDD4u"
      }
    },
    {
      "cell_type": "code",
      "execution_count": 30,
      "metadata": {
        "id": "GdJ-dZIU2l7i"
      },
      "outputs": [],
      "source": [
        "import numpy as np\n",
        "import pandas as pd\n",
        "import matplotlib.pyplot as plt\n",
        "import tensorflow as tf\n",
        "import seaborn as sns\n",
        "from tensorflow import keras\n",
        "from tensorflow.keras import layers"
      ]
    },
    {
      "cell_type": "markdown",
      "source": [
        "## Dataset"
      ],
      "metadata": {
        "id": "gOF1ToXLDJJ4"
      }
    },
    {
      "cell_type": "code",
      "source": [
        "# DATASET - 536 records of rental price/surface of houses\n",
        "\n",
        "house_data = pd.read_csv(\"house.csv\")\n",
        "\n",
        "# clean for NaN values if any\n",
        "house_data.isna().sum()\n",
        "\n",
        "# ignore too high values\n",
        "house_data = house_data[house_data[\"loyer\"] < 7500]\n",
        "house_data = house_data[house_data[\"surface\"] < 200]\n",
        "\n",
        "house_data.head() # first rows"
      ],
      "metadata": {
        "colab": {
          "base_uri": "https://localhost:8080/",
          "height": 206
        },
        "id": "fcy96_wk2xZ7",
        "outputId": "552ff71e-3cf2-44fb-d6a1-de4cc7ace8fc"
      },
      "execution_count": 31,
      "outputs": [
        {
          "output_type": "execute_result",
          "data": {
            "text/plain": [
              "   loyer  surface\n",
              "0   1330       37\n",
              "1   1400       32\n",
              "2    904       26\n",
              "3    955       30\n",
              "4   2545       70"
            ],
            "text/html": [
              "\n",
              "  <div id=\"df-011fcba0-5e42-4970-ba5f-58ab08b1d17d\">\n",
              "    <div class=\"colab-df-container\">\n",
              "      <div>\n",
              "<style scoped>\n",
              "    .dataframe tbody tr th:only-of-type {\n",
              "        vertical-align: middle;\n",
              "    }\n",
              "\n",
              "    .dataframe tbody tr th {\n",
              "        vertical-align: top;\n",
              "    }\n",
              "\n",
              "    .dataframe thead th {\n",
              "        text-align: right;\n",
              "    }\n",
              "</style>\n",
              "<table border=\"1\" class=\"dataframe\">\n",
              "  <thead>\n",
              "    <tr style=\"text-align: right;\">\n",
              "      <th></th>\n",
              "      <th>loyer</th>\n",
              "      <th>surface</th>\n",
              "    </tr>\n",
              "  </thead>\n",
              "  <tbody>\n",
              "    <tr>\n",
              "      <th>0</th>\n",
              "      <td>1330</td>\n",
              "      <td>37</td>\n",
              "    </tr>\n",
              "    <tr>\n",
              "      <th>1</th>\n",
              "      <td>1400</td>\n",
              "      <td>32</td>\n",
              "    </tr>\n",
              "    <tr>\n",
              "      <th>2</th>\n",
              "      <td>904</td>\n",
              "      <td>26</td>\n",
              "    </tr>\n",
              "    <tr>\n",
              "      <th>3</th>\n",
              "      <td>955</td>\n",
              "      <td>30</td>\n",
              "    </tr>\n",
              "    <tr>\n",
              "      <th>4</th>\n",
              "      <td>2545</td>\n",
              "      <td>70</td>\n",
              "    </tr>\n",
              "  </tbody>\n",
              "</table>\n",
              "</div>\n",
              "      <button class=\"colab-df-convert\" onclick=\"convertToInteractive('df-011fcba0-5e42-4970-ba5f-58ab08b1d17d')\"\n",
              "              title=\"Convert this dataframe to an interactive table.\"\n",
              "              style=\"display:none;\">\n",
              "        \n",
              "  <svg xmlns=\"http://www.w3.org/2000/svg\" height=\"24px\"viewBox=\"0 0 24 24\"\n",
              "       width=\"24px\">\n",
              "    <path d=\"M0 0h24v24H0V0z\" fill=\"none\"/>\n",
              "    <path d=\"M18.56 5.44l.94 2.06.94-2.06 2.06-.94-2.06-.94-.94-2.06-.94 2.06-2.06.94zm-11 1L8.5 8.5l.94-2.06 2.06-.94-2.06-.94L8.5 2.5l-.94 2.06-2.06.94zm10 10l.94 2.06.94-2.06 2.06-.94-2.06-.94-.94-2.06-.94 2.06-2.06.94z\"/><path d=\"M17.41 7.96l-1.37-1.37c-.4-.4-.92-.59-1.43-.59-.52 0-1.04.2-1.43.59L10.3 9.45l-7.72 7.72c-.78.78-.78 2.05 0 2.83L4 21.41c.39.39.9.59 1.41.59.51 0 1.02-.2 1.41-.59l7.78-7.78 2.81-2.81c.8-.78.8-2.07 0-2.86zM5.41 20L4 18.59l7.72-7.72 1.47 1.35L5.41 20z\"/>\n",
              "  </svg>\n",
              "      </button>\n",
              "      \n",
              "  <style>\n",
              "    .colab-df-container {\n",
              "      display:flex;\n",
              "      flex-wrap:wrap;\n",
              "      gap: 12px;\n",
              "    }\n",
              "\n",
              "    .colab-df-convert {\n",
              "      background-color: #E8F0FE;\n",
              "      border: none;\n",
              "      border-radius: 50%;\n",
              "      cursor: pointer;\n",
              "      display: none;\n",
              "      fill: #1967D2;\n",
              "      height: 32px;\n",
              "      padding: 0 0 0 0;\n",
              "      width: 32px;\n",
              "    }\n",
              "\n",
              "    .colab-df-convert:hover {\n",
              "      background-color: #E2EBFA;\n",
              "      box-shadow: 0px 1px 2px rgba(60, 64, 67, 0.3), 0px 1px 3px 1px rgba(60, 64, 67, 0.15);\n",
              "      fill: #174EA6;\n",
              "    }\n",
              "\n",
              "    [theme=dark] .colab-df-convert {\n",
              "      background-color: #3B4455;\n",
              "      fill: #D2E3FC;\n",
              "    }\n",
              "\n",
              "    [theme=dark] .colab-df-convert:hover {\n",
              "      background-color: #434B5C;\n",
              "      box-shadow: 0px 1px 3px 1px rgba(0, 0, 0, 0.15);\n",
              "      filter: drop-shadow(0px 1px 2px rgba(0, 0, 0, 0.3));\n",
              "      fill: #FFFFFF;\n",
              "    }\n",
              "  </style>\n",
              "\n",
              "      <script>\n",
              "        const buttonEl =\n",
              "          document.querySelector('#df-011fcba0-5e42-4970-ba5f-58ab08b1d17d button.colab-df-convert');\n",
              "        buttonEl.style.display =\n",
              "          google.colab.kernel.accessAllowed ? 'block' : 'none';\n",
              "\n",
              "        async function convertToInteractive(key) {\n",
              "          const element = document.querySelector('#df-011fcba0-5e42-4970-ba5f-58ab08b1d17d');\n",
              "          const dataTable =\n",
              "            await google.colab.kernel.invokeFunction('convertToInteractive',\n",
              "                                                     [key], {});\n",
              "          if (!dataTable) return;\n",
              "\n",
              "          const docLinkHtml = 'Like what you see? Visit the ' +\n",
              "            '<a target=\"_blank\" href=https://colab.research.google.com/notebooks/data_table.ipynb>data table notebook</a>'\n",
              "            + ' to learn more about interactive tables.';\n",
              "          element.innerHTML = '';\n",
              "          dataTable['output_type'] = 'display_data';\n",
              "          await google.colab.output.renderOutput(dataTable, element);\n",
              "          const docLink = document.createElement('div');\n",
              "          docLink.innerHTML = docLinkHtml;\n",
              "          element.appendChild(docLink);\n",
              "        }\n",
              "      </script>\n",
              "    </div>\n",
              "  </div>\n",
              "  "
            ]
          },
          "metadata": {},
          "execution_count": 31
        }
      ]
    },
    {
      "cell_type": "code",
      "source": [
        "# Splitting for test set\n",
        "\n",
        "train_dataset = house_data.sample(frac=0.8, random_state=0)\n",
        "test_dataset = house_data.drop(train_dataset.index)\n",
        "\n",
        "train_features = train_dataset.copy()\n",
        "test_features = test_dataset.copy()\n",
        "\n",
        "train_labels = train_features.pop('loyer')\n",
        "test_labels = test_features.pop('loyer')"
      ],
      "metadata": {
        "id": "qBZP5tZ0C4GG"
      },
      "execution_count": 32,
      "outputs": []
    },
    {
      "cell_type": "code",
      "source": [
        "# Visualizing dataset\n",
        "\n",
        "sns.pairplot(train_dataset[['loyer', 'surface']], diag_kind='kde')\n",
        "train_dataset.describe().transpose()"
      ],
      "metadata": {
        "colab": {
          "base_uri": "https://localhost:8080/",
          "height": 469
        },
        "id": "QoO_WGNiBYOB",
        "outputId": "98d423b0-d4e7-42b3-f309-d1b0dd073984"
      },
      "execution_count": 33,
      "outputs": [
        {
          "output_type": "execute_result",
          "data": {
            "text/plain": [
              "         count         mean          std    min      25%     50%     75%  \\\n",
              "loyer    426.0  2046.002347  1125.806297  488.0  1246.25  1772.5  2542.5   \n",
              "surface  426.0    58.164319    34.570388   11.0    32.00    50.0    75.0   \n",
              "\n",
              "            max  \n",
              "loyer    7450.0  \n",
              "surface   182.0  "
            ],
            "text/html": [
              "\n",
              "  <div id=\"df-52033e69-799b-4123-a7cf-a1a3c17ffeae\">\n",
              "    <div class=\"colab-df-container\">\n",
              "      <div>\n",
              "<style scoped>\n",
              "    .dataframe tbody tr th:only-of-type {\n",
              "        vertical-align: middle;\n",
              "    }\n",
              "\n",
              "    .dataframe tbody tr th {\n",
              "        vertical-align: top;\n",
              "    }\n",
              "\n",
              "    .dataframe thead th {\n",
              "        text-align: right;\n",
              "    }\n",
              "</style>\n",
              "<table border=\"1\" class=\"dataframe\">\n",
              "  <thead>\n",
              "    <tr style=\"text-align: right;\">\n",
              "      <th></th>\n",
              "      <th>count</th>\n",
              "      <th>mean</th>\n",
              "      <th>std</th>\n",
              "      <th>min</th>\n",
              "      <th>25%</th>\n",
              "      <th>50%</th>\n",
              "      <th>75%</th>\n",
              "      <th>max</th>\n",
              "    </tr>\n",
              "  </thead>\n",
              "  <tbody>\n",
              "    <tr>\n",
              "      <th>loyer</th>\n",
              "      <td>426.0</td>\n",
              "      <td>2046.002347</td>\n",
              "      <td>1125.806297</td>\n",
              "      <td>488.0</td>\n",
              "      <td>1246.25</td>\n",
              "      <td>1772.5</td>\n",
              "      <td>2542.5</td>\n",
              "      <td>7450.0</td>\n",
              "    </tr>\n",
              "    <tr>\n",
              "      <th>surface</th>\n",
              "      <td>426.0</td>\n",
              "      <td>58.164319</td>\n",
              "      <td>34.570388</td>\n",
              "      <td>11.0</td>\n",
              "      <td>32.00</td>\n",
              "      <td>50.0</td>\n",
              "      <td>75.0</td>\n",
              "      <td>182.0</td>\n",
              "    </tr>\n",
              "  </tbody>\n",
              "</table>\n",
              "</div>\n",
              "      <button class=\"colab-df-convert\" onclick=\"convertToInteractive('df-52033e69-799b-4123-a7cf-a1a3c17ffeae')\"\n",
              "              title=\"Convert this dataframe to an interactive table.\"\n",
              "              style=\"display:none;\">\n",
              "        \n",
              "  <svg xmlns=\"http://www.w3.org/2000/svg\" height=\"24px\"viewBox=\"0 0 24 24\"\n",
              "       width=\"24px\">\n",
              "    <path d=\"M0 0h24v24H0V0z\" fill=\"none\"/>\n",
              "    <path d=\"M18.56 5.44l.94 2.06.94-2.06 2.06-.94-2.06-.94-.94-2.06-.94 2.06-2.06.94zm-11 1L8.5 8.5l.94-2.06 2.06-.94-2.06-.94L8.5 2.5l-.94 2.06-2.06.94zm10 10l.94 2.06.94-2.06 2.06-.94-2.06-.94-.94-2.06-.94 2.06-2.06.94z\"/><path d=\"M17.41 7.96l-1.37-1.37c-.4-.4-.92-.59-1.43-.59-.52 0-1.04.2-1.43.59L10.3 9.45l-7.72 7.72c-.78.78-.78 2.05 0 2.83L4 21.41c.39.39.9.59 1.41.59.51 0 1.02-.2 1.41-.59l7.78-7.78 2.81-2.81c.8-.78.8-2.07 0-2.86zM5.41 20L4 18.59l7.72-7.72 1.47 1.35L5.41 20z\"/>\n",
              "  </svg>\n",
              "      </button>\n",
              "      \n",
              "  <style>\n",
              "    .colab-df-container {\n",
              "      display:flex;\n",
              "      flex-wrap:wrap;\n",
              "      gap: 12px;\n",
              "    }\n",
              "\n",
              "    .colab-df-convert {\n",
              "      background-color: #E8F0FE;\n",
              "      border: none;\n",
              "      border-radius: 50%;\n",
              "      cursor: pointer;\n",
              "      display: none;\n",
              "      fill: #1967D2;\n",
              "      height: 32px;\n",
              "      padding: 0 0 0 0;\n",
              "      width: 32px;\n",
              "    }\n",
              "\n",
              "    .colab-df-convert:hover {\n",
              "      background-color: #E2EBFA;\n",
              "      box-shadow: 0px 1px 2px rgba(60, 64, 67, 0.3), 0px 1px 3px 1px rgba(60, 64, 67, 0.15);\n",
              "      fill: #174EA6;\n",
              "    }\n",
              "\n",
              "    [theme=dark] .colab-df-convert {\n",
              "      background-color: #3B4455;\n",
              "      fill: #D2E3FC;\n",
              "    }\n",
              "\n",
              "    [theme=dark] .colab-df-convert:hover {\n",
              "      background-color: #434B5C;\n",
              "      box-shadow: 0px 1px 3px 1px rgba(0, 0, 0, 0.15);\n",
              "      filter: drop-shadow(0px 1px 2px rgba(0, 0, 0, 0.3));\n",
              "      fill: #FFFFFF;\n",
              "    }\n",
              "  </style>\n",
              "\n",
              "      <script>\n",
              "        const buttonEl =\n",
              "          document.querySelector('#df-52033e69-799b-4123-a7cf-a1a3c17ffeae button.colab-df-convert');\n",
              "        buttonEl.style.display =\n",
              "          google.colab.kernel.accessAllowed ? 'block' : 'none';\n",
              "\n",
              "        async function convertToInteractive(key) {\n",
              "          const element = document.querySelector('#df-52033e69-799b-4123-a7cf-a1a3c17ffeae');\n",
              "          const dataTable =\n",
              "            await google.colab.kernel.invokeFunction('convertToInteractive',\n",
              "                                                     [key], {});\n",
              "          if (!dataTable) return;\n",
              "\n",
              "          const docLinkHtml = 'Like what you see? Visit the ' +\n",
              "            '<a target=\"_blank\" href=https://colab.research.google.com/notebooks/data_table.ipynb>data table notebook</a>'\n",
              "            + ' to learn more about interactive tables.';\n",
              "          element.innerHTML = '';\n",
              "          dataTable['output_type'] = 'display_data';\n",
              "          await google.colab.output.renderOutput(dataTable, element);\n",
              "          const docLink = document.createElement('div');\n",
              "          docLink.innerHTML = docLinkHtml;\n",
              "          element.appendChild(docLink);\n",
              "        }\n",
              "      </script>\n",
              "    </div>\n",
              "  </div>\n",
              "  "
            ]
          },
          "metadata": {},
          "execution_count": 33
        },
        {
          "output_type": "display_data",
          "data": {
            "text/plain": [
              "<Figure size 360x360 with 6 Axes>"
            ],
            "image/png": "[encoded data removed]"
          },
          "metadata": {
            "needs_background": "light"
          }
        }
      ]
    },
    {
      "cell_type": "markdown",
      "source": [
        "## Model"
      ],
      "metadata": {
        "id": "qLb_Z1exDPTc"
      }
    },
    {
      "cell_type": "code",
      "source": [
        "# Normalizer layer\n",
        "\n",
        "surface = np.array(train_features)\n",
        "\n",
        "surface_normalizer = layers.Normalization(input_shape=[1,], axis=None)\n",
        "surface_normalizer.adapt(surface)\n"
      ],
      "metadata": {
        "id": "sDjHScljEs7d"
      },
      "execution_count": 34,
      "outputs": []
    },
    {
      "cell_type": "code",
      "source": [
        "# Model definition - this model should predict rent price of an house\n",
        "\n",
        "model = tf.keras.Sequential([\n",
        "    surface_normalizer,\n",
        "    layers.Dense(units=1)\n",
        "])\n",
        "\n",
        "model.summary()\n"
      ],
      "metadata": {
        "colab": {
          "base_uri": "https://localhost:8080/"
        },
        "id": "XlIJvZ5YDxdD",
        "outputId": "2855939d-bdd6-4e15-d28d-9500726484bf"
      },
      "execution_count": 35,
      "outputs": [
        {
          "output_type": "stream",
          "name": "stdout",
          "text": [
            "Model: \"sequential_3\"\n",
            "_________________________________________________________________\n",
            " Layer (type)                Output Shape              Param #   \n",
            "=================================================================\n",
            " normalization_3 (Normalizat  (None, 1)                3         \n",
            " ion)                                                            \n",
            "                                                                 \n",
            " dense_3 (Dense)             (None, 1)                 2         \n",
            "                                                                 \n",
            "=================================================================\n",
            "Total params: 5\n",
            "Trainable params: 2\n",
            "Non-trainable params: 3\n",
            "_________________________________________________________________\n"
          ]
        }
      ]
    },
    {
      "cell_type": "markdown",
      "source": [
        "## Training"
      ],
      "metadata": {
        "id": "GX3Gb1kmE9YX"
      }
    },
    {
      "cell_type": "code",
      "source": [
        "model.compile(\n",
        "    optimizer=tf.optimizers.Adam(learning_rate=5),\n",
        "    loss='mean_absolute_error')\n",
        "\n",
        "history = model.fit(\n",
        "    train_features,\n",
        "    train_labels,\n",
        "    epochs=60,\n",
        "    # Calculate validation results on 20% of the training data.\n",
        "    validation_split = 0.2)\n"
      ],
      "metadata": {
        "colab": {
          "base_uri": "https://localhost:8080/"
        },
        "id": "SOCqEaX7E-3z",
        "outputId": "f8f948df-d3d2-4a7e-d2e0-dbbe37f43df6"
      },
      "execution_count": 36,
      "outputs": [
        {
          "output_type": "stream",
          "name": "stdout",
          "text": [
            "Epoch 1/60\n",
            "11/11 [==============================] - 1s 21ms/step - loss: 2045.1533 - val_loss: 1900.7284\n",
            "Epoch 2/60\n",
            "11/11 [==============================] - 0s 6ms/step - loss: 1989.8964 - val_loss: 1845.5781\n",
            "Epoch 3/60\n",
            "11/11 [==============================] - 0s 5ms/step - loss: 1934.6787 - val_loss: 1791.1801\n",
            "Epoch 4/60\n",
            "11/11 [==============================] - 0s 5ms/step - loss: 1879.5839 - val_loss: 1736.6250\n",
            "Epoch 5/60\n",
            "11/11 [==============================] - 0s 4ms/step - loss: 1824.4049 - val_loss: 1682.3579\n",
            "Epoch 6/60\n",
            "11/11 [==============================] - 0s 5ms/step - loss: 1769.4659 - val_loss: 1628.2501\n",
            "Epoch 7/60\n",
            "11/11 [==============================] - 0s 7ms/step - loss: 1714.1472 - val_loss: 1573.2587\n",
            "Epoch 8/60\n",
            "11/11 [==============================] - 0s 4ms/step - loss: 1659.0876 - val_loss: 1518.9528\n",
            "Epoch 9/60\n",
            "11/11 [==============================] - 0s 4ms/step - loss: 1604.0842 - val_loss: 1464.5607\n",
            "Epoch 10/60\n",
            "11/11 [==============================] - 0s 6ms/step - loss: 1548.7925 - val_loss: 1409.5502\n",
            "Epoch 11/60\n",
            "11/11 [==============================] - 0s 5ms/step - loss: 1494.1243 - val_loss: 1355.4952\n",
            "Epoch 12/60\n",
            "11/11 [==============================] - 0s 6ms/step - loss: 1439.1698 - val_loss: 1301.0718\n",
            "Epoch 13/60\n",
            "11/11 [==============================] - 0s 6ms/step - loss: 1384.5929 - val_loss: 1247.3734\n",
            "Epoch 14/60\n",
            "11/11 [==============================] - 0s 4ms/step - loss: 1330.9768 - val_loss: 1194.6570\n",
            "Epoch 15/60\n",
            "11/11 [==============================] - 0s 4ms/step - loss: 1277.4463 - val_loss: 1143.8358\n",
            "Epoch 16/60\n",
            "11/11 [==============================] - 0s 5ms/step - loss: 1225.3604 - val_loss: 1093.9576\n",
            "Epoch 17/60\n",
            "11/11 [==============================] - 0s 4ms/step - loss: 1173.5139 - val_loss: 1045.1055\n",
            "Epoch 18/60\n",
            "11/11 [==============================] - 0s 5ms/step - loss: 1121.8328 - val_loss: 997.4976\n",
            "Epoch 19/60\n",
            "11/11 [==============================] - 0s 6ms/step - loss: 1069.5323 - val_loss: 950.3783\n",
            "Epoch 20/60\n",
            "11/11 [==============================] - 0s 6ms/step - loss: 1018.4929 - val_loss: 902.7958\n",
            "Epoch 21/60\n",
            "11/11 [==============================] - 0s 6ms/step - loss: 965.7479 - val_loss: 855.6647\n",
            "Epoch 22/60\n",
            "11/11 [==============================] - 0s 6ms/step - loss: 914.8472 - val_loss: 809.0528\n",
            "Epoch 23/60\n",
            "11/11 [==============================] - 0s 5ms/step - loss: 864.0458 - val_loss: 762.6766\n",
            "Epoch 24/60\n",
            "11/11 [==============================] - 0s 5ms/step - loss: 810.7151 - val_loss: 718.7687\n",
            "Epoch 25/60\n",
            "11/11 [==============================] - 0s 6ms/step - loss: 760.5700 - val_loss: 674.2657\n",
            "Epoch 26/60\n",
            "11/11 [==============================] - 0s 5ms/step - loss: 708.6943 - val_loss: 631.7305\n",
            "Epoch 27/60\n",
            "11/11 [==============================] - 0s 4ms/step - loss: 659.4469 - val_loss: 588.4765\n",
            "Epoch 28/60\n",
            "11/11 [==============================] - 0s 6ms/step - loss: 610.1849 - val_loss: 545.9976\n",
            "Epoch 29/60\n",
            "11/11 [==============================] - 0s 7ms/step - loss: 562.2977 - val_loss: 506.7785\n",
            "Epoch 30/60\n",
            "11/11 [==============================] - 0s 5ms/step - loss: 521.0217 - val_loss: 467.4923\n",
            "Epoch 31/60\n",
            "11/11 [==============================] - 0s 6ms/step - loss: 479.9443 - val_loss: 431.3288\n",
            "Epoch 32/60\n",
            "11/11 [==============================] - 0s 6ms/step - loss: 441.3681 - val_loss: 399.4011\n",
            "Epoch 33/60\n",
            "11/11 [==============================] - 0s 5ms/step - loss: 409.5674 - val_loss: 371.0773\n",
            "Epoch 34/60\n",
            "11/11 [==============================] - 0s 5ms/step - loss: 382.4987 - val_loss: 347.3807\n",
            "Epoch 35/60\n",
            "11/11 [==============================] - 0s 6ms/step - loss: 361.9933 - val_loss: 328.0835\n",
            "Epoch 36/60\n",
            "11/11 [==============================] - 0s 5ms/step - loss: 346.0200 - val_loss: 314.8417\n",
            "Epoch 37/60\n",
            "11/11 [==============================] - 0s 5ms/step - loss: 337.0676 - val_loss: 303.0645\n",
            "Epoch 38/60\n",
            "11/11 [==============================] - 0s 5ms/step - loss: 330.0482 - val_loss: 293.8947\n",
            "Epoch 39/60\n",
            "11/11 [==============================] - 0s 5ms/step - loss: 325.0612 - val_loss: 287.8120\n",
            "Epoch 40/60\n",
            "11/11 [==============================] - 0s 4ms/step - loss: 322.1384 - val_loss: 282.4950\n",
            "Epoch 41/60\n",
            "11/11 [==============================] - 0s 5ms/step - loss: 320.3896 - val_loss: 279.2196\n",
            "Epoch 42/60\n",
            "11/11 [==============================] - 0s 6ms/step - loss: 318.5743 - val_loss: 277.8434\n",
            "Epoch 43/60\n",
            "11/11 [==============================] - 0s 5ms/step - loss: 317.7631 - val_loss: 276.7709\n",
            "Epoch 44/60\n",
            "11/11 [==============================] - 0s 6ms/step - loss: 317.3388 - val_loss: 275.5895\n",
            "Epoch 45/60\n",
            "11/11 [==============================] - 0s 6ms/step - loss: 316.9651 - val_loss: 274.5264\n",
            "Epoch 46/60\n",
            "11/11 [==============================] - 0s 6ms/step - loss: 317.0651 - val_loss: 273.7693\n",
            "Epoch 47/60\n",
            "11/11 [==============================] - 0s 4ms/step - loss: 316.4272 - val_loss: 273.0321\n",
            "Epoch 48/60\n",
            "11/11 [==============================] - 0s 6ms/step - loss: 316.4539 - val_loss: 272.7371\n",
            "Epoch 49/60\n",
            "11/11 [==============================] - 0s 6ms/step - loss: 316.2645 - val_loss: 272.1487\n",
            "Epoch 50/60\n",
            "11/11 [==============================] - 0s 4ms/step - loss: 316.4123 - val_loss: 271.4727\n",
            "Epoch 51/60\n",
            "11/11 [==============================] - 0s 6ms/step - loss: 316.0689 - val_loss: 271.2982\n",
            "Epoch 52/60\n",
            "11/11 [==============================] - 0s 7ms/step - loss: 316.0226 - val_loss: 271.0493\n",
            "Epoch 53/60\n",
            "11/11 [==============================] - 0s 4ms/step - loss: 316.1056 - val_loss: 270.7590\n",
            "Epoch 54/60\n",
            "11/11 [==============================] - 0s 5ms/step - loss: 315.8896 - val_loss: 270.5567\n",
            "Epoch 55/60\n",
            "11/11 [==============================] - 0s 7ms/step - loss: 315.8639 - val_loss: 270.6346\n",
            "Epoch 56/60\n",
            "11/11 [==============================] - 0s 4ms/step - loss: 315.9575 - val_loss: 270.6266\n",
            "Epoch 57/60\n",
            "11/11 [==============================] - 0s 5ms/step - loss: 316.0519 - val_loss: 270.3690\n",
            "Epoch 58/60\n",
            "11/11 [==============================] - 0s 6ms/step - loss: 315.9100 - val_loss: 270.3734\n",
            "Epoch 59/60\n",
            "11/11 [==============================] - 0s 5ms/step - loss: 316.0162 - val_loss: 269.9168\n",
            "Epoch 60/60\n",
            "11/11 [==============================] - 0s 4ms/step - loss: 315.8772 - val_loss: 269.8139\n"
          ]
        }
      ]
    },
    {
      "cell_type": "markdown",
      "source": [
        "## Results"
      ],
      "metadata": {
        "id": "jofMV8DvM8_W"
      }
    },
    {
      "cell_type": "code",
      "source": [
        "plt.plot(history.history['loss'], label='loss')\n",
        "plt.plot(history.history['val_loss'], label='val_loss')\n",
        "plt.xlabel('Epoch')\n",
        "plt.ylabel('Avg Error')\n",
        "plt.legend()\n",
        "plt.grid(True)\n",
        "\n",
        "plt.show()"
      ],
      "metadata": {
        "colab": {
          "base_uri": "https://localhost:8080/",
          "height": 279
        },
        "id": "QpGwfzkCGpbz",
        "outputId": "b641947c-0ce2-4d41-bab9-5ebc8542958f"
      },
      "execution_count": 37,
      "outputs": [
        {
          "output_type": "display_data",
          "data": {
            "text/plain": [
              "<Figure size 432x288 with 1 Axes>"
            ],
            "image/png": "[encoded data removed]"
          },
          "metadata": {
            "needs_background": "light"
          }
        }
      ]
    },
    {
      "cell_type": "code",
      "source": [
        "score = model.evaluate(test_features, test_labels)\n",
        "print(\"Average rent (loyer) error : {}\".format(score))"
      ],
      "metadata": {
        "colab": {
          "base_uri": "https://localhost:8080/"
        },
        "id": "a8fGRJUaHYju",
        "outputId": "b0391b9f-2a32-40b0-c961-9f9de513b72a"
      },
      "execution_count": 38,
      "outputs": [
        {
          "output_type": "stream",
          "name": "stdout",
          "text": [
            "4/4 [==============================] - 0s 3ms/step - loss: 260.3120\n",
            "Average rent (loyer) error : 260.3120422363281\n"
          ]
        }
      ]
    }
  ]
}