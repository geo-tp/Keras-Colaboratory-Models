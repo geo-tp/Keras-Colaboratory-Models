{
  "nbformat": 4,
  "nbformat_minor": 0,
  "metadata": {
    "colab": {
      "provenance": [],
      "authorship_tag": "ABX9TyOHTaVbK1wlRBlWJ0ynVaqS",
      "include_colab_link": true
    },
    "kernelspec": {
      "name": "python3",
      "display_name": "Python 3"
    },
    "language_info": {
      "name": "python"
    },
    "gpuClass": "standard"
  },
  "cells": [
    {
      "cell_type": "markdown",
      "metadata": {
        "id": "view-in-github",
        "colab_type": "text"
      },
      "source": [
        "<a href=\"https://colab.research.google.com/github/geo-tp/Keras-Colaboratory-Models/blob/main/binary_category_classifcation.ipynb\" target=\"_parent\"><img src=\"https://colab.research.google.com/assets/colab-badge.svg\" alt=\"Open In Colab\"/></a>"
      ]
    },
    {
      "cell_type": "markdown",
      "source": [
        "# Binary Classification\n",
        "\n"
      ],
      "metadata": {
        "id": "kCigKIj7MFYM"
      }
    },
    {
      "cell_type": "markdown",
      "source": [
        "#Import"
      ],
      "metadata": {
        "id": "EBH0iSWWMK_q"
      }
    },
    {
      "cell_type": "code",
      "execution_count": null,
      "metadata": {
        "id": "vQYH6UY7B4HV"
      },
      "outputs": [],
      "source": [
        "import tensorflow\n",
        "from keras import models, layers\n",
        "from keras.datasets import imdb\n",
        "import numpy as np\n",
        "import matplotlib.pyplot as plt\n"
      ]
    },
    {
      "cell_type": "markdown",
      "source": [
        "##Dataset"
      ],
      "metadata": {
        "id": "F86uciUaMMdg"
      }
    },
    {
      "cell_type": "code",
      "source": [
        "# DATASET AND PREPROCESSING - IMDB collections of movie reviews classified with bad/good sentiment labels\n",
        "\n",
        "\n",
        "def vectorize_sequences(sequences, dimension=10000):\n",
        "  \"\"\"\n",
        "  Encoding integer sequences into binary matrix\n",
        "  \"\"\"\n",
        "\n",
        "  results = np.zeros((len(sequences), dimension))\n",
        "  for i, sequence in enumerate(sequences):\n",
        "    results[i, sequence] = 1.\n",
        "  return results\n",
        "\n",
        "\n",
        "(train_data, train_labels), (test_data, test_labels) = imdb.load_data(\n",
        "                                                                num_words=10000)\n",
        "\n",
        "# Encoding data\n",
        "x_train = vectorize_sequences(train_data)\n",
        "x_test = vectorize_sequences(test_data)\n",
        "\n",
        "# Encoding categories\n",
        "y_train = np.asarray(train_labels).astype('float32')\n",
        "y_test = np.asarray(test_labels).astype('float32')\n",
        "\n",
        "# Devide train dataset for validation set\n",
        "x_val = x_train[:10000]\n",
        "partial_x_train = x_train[10000:]\n",
        "y_val = y_train[:10000]\n",
        "partial_y_train = y_train[10000:]\n"
      ],
      "metadata": {
        "id": "kXhqt4oLCbTW",
        "colab": {
          "base_uri": "https://localhost:8080/"
        },
        "outputId": "2118e5d5-f2bd-47a1-daa9-b4721e8413b8"
      },
      "execution_count": null,
      "outputs": [
        {
          "output_type": "stream",
          "name": "stdout",
          "text": [
            "Downloading data from https://storage.googleapis.com/tensorflow/tf-keras-datasets/imdb.npz\n",
            "17464789/17464789 [==============================] - 0s 0us/step\n"
          ]
        }
      ]
    },
    {
      "cell_type": "markdown",
      "source": [
        "##Model"
      ],
      "metadata": {
        "id": "u4xmpWgeMOCi"
      }
    },
    {
      "cell_type": "code",
      "source": [
        "# MODEL DEFINITION - this model should predict sentiment of a review\n",
        "\n",
        "model = models.Sequential()\n",
        "model.add(layers.Dense(64, activation='relu', input_shape=(10000,)))\n",
        "model.add(layers.Dropout(0.5))\n",
        "model.add(layers.Dense(64, activation='relu'))\n",
        "model.add(layers.Dense(1, activation='sigmoid'))\n",
        "\n",
        "model.compile(optimizer='rmsprop',\n",
        "              loss='binary_crossentropy',\n",
        "              metrics=['accuracy'])"
      ],
      "metadata": {
        "id": "dAd9UczTDnjK"
      },
      "execution_count": null,
      "outputs": []
    },
    {
      "cell_type": "markdown",
      "source": [
        "##Training"
      ],
      "metadata": {
        "id": "Rx9wP7c8MPVZ"
      }
    },
    {
      "cell_type": "code",
      "source": [
        "# TRAIN\n",
        "\n",
        "history = model.fit(partial_x_train,\n",
        "                    partial_y_train,\n",
        "                    epochs=20,\n",
        "                    batch_size=512,\n",
        "                    validation_data=(x_val, y_val))"
      ],
      "metadata": {
        "colab": {
          "base_uri": "https://localhost:8080/"
        },
        "id": "n41hdNPVFtJy",
        "outputId": "04352628-4c17-45f9-8a73-e5ef07dfd6a3"
      },
      "execution_count": null,
      "outputs": [
        {
          "output_type": "stream",
          "name": "stdout",
          "text": [
            "Epoch 1/20\n",
            "30/30 [==============================] - 4s 124ms/step - loss: 0.5232 - accuracy: 0.7379 - val_loss: 0.4393 - val_accuracy: 0.8037\n",
            "Epoch 2/20\n",
            "30/30 [==============================] - 2s 67ms/step - loss: 0.3045 - accuracy: 0.8841 - val_loss: 0.2957 - val_accuracy: 0.8788\n",
            "Epoch 3/20\n",
            "30/30 [==============================] - 2s 64ms/step - loss: 0.2300 - accuracy: 0.9140 - val_loss: 0.2686 - val_accuracy: 0.8928\n",
            "Epoch 4/20\n",
            "30/30 [==============================] - 2s 64ms/step - loss: 0.1764 - accuracy: 0.9333 - val_loss: 0.3136 - val_accuracy: 0.8757\n",
            "Epoch 5/20\n",
            "30/30 [==============================] - 2s 64ms/step - loss: 0.1404 - accuracy: 0.9500 - val_loss: 0.3174 - val_accuracy: 0.8850\n",
            "Epoch 6/20\n",
            "30/30 [==============================] - 2s 63ms/step - loss: 0.1128 - accuracy: 0.9603 - val_loss: 0.3447 - val_accuracy: 0.8791\n",
            "Epoch 7/20\n",
            "30/30 [==============================] - 2s 63ms/step - loss: 0.0814 - accuracy: 0.9707 - val_loss: 0.3961 - val_accuracy: 0.8732\n",
            "Epoch 8/20\n",
            "30/30 [==============================] - 2s 62ms/step - loss: 0.0693 - accuracy: 0.9752 - val_loss: 0.3979 - val_accuracy: 0.8862\n",
            "Epoch 9/20\n",
            "30/30 [==============================] - 2s 64ms/step - loss: 0.0512 - accuracy: 0.9829 - val_loss: 0.4366 - val_accuracy: 0.8844\n",
            "Epoch 10/20\n",
            "30/30 [==============================] - 2s 64ms/step - loss: 0.0413 - accuracy: 0.9876 - val_loss: 0.5157 - val_accuracy: 0.8724\n",
            "Epoch 11/20\n",
            "30/30 [==============================] - 2s 64ms/step - loss: 0.0370 - accuracy: 0.9883 - val_loss: 0.5134 - val_accuracy: 0.8822\n",
            "Epoch 12/20\n",
            "30/30 [==============================] - 2s 63ms/step - loss: 0.0206 - accuracy: 0.9947 - val_loss: 0.5978 - val_accuracy: 0.8810\n",
            "Epoch 13/20\n",
            "30/30 [==============================] - 2s 65ms/step - loss: 0.0259 - accuracy: 0.9919 - val_loss: 0.5646 - val_accuracy: 0.8814\n",
            "Epoch 14/20\n",
            "30/30 [==============================] - 2s 63ms/step - loss: 0.0138 - accuracy: 0.9967 - val_loss: 0.6620 - val_accuracy: 0.8802\n",
            "Epoch 15/20\n",
            "30/30 [==============================] - 2s 65ms/step - loss: 0.0200 - accuracy: 0.9947 - val_loss: 0.6791 - val_accuracy: 0.8802\n",
            "Epoch 16/20\n",
            "30/30 [==============================] - 2s 62ms/step - loss: 0.0097 - accuracy: 0.9979 - val_loss: 0.7736 - val_accuracy: 0.8787\n",
            "Epoch 17/20\n",
            "30/30 [==============================] - 2s 64ms/step - loss: 0.0128 - accuracy: 0.9969 - val_loss: 0.7924 - val_accuracy: 0.8775\n",
            "Epoch 18/20\n",
            "30/30 [==============================] - 2s 64ms/step - loss: 0.0093 - accuracy: 0.9979 - val_loss: 0.8399 - val_accuracy: 0.8788\n",
            "Epoch 19/20\n",
            "30/30 [==============================] - 2s 64ms/step - loss: 0.0094 - accuracy: 0.9981 - val_loss: 0.8598 - val_accuracy: 0.8772\n",
            "Epoch 20/20\n",
            "30/30 [==============================] - 2s 64ms/step - loss: 0.0066 - accuracy: 0.9984 - val_loss: 0.8909 - val_accuracy: 0.8778\n"
          ]
        }
      ]
    },
    {
      "cell_type": "markdown",
      "source": [
        "## Results"
      ],
      "metadata": {
        "id": "nWPNW8y5MRWI"
      }
    },
    {
      "cell_type": "code",
      "source": [
        "# LOG LOSS RESULTS\n",
        "\n",
        "history_dict = history.history\n",
        "loss_values = history_dict['loss']\n",
        "val_loss_values = history_dict['val_loss']\n",
        "acc = history_dict['accuracy']\n",
        "epochs = range(1, len(acc) + 1)\n",
        "plt.plot(epochs, loss_values, 'bo', label='Training loss')\n",
        "plt.plot(epochs, val_loss_values, 'b', label='Validation loss')\n",
        "plt.title('Training and validation loss')\n",
        "plt.xlabel('Epochs')\n",
        "plt.ylabel('Loss')\n",
        "plt.legend()\n",
        "plt.show()"
      ],
      "metadata": {
        "colab": {
          "base_uri": "https://localhost:8080/",
          "height": 295
        },
        "id": "UpSsmC-lGNw1",
        "outputId": "9c1eb955-70fb-4643-ac32-93244be51d93"
      },
      "execution_count": null,
      "outputs": [
        {
          "output_type": "display_data",
          "data": {
            "text/plain": [
              "<Figure size 432x288 with 1 Axes>"
            ],
            "image/png": "[encoded data removed]"
          },
          "metadata": {
            "needs_background": "light"
          }
        }
      ]
    },
    {
      "cell_type": "code",
      "source": [
        "# LOG VALIDATION RESULTS\n",
        "\n",
        "history_dict = history.history\n",
        "acc_values = history_dict['accuracy']\n",
        "val_acc_values = history_dict['val_accuracy']\n",
        "acc = history_dict['accuracy']\n",
        "epochs = range(1, len(acc) + 1)\n",
        "plt.plot(epochs, acc_values, 'bo', label='Training acc')\n",
        "plt.plot(epochs, val_acc_values, 'b', label='Validation acc')\n",
        "plt.title('Training and validation accuracy')\n",
        "plt.xlabel('Epochs')\n",
        "plt.ylabel('Loss')\n",
        "plt.legend()\n",
        "plt.show()"
      ],
      "metadata": {
        "colab": {
          "base_uri": "https://localhost:8080/",
          "height": 295
        },
        "id": "RZr7aw8SHh0I",
        "outputId": "cb5f2ede-657e-4933-c772-12eda4b3bd61"
      },
      "execution_count": null,
      "outputs": [
        {
          "output_type": "display_data",
          "data": {
            "text/plain": [
              "<Figure size 432x288 with 1 Axes>"
            ],
            "image/png": "[encoded data removed]"
          },
          "metadata": {
            "needs_background": "light"
          }
        }
      ]
    },
    {
      "cell_type": "code",
      "source": [
        "# EVALUATION\n",
        "\n",
        "score = model.evaluate(x_test, y_test)\n",
        "print(model.metrics_names)\n",
        "print(score)"
      ],
      "metadata": {
        "colab": {
          "base_uri": "https://localhost:8080/"
        },
        "id": "EptUZrDJptxc",
        "outputId": "dc03421f-8dfb-4fc9-9c6f-2bec9f6a5763"
      },
      "execution_count": null,
      "outputs": [
        {
          "output_type": "stream",
          "name": "stdout",
          "text": [
            "782/782 [==============================] - 3s 4ms/step - loss: 0.9799 - accuracy: 0.8653\n",
            "['loss', 'accuracy']\n",
            "[0.9798890352249146, 0.8653200268745422]\n"
          ]
        }
      ]
    }
  ]
}