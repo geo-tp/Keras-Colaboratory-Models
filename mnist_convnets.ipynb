{
  "nbformat": 4,
  "nbformat_minor": 0,
  "metadata": {
    "colab": {
      "provenance": [],
      "authorship_tag": "ABX9TyO8+3ui4UNSrI2gjBinkhI6",
      "include_colab_link": true
    },
    "kernelspec": {
      "name": "python3",
      "display_name": "Python 3"
    },
    "language_info": {
      "name": "python"
    },
    "gpuClass": "standard"
  },
  "cells": [
    {
      "cell_type": "markdown",
      "metadata": {
        "id": "view-in-github",
        "colab_type": "text"
      },
      "source": [
        "<a href=\"https://colab.research.google.com/github/geo-tp/Keras-Colaboratory-Models/blob/main/mnist_convnets.ipynb\" target=\"_parent\"><img src=\"https://colab.research.google.com/assets/colab-badge.svg\" alt=\"Open In Colab\"/></a>"
      ]
    },
    {
      "cell_type": "markdown",
      "source": [
        "#MNIST Convnets"
      ],
      "metadata": {
        "id": "W647qBPrHyKf"
      }
    },
    {
      "cell_type": "markdown",
      "source": [
        "##Import"
      ],
      "metadata": {
        "id": "8PkykOGcH2Ly"
      }
    },
    {
      "cell_type": "code",
      "execution_count": null,
      "metadata": {
        "id": "LA4H-bLruf6P"
      },
      "outputs": [],
      "source": [
        "from keras import layers\n",
        "from keras import models\n",
        "from keras.datasets import mnist\n",
        "from keras.utils import to_categorical\n",
        "import matplotlib.pyplot as plt"
      ]
    },
    {
      "cell_type": "markdown",
      "source": [
        "##Dataset"
      ],
      "metadata": {
        "id": "47_ObtlcHvln"
      }
    },
    {
      "cell_type": "code",
      "source": [
        "# DATASET - Images of 0 to 9 digits hand writted\n",
        "\n",
        "(train_images, train_labels), (test_images, test_labels) = mnist.load_data()\n",
        "\n",
        "train_images = train_images.reshape((60000, 28, 28, 1))\n",
        "train_images = train_images.astype('float32') / 255\n",
        "train_labels = to_categorical(train_labels)\n",
        "\n",
        "# Train set\n",
        "partial_train_images = train_images[20000:]\n",
        "partial_train_labels = train_labels[20000:]\n",
        "\n",
        "# Validation set\n",
        "val_images = train_images[:20000]\n",
        "val_labels = train_labels[:20000]\n",
        "\n",
        "# Test set\n",
        "test_images = test_images.reshape((10000, 28, 28, 1))\n",
        "test_images = test_images.astype('float32') / 255\n",
        "test_labels = to_categorical(test_labels)\n"
      ],
      "metadata": {
        "id": "GTQYpZNZFdoR",
        "colab": {
          "base_uri": "https://localhost:8080/"
        },
        "outputId": "2241e3be-41a7-4237-eb88-234368dcfe11"
      },
      "execution_count": null,
      "outputs": [
        {
          "output_type": "stream",
          "name": "stdout",
          "text": [
            "Downloading data from https://storage.googleapis.com/tensorflow/tf-keras-datasets/mnist.npz\n",
            "11490434/11490434 [==============================] - 1s 0us/step\n"
          ]
        }
      ]
    },
    {
      "cell_type": "markdown",
      "source": [
        "## Model"
      ],
      "metadata": {
        "id": "F4OFTbVuH3sx"
      }
    },
    {
      "cell_type": "code",
      "source": [
        "# MODEL DEFINITION - this model should predict what digit image shows\n",
        "\n",
        "model = models.Sequential()\n",
        "model.add(layers.Conv2D(32, (3, 3), activation='relu', input_shape=(28, 28, 1)))\n",
        "model.add(layers.MaxPooling2D((2, 2)))\n",
        "model.add(layers.Conv2D(64, (3, 3), activation='relu'))\n",
        "model.add(layers.MaxPooling2D((2, 2)))\n",
        "model.add(layers.Conv2D(64, (3, 3), activation='relu'))\n",
        "model.add(layers.Flatten())\n",
        "model.add(layers.Dense(64, activation='relu'))\n",
        "model.add(layers.Dense(10, activation='softmax'))\n",
        "\n",
        "model.compile(optimizer='rmsprop',\n",
        "              loss='categorical_crossentropy',\n",
        "              metrics=['accuracy'])\n"
      ],
      "metadata": {
        "id": "9x7Q0HH5vfw6"
      },
      "execution_count": null,
      "outputs": []
    },
    {
      "cell_type": "markdown",
      "source": [
        "# Training"
      ],
      "metadata": {
        "id": "b_9lQ6vMH5Pn"
      }
    },
    {
      "cell_type": "code",
      "source": [
        "# TRAIN\n",
        "\n",
        "history = model.fit(partial_train_images, partial_train_labels, validation_data=(val_images, val_labels), epochs=5, batch_size=64)"
      ],
      "metadata": {
        "colab": {
          "base_uri": "https://localhost:8080/"
        },
        "id": "Ok9EOHKwqs81",
        "outputId": "e2be5b95-1c22-4f82-a556-d4c9233969aa"
      },
      "execution_count": null,
      "outputs": [
        {
          "output_type": "stream",
          "name": "stdout",
          "text": [
            "Epoch 1/5\n",
            "625/625 [==============================] - 49s 76ms/step - loss: 0.2347 - accuracy: 0.9263 - val_loss: 0.1031 - val_accuracy: 0.9690\n",
            "Epoch 2/5\n",
            "625/625 [==============================] - 51s 81ms/step - loss: 0.0604 - accuracy: 0.9815 - val_loss: 0.0524 - val_accuracy: 0.9835\n",
            "Epoch 3/5\n",
            "625/625 [==============================] - 49s 78ms/step - loss: 0.0407 - accuracy: 0.9872 - val_loss: 0.0473 - val_accuracy: 0.9865\n",
            "Epoch 4/5\n",
            "625/625 [==============================] - 45s 72ms/step - loss: 0.0298 - accuracy: 0.9902 - val_loss: 0.0379 - val_accuracy: 0.9888\n",
            "Epoch 5/5\n",
            "625/625 [==============================] - 39s 63ms/step - loss: 0.0236 - accuracy: 0.9924 - val_loss: 0.0458 - val_accuracy: 0.9868\n"
          ]
        }
      ]
    },
    {
      "cell_type": "markdown",
      "source": [
        "##Results"
      ],
      "metadata": {
        "id": "RViRPoKUH6m1"
      }
    },
    {
      "cell_type": "code",
      "source": [
        "# LOG TRAINING RESULTS\n",
        "\n",
        "history_dict = history.history\n",
        "\n",
        "loss = history_dict['loss']\n",
        "acc = history_dict['accuracy']\n",
        "\n",
        "val_loss = history_dict['val_loss']\n",
        "val_acc = history_dict['val_accuracy']\n",
        "\n",
        "epochs = range(1, 6)\n",
        "\n",
        "plt.plot(epochs, acc, label=\"Train Accuracy\")\n",
        "plt.plot(epochs, loss, label=\"Train Loss\")\n",
        "plt.plot(epochs, val_acc, label=\"Val Accuracy\")\n",
        "plt.plot(epochs, val_loss, label=\"Val Loss\")\n",
        "plt.legend()\n",
        "plt.show()"
      ],
      "metadata": {
        "colab": {
          "base_uri": "https://localhost:8080/",
          "height": 265
        },
        "id": "Y-pTH9kNwk5r",
        "outputId": "f815f142-0318-4889-fa64-845e74bee7ac"
      },
      "execution_count": null,
      "outputs": [
        {
          "output_type": "display_data",
          "data": {
            "text/plain": [
              "<Figure size 432x288 with 1 Axes>"
            ],
            "image/png": "[encoded data removed]"
          },
          "metadata": {
            "needs_background": "light"
          }
        }
      ]
    },
    {
      "cell_type": "code",
      "source": [
        "# EVALUATION\n",
        "\n",
        "score = model.evaluate(test_images, test_labels)\n",
        "print(score)"
      ],
      "metadata": {
        "colab": {
          "base_uri": "https://localhost:8080/"
        },
        "id": "-SxUxnDpxdhc",
        "outputId": "a36b45a5-0b08-47b7-d63c-8d12d7c08391"
      },
      "execution_count": null,
      "outputs": [
        {
          "output_type": "stream",
          "name": "stdout",
          "text": [
            "313/313 [==============================] - 3s 9ms/step - loss: 0.0385 - accuracy: 0.9885\n",
            "[0.03854614123702049, 0.9884999990463257]\n"
          ]
        }
      ]
    }
  ]
}